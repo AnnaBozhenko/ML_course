{
  "nbformat": 4,
  "nbformat_minor": 0,
  "metadata": {
    "colab": {
      "provenance": [],
      "gpuType": "T4",
      "authorship_tag": "ABX9TyOLxJ3fqoPCMsYswgIQn82z",
      "include_colab_link": true
    },
    "kernelspec": {
      "name": "python3",
      "display_name": "Python 3"
    },
    "language_info": {
      "name": "python"
    },
    "accelerator": "GPU"
  },
  "cells": [
    {
      "cell_type": "markdown",
      "metadata": {
        "id": "view-in-github",
        "colab_type": "text"
      },
      "source": [
        "<a href=\"https://colab.research.google.com/github/AnnaBozhenko/ML_course/blob/master/00_pyTorch_Fundamentals.ipynb\" target=\"_parent\"><img src=\"https://colab.research.google.com/assets/colab-badge.svg\" alt=\"Open In Colab\"/></a>"
      ]
    },
    {
      "cell_type": "code",
      "execution_count": null,
      "metadata": {
        "id": "bYD-huyHBCcq",
        "colab": {
          "base_uri": "https://localhost:8080/"
        },
        "outputId": "4d804c59-3d74-4e82-e373-ba51d2b916f1"
      },
      "outputs": [
        {
          "output_type": "stream",
          "name": "stdout",
          "text": [
            "Hello, I'm excited to be honest.\n"
          ]
        }
      ],
      "source": [
        "print(\"Hello, I'm excited to be honest.\")"
      ]
    },
    {
      "cell_type": "code",
      "source": [
        "import torch\n",
        "import pandas as pd\n",
        "import numpy as np\n",
        "from matplotlib import pyplot as plt\n",
        "\n",
        "print(torch.__version__)"
      ],
      "metadata": {
        "colab": {
          "base_uri": "https://localhost:8080/"
        },
        "id": "osAhxXV-GHQF",
        "outputId": "3059fa57-5709-4995-ede1-12de0e26a94f"
      },
      "execution_count": null,
      "outputs": [
        {
          "output_type": "stream",
          "name": "stdout",
          "text": [
            "2.2.1+cu121\n"
          ]
        }
      ]
    },
    {
      "cell_type": "code",
      "source": [
        "scalar = torch.tensor(2)\n",
        "print(scalar)\n",
        "print(scalar.ndim)\n",
        "print(scalar.shape)"
      ],
      "metadata": {
        "id": "eTpCBXnzGz6f",
        "colab": {
          "base_uri": "https://localhost:8080/"
        },
        "outputId": "ab00749d-1463-4721-ae90-bd5fcccd0221"
      },
      "execution_count": null,
      "outputs": [
        {
          "output_type": "stream",
          "name": "stdout",
          "text": [
            "tensor(2)\n",
            "0\n",
            "torch.Size([])\n"
          ]
        }
      ]
    },
    {
      "cell_type": "code",
      "source": [
        "vector = torch.tensor([1, 2, 3])\n",
        "print(vector)\n",
        "print(vector.ndim)\n",
        "print(vector.shape)"
      ],
      "metadata": {
        "colab": {
          "base_uri": "https://localhost:8080/"
        },
        "id": "y59WLJAfZvHf",
        "outputId": "0f612c99-8aa2-4775-f79d-46788cd37433"
      },
      "execution_count": null,
      "outputs": [
        {
          "output_type": "stream",
          "name": "stdout",
          "text": [
            "tensor([1, 2, 3])\n",
            "1\n",
            "torch.Size([3])\n"
          ]
        }
      ]
    },
    {
      "cell_type": "code",
      "source": [
        "matrix = torch.tensor([ [\n",
        "                          [1, 2, 3],\n",
        "                          [4, 5, 6]\n",
        "                        ],\n",
        "                        [\n",
        "                          [11, 32, 93],\n",
        "                          [41, 54, 65]\n",
        "                        ]\n",
        "                      ])\n",
        "matrix[1][0]"
      ],
      "metadata": {
        "colab": {
          "base_uri": "https://localhost:8080/"
        },
        "id": "7UK5YytNZ90D",
        "outputId": "4b9b39be-ecc1-4c51-fb9d-02371be6207d"
      },
      "execution_count": null,
      "outputs": [
        {
          "output_type": "execute_result",
          "data": {
            "text/plain": [
              "tensor([11, 32, 93])"
            ]
          },
          "metadata": {},
          "execution_count": 19
        }
      ]
    },
    {
      "cell_type": "code",
      "source": [
        "X = torch.rand(3, 4)"
      ],
      "metadata": {
        "id": "9C2jFZ-caK0F"
      },
      "execution_count": null,
      "outputs": []
    },
    {
      "cell_type": "code",
      "source": [
        "X"
      ],
      "metadata": {
        "colab": {
          "base_uri": "https://localhost:8080/"
        },
        "id": "U2SEwIgsSWwA",
        "outputId": "c6d5317c-7a90-4546-e08d-da4c92f78e67"
      },
      "execution_count": null,
      "outputs": [
        {
          "output_type": "execute_result",
          "data": {
            "text/plain": [
              "tensor([[0.9277, 0.7898, 0.3674, 0.6521],\n",
              "        [0.0816, 0.4435, 0.2635, 0.0642],\n",
              "        [0.7028, 0.5264, 0.4412, 0.0638]])"
            ]
          },
          "metadata": {},
          "execution_count": 3
        }
      ]
    },
    {
      "cell_type": "code",
      "source": [
        "torch.rand(5, 2, 3, 3)"
      ],
      "metadata": {
        "colab": {
          "base_uri": "https://localhost:8080/"
        },
        "id": "lZzwd3DISXc2",
        "outputId": "62a7a228-22bb-4ff1-c987-3a0989051665"
      },
      "execution_count": null,
      "outputs": [
        {
          "output_type": "execute_result",
          "data": {
            "text/plain": [
              "tensor([[[[0.1689, 0.3355, 0.4175],\n",
              "          [0.1223, 0.2007, 0.8313],\n",
              "          [0.7140, 0.8165, 0.4043]],\n",
              "\n",
              "         [[0.9623, 0.4184, 0.7704],\n",
              "          [0.3634, 0.0592, 0.7924],\n",
              "          [0.8332, 0.5488, 0.6806]]],\n",
              "\n",
              "\n",
              "        [[[0.4816, 0.1580, 0.4995],\n",
              "          [0.4957, 0.9754, 0.5683],\n",
              "          [0.7242, 0.5562, 0.3596]],\n",
              "\n",
              "         [[0.6762, 0.1204, 0.7782],\n",
              "          [0.3828, 0.4484, 0.1994],\n",
              "          [0.7937, 0.1343, 0.8634]]],\n",
              "\n",
              "\n",
              "        [[[0.8800, 0.9403, 0.0333],\n",
              "          [0.0138, 0.6353, 0.3992],\n",
              "          [0.1528, 0.1168, 0.8542]],\n",
              "\n",
              "         [[0.2756, 0.4346, 0.3268],\n",
              "          [0.0450, 0.1001, 0.2291],\n",
              "          [0.6161, 0.0155, 0.9046]]],\n",
              "\n",
              "\n",
              "        [[[0.7720, 0.4192, 0.6604],\n",
              "          [0.0323, 0.6458, 0.0700],\n",
              "          [0.9006, 0.8715, 0.4135]],\n",
              "\n",
              "         [[0.5609, 0.9451, 0.2042],\n",
              "          [0.7046, 0.4953, 0.9166],\n",
              "          [0.1311, 0.5611, 0.6738]]],\n",
              "\n",
              "\n",
              "        [[[0.2843, 0.4871, 0.9533],\n",
              "          [0.0394, 0.8981, 0.2420],\n",
              "          [0.5526, 0.6728, 0.9374]],\n",
              "\n",
              "         [[0.9936, 0.1786, 0.8980],\n",
              "          [0.1830, 0.2307, 0.4095],\n",
              "          [0.1490, 0.0349, 0.1362]]]])"
            ]
          },
          "metadata": {},
          "execution_count": 2
        }
      ]
    },
    {
      "cell_type": "code",
      "source": [
        "zeros_t = torch.zeros(size=(2, 3, 1))\n",
        "ones_t = torch.ones(size=(5, 2))"
      ],
      "metadata": {
        "id": "PbYEunuQT13k"
      },
      "execution_count": null,
      "outputs": []
    },
    {
      "cell_type": "code",
      "source": [
        "zeros_t"
      ],
      "metadata": {
        "colab": {
          "base_uri": "https://localhost:8080/"
        },
        "id": "KDPMY2LSSZ5i",
        "outputId": "e939a007-0cf8-4030-a933-242a79a98e70"
      },
      "execution_count": null,
      "outputs": [
        {
          "output_type": "execute_result",
          "data": {
            "text/plain": [
              "tensor([[[0.],\n",
              "         [0.],\n",
              "         [0.]],\n",
              "\n",
              "        [[0.],\n",
              "         [0.],\n",
              "         [0.]]])"
            ]
          },
          "metadata": {},
          "execution_count": 4
        }
      ]
    },
    {
      "cell_type": "code",
      "source": [
        "ones_t"
      ],
      "metadata": {
        "colab": {
          "base_uri": "https://localhost:8080/"
        },
        "id": "oTx4WbHkSbCw",
        "outputId": "14bda1fd-b177-4419-ccae-8b927239741d"
      },
      "execution_count": null,
      "outputs": [
        {
          "output_type": "execute_result",
          "data": {
            "text/plain": [
              "tensor([[1., 1.],\n",
              "        [1., 1.],\n",
              "        [1., 1.],\n",
              "        [1., 1.],\n",
              "        [1., 1.]])"
            ]
          },
          "metadata": {},
          "execution_count": 5
        }
      ]
    },
    {
      "cell_type": "code",
      "source": [
        "tensor_32 = torch.tensor([1.34, 3.9, 23.9],\n",
        "                         dtype=None,\n",
        "                         device=None,\n",
        "                         requires_grad=False)"
      ],
      "metadata": {
        "id": "K4_ilwl0ScpQ"
      },
      "execution_count": null,
      "outputs": []
    },
    {
      "cell_type": "code",
      "source": [
        "tensor_32.dtype"
      ],
      "metadata": {
        "colab": {
          "base_uri": "https://localhost:8080/"
        },
        "id": "Cts0nm-S7vge",
        "outputId": "e2405b0e-297a-4c3b-cab7-88dab95ea494"
      },
      "execution_count": null,
      "outputs": [
        {
          "output_type": "execute_result",
          "data": {
            "text/plain": [
              "torch.float32"
            ]
          },
          "metadata": {},
          "execution_count": 4
        }
      ]
    },
    {
      "cell_type": "code",
      "source": [
        "tensor_16 = tensor_32.type(torch.float16)"
      ],
      "metadata": {
        "id": "37r2aTqg7946"
      },
      "execution_count": null,
      "outputs": []
    },
    {
      "cell_type": "code",
      "source": [
        "tensor_16"
      ],
      "metadata": {
        "colab": {
          "base_uri": "https://localhost:8080/"
        },
        "id": "ANbRKMsZ8Dkr",
        "outputId": "5ce5a154-a244-4006-ee53-91734b9a38b8"
      },
      "execution_count": null,
      "outputs": [
        {
          "output_type": "execute_result",
          "data": {
            "text/plain": [
              "tensor([ 1.3398,  3.9004, 23.9062], dtype=torch.float16)"
            ]
          },
          "metadata": {},
          "execution_count": 8
        }
      ]
    },
    {
      "cell_type": "code",
      "source": [
        "tensor_32\n"
      ],
      "metadata": {
        "colab": {
          "base_uri": "https://localhost:8080/"
        },
        "id": "v2xFskPX8lvt",
        "outputId": "7174bd7b-ae62-485d-e317-59561b7f023b"
      },
      "execution_count": null,
      "outputs": [
        {
          "output_type": "execute_result",
          "data": {
            "text/plain": [
              "tensor([ 1.3400,  3.9000, 23.9000])"
            ]
          },
          "metadata": {},
          "execution_count": 9
        }
      ]
    },
    {
      "cell_type": "code",
      "source": [
        "torch.multiply(tensor_32, tensor_16)"
      ],
      "metadata": {
        "colab": {
          "base_uri": "https://localhost:8080/"
        },
        "id": "R1U3o04x8oXj",
        "outputId": "30c72f13-d695-43ae-e539-e46ed46eaa71"
      },
      "execution_count": null,
      "outputs": [
        {
          "output_type": "execute_result",
          "data": {
            "text/plain": [
              "tensor([  1.7954,  15.2115, 571.3594])"
            ]
          },
          "metadata": {},
          "execution_count": 10
        }
      ]
    },
    {
      "cell_type": "code",
      "source": [
        "a = tensor_32 * tensor_16"
      ],
      "metadata": {
        "id": "rz-PxpGi8tsK"
      },
      "execution_count": null,
      "outputs": []
    },
    {
      "cell_type": "code",
      "source": [
        "a.dtype"
      ],
      "metadata": {
        "colab": {
          "base_uri": "https://localhost:8080/"
        },
        "id": "g3M6Bt_-81P1",
        "outputId": "36c3e4a7-37aa-4e2f-bc86-9af85597a83d"
      },
      "execution_count": null,
      "outputs": [
        {
          "output_type": "execute_result",
          "data": {
            "text/plain": [
              "torch.float32"
            ]
          },
          "metadata": {},
          "execution_count": 14
        }
      ]
    },
    {
      "cell_type": "code",
      "source": [
        "int_tensor_32 = torch.tensor([1, 56, 7], dtype=torch.int32)"
      ],
      "metadata": {
        "id": "6H7iV8gI9KhP"
      },
      "execution_count": null,
      "outputs": []
    },
    {
      "cell_type": "code",
      "source": [
        "b = tensor_32 * int_tensor_32"
      ],
      "metadata": {
        "id": "q4Qa5Nq69mRt",
        "colab": {
          "base_uri": "https://localhost:8080/",
          "height": 141
        },
        "outputId": "5776aa42-9f11-456d-c3eb-944412980085"
      },
      "execution_count": null,
      "outputs": [
        {
          "output_type": "error",
          "ename": "NameError",
          "evalue": "name 'tensor_32' is not defined",
          "traceback": [
            "\u001b[0;31m---------------------------------------------------------------------------\u001b[0m",
            "\u001b[0;31mNameError\u001b[0m                                 Traceback (most recent call last)",
            "\u001b[0;32m<ipython-input-1-33cc63bdcefa>\u001b[0m in \u001b[0;36m<cell line: 1>\u001b[0;34m()\u001b[0m\n\u001b[0;32m----> 1\u001b[0;31m \u001b[0mb\u001b[0m \u001b[0;34m=\u001b[0m \u001b[0mtensor_32\u001b[0m \u001b[0;34m*\u001b[0m \u001b[0mint_tensor_32\u001b[0m\u001b[0;34m\u001b[0m\u001b[0;34m\u001b[0m\u001b[0m\n\u001b[0m",
            "\u001b[0;31mNameError\u001b[0m: name 'tensor_32' is not defined"
          ]
        }
      ]
    },
    {
      "cell_type": "code",
      "source": [
        "b.dtype"
      ],
      "metadata": {
        "colab": {
          "base_uri": "https://localhost:8080/"
        },
        "id": "6SkYvgiX9rV8",
        "outputId": "84d5cdf5-36bd-4e28-8d84-0912d3e98986"
      },
      "execution_count": null,
      "outputs": [
        {
          "output_type": "execute_result",
          "data": {
            "text/plain": [
              "torch.float32"
            ]
          },
          "metadata": {},
          "execution_count": 18
        }
      ]
    },
    {
      "cell_type": "code",
      "source": [
        "int_tensor_64 = int_tensor_32.type(torch.int64)"
      ],
      "metadata": {
        "id": "bMzXkYtH9vRk"
      },
      "execution_count": null,
      "outputs": []
    },
    {
      "cell_type": "code",
      "source": [
        "c = int_tensor_32 * int_tensor_64"
      ],
      "metadata": {
        "id": "wJVQSCQF99TE"
      },
      "execution_count": null,
      "outputs": []
    },
    {
      "cell_type": "code",
      "source": [
        "int_tensor_16 = int_tensor_32.type(torch.int16)"
      ],
      "metadata": {
        "id": "7dEERtBU-AZS"
      },
      "execution_count": null,
      "outputs": []
    },
    {
      "cell_type": "code",
      "source": [
        "d = tensor_32 * int_tensor_16"
      ],
      "metadata": {
        "id": "ebQHqs8n-Gxf"
      },
      "execution_count": null,
      "outputs": []
    },
    {
      "cell_type": "code",
      "source": [
        "c.dtype"
      ],
      "metadata": {
        "colab": {
          "base_uri": "https://localhost:8080/"
        },
        "id": "68ILWAWl-VGs",
        "outputId": "fb72e1d5-2b2e-4d3e-8210-2d90f4135814"
      },
      "execution_count": null,
      "outputs": [
        {
          "output_type": "execute_result",
          "data": {
            "text/plain": [
              "torch.int64"
            ]
          },
          "metadata": {},
          "execution_count": 23
        }
      ]
    },
    {
      "cell_type": "code",
      "source": [
        "d.dtype"
      ],
      "metadata": {
        "colab": {
          "base_uri": "https://localhost:8080/"
        },
        "id": "L2neLIZZ-WUg",
        "outputId": "741bd40b-8092-40a6-8901-e3314d8b79cf"
      },
      "execution_count": null,
      "outputs": [
        {
          "output_type": "execute_result",
          "data": {
            "text/plain": [
              "torch.float32"
            ]
          },
          "metadata": {},
          "execution_count": 25
        }
      ]
    },
    {
      "cell_type": "code",
      "source": [
        "e = torch.tensor([23, 45.7, 4],\n",
        "                 dtype=torch.float64,\n",
        "                 device = \"cuda\")"
      ],
      "metadata": {
        "id": "visyDr9W-eCx"
      },
      "execution_count": null,
      "outputs": []
    },
    {
      "cell_type": "code",
      "source": [
        "e"
      ],
      "metadata": {
        "colab": {
          "base_uri": "https://localhost:8080/"
        },
        "id": "BLtdZ0nPAHx0",
        "outputId": "84eb43ef-c58c-4342-f030-ee121fdcd1cd"
      },
      "execution_count": null,
      "outputs": [
        {
          "output_type": "execute_result",
          "data": {
            "text/plain": [
              "tensor([23.0000, 45.7000,  4.0000], device='cuda:0', dtype=torch.float64)"
            ]
          },
          "metadata": {},
          "execution_count": 7
        }
      ]
    },
    {
      "cell_type": "markdown",
      "source": [
        "# tensor multiplication"
      ],
      "metadata": {
        "id": "gOeJC5nwCid1"
      }
    },
    {
      "cell_type": "code",
      "source": [
        "a = torch.tensor([[1, 2, 45.8],\n",
        "                  [1, 2, 45.8],\n",
        "                  [1, 2, 45.8]])"
      ],
      "metadata": {
        "id": "HboFD-p8rpvB"
      },
      "execution_count": null,
      "outputs": []
    },
    {
      "cell_type": "code",
      "source": [
        "b = torch.tensor([[1, 2, 3, 5],\n",
        "                  [1, 2, 3, 5],\n",
        "                  [1, 2, 3, 5]], dtype=torch.float32)"
      ],
      "metadata": {
        "id": "sZAadmiGr_Ve"
      },
      "execution_count": null,
      "outputs": []
    },
    {
      "cell_type": "code",
      "source": [
        "%%time\n",
        "torch.matmul(a, b)"
      ],
      "metadata": {
        "colab": {
          "base_uri": "https://localhost:8080/"
        },
        "id": "qdtKQPwasCaC",
        "outputId": "7b6e078d-ce4c-4aa7-a40c-263f45fb036f"
      },
      "execution_count": null,
      "outputs": [
        {
          "output_type": "stream",
          "name": "stdout",
          "text": [
            "CPU times: user 0 ns, sys: 1.67 ms, total: 1.67 ms\n",
            "Wall time: 15.6 ms\n"
          ]
        },
        {
          "output_type": "execute_result",
          "data": {
            "text/plain": [
              "tensor([[ 48.8000,  97.6000, 146.4000, 244.0000],\n",
              "        [ 48.8000,  97.6000, 146.4000, 244.0000],\n",
              "        [ 48.8000,  97.6000, 146.4000, 244.0000]])"
            ]
          },
          "metadata": {},
          "execution_count": 6
        }
      ]
    },
    {
      "cell_type": "code",
      "source": [
        "a @ b"
      ],
      "metadata": {
        "id": "Izy6if5LsH5V",
        "colab": {
          "base_uri": "https://localhost:8080/"
        },
        "outputId": "b941a2a1-27c6-4645-9a3b-2eb33783b7c5"
      },
      "execution_count": null,
      "outputs": [
        {
          "output_type": "execute_result",
          "data": {
            "text/plain": [
              "tensor([[ 48.8000,  97.6000, 146.4000, 244.0000],\n",
              "        [ 48.8000,  97.6000, 146.4000, 244.0000],\n",
              "        [ 48.8000,  97.6000, 146.4000, 244.0000]])"
            ]
          },
          "metadata": {},
          "execution_count": 7
        }
      ]
    },
    {
      "cell_type": "code",
      "source": [],
      "metadata": {
        "id": "jeuqZEFddZQT"
      },
      "execution_count": null,
      "outputs": []
    },
    {
      "cell_type": "markdown",
      "source": [
        "tensors manipulation\n"
      ],
      "metadata": {
        "id": "xUIFrVHOJ79S"
      }
    },
    {
      "cell_type": "code",
      "source": [
        "x = torch.arange(10)"
      ],
      "metadata": {
        "id": "2krQgGVbJ-yk"
      },
      "execution_count": null,
      "outputs": []
    },
    {
      "cell_type": "code",
      "source": [
        "stacked = torch.stack([x, x, x], dim=0)\n",
        "stacked = torch.stack([stacked, stacked], dim=1)"
      ],
      "metadata": {
        "id": "5nlImy3SKFCZ"
      },
      "execution_count": null,
      "outputs": []
    },
    {
      "cell_type": "code",
      "source": [
        "stacked.shape"
      ],
      "metadata": {
        "colab": {
          "base_uri": "https://localhost:8080/"
        },
        "id": "juS92vf6KPFV",
        "outputId": "62d8fcb7-50eb-459a-997c-01f227459e14"
      },
      "execution_count": null,
      "outputs": [
        {
          "output_type": "execute_result",
          "data": {
            "text/plain": [
              "torch.Size([3, 2, 10])"
            ]
          },
          "metadata": {},
          "execution_count": 6
        }
      ]
    },
    {
      "cell_type": "code",
      "source": [
        "stacked"
      ],
      "metadata": {
        "colab": {
          "base_uri": "https://localhost:8080/"
        },
        "id": "nuw-8OPKMdmB",
        "outputId": "fc0a342c-a637-43d4-e134-3c3f6bbafd08"
      },
      "execution_count": null,
      "outputs": [
        {
          "output_type": "execute_result",
          "data": {
            "text/plain": [
              "tensor([[[0, 1, 2, 3, 4, 5, 6, 7, 8, 9],\n",
              "         [0, 1, 2, 3, 4, 5, 6, 7, 8, 9]],\n",
              "\n",
              "        [[0, 1, 2, 3, 4, 5, 6, 7, 8, 9],\n",
              "         [0, 1, 2, 3, 4, 5, 6, 7, 8, 9]],\n",
              "\n",
              "        [[0, 1, 2, 3, 4, 5, 6, 7, 8, 9],\n",
              "         [0, 1, 2, 3, 4, 5, 6, 7, 8, 9]]])"
            ]
          },
          "metadata": {},
          "execution_count": 5
        }
      ]
    },
    {
      "cell_type": "code",
      "source": [
        "torch.stack([stacked, stacked], dim=2)"
      ],
      "metadata": {
        "colab": {
          "base_uri": "https://localhost:8080/"
        },
        "id": "csVezTuFMPpx",
        "outputId": "83276954-2df3-456c-83c9-21e1eec7b658"
      },
      "execution_count": null,
      "outputs": [
        {
          "output_type": "execute_result",
          "data": {
            "text/plain": [
              "tensor([[[[0, 1, 2, 3, 4, 5, 6, 7, 8, 9],\n",
              "          [0, 1, 2, 3, 4, 5, 6, 7, 8, 9]],\n",
              "\n",
              "         [[0, 1, 2, 3, 4, 5, 6, 7, 8, 9],\n",
              "          [0, 1, 2, 3, 4, 5, 6, 7, 8, 9]]],\n",
              "\n",
              "\n",
              "        [[[0, 1, 2, 3, 4, 5, 6, 7, 8, 9],\n",
              "          [0, 1, 2, 3, 4, 5, 6, 7, 8, 9]],\n",
              "\n",
              "         [[0, 1, 2, 3, 4, 5, 6, 7, 8, 9],\n",
              "          [0, 1, 2, 3, 4, 5, 6, 7, 8, 9]]],\n",
              "\n",
              "\n",
              "        [[[0, 1, 2, 3, 4, 5, 6, 7, 8, 9],\n",
              "          [0, 1, 2, 3, 4, 5, 6, 7, 8, 9]],\n",
              "\n",
              "         [[0, 1, 2, 3, 4, 5, 6, 7, 8, 9],\n",
              "          [0, 1, 2, 3, 4, 5, 6, 7, 8, 9]]]])"
            ]
          },
          "metadata": {},
          "execution_count": 4
        }
      ]
    },
    {
      "cell_type": "code",
      "source": [
        "stacked"
      ],
      "metadata": {
        "colab": {
          "base_uri": "https://localhost:8080/"
        },
        "id": "4_UVTq-XMcg0",
        "outputId": "25d54dd1-aa1d-4e84-c334-07df80f06bc2"
      },
      "execution_count": null,
      "outputs": [
        {
          "output_type": "execute_result",
          "data": {
            "text/plain": [
              "tensor([[[0, 1, 2, 3, 4, 5, 6, 7, 8, 9],\n",
              "         [0, 1, 2, 3, 4, 5, 6, 7, 8, 9]],\n",
              "\n",
              "        [[0, 1, 2, 3, 4, 5, 6, 7, 8, 9],\n",
              "         [0, 1, 2, 3, 4, 5, 6, 7, 8, 9]],\n",
              "\n",
              "        [[0, 1, 2, 3, 4, 5, 6, 7, 8, 9],\n",
              "         [0, 1, 2, 3, 4, 5, 6, 7, 8, 9]]])"
            ]
          },
          "metadata": {},
          "execution_count": 6
        }
      ]
    },
    {
      "cell_type": "code",
      "source": [
        "stacked.shape"
      ],
      "metadata": {
        "colab": {
          "base_uri": "https://localhost:8080/"
        },
        "id": "tGrXXp2yWxB1",
        "outputId": "14397242-dd22-4308-b148-c71c1280af62"
      },
      "execution_count": null,
      "outputs": [
        {
          "output_type": "execute_result",
          "data": {
            "text/plain": [
              "torch.Size([3, 2, 10])"
            ]
          },
          "metadata": {},
          "execution_count": 7
        }
      ]
    },
    {
      "cell_type": "code",
      "source": [
        "stacked.squeeze()"
      ],
      "metadata": {
        "colab": {
          "base_uri": "https://localhost:8080/"
        },
        "id": "znCYTLc-Wzi3",
        "outputId": "4aaa4e7e-5e32-48f5-e3fa-3065263dd03a"
      },
      "execution_count": null,
      "outputs": [
        {
          "output_type": "execute_result",
          "data": {
            "text/plain": [
              "tensor([[[0, 1, 2, 3, 4, 5, 6, 7, 8, 9],\n",
              "         [0, 1, 2, 3, 4, 5, 6, 7, 8, 9]],\n",
              "\n",
              "        [[0, 1, 2, 3, 4, 5, 6, 7, 8, 9],\n",
              "         [0, 1, 2, 3, 4, 5, 6, 7, 8, 9]],\n",
              "\n",
              "        [[0, 1, 2, 3, 4, 5, 6, 7, 8, 9],\n",
              "         [0, 1, 2, 3, 4, 5, 6, 7, 8, 9]]])"
            ]
          },
          "metadata": {},
          "execution_count": 8
        }
      ]
    },
    {
      "cell_type": "code",
      "source": [
        "reshaped_stacked_0 = stacked.reshape([1, 60])"
      ],
      "metadata": {
        "id": "OYC-oLLMW2Po"
      },
      "execution_count": null,
      "outputs": []
    },
    {
      "cell_type": "code",
      "source": [
        "reshaped_stacked_1 = stacked.reshape([1, 1, 60])"
      ],
      "metadata": {
        "id": "wjWaDmmMW8cc"
      },
      "execution_count": null,
      "outputs": []
    },
    {
      "cell_type": "code",
      "source": [
        "reshaped_stacked_0"
      ],
      "metadata": {
        "colab": {
          "base_uri": "https://localhost:8080/"
        },
        "id": "vg6MBcHPXHPJ",
        "outputId": "0a29fc9a-dea5-4db2-b854-293e162aae0f"
      },
      "execution_count": null,
      "outputs": [
        {
          "output_type": "execute_result",
          "data": {
            "text/plain": [
              "tensor([[0, 1, 2, 3, 4, 5, 6, 7, 8, 9, 0, 1, 2, 3, 4, 5, 6, 7, 8, 9, 0, 1, 2, 3,\n",
              "         4, 5, 6, 7, 8, 9, 0, 1, 2, 3, 4, 5, 6, 7, 8, 9, 0, 1, 2, 3, 4, 5, 6, 7,\n",
              "         8, 9, 0, 1, 2, 3, 4, 5, 6, 7, 8, 9]])"
            ]
          },
          "metadata": {},
          "execution_count": 14
        }
      ]
    },
    {
      "cell_type": "code",
      "source": [
        "reshaped_stacked_1"
      ],
      "metadata": {
        "colab": {
          "base_uri": "https://localhost:8080/"
        },
        "id": "ZFTSf7_wXQsc",
        "outputId": "31c0aaeb-eddc-41c7-e922-75be75882faf"
      },
      "execution_count": null,
      "outputs": [
        {
          "output_type": "execute_result",
          "data": {
            "text/plain": [
              "tensor([[[0, 1, 2, 3, 4, 5, 6, 7, 8, 9, 0, 1, 2, 3, 4, 5, 6, 7, 8, 9, 0, 1, 2,\n",
              "          3, 4, 5, 6, 7, 8, 9, 0, 1, 2, 3, 4, 5, 6, 7, 8, 9, 0, 1, 2, 3, 4, 5,\n",
              "          6, 7, 8, 9, 0, 1, 2, 3, 4, 5, 6, 7, 8, 9]]])"
            ]
          },
          "metadata": {},
          "execution_count": 15
        }
      ]
    },
    {
      "cell_type": "code",
      "source": [
        "a = reshaped_stacked_0.squeeze()"
      ],
      "metadata": {
        "id": "DIXZf-x5XRQX"
      },
      "execution_count": null,
      "outputs": []
    },
    {
      "cell_type": "code",
      "source": [
        "b = reshaped_stacked_1.squeeze()"
      ],
      "metadata": {
        "id": "iaaApSKMXVBP"
      },
      "execution_count": null,
      "outputs": []
    },
    {
      "cell_type": "code",
      "source": [
        "a"
      ],
      "metadata": {
        "colab": {
          "base_uri": "https://localhost:8080/"
        },
        "id": "lVYdouZpXXp4",
        "outputId": "e08cbc91-eb73-41cd-b3f8-2f3b049b6af5"
      },
      "execution_count": null,
      "outputs": [
        {
          "output_type": "execute_result",
          "data": {
            "text/plain": [
              "tensor([0, 1, 2, 3, 4, 5, 6, 7, 8, 9, 0, 1, 2, 3, 4, 5, 6, 7, 8, 9, 0, 1, 2, 3,\n",
              "        4, 5, 6, 7, 8, 9, 0, 1, 2, 3, 4, 5, 6, 7, 8, 9, 0, 1, 2, 3, 4, 5, 6, 7,\n",
              "        8, 9, 0, 1, 2, 3, 4, 5, 6, 7, 8, 9])"
            ]
          },
          "metadata": {},
          "execution_count": 20
        }
      ]
    },
    {
      "cell_type": "code",
      "source": [
        "b"
      ],
      "metadata": {
        "colab": {
          "base_uri": "https://localhost:8080/"
        },
        "id": "StngVmWSYNSm",
        "outputId": "90c8e15e-6987-4221-f8d7-f25b7d8e6632"
      },
      "execution_count": null,
      "outputs": [
        {
          "output_type": "execute_result",
          "data": {
            "text/plain": [
              "tensor([0, 1, 2, 3, 4, 5, 6, 7, 8, 9, 0, 1, 2, 3, 4, 5, 6, 7, 8, 9, 0, 1, 2, 3,\n",
              "        4, 5, 6, 7, 8, 9, 0, 1, 2, 3, 4, 5, 6, 7, 8, 9, 0, 1, 2, 3, 4, 5, 6, 7,\n",
              "        8, 9, 0, 1, 2, 3, 4, 5, 6, 7, 8, 9])"
            ]
          },
          "metadata": {},
          "execution_count": 21
        }
      ]
    },
    {
      "cell_type": "code",
      "source": [
        "c = torch.rand([224, 224, 3])"
      ],
      "metadata": {
        "id": "4115gDGLYN-K"
      },
      "execution_count": null,
      "outputs": []
    },
    {
      "cell_type": "code",
      "source": [
        "permuted_c = c.permute(dims=(2, 1, 0))"
      ],
      "metadata": {
        "id": "GjX4SYtPYQrO"
      },
      "execution_count": null,
      "outputs": []
    },
    {
      "cell_type": "code",
      "source": [
        "c"
      ],
      "metadata": {
        "colab": {
          "base_uri": "https://localhost:8080/"
        },
        "id": "Mk_Rif8KZdur",
        "outputId": "b43815f8-0532-435d-bb11-4685520542d4"
      },
      "execution_count": null,
      "outputs": [
        {
          "output_type": "execute_result",
          "data": {
            "text/plain": [
              "tensor([[[0.3208, 0.8172, 0.5816],\n",
              "         [0.8611, 0.9441, 0.5828],\n",
              "         [0.0831, 0.9177, 0.3142],\n",
              "         ...,\n",
              "         [0.2695, 0.4458, 0.7589],\n",
              "         [0.2948, 0.1285, 0.6703],\n",
              "         [0.8244, 0.7419, 0.9949]],\n",
              "\n",
              "        [[0.3398, 0.0393, 0.2774],\n",
              "         [0.4315, 0.7911, 0.1398],\n",
              "         [0.5137, 0.9309, 0.5728],\n",
              "         ...,\n",
              "         [0.6276, 0.3650, 0.5650],\n",
              "         [0.8556, 0.5808, 0.0951],\n",
              "         [0.3755, 0.4752, 0.5743]],\n",
              "\n",
              "        [[0.8403, 0.3052, 0.4685],\n",
              "         [0.4257, 0.0291, 0.9425],\n",
              "         [0.1903, 0.5858, 0.5782],\n",
              "         ...,\n",
              "         [0.9473, 0.7272, 0.6107],\n",
              "         [0.1290, 0.4622, 0.9888],\n",
              "         [0.8124, 0.2735, 0.7570]],\n",
              "\n",
              "        ...,\n",
              "\n",
              "        [[0.0104, 0.9112, 0.3104],\n",
              "         [0.2335, 0.5855, 0.6217],\n",
              "         [0.9769, 0.7650, 0.5292],\n",
              "         ...,\n",
              "         [0.5694, 0.6438, 0.1783],\n",
              "         [0.0192, 0.4749, 0.6678],\n",
              "         [0.9778, 0.1438, 0.6129]],\n",
              "\n",
              "        [[0.8698, 0.5342, 0.8176],\n",
              "         [0.7761, 0.8613, 0.5434],\n",
              "         [0.2527, 0.4233, 0.3769],\n",
              "         ...,\n",
              "         [0.6094, 0.1610, 0.7409],\n",
              "         [0.3970, 0.2143, 0.8324],\n",
              "         [0.4042, 0.6648, 0.0592]],\n",
              "\n",
              "        [[0.5329, 0.0655, 0.4305],\n",
              "         [0.1960, 0.9791, 0.8837],\n",
              "         [0.3255, 0.5025, 0.5604],\n",
              "         ...,\n",
              "         [0.9757, 0.0971, 0.6713],\n",
              "         [0.6709, 0.2748, 0.9646],\n",
              "         [0.3901, 0.8302, 0.2548]]])"
            ]
          },
          "metadata": {},
          "execution_count": 29
        }
      ]
    },
    {
      "cell_type": "code",
      "source": [
        "permuted_c"
      ],
      "metadata": {
        "colab": {
          "base_uri": "https://localhost:8080/"
        },
        "id": "a49p5g31Zp0D",
        "outputId": "4ccf0cd7-95c1-499b-f4cc-97cf914ef824"
      },
      "execution_count": null,
      "outputs": [
        {
          "output_type": "execute_result",
          "data": {
            "text/plain": [
              "tensor([[[0.3208, 0.3398, 0.8403,  ..., 0.0104, 0.8698, 0.5329],\n",
              "         [0.8611, 0.4315, 0.4257,  ..., 0.2335, 0.7761, 0.1960],\n",
              "         [0.0831, 0.5137, 0.1903,  ..., 0.9769, 0.2527, 0.3255],\n",
              "         ...,\n",
              "         [0.2695, 0.6276, 0.9473,  ..., 0.5694, 0.6094, 0.9757],\n",
              "         [0.2948, 0.8556, 0.1290,  ..., 0.0192, 0.3970, 0.6709],\n",
              "         [0.8244, 0.3755, 0.8124,  ..., 0.9778, 0.4042, 0.3901]],\n",
              "\n",
              "        [[0.8172, 0.0393, 0.3052,  ..., 0.9112, 0.5342, 0.0655],\n",
              "         [0.9441, 0.7911, 0.0291,  ..., 0.5855, 0.8613, 0.9791],\n",
              "         [0.9177, 0.9309, 0.5858,  ..., 0.7650, 0.4233, 0.5025],\n",
              "         ...,\n",
              "         [0.4458, 0.3650, 0.7272,  ..., 0.6438, 0.1610, 0.0971],\n",
              "         [0.1285, 0.5808, 0.4622,  ..., 0.4749, 0.2143, 0.2748],\n",
              "         [0.7419, 0.4752, 0.2735,  ..., 0.1438, 0.6648, 0.8302]],\n",
              "\n",
              "        [[0.5816, 0.2774, 0.4685,  ..., 0.3104, 0.8176, 0.4305],\n",
              "         [0.5828, 0.1398, 0.9425,  ..., 0.6217, 0.5434, 0.8837],\n",
              "         [0.3142, 0.5728, 0.5782,  ..., 0.5292, 0.3769, 0.5604],\n",
              "         ...,\n",
              "         [0.7589, 0.5650, 0.6107,  ..., 0.1783, 0.7409, 0.6713],\n",
              "         [0.6703, 0.0951, 0.9888,  ..., 0.6678, 0.8324, 0.9646],\n",
              "         [0.9949, 0.5743, 0.7570,  ..., 0.6129, 0.0592, 0.2548]]])"
            ]
          },
          "metadata": {},
          "execution_count": 31
        }
      ]
    },
    {
      "cell_type": "markdown",
      "source": [
        "device = \"cuda\" if torch.cuda.is_available() else \"cpu\""
      ],
      "metadata": {
        "id": "E1F5W8SwZrYk"
      }
    },
    {
      "cell_type": "code",
      "source": [
        "device = \"cuda\" if torch.cuda.is_available() else \"cpu\""
      ],
      "metadata": {
        "id": "Gyf5mNqXyHta"
      },
      "execution_count": null,
      "outputs": []
    },
    {
      "cell_type": "code",
      "source": [],
      "metadata": {
        "colab": {
          "base_uri": "https://localhost:8080/",
          "height": 36
        },
        "id": "YIXMvFV8yZDS",
        "outputId": "5ad296d1-7b74-4541-98d4-72fba7ac77df"
      },
      "execution_count": null,
      "outputs": [
        {
          "output_type": "execute_result",
          "data": {
            "text/plain": [
              "'cpu'"
            ],
            "application/vnd.google.colaboratory.intrinsic+json": {
              "type": "string"
            }
          },
          "metadata": {},
          "execution_count": 33
        }
      ]
    },
    {
      "cell_type": "code",
      "source": [
        "t = torch.arange(4)"
      ],
      "metadata": {
        "id": "UJ3URkMfyado"
      },
      "execution_count": null,
      "outputs": []
    },
    {
      "cell_type": "code",
      "source": [
        "t"
      ],
      "metadata": {
        "colab": {
          "base_uri": "https://localhost:8080/"
        },
        "id": "1TrCBuw6ymx2",
        "outputId": "1af8cab9-4980-4231-9d14-ff8f564831e8"
      },
      "execution_count": null,
      "outputs": [
        {
          "output_type": "execute_result",
          "data": {
            "text/plain": [
              "tensor([0, 1, 2, 3])"
            ]
          },
          "metadata": {},
          "execution_count": 35
        }
      ]
    },
    {
      "cell_type": "code",
      "source": [
        "t.to(device)"
      ],
      "metadata": {
        "colab": {
          "base_uri": "https://localhost:8080/"
        },
        "id": "fFOXorGGynLH",
        "outputId": "5d938bd8-541e-458d-be9e-a430c7644ce3"
      },
      "execution_count": null,
      "outputs": [
        {
          "output_type": "execute_result",
          "data": {
            "text/plain": [
              "tensor([0, 1, 2, 3])"
            ]
          },
          "metadata": {},
          "execution_count": 36
        }
      ]
    },
    {
      "cell_type": "code",
      "source": [
        "t.numpy()"
      ],
      "metadata": {
        "colab": {
          "base_uri": "https://localhost:8080/"
        },
        "id": "iU7zAxX5ypxm",
        "outputId": "3c4aaa36-d48d-4b14-83c5-070a2c680c9f"
      },
      "execution_count": null,
      "outputs": [
        {
          "output_type": "execute_result",
          "data": {
            "text/plain": [
              "array([0, 1, 2, 3])"
            ]
          },
          "metadata": {},
          "execution_count": 37
        }
      ]
    },
    {
      "cell_type": "markdown",
      "source": [
        "Exercises\n"
      ],
      "metadata": {
        "id": "cKM_78jqyzoQ"
      }
    },
    {
      "cell_type": "code",
      "source": [
        "random_t = torch.rand([7, 7])"
      ],
      "metadata": {
        "id": "oM1dSw0jzbDA"
      },
      "execution_count": null,
      "outputs": []
    },
    {
      "cell_type": "code",
      "source": [
        "random_t"
      ],
      "metadata": {
        "colab": {
          "base_uri": "https://localhost:8080/"
        },
        "id": "CG0ZMnipzrvz",
        "outputId": "99fc041e-eb66-458d-d966-2bfd3a450421"
      },
      "execution_count": null,
      "outputs": [
        {
          "output_type": "execute_result",
          "data": {
            "text/plain": [
              "tensor([[0.3971, 0.0085, 0.6934, 0.6852, 0.7827, 0.9984, 0.8433],\n",
              "        [0.6569, 0.6906, 0.0379, 0.0752, 0.2615, 0.6140, 0.9420],\n",
              "        [0.7230, 0.3095, 0.6041, 0.7569, 0.7029, 0.7015, 0.9996],\n",
              "        [0.7447, 0.2365, 0.8901, 0.2108, 0.1571, 0.5677, 0.3053],\n",
              "        [0.1443, 0.6873, 0.7332, 0.6549, 0.3041, 0.8646, 0.8178],\n",
              "        [0.8990, 0.7864, 0.1130, 0.3749, 0.8582, 0.0066, 0.6859],\n",
              "        [0.1937, 0.7821, 0.8102, 0.3889, 0.4182, 0.1713, 0.3818]])"
            ]
          },
          "metadata": {},
          "execution_count": 39
        }
      ]
    },
    {
      "cell_type": "code",
      "source": [
        "t = random_t[0, :].reshape(7, 1)"
      ],
      "metadata": {
        "id": "7m_YcovPztDP"
      },
      "execution_count": null,
      "outputs": []
    },
    {
      "cell_type": "code",
      "source": [
        "t"
      ],
      "metadata": {
        "colab": {
          "base_uri": "https://localhost:8080/"
        },
        "id": "EaYys7joz7Oy",
        "outputId": "ad1edf86-b111-4301-99cb-ec225d6ad8d9"
      },
      "execution_count": null,
      "outputs": [
        {
          "output_type": "execute_result",
          "data": {
            "text/plain": [
              "tensor([[0.3971],\n",
              "        [0.0085],\n",
              "        [0.6934],\n",
              "        [0.6852],\n",
              "        [0.7827],\n",
              "        [0.9984],\n",
              "        [0.8433]])"
            ]
          },
          "metadata": {},
          "execution_count": 44
        }
      ]
    },
    {
      "cell_type": "code",
      "source": [
        "multiplied_tensors = torch.matmul(random_t, t)"
      ],
      "metadata": {
        "id": "ojkOui-m0VsE"
      },
      "execution_count": null,
      "outputs": []
    },
    {
      "cell_type": "code",
      "source": [
        "SEED = 23\n",
        "\n"
      ],
      "metadata": {
        "id": "RqLlDHjy0bIK"
      },
      "execution_count": null,
      "outputs": []
    },
    {
      "cell_type": "code",
      "source": [
        "def routine_3():\n",
        "  torch.manual_seed(SEED)\n",
        "  rand_t = torch.rand([7, 7])\n",
        "  t = rand_t[0, :].reshape([7, 1])\n",
        "  print(f\"rand_t:\\n {rand_t}\")\n",
        "  print(f\"t:\\n {t}\")\n",
        "  maltiplied_tensors = torch.matmul(rand_t, t)\n",
        "  print(f\"rand_t @ t:\\n {maltiplied_tensors}\")\n"
      ],
      "metadata": {
        "id": "ZmbIxd-m1H8K"
      },
      "execution_count": null,
      "outputs": []
    },
    {
      "cell_type": "code",
      "source": [
        "routine_3()"
      ],
      "metadata": {
        "colab": {
          "base_uri": "https://localhost:8080/"
        },
        "id": "E9DxRDp718t0",
        "outputId": "2d164524-54b9-4ac5-8340-2df6ebf328d5"
      },
      "execution_count": null,
      "outputs": [
        {
          "output_type": "stream",
          "name": "stdout",
          "text": [
            "rand_t:\n",
            " tensor([[0.4283, 0.2889, 0.4224, 0.3571, 0.9577, 0.1100, 0.2933],\n",
            "        [0.9205, 0.5876, 0.1299, 0.6729, 0.1028, 0.7876, 0.5540],\n",
            "        [0.4653, 0.2311, 0.2214, 0.3348, 0.4541, 0.2519, 0.6310],\n",
            "        [0.1707, 0.3122, 0.1976, 0.5466, 0.0213, 0.9049, 0.8444],\n",
            "        [0.9330, 0.2950, 0.4773, 0.4787, 0.3440, 0.6732, 0.6593],\n",
            "        [0.1879, 0.4546, 0.1049, 0.7112, 0.7709, 0.5514, 0.0807],\n",
            "        [0.3029, 0.7935, 0.2823, 0.5686, 0.1354, 0.4224, 0.1946]])\n",
            "t:\n",
            " tensor([[0.4283],\n",
            "        [0.2889],\n",
            "        [0.4224],\n",
            "        [0.3571],\n",
            "        [0.9577],\n",
            "        [0.1100],\n",
            "        [0.2933]])\n",
            "rand_t @ t:\n",
            " tensor([[1.5881],\n",
            "        [1.2066],\n",
            "        [1.1268],\n",
            "        [0.8095],\n",
            "        [1.4542],\n",
            "        [1.3327],\n",
            "        [0.9143]])\n"
          ]
        }
      ]
    },
    {
      "cell_type": "code",
      "source": [
        "routine_3()"
      ],
      "metadata": {
        "colab": {
          "base_uri": "https://localhost:8080/"
        },
        "id": "D-9FJqcG1-Q3",
        "outputId": "6c650b4e-4ebb-49dd-d0e8-af01874ee565"
      },
      "execution_count": null,
      "outputs": [
        {
          "output_type": "stream",
          "name": "stdout",
          "text": [
            "rand_t:\n",
            " tensor([[0.4283, 0.2889, 0.4224, 0.3571, 0.9577, 0.1100, 0.2933],\n",
            "        [0.9205, 0.5876, 0.1299, 0.6729, 0.1028, 0.7876, 0.5540],\n",
            "        [0.4653, 0.2311, 0.2214, 0.3348, 0.4541, 0.2519, 0.6310],\n",
            "        [0.1707, 0.3122, 0.1976, 0.5466, 0.0213, 0.9049, 0.8444],\n",
            "        [0.9330, 0.2950, 0.4773, 0.4787, 0.3440, 0.6732, 0.6593],\n",
            "        [0.1879, 0.4546, 0.1049, 0.7112, 0.7709, 0.5514, 0.0807],\n",
            "        [0.3029, 0.7935, 0.2823, 0.5686, 0.1354, 0.4224, 0.1946]])\n",
            "t:\n",
            " tensor([[0.4283],\n",
            "        [0.2889],\n",
            "        [0.4224],\n",
            "        [0.3571],\n",
            "        [0.9577],\n",
            "        [0.1100],\n",
            "        [0.2933]])\n",
            "rand_t @ t:\n",
            " tensor([[1.5881],\n",
            "        [1.2066],\n",
            "        [1.1268],\n",
            "        [0.8095],\n",
            "        [1.4542],\n",
            "        [1.3327],\n",
            "        [0.9143]])\n"
          ]
        }
      ]
    },
    {
      "cell_type": "code",
      "source": [
        "!nvidia-smi"
      ],
      "metadata": {
        "colab": {
          "base_uri": "https://localhost:8080/"
        },
        "id": "tundwih-2dTz",
        "outputId": "69c371b8-bf20-48cb-d450-2c5fd7b7294e"
      },
      "execution_count": null,
      "outputs": [
        {
          "output_type": "stream",
          "name": "stdout",
          "text": [
            "Wed May 15 10:44:36 2024       \n",
            "+---------------------------------------------------------------------------------------+\n",
            "| NVIDIA-SMI 535.104.05             Driver Version: 535.104.05   CUDA Version: 12.2     |\n",
            "|-----------------------------------------+----------------------+----------------------+\n",
            "| GPU  Name                 Persistence-M | Bus-Id        Disp.A | Volatile Uncorr. ECC |\n",
            "| Fan  Temp   Perf          Pwr:Usage/Cap |         Memory-Usage | GPU-Util  Compute M. |\n",
            "|                                         |                      |               MIG M. |\n",
            "|=========================================+======================+======================|\n",
            "|   0  Tesla T4                       Off | 00000000:00:04.0 Off |                    0 |\n",
            "| N/A   63C    P8              10W /  70W |      0MiB / 15360MiB |      0%      Default |\n",
            "|                                         |                      |                  N/A |\n",
            "+-----------------------------------------+----------------------+----------------------+\n",
            "                                                                                         \n",
            "+---------------------------------------------------------------------------------------+\n",
            "| Processes:                                                                            |\n",
            "|  GPU   GI   CI        PID   Type   Process name                            GPU Memory |\n",
            "|        ID   ID                                                             Usage      |\n",
            "|=======================================================================================|\n",
            "|  No running processes found                                                           |\n",
            "+---------------------------------------------------------------------------------------+\n"
          ]
        }
      ]
    },
    {
      "cell_type": "code",
      "source": [
        "rand_gpu_t = torch.rand([7,7])"
      ],
      "metadata": {
        "id": "Y1xG4Hc52fLH"
      },
      "execution_count": null,
      "outputs": []
    },
    {
      "cell_type": "code",
      "source": [
        "import torch"
      ],
      "metadata": {
        "id": "v4O37aZu28S6"
      },
      "execution_count": null,
      "outputs": []
    },
    {
      "cell_type": "code",
      "source": [
        "SEED = 1234"
      ],
      "metadata": {
        "id": "bh_8VMBd3NPY"
      },
      "execution_count": null,
      "outputs": []
    },
    {
      "cell_type": "code",
      "source": [
        "torch.cuda.manual_seed(SEED)"
      ],
      "metadata": {
        "id": "WmIJ_uYB3Gog"
      },
      "execution_count": null,
      "outputs": []
    },
    {
      "cell_type": "code",
      "source": [
        "torch.manual_seed(SEED)\n",
        "gpu_powered_tensor_1 = torch.rand([2, 3], device=\"cuda\")"
      ],
      "metadata": {
        "id": "9LklrW-L3JCU"
      },
      "execution_count": null,
      "outputs": []
    },
    {
      "cell_type": "code",
      "source": [
        "gpu_powered_tensor_2 = torch.rand([2, 3], device=\"cuda\")"
      ],
      "metadata": {
        "id": "fM_mvJQa3okn"
      },
      "execution_count": null,
      "outputs": []
    },
    {
      "cell_type": "code",
      "source": [
        "multiplied_gpu_powered_tensors = gpu_powered_tensor_1 @ torch.transpose(gpu_powered_tensor_2, 0, 1)"
      ],
      "metadata": {
        "id": "FlSrZqV53_pU"
      },
      "execution_count": null,
      "outputs": []
    },
    {
      "cell_type": "code",
      "source": [
        "multiplied_gpu_powered_tensors"
      ],
      "metadata": {
        "colab": {
          "base_uri": "https://localhost:8080/"
        },
        "id": "7wc5191W4See",
        "outputId": "f8123b01-3c00-4ac9-fdf6-cd8f172cb603"
      },
      "execution_count": null,
      "outputs": [
        {
          "output_type": "execute_result",
          "data": {
            "text/plain": [
              "tensor([[0.2786, 0.7668],\n",
              "        [0.7343, 0.6102]], device='cuda:0')"
            ]
          },
          "metadata": {},
          "execution_count": 25
        }
      ]
    },
    {
      "cell_type": "code",
      "source": [
        "max_value = multiplied_gpu_powered_tensors.max()\n",
        "max_value"
      ],
      "metadata": {
        "colab": {
          "base_uri": "https://localhost:8080/"
        },
        "id": "MBEM7e1d4kth",
        "outputId": "d9a22747-d346-4548-d00d-12fcc316ad37"
      },
      "execution_count": null,
      "outputs": [
        {
          "output_type": "execute_result",
          "data": {
            "text/plain": [
              "tensor(0.7668, device='cuda:0')"
            ]
          },
          "metadata": {},
          "execution_count": 27
        }
      ]
    },
    {
      "cell_type": "code",
      "source": [
        "min_value = multiplied_gpu_powered_tensors.min()\n",
        "min_value"
      ],
      "metadata": {
        "colab": {
          "base_uri": "https://localhost:8080/"
        },
        "id": "XjtkdHx45JuE",
        "outputId": "6736d97e-38c6-4e05-ee84-20c1c8b92a35"
      },
      "execution_count": null,
      "outputs": [
        {
          "output_type": "execute_result",
          "data": {
            "text/plain": [
              "tensor(-1., device='cuda:0')"
            ]
          },
          "metadata": {},
          "execution_count": 34
        }
      ]
    },
    {
      "cell_type": "code",
      "source": [
        "argmax_value = multiplied_gpu_powered_tensors.argmax()\n",
        "argmax_value"
      ],
      "metadata": {
        "colab": {
          "base_uri": "https://localhost:8080/"
        },
        "id": "4OD1Dma45P2H",
        "outputId": "8570d9d6-e5a1-4bb8-f411-e2dac34073a0"
      },
      "execution_count": null,
      "outputs": [
        {
          "output_type": "execute_result",
          "data": {
            "text/plain": [
              "tensor(1, device='cuda:0')"
            ]
          },
          "metadata": {},
          "execution_count": 29
        }
      ]
    },
    {
      "cell_type": "code",
      "source": [
        "argmin_value = multiplied_gpu_powered_tensors.argmin()\n",
        "argmin_value"
      ],
      "metadata": {
        "colab": {
          "base_uri": "https://localhost:8080/"
        },
        "id": "U-TQz1_w5XM2",
        "outputId": "16999ab8-7396-4626-fdc1-910c236fa940"
      },
      "execution_count": null,
      "outputs": [
        {
          "output_type": "execute_result",
          "data": {
            "text/plain": [
              "tensor(2, device='cuda:0')"
            ]
          },
          "metadata": {},
          "execution_count": 35
        }
      ]
    },
    {
      "cell_type": "code",
      "source": [
        "multiplied_gpu_powered_tensors[1, 0] = -1"
      ],
      "metadata": {
        "id": "6NJB4nZ75dgW"
      },
      "execution_count": null,
      "outputs": []
    },
    {
      "cell_type": "code",
      "source": [
        "multiplied_gpu_powered_tensors"
      ],
      "metadata": {
        "colab": {
          "base_uri": "https://localhost:8080/"
        },
        "id": "LzflJ5pG5k0m",
        "outputId": "5df54a9d-bb9f-4f3a-f9ee-9f2cb135a74a"
      },
      "execution_count": null,
      "outputs": [
        {
          "output_type": "execute_result",
          "data": {
            "text/plain": [
              "tensor([[ 0.2786,  0.7668],\n",
              "        [-1.0000,  0.6102]], device='cuda:0')"
            ]
          },
          "metadata": {},
          "execution_count": 33
        }
      ]
    },
    {
      "cell_type": "code",
      "source": [
        "torch.manual_seed(7)\n",
        "t1 = torch.rand([1, 1, 1, 10])\n",
        "print(f\"shape before squeezing:\\n {t1.shape}\")\n",
        "t1 = t1.squeeze()\n",
        "print(f\"shape after squezzing:\\n {t1.shape}\")"
      ],
      "metadata": {
        "colab": {
          "base_uri": "https://localhost:8080/"
        },
        "id": "hEWEiuw-5saD",
        "outputId": "dd56d557-92a3-4b16-f405-872f848bf9a4"
      },
      "execution_count": null,
      "outputs": [
        {
          "output_type": "stream",
          "name": "stdout",
          "text": [
            "shape before squeezing:\n",
            " torch.Size([1, 1, 1, 10])\n",
            "shape after squezzing:\n",
            " torch.Size([10])\n"
          ]
        }
      ]
    },
    {
      "cell_type": "code",
      "source": [],
      "metadata": {
        "id": "dIdaxQdc6Vj9"
      },
      "execution_count": null,
      "outputs": []
    }
  ]
}