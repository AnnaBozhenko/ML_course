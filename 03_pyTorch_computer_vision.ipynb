{
  "nbformat": 4,
  "nbformat_minor": 0,
  "metadata": {
    "colab": {
      "provenance": [],
      "gpuType": "T4",
      "authorship_tag": "ABX9TyNTNCQ5QJlQE6e0Ey4jV4lS",
      "include_colab_link": true
    },
    "kernelspec": {
      "name": "python3",
      "display_name": "Python 3"
    },
    "language_info": {
      "name": "python"
    },
    "accelerator": "GPU",
    "widgets": {
      "application/vnd.jupyter.widget-state+json": {
        "3eb8dc1cf4324618bbf01a8cd325e6b2": {
          "model_module": "@jupyter-widgets/controls",
          "model_name": "HBoxModel",
          "model_module_version": "1.5.0",
          "state": {
            "_dom_classes": [],
            "_model_module": "@jupyter-widgets/controls",
            "_model_module_version": "1.5.0",
            "_model_name": "HBoxModel",
            "_view_count": null,
            "_view_module": "@jupyter-widgets/controls",
            "_view_module_version": "1.5.0",
            "_view_name": "HBoxView",
            "box_style": "",
            "children": [
              "IPY_MODEL_ff9aeea7be2e4250bf11747f39ef0686",
              "IPY_MODEL_0dc913d20ce74e53a3002022fd2b0d38",
              "IPY_MODEL_55112798be0b49ffa1d9fece4214899f"
            ],
            "layout": "IPY_MODEL_3d5bdd27202043afaa6203aae92934d9"
          }
        },
        "ff9aeea7be2e4250bf11747f39ef0686": {
          "model_module": "@jupyter-widgets/controls",
          "model_name": "HTMLModel",
          "model_module_version": "1.5.0",
          "state": {
            "_dom_classes": [],
            "_model_module": "@jupyter-widgets/controls",
            "_model_module_version": "1.5.0",
            "_model_name": "HTMLModel",
            "_view_count": null,
            "_view_module": "@jupyter-widgets/controls",
            "_view_module_version": "1.5.0",
            "_view_name": "HTMLView",
            "description": "",
            "description_tooltip": null,
            "layout": "IPY_MODEL_8b675e364818408e9fce33b77e862653",
            "placeholder": "​",
            "style": "IPY_MODEL_8445279dd6cc45d7b0abc3eb8072af69",
            "value": "100%"
          }
        },
        "0dc913d20ce74e53a3002022fd2b0d38": {
          "model_module": "@jupyter-widgets/controls",
          "model_name": "FloatProgressModel",
          "model_module_version": "1.5.0",
          "state": {
            "_dom_classes": [],
            "_model_module": "@jupyter-widgets/controls",
            "_model_module_version": "1.5.0",
            "_model_name": "FloatProgressModel",
            "_view_count": null,
            "_view_module": "@jupyter-widgets/controls",
            "_view_module_version": "1.5.0",
            "_view_name": "ProgressView",
            "bar_style": "success",
            "description": "",
            "description_tooltip": null,
            "layout": "IPY_MODEL_bdea6a82025840c69ae079ee372e78db",
            "max": 3,
            "min": 0,
            "orientation": "horizontal",
            "style": "IPY_MODEL_91c99597933247f79d2eda6fbc1ba0fc",
            "value": 3
          }
        },
        "55112798be0b49ffa1d9fece4214899f": {
          "model_module": "@jupyter-widgets/controls",
          "model_name": "HTMLModel",
          "model_module_version": "1.5.0",
          "state": {
            "_dom_classes": [],
            "_model_module": "@jupyter-widgets/controls",
            "_model_module_version": "1.5.0",
            "_model_name": "HTMLModel",
            "_view_count": null,
            "_view_module": "@jupyter-widgets/controls",
            "_view_module_version": "1.5.0",
            "_view_name": "HTMLView",
            "description": "",
            "description_tooltip": null,
            "layout": "IPY_MODEL_43bc6a52b7324da18a320c9fbb8a8f04",
            "placeholder": "​",
            "style": "IPY_MODEL_0e5cb7a86c4d474abb15f33f899a5b4f",
            "value": " 3/3 [00:30&lt;00:00, 10.03s/it]"
          }
        },
        "3d5bdd27202043afaa6203aae92934d9": {
          "model_module": "@jupyter-widgets/base",
          "model_name": "LayoutModel",
          "model_module_version": "1.2.0",
          "state": {
            "_model_module": "@jupyter-widgets/base",
            "_model_module_version": "1.2.0",
            "_model_name": "LayoutModel",
            "_view_count": null,
            "_view_module": "@jupyter-widgets/base",
            "_view_module_version": "1.2.0",
            "_view_name": "LayoutView",
            "align_content": null,
            "align_items": null,
            "align_self": null,
            "border": null,
            "bottom": null,
            "display": null,
            "flex": null,
            "flex_flow": null,
            "grid_area": null,
            "grid_auto_columns": null,
            "grid_auto_flow": null,
            "grid_auto_rows": null,
            "grid_column": null,
            "grid_gap": null,
            "grid_row": null,
            "grid_template_areas": null,
            "grid_template_columns": null,
            "grid_template_rows": null,
            "height": null,
            "justify_content": null,
            "justify_items": null,
            "left": null,
            "margin": null,
            "max_height": null,
            "max_width": null,
            "min_height": null,
            "min_width": null,
            "object_fit": null,
            "object_position": null,
            "order": null,
            "overflow": null,
            "overflow_x": null,
            "overflow_y": null,
            "padding": null,
            "right": null,
            "top": null,
            "visibility": null,
            "width": null
          }
        },
        "8b675e364818408e9fce33b77e862653": {
          "model_module": "@jupyter-widgets/base",
          "model_name": "LayoutModel",
          "model_module_version": "1.2.0",
          "state": {
            "_model_module": "@jupyter-widgets/base",
            "_model_module_version": "1.2.0",
            "_model_name": "LayoutModel",
            "_view_count": null,
            "_view_module": "@jupyter-widgets/base",
            "_view_module_version": "1.2.0",
            "_view_name": "LayoutView",
            "align_content": null,
            "align_items": null,
            "align_self": null,
            "border": null,
            "bottom": null,
            "display": null,
            "flex": null,
            "flex_flow": null,
            "grid_area": null,
            "grid_auto_columns": null,
            "grid_auto_flow": null,
            "grid_auto_rows": null,
            "grid_column": null,
            "grid_gap": null,
            "grid_row": null,
            "grid_template_areas": null,
            "grid_template_columns": null,
            "grid_template_rows": null,
            "height": null,
            "justify_content": null,
            "justify_items": null,
            "left": null,
            "margin": null,
            "max_height": null,
            "max_width": null,
            "min_height": null,
            "min_width": null,
            "object_fit": null,
            "object_position": null,
            "order": null,
            "overflow": null,
            "overflow_x": null,
            "overflow_y": null,
            "padding": null,
            "right": null,
            "top": null,
            "visibility": null,
            "width": null
          }
        },
        "8445279dd6cc45d7b0abc3eb8072af69": {
          "model_module": "@jupyter-widgets/controls",
          "model_name": "DescriptionStyleModel",
          "model_module_version": "1.5.0",
          "state": {
            "_model_module": "@jupyter-widgets/controls",
            "_model_module_version": "1.5.0",
            "_model_name": "DescriptionStyleModel",
            "_view_count": null,
            "_view_module": "@jupyter-widgets/base",
            "_view_module_version": "1.2.0",
            "_view_name": "StyleView",
            "description_width": ""
          }
        },
        "bdea6a82025840c69ae079ee372e78db": {
          "model_module": "@jupyter-widgets/base",
          "model_name": "LayoutModel",
          "model_module_version": "1.2.0",
          "state": {
            "_model_module": "@jupyter-widgets/base",
            "_model_module_version": "1.2.0",
            "_model_name": "LayoutModel",
            "_view_count": null,
            "_view_module": "@jupyter-widgets/base",
            "_view_module_version": "1.2.0",
            "_view_name": "LayoutView",
            "align_content": null,
            "align_items": null,
            "align_self": null,
            "border": null,
            "bottom": null,
            "display": null,
            "flex": null,
            "flex_flow": null,
            "grid_area": null,
            "grid_auto_columns": null,
            "grid_auto_flow": null,
            "grid_auto_rows": null,
            "grid_column": null,
            "grid_gap": null,
            "grid_row": null,
            "grid_template_areas": null,
            "grid_template_columns": null,
            "grid_template_rows": null,
            "height": null,
            "justify_content": null,
            "justify_items": null,
            "left": null,
            "margin": null,
            "max_height": null,
            "max_width": null,
            "min_height": null,
            "min_width": null,
            "object_fit": null,
            "object_position": null,
            "order": null,
            "overflow": null,
            "overflow_x": null,
            "overflow_y": null,
            "padding": null,
            "right": null,
            "top": null,
            "visibility": null,
            "width": null
          }
        },
        "91c99597933247f79d2eda6fbc1ba0fc": {
          "model_module": "@jupyter-widgets/controls",
          "model_name": "ProgressStyleModel",
          "model_module_version": "1.5.0",
          "state": {
            "_model_module": "@jupyter-widgets/controls",
            "_model_module_version": "1.5.0",
            "_model_name": "ProgressStyleModel",
            "_view_count": null,
            "_view_module": "@jupyter-widgets/base",
            "_view_module_version": "1.2.0",
            "_view_name": "StyleView",
            "bar_color": null,
            "description_width": ""
          }
        },
        "43bc6a52b7324da18a320c9fbb8a8f04": {
          "model_module": "@jupyter-widgets/base",
          "model_name": "LayoutModel",
          "model_module_version": "1.2.0",
          "state": {
            "_model_module": "@jupyter-widgets/base",
            "_model_module_version": "1.2.0",
            "_model_name": "LayoutModel",
            "_view_count": null,
            "_view_module": "@jupyter-widgets/base",
            "_view_module_version": "1.2.0",
            "_view_name": "LayoutView",
            "align_content": null,
            "align_items": null,
            "align_self": null,
            "border": null,
            "bottom": null,
            "display": null,
            "flex": null,
            "flex_flow": null,
            "grid_area": null,
            "grid_auto_columns": null,
            "grid_auto_flow": null,
            "grid_auto_rows": null,
            "grid_column": null,
            "grid_gap": null,
            "grid_row": null,
            "grid_template_areas": null,
            "grid_template_columns": null,
            "grid_template_rows": null,
            "height": null,
            "justify_content": null,
            "justify_items": null,
            "left": null,
            "margin": null,
            "max_height": null,
            "max_width": null,
            "min_height": null,
            "min_width": null,
            "object_fit": null,
            "object_position": null,
            "order": null,
            "overflow": null,
            "overflow_x": null,
            "overflow_y": null,
            "padding": null,
            "right": null,
            "top": null,
            "visibility": null,
            "width": null
          }
        },
        "0e5cb7a86c4d474abb15f33f899a5b4f": {
          "model_module": "@jupyter-widgets/controls",
          "model_name": "DescriptionStyleModel",
          "model_module_version": "1.5.0",
          "state": {
            "_model_module": "@jupyter-widgets/controls",
            "_model_module_version": "1.5.0",
            "_model_name": "DescriptionStyleModel",
            "_view_count": null,
            "_view_module": "@jupyter-widgets/base",
            "_view_module_version": "1.2.0",
            "_view_name": "StyleView",
            "description_width": ""
          }
        },
        "ae9afe4f8ac84bf8bd03b75426eca9f5": {
          "model_module": "@jupyter-widgets/controls",
          "model_name": "HBoxModel",
          "model_module_version": "1.5.0",
          "state": {
            "_dom_classes": [],
            "_model_module": "@jupyter-widgets/controls",
            "_model_module_version": "1.5.0",
            "_model_name": "HBoxModel",
            "_view_count": null,
            "_view_module": "@jupyter-widgets/controls",
            "_view_module_version": "1.5.0",
            "_view_name": "HBoxView",
            "box_style": "",
            "children": [
              "IPY_MODEL_979b118ac713481facc90ae617dc044f",
              "IPY_MODEL_911aa2c64f294848bd656d5f963a4ce3",
              "IPY_MODEL_fbb23fee133d4caf941a8139cd0c5b2f"
            ],
            "layout": "IPY_MODEL_63ab1c538fb1446080ce1d28ae6fe02e"
          }
        },
        "979b118ac713481facc90ae617dc044f": {
          "model_module": "@jupyter-widgets/controls",
          "model_name": "HTMLModel",
          "model_module_version": "1.5.0",
          "state": {
            "_dom_classes": [],
            "_model_module": "@jupyter-widgets/controls",
            "_model_module_version": "1.5.0",
            "_model_name": "HTMLModel",
            "_view_count": null,
            "_view_module": "@jupyter-widgets/controls",
            "_view_module_version": "1.5.0",
            "_view_name": "HTMLView",
            "description": "",
            "description_tooltip": null,
            "layout": "IPY_MODEL_2afa7001630145999d6867bba944d396",
            "placeholder": "​",
            "style": "IPY_MODEL_bbaaa9fccf8b42d58bb73cd7c5868a55",
            "value": "100%"
          }
        },
        "911aa2c64f294848bd656d5f963a4ce3": {
          "model_module": "@jupyter-widgets/controls",
          "model_name": "FloatProgressModel",
          "model_module_version": "1.5.0",
          "state": {
            "_dom_classes": [],
            "_model_module": "@jupyter-widgets/controls",
            "_model_module_version": "1.5.0",
            "_model_name": "FloatProgressModel",
            "_view_count": null,
            "_view_module": "@jupyter-widgets/controls",
            "_view_module_version": "1.5.0",
            "_view_name": "ProgressView",
            "bar_style": "success",
            "description": "",
            "description_tooltip": null,
            "layout": "IPY_MODEL_0949a6200a644aa2a2e8d7c730238de5",
            "max": 3,
            "min": 0,
            "orientation": "horizontal",
            "style": "IPY_MODEL_b7bda844464c48b497cbc7106e8928a0",
            "value": 3
          }
        },
        "fbb23fee133d4caf941a8139cd0c5b2f": {
          "model_module": "@jupyter-widgets/controls",
          "model_name": "HTMLModel",
          "model_module_version": "1.5.0",
          "state": {
            "_dom_classes": [],
            "_model_module": "@jupyter-widgets/controls",
            "_model_module_version": "1.5.0",
            "_model_name": "HTMLModel",
            "_view_count": null,
            "_view_module": "@jupyter-widgets/controls",
            "_view_module_version": "1.5.0",
            "_view_name": "HTMLView",
            "description": "",
            "description_tooltip": null,
            "layout": "IPY_MODEL_13d3c40484dd4cf1997c3663dc47a2c6",
            "placeholder": "​",
            "style": "IPY_MODEL_1a96a4a31c6a44feab1a9914c6d0100b",
            "value": " 3/3 [00:32&lt;00:00, 11.15s/it]"
          }
        },
        "63ab1c538fb1446080ce1d28ae6fe02e": {
          "model_module": "@jupyter-widgets/base",
          "model_name": "LayoutModel",
          "model_module_version": "1.2.0",
          "state": {
            "_model_module": "@jupyter-widgets/base",
            "_model_module_version": "1.2.0",
            "_model_name": "LayoutModel",
            "_view_count": null,
            "_view_module": "@jupyter-widgets/base",
            "_view_module_version": "1.2.0",
            "_view_name": "LayoutView",
            "align_content": null,
            "align_items": null,
            "align_self": null,
            "border": null,
            "bottom": null,
            "display": null,
            "flex": null,
            "flex_flow": null,
            "grid_area": null,
            "grid_auto_columns": null,
            "grid_auto_flow": null,
            "grid_auto_rows": null,
            "grid_column": null,
            "grid_gap": null,
            "grid_row": null,
            "grid_template_areas": null,
            "grid_template_columns": null,
            "grid_template_rows": null,
            "height": null,
            "justify_content": null,
            "justify_items": null,
            "left": null,
            "margin": null,
            "max_height": null,
            "max_width": null,
            "min_height": null,
            "min_width": null,
            "object_fit": null,
            "object_position": null,
            "order": null,
            "overflow": null,
            "overflow_x": null,
            "overflow_y": null,
            "padding": null,
            "right": null,
            "top": null,
            "visibility": null,
            "width": null
          }
        },
        "2afa7001630145999d6867bba944d396": {
          "model_module": "@jupyter-widgets/base",
          "model_name": "LayoutModel",
          "model_module_version": "1.2.0",
          "state": {
            "_model_module": "@jupyter-widgets/base",
            "_model_module_version": "1.2.0",
            "_model_name": "LayoutModel",
            "_view_count": null,
            "_view_module": "@jupyter-widgets/base",
            "_view_module_version": "1.2.0",
            "_view_name": "LayoutView",
            "align_content": null,
            "align_items": null,
            "align_self": null,
            "border": null,
            "bottom": null,
            "display": null,
            "flex": null,
            "flex_flow": null,
            "grid_area": null,
            "grid_auto_columns": null,
            "grid_auto_flow": null,
            "grid_auto_rows": null,
            "grid_column": null,
            "grid_gap": null,
            "grid_row": null,
            "grid_template_areas": null,
            "grid_template_columns": null,
            "grid_template_rows": null,
            "height": null,
            "justify_content": null,
            "justify_items": null,
            "left": null,
            "margin": null,
            "max_height": null,
            "max_width": null,
            "min_height": null,
            "min_width": null,
            "object_fit": null,
            "object_position": null,
            "order": null,
            "overflow": null,
            "overflow_x": null,
            "overflow_y": null,
            "padding": null,
            "right": null,
            "top": null,
            "visibility": null,
            "width": null
          }
        },
        "bbaaa9fccf8b42d58bb73cd7c5868a55": {
          "model_module": "@jupyter-widgets/controls",
          "model_name": "DescriptionStyleModel",
          "model_module_version": "1.5.0",
          "state": {
            "_model_module": "@jupyter-widgets/controls",
            "_model_module_version": "1.5.0",
            "_model_name": "DescriptionStyleModel",
            "_view_count": null,
            "_view_module": "@jupyter-widgets/base",
            "_view_module_version": "1.2.0",
            "_view_name": "StyleView",
            "description_width": ""
          }
        },
        "0949a6200a644aa2a2e8d7c730238de5": {
          "model_module": "@jupyter-widgets/base",
          "model_name": "LayoutModel",
          "model_module_version": "1.2.0",
          "state": {
            "_model_module": "@jupyter-widgets/base",
            "_model_module_version": "1.2.0",
            "_model_name": "LayoutModel",
            "_view_count": null,
            "_view_module": "@jupyter-widgets/base",
            "_view_module_version": "1.2.0",
            "_view_name": "LayoutView",
            "align_content": null,
            "align_items": null,
            "align_self": null,
            "border": null,
            "bottom": null,
            "display": null,
            "flex": null,
            "flex_flow": null,
            "grid_area": null,
            "grid_auto_columns": null,
            "grid_auto_flow": null,
            "grid_auto_rows": null,
            "grid_column": null,
            "grid_gap": null,
            "grid_row": null,
            "grid_template_areas": null,
            "grid_template_columns": null,
            "grid_template_rows": null,
            "height": null,
            "justify_content": null,
            "justify_items": null,
            "left": null,
            "margin": null,
            "max_height": null,
            "max_width": null,
            "min_height": null,
            "min_width": null,
            "object_fit": null,
            "object_position": null,
            "order": null,
            "overflow": null,
            "overflow_x": null,
            "overflow_y": null,
            "padding": null,
            "right": null,
            "top": null,
            "visibility": null,
            "width": null
          }
        },
        "b7bda844464c48b497cbc7106e8928a0": {
          "model_module": "@jupyter-widgets/controls",
          "model_name": "ProgressStyleModel",
          "model_module_version": "1.5.0",
          "state": {
            "_model_module": "@jupyter-widgets/controls",
            "_model_module_version": "1.5.0",
            "_model_name": "ProgressStyleModel",
            "_view_count": null,
            "_view_module": "@jupyter-widgets/base",
            "_view_module_version": "1.2.0",
            "_view_name": "StyleView",
            "bar_color": null,
            "description_width": ""
          }
        },
        "13d3c40484dd4cf1997c3663dc47a2c6": {
          "model_module": "@jupyter-widgets/base",
          "model_name": "LayoutModel",
          "model_module_version": "1.2.0",
          "state": {
            "_model_module": "@jupyter-widgets/base",
            "_model_module_version": "1.2.0",
            "_model_name": "LayoutModel",
            "_view_count": null,
            "_view_module": "@jupyter-widgets/base",
            "_view_module_version": "1.2.0",
            "_view_name": "LayoutView",
            "align_content": null,
            "align_items": null,
            "align_self": null,
            "border": null,
            "bottom": null,
            "display": null,
            "flex": null,
            "flex_flow": null,
            "grid_area": null,
            "grid_auto_columns": null,
            "grid_auto_flow": null,
            "grid_auto_rows": null,
            "grid_column": null,
            "grid_gap": null,
            "grid_row": null,
            "grid_template_areas": null,
            "grid_template_columns": null,
            "grid_template_rows": null,
            "height": null,
            "justify_content": null,
            "justify_items": null,
            "left": null,
            "margin": null,
            "max_height": null,
            "max_width": null,
            "min_height": null,
            "min_width": null,
            "object_fit": null,
            "object_position": null,
            "order": null,
            "overflow": null,
            "overflow_x": null,
            "overflow_y": null,
            "padding": null,
            "right": null,
            "top": null,
            "visibility": null,
            "width": null
          }
        },
        "1a96a4a31c6a44feab1a9914c6d0100b": {
          "model_module": "@jupyter-widgets/controls",
          "model_name": "DescriptionStyleModel",
          "model_module_version": "1.5.0",
          "state": {
            "_model_module": "@jupyter-widgets/controls",
            "_model_module_version": "1.5.0",
            "_model_name": "DescriptionStyleModel",
            "_view_count": null,
            "_view_module": "@jupyter-widgets/base",
            "_view_module_version": "1.2.0",
            "_view_name": "StyleView",
            "description_width": ""
          }
        }
      }
    }
  },
  "cells": [
    {
      "cell_type": "markdown",
      "metadata": {
        "id": "view-in-github",
        "colab_type": "text"
      },
      "source": [
        "<a href=\"https://colab.research.google.com/github/AnnaBozhenko/ML_course/blob/master/03_pyTorch_computer_vision.ipynb\" target=\"_parent\"><img src=\"https://colab.research.google.com/assets/colab-badge.svg\" alt=\"Open In Colab\"/></a>"
      ]
    },
    {
      "cell_type": "code",
      "execution_count": 1,
      "metadata": {
        "id": "mtzib0scHIuE"
      },
      "outputs": [],
      "source": [
        "import torch\n",
        "from torch import nn\n",
        "\n",
        "import torchvision\n",
        "from torchvision import datasets\n",
        "from torchvision import transforms\n",
        "from torchvision.transforms import ToTensor\n",
        "\n",
        "import matplotlib.pyplot as plt\n"
      ]
    },
    {
      "cell_type": "code",
      "source": [
        "# import clothes dataset\n",
        "train_data = datasets.FashionMNIST(root=\"data\",\n",
        "                                   train=True,\n",
        "                                   download=True,\n",
        "                                   transform=ToTensor(),\n",
        "                                   target_transform=None)\n",
        "\n",
        "test_data = datasets.FashionMNIST(root=\"data\",\n",
        "                                  train=False,\n",
        "                                  download=True,\n",
        "                                  transform=ToTensor(),\n",
        "                                  target_transform=None)"
      ],
      "metadata": {
        "colab": {
          "base_uri": "https://localhost:8080/"
        },
        "id": "hlKlvQBflJ6l",
        "outputId": "2a5660c0-4e3c-40f2-e2d6-b4509ed76f34"
      },
      "execution_count": 2,
      "outputs": [
        {
          "output_type": "stream",
          "name": "stdout",
          "text": [
            "Downloading http://fashion-mnist.s3-website.eu-central-1.amazonaws.com/train-images-idx3-ubyte.gz\n",
            "Downloading http://fashion-mnist.s3-website.eu-central-1.amazonaws.com/train-images-idx3-ubyte.gz to data/FashionMNIST/raw/train-images-idx3-ubyte.gz\n"
          ]
        },
        {
          "output_type": "stream",
          "name": "stderr",
          "text": [
            "100%|██████████| 26421880/26421880 [00:01<00:00, 16171448.02it/s]\n"
          ]
        },
        {
          "output_type": "stream",
          "name": "stdout",
          "text": [
            "Extracting data/FashionMNIST/raw/train-images-idx3-ubyte.gz to data/FashionMNIST/raw\n",
            "\n",
            "Downloading http://fashion-mnist.s3-website.eu-central-1.amazonaws.com/train-labels-idx1-ubyte.gz\n",
            "Downloading http://fashion-mnist.s3-website.eu-central-1.amazonaws.com/train-labels-idx1-ubyte.gz to data/FashionMNIST/raw/train-labels-idx1-ubyte.gz\n"
          ]
        },
        {
          "output_type": "stream",
          "name": "stderr",
          "text": [
            "100%|██████████| 29515/29515 [00:00<00:00, 280297.70it/s]\n"
          ]
        },
        {
          "output_type": "stream",
          "name": "stdout",
          "text": [
            "Extracting data/FashionMNIST/raw/train-labels-idx1-ubyte.gz to data/FashionMNIST/raw\n",
            "\n",
            "Downloading http://fashion-mnist.s3-website.eu-central-1.amazonaws.com/t10k-images-idx3-ubyte.gz\n",
            "Downloading http://fashion-mnist.s3-website.eu-central-1.amazonaws.com/t10k-images-idx3-ubyte.gz to data/FashionMNIST/raw/t10k-images-idx3-ubyte.gz\n"
          ]
        },
        {
          "output_type": "stream",
          "name": "stderr",
          "text": [
            "100%|██████████| 4422102/4422102 [00:00<00:00, 5043495.17it/s]\n"
          ]
        },
        {
          "output_type": "stream",
          "name": "stdout",
          "text": [
            "Extracting data/FashionMNIST/raw/t10k-images-idx3-ubyte.gz to data/FashionMNIST/raw\n",
            "\n",
            "Downloading http://fashion-mnist.s3-website.eu-central-1.amazonaws.com/t10k-labels-idx1-ubyte.gz\n",
            "Downloading http://fashion-mnist.s3-website.eu-central-1.amazonaws.com/t10k-labels-idx1-ubyte.gz to data/FashionMNIST/raw/t10k-labels-idx1-ubyte.gz\n"
          ]
        },
        {
          "output_type": "stream",
          "name": "stderr",
          "text": [
            "100%|██████████| 5148/5148 [00:00<00:00, 20104540.96it/s]\n"
          ]
        },
        {
          "output_type": "stream",
          "name": "stdout",
          "text": [
            "Extracting data/FashionMNIST/raw/t10k-labels-idx1-ubyte.gz to data/FashionMNIST/raw\n",
            "\n"
          ]
        }
      ]
    },
    {
      "cell_type": "code",
      "source": [
        "class_names = train_data.classes\n",
        "[print(f\"{class_names[i]} = {i}\") for i in range(len(class_names))]"
      ],
      "metadata": {
        "colab": {
          "base_uri": "https://localhost:8080/"
        },
        "id": "gRmsYH4TndZ3",
        "outputId": "273a5ce4-59ce-41d1-ad75-72576826791b"
      },
      "execution_count": 3,
      "outputs": [
        {
          "output_type": "stream",
          "name": "stdout",
          "text": [
            "T-shirt/top = 0\n",
            "Trouser = 1\n",
            "Pullover = 2\n",
            "Dress = 3\n",
            "Coat = 4\n",
            "Sandal = 5\n",
            "Shirt = 6\n",
            "Sneaker = 7\n",
            "Bag = 8\n",
            "Ankle boot = 9\n"
          ]
        },
        {
          "output_type": "execute_result",
          "data": {
            "text/plain": [
              "[None, None, None, None, None, None, None, None, None, None]"
            ]
          },
          "metadata": {},
          "execution_count": 3
        }
      ]
    },
    {
      "cell_type": "code",
      "source": [
        "image, train_label = train_data[0]\n",
        "plt.title(f\"{class_names[train_label]}\")\n",
        "plt.imshow(image.squeeze(), cmap=\"gray\")\n"
      ],
      "metadata": {
        "colab": {
          "base_uri": "https://localhost:8080/",
          "height": 469
        },
        "id": "IKKv46sMoElb",
        "outputId": "936dec53-3f6f-4e7b-9427-d8d88366a686"
      },
      "execution_count": 4,
      "outputs": [
        {
          "output_type": "execute_result",
          "data": {
            "text/plain": [
              "<matplotlib.image.AxesImage at 0x7ab912fc83a0>"
            ]
          },
          "metadata": {},
          "execution_count": 4
        },
        {
          "output_type": "display_data",
          "data": {
            "text/plain": [
              "<Figure size 640x480 with 1 Axes>"
            ],
            "image/png": "[encoded data removed]"
          },
          "metadata": {}
        }
      ]
    },
    {
      "cell_type": "code",
      "source": [
        "fig = plt.figure(figsize=(9, 9))\n",
        "rows, columns = 4, 4\n",
        "for i in range(1, rows * columns + 1):\n",
        "    item_label_idx = torch.randint(0, len(train_data), size=[1]).item()\n",
        "    item_image, item_label_idx = train_data[item_label_idx]\n",
        "    item_label = class_names[item_label_idx]\n",
        "\n",
        "    fig.add_subplot(rows, columns, i)\n",
        "    plt.title(item_label)\n",
        "    plt.imshow(item_image.squeeze(), cmap=\"gray\")\n",
        "    plt.axis(False)"
      ],
      "metadata": {
        "colab": {
          "base_uri": "https://localhost:8080/",
          "height": 752
        },
        "id": "WTakcxM6onbo",
        "outputId": "aa4d2fbe-1a6b-4a2c-bea9-520511e3b33d"
      },
      "execution_count": 5,
      "outputs": [
        {
          "output_type": "display_data",
          "data": {
            "text/plain": [
              "<Figure size 900x900 with 16 Axes>"
            ],
            "image/png": "[encoded data removed]"
          },
          "metadata": {}
        }
      ]
    },
    {
      "cell_type": "markdown",
      "source": [
        "# Divide training dataset on 32 batches"
      ],
      "metadata": {
        "id": "TVRQWllMoojf"
      }
    },
    {
      "cell_type": "code",
      "source": [
        "from torch.utils.data import DataLoader"
      ],
      "metadata": {
        "id": "Q5NzCIOdFQnR"
      },
      "execution_count": 6,
      "outputs": []
    },
    {
      "cell_type": "code",
      "source": [
        "BATCH_SIZE = 32"
      ],
      "metadata": {
        "id": "Xe0NNU9VHTKD"
      },
      "execution_count": 7,
      "outputs": []
    },
    {
      "cell_type": "code",
      "source": [
        "train_data_loader = DataLoader(dataset=train_data,\n",
        "                               batch_size=BATCH_SIZE,\n",
        "                               shuffle=True)\n"
      ],
      "metadata": {
        "id": "o3KwigrvFU8e"
      },
      "execution_count": 8,
      "outputs": []
    },
    {
      "cell_type": "code",
      "source": [
        "test_data_loader = DataLoader(dataset=test_data,\n",
        "                               batch_size=BATCH_SIZE,\n",
        "                               shuffle=False)\n"
      ],
      "metadata": {
        "id": "nRwLRxUOF1XY"
      },
      "execution_count": 9,
      "outputs": []
    },
    {
      "cell_type": "markdown",
      "source": [
        "# Example of a pick from train_data batch"
      ],
      "metadata": {
        "id": "Hy7a3daEZwfA"
      }
    },
    {
      "cell_type": "code",
      "source": [
        "# visualise batch item\n",
        "train_dataloader_images, train_dataloader_labels_idxs = next(iter(test_data_loader))\n",
        "\n"
      ],
      "metadata": {
        "id": "ckwsoiSJHKjJ"
      },
      "execution_count": 10,
      "outputs": []
    },
    {
      "cell_type": "code",
      "source": [
        "torch.manual_seed(42)\n",
        "\n",
        "item_idx = torch.randint(0, len(train_dataloader_images), size=[1]).item()\n",
        "image, label_idx = train_dataloader_images[item_idx], train_dataloader_labels_idxs[item_idx]\n",
        "\n",
        "plt.title(class_names[label_idx])\n",
        "plt.imshow(image.squeeze(), cmap=\"gray\")\n",
        "plt.axis(\"off\")"
      ],
      "metadata": {
        "colab": {
          "base_uri": "https://localhost:8080/",
          "height": 445
        },
        "id": "o6TM0_shIqij",
        "outputId": "65fef59e-ed57-403e-e496-be08b54b4334"
      },
      "execution_count": 11,
      "outputs": [
        {
          "output_type": "execute_result",
          "data": {
            "text/plain": [
              "(-0.5, 27.5, 27.5, -0.5)"
            ]
          },
          "metadata": {},
          "execution_count": 11
        },
        {
          "output_type": "display_data",
          "data": {
            "text/plain": [
              "<Figure size 640x480 with 1 Axes>"
            ],
            "image/png": "[encoded data removed]"
          },
          "metadata": {}
        }
      ]
    },
    {
      "cell_type": "markdown",
      "source": [
        "# Create model"
      ],
      "metadata": {
        "id": "gxbRfl-CJkRj"
      }
    },
    {
      "cell_type": "code",
      "source": [
        "flatten_model = nn.Flatten()\n",
        "\n",
        "x = train_dataloader_images[0]\n",
        "output = flatten_model(x)"
      ],
      "metadata": {
        "id": "dbKAI50EJr1v"
      },
      "execution_count": 12,
      "outputs": []
    },
    {
      "cell_type": "code",
      "source": [
        "output.shape"
      ],
      "metadata": {
        "colab": {
          "base_uri": "https://localhost:8080/"
        },
        "id": "BzLvO6bVKHWs",
        "outputId": "3a4c6847-91dd-4b0a-b411-d54829dc949f"
      },
      "execution_count": 13,
      "outputs": [
        {
          "output_type": "execute_result",
          "data": {
            "text/plain": [
              "torch.Size([1, 784])"
            ]
          },
          "metadata": {},
          "execution_count": 13
        }
      ]
    },
    {
      "cell_type": "code",
      "source": [
        "class FashionMNISTModel_V0(nn.Module):\n",
        "  def __init__(self, input_features, output_features, hidden_units):\n",
        "    super().__init__()\n",
        "    self.layers = nn.Sequential(\n",
        "        nn.Flatten(),\n",
        "        nn.Linear(in_features=input_features, out_features=hidden_units),\n",
        "        nn.Linear(in_features=hidden_units, out_features=output_features),\n",
        "    )\n",
        "\n",
        "  def forward(self, x):\n",
        "    return self.layers(x)\n"
      ],
      "metadata": {
        "id": "msWZ3tNoXtZT"
      },
      "execution_count": 14,
      "outputs": []
    },
    {
      "cell_type": "code",
      "source": [
        "torch.manual_seed(42)\n",
        "\n",
        "INPUT_FEATURES = 28*28\n",
        "OUTPUT_FEATURES = len(class_names)\n",
        "HIDDEN_FEATURES = 10\n",
        "device_model_0 = \"cuda\"\n",
        "model_0 = FashionMNISTModel_V0(input_features=INPUT_FEATURES,\n",
        "                               output_features=OUTPUT_FEATURES,\n",
        "                               hidden_units=HIDDEN_FEATURES).to(device_model_0)"
      ],
      "metadata": {
        "id": "OZvdbrRXZ9ki"
      },
      "execution_count": 15,
      "outputs": []
    },
    {
      "cell_type": "code",
      "source": [
        "model_0"
      ],
      "metadata": {
        "colab": {
          "base_uri": "https://localhost:8080/"
        },
        "id": "TRsOFkutatl_",
        "outputId": "407ba5f4-af05-4e9f-f029-cc528fa5a0f8"
      },
      "execution_count": 16,
      "outputs": [
        {
          "output_type": "execute_result",
          "data": {
            "text/plain": [
              "FashionMNISTModel_V0(\n",
              "  (layers): Sequential(\n",
              "    (0): Flatten(start_dim=1, end_dim=-1)\n",
              "    (1): Linear(in_features=784, out_features=10, bias=True)\n",
              "    (2): Linear(in_features=10, out_features=10, bias=True)\n",
              "  )\n",
              ")"
            ]
          },
          "metadata": {},
          "execution_count": 16
        }
      ]
    },
    {
      "cell_type": "code",
      "source": [
        "# example of forward pass on dummy data\n",
        "dummy_batch = torch.rand([1, 1, 28, 28]).to(device_model_0)\n",
        "model_0(dummy_batch)"
      ],
      "metadata": {
        "colab": {
          "base_uri": "https://localhost:8080/"
        },
        "id": "Gd42ES-Rawqi",
        "outputId": "8afa30fc-c2da-41d0-d9f3-0e19713a8a71"
      },
      "execution_count": 17,
      "outputs": [
        {
          "output_type": "execute_result",
          "data": {
            "text/plain": [
              "tensor([[-0.0315,  0.3171,  0.0531, -0.2525,  0.5959,  0.2112,  0.3233,  0.2694,\n",
              "         -0.1004,  0.0157]], device='cuda:0', grad_fn=<AddmmBackward0>)"
            ]
          },
          "metadata": {},
          "execution_count": 17
        }
      ]
    },
    {
      "cell_type": "markdown",
      "source": [
        "# Setting up loss, optomisation and accuracy functions"
      ],
      "metadata": {
        "id": "lQ-dfFMGa-LW"
      }
    },
    {
      "cell_type": "code",
      "source": [
        "from pathlib import Path\n",
        "import requests\n",
        "\n",
        "if not Path(\"helper_functions.py\").is_file():\n",
        "  request = requests.get(\"https://raw.githubusercontent.com/mrdbourke/pytorch-deep-learning/main/helper_functions.py\")\n",
        "  with open(\"helper_functions.py\", \"wb\") as f:\n",
        "    f.write(request.content)\n"
      ],
      "metadata": {
        "id": "OYILXP4BlcUi"
      },
      "execution_count": 18,
      "outputs": []
    },
    {
      "cell_type": "code",
      "source": [
        "from helper_functions import accuracy_fn\n"
      ],
      "metadata": {
        "id": "C_xp6UGdmf-H"
      },
      "execution_count": 19,
      "outputs": []
    },
    {
      "cell_type": "code",
      "source": [
        "loss_fn = nn.CrossEntropyLoss()\n",
        "\n",
        "optimiser = torch.optim.SGD(params=model_0.parameters(),\n",
        "                            lr=0.1)"
      ],
      "metadata": {
        "id": "R8umyMHDFvvS"
      },
      "execution_count": 20,
      "outputs": []
    },
    {
      "cell_type": "code",
      "source": [
        "from timeit import default_timer as timer\n",
        "\n",
        "def measure_process_exec(time_start,\n",
        "                         time_end,\n",
        "                         device: torch.device = None):\n",
        "  exec_time = time_end - time_start\n",
        "  print(f\"execution time: {exec_time:.3f} on device {device}\")\n",
        "  return exec_time"
      ],
      "metadata": {
        "id": "f7tQYINqGG1D"
      },
      "execution_count": 21,
      "outputs": []
    },
    {
      "cell_type": "code",
      "source": [
        "from tqdm.auto import tqdm"
      ],
      "metadata": {
        "id": "Tw7NOr9tmCVn"
      },
      "execution_count": 22,
      "outputs": []
    },
    {
      "cell_type": "code",
      "source": [
        "epochs_n = 3\n",
        "start_epoch_n = 0\n",
        "end_epoch_n = start_epoch_n + epochs_n\n",
        "test_step = 400"
      ],
      "metadata": {
        "id": "fJ549-c7nBqo"
      },
      "execution_count": 23,
      "outputs": []
    },
    {
      "cell_type": "code",
      "source": [
        "torch.manual_seed(43)\n",
        "\n",
        "traininig_start_time = timer()\n",
        "\n",
        "for epoch in tqdm(range(start_epoch_n, end_epoch_n)):\n",
        "  model_0.train()\n",
        "  train_loss = 0\n",
        "  for batch, (X_train, y_train) in enumerate(train_data_loader):\n",
        "    train_preds = model_0(X_train.to(device_model_0))\n",
        "\n",
        "    loss = loss_fn(train_preds, y_train.to(device_model_0))\n",
        "    train_loss += loss\n",
        "\n",
        "    optimiser.zero_grad()\n",
        "\n",
        "    loss.backward()\n",
        "\n",
        "    optimiser.step()\n",
        "\n",
        "    if batch % 400 == 0:\n",
        "      print(f\"{batch*len(X_train)}/{len(train_data_loader.dataset)} training data processed\")\n",
        "\n",
        "  train_loss /= len(train_data_loader)\n",
        "\n",
        "  # test for every other n step\n",
        "  # if epoch % 10 == 0:\n",
        "  model_0.eval()\n",
        "  test_loss, test_acc = 0, 0\n",
        "\n",
        "  with torch.inference_mode():\n",
        "    for X_test, y_test in test_data_loader:\n",
        "      test_preds = model_0(X_test.to(device_model_0))\n",
        "      loss = loss_fn(test_preds, y_test.to(device_model_0))\n",
        "      test_loss += loss\n",
        "\n",
        "      acc = accuracy_fn(y_true=y_test.to(device_model_0),\n",
        "                        y_pred=test_preds.argmax(dim=1))\n",
        "      test_acc += acc\n",
        "\n",
        "    test_loss /= len(test_data_loader)\n",
        "    test_acc /= len(test_data_loader)\n",
        "\n",
        "  print(f\"train loss: {train_loss:.2f}, test loss: {test_loss:.2f}, test accuracy: {test_acc:.2f}%\")\n",
        "\n",
        "traininig_end_time = timer()\n",
        "training_duration_time = measure_process_exec(time_start=traininig_start_time,\n",
        "                                              time_end=traininig_end_time,\n",
        "                                              device=str(next(model_0.parameters()).device))\n",
        "\n",
        "start_epoch_n = end_epoch_n\n",
        "end_epoch_n += epochs_n\n"
      ],
      "metadata": {
        "colab": {
          "base_uri": "https://localhost:8080/",
          "height": 379,
          "referenced_widgets": [
            "3eb8dc1cf4324618bbf01a8cd325e6b2",
            "ff9aeea7be2e4250bf11747f39ef0686",
            "0dc913d20ce74e53a3002022fd2b0d38",
            "55112798be0b49ffa1d9fece4214899f",
            "3d5bdd27202043afaa6203aae92934d9",
            "8b675e364818408e9fce33b77e862653",
            "8445279dd6cc45d7b0abc3eb8072af69",
            "bdea6a82025840c69ae079ee372e78db",
            "91c99597933247f79d2eda6fbc1ba0fc",
            "43bc6a52b7324da18a320c9fbb8a8f04",
            "0e5cb7a86c4d474abb15f33f899a5b4f"
          ]
        },
        "id": "7nFde5dkm4Ql",
        "outputId": "bc87dee5-8a0e-421b-e95e-ccd83dd913b2"
      },
      "execution_count": 24,
      "outputs": [
        {
          "output_type": "display_data",
          "data": {
            "text/plain": [
              "  0%|          | 0/3 [00:00<?, ?it/s]"
            ],
            "application/vnd.jupyter.widget-view+json": {
              "version_major": 2,
              "version_minor": 0,
              "model_id": "3eb8dc1cf4324618bbf01a8cd325e6b2"
            }
          },
          "metadata": {}
        },
        {
          "output_type": "stream",
          "name": "stdout",
          "text": [
            "0/60000 training data processed\n",
            "12800/60000 training data processed\n",
            "25600/60000 training data processed\n",
            "38400/60000 training data processed\n",
            "51200/60000 training data processed\n",
            "train loss: 0.59, test loss: 0.51, test accuracy: 82.27%\n",
            "0/60000 training data processed\n",
            "12800/60000 training data processed\n",
            "25600/60000 training data processed\n",
            "38400/60000 training data processed\n",
            "51200/60000 training data processed\n",
            "train loss: 0.47, test loss: 0.49, test accuracy: 82.52%\n",
            "0/60000 training data processed\n",
            "12800/60000 training data processed\n",
            "25600/60000 training data processed\n",
            "38400/60000 training data processed\n",
            "51200/60000 training data processed\n",
            "train loss: 0.45, test loss: 0.51, test accuracy: 82.43%\n",
            "execution time: 30.565 on device cuda:0\n"
          ]
        }
      ]
    },
    {
      "cell_type": "code",
      "source": [
        "def eval_model(model: torch.nn.Module,\n",
        "               data_loader: torch.utils.data.DataLoader,\n",
        "               loss_fn: torch.nn.Module,\n",
        "               accuracy_fn):\n",
        "  model_0.eval()\n",
        "  test_loss, test_acc = 0, 0\n",
        "\n",
        "  with torch.inference_mode():\n",
        "    for X_test, y_test in data_loader:\n",
        "      X_test, y_test = X_test.to(device_model_0), y_test.to(device_model_0)\n",
        "\n",
        "      test_preds = model(X_test)\n",
        "      loss = loss_fn(test_preds, y_test)\n",
        "      test_loss += loss\n",
        "\n",
        "      acc = accuracy_fn(y_true=y_test,\n",
        "                        y_pred=test_preds.argmax(dim=1))\n",
        "      test_acc += acc\n",
        "\n",
        "    test_loss /= len(test_data_loader)\n",
        "    test_acc /= len(test_data_loader)\n",
        "\n",
        "  return {\"test_loss\": test_loss,\n",
        "          \"test_accuracy\": test_acc,\n",
        "          \"model_name\": model.__class__.__name__}\n",
        "\n",
        "\n"
      ],
      "metadata": {
        "id": "dx_jfmDoqwUV"
      },
      "execution_count": 42,
      "outputs": []
    },
    {
      "cell_type": "code",
      "source": [
        "# setup device-agnostic code\n",
        "torch.cuda.is_available()"
      ],
      "metadata": {
        "colab": {
          "base_uri": "https://localhost:8080/"
        },
        "id": "RY7ZSlgcNBIF",
        "outputId": "31a1d5bb-eb4c-4775-b18c-92662079e264"
      },
      "execution_count": 26,
      "outputs": [
        {
          "output_type": "execute_result",
          "data": {
            "text/plain": [
              "True"
            ]
          },
          "metadata": {},
          "execution_count": 26
        }
      ]
    },
    {
      "cell_type": "code",
      "source": [
        "!nvidia-smi"
      ],
      "metadata": {
        "colab": {
          "base_uri": "https://localhost:8080/"
        },
        "id": "m-_EhM7-P7Y0",
        "outputId": "88e37dd3-3470-493f-9c8b-a802ab64d344"
      },
      "execution_count": 27,
      "outputs": [
        {
          "output_type": "stream",
          "name": "stdout",
          "text": [
            "Mon May 20 20:41:52 2024       \n",
            "+---------------------------------------------------------------------------------------+\n",
            "| NVIDIA-SMI 535.104.05             Driver Version: 535.104.05   CUDA Version: 12.2     |\n",
            "|-----------------------------------------+----------------------+----------------------+\n",
            "| GPU  Name                 Persistence-M | Bus-Id        Disp.A | Volatile Uncorr. ECC |\n",
            "| Fan  Temp   Perf          Pwr:Usage/Cap |         Memory-Usage | GPU-Util  Compute M. |\n",
            "|                                         |                      |               MIG M. |\n",
            "|=========================================+======================+======================|\n",
            "|   0  Tesla T4                       Off | 00000000:00:04.0 Off |                    0 |\n",
            "| N/A   52C    P0              28W /  70W |    159MiB / 15360MiB |      2%      Default |\n",
            "|                                         |                      |                  N/A |\n",
            "+-----------------------------------------+----------------------+----------------------+\n",
            "                                                                                         \n",
            "+---------------------------------------------------------------------------------------+\n",
            "| Processes:                                                                            |\n",
            "|  GPU   GI   CI        PID   Type   Process name                            GPU Memory |\n",
            "|        ID   ID                                                             Usage      |\n",
            "|=======================================================================================|\n",
            "+---------------------------------------------------------------------------------------+\n"
          ]
        }
      ]
    },
    {
      "cell_type": "markdown",
      "source": [
        "# Implement class and functionalize training and testing loop"
      ],
      "metadata": {
        "id": "rJyDDLGzQZQh"
      }
    },
    {
      "cell_type": "code",
      "source": [
        "device = \"cuda\" if torch.cuda.is_available() else \"cpu\""
      ],
      "metadata": {
        "id": "MKIWp05PAy6G"
      },
      "execution_count": 28,
      "outputs": []
    },
    {
      "cell_type": "code",
      "source": [
        "class FashionMNIST_V1(nn.Module):\n",
        "  def __init__(self,\n",
        "               input_features,\n",
        "               output_features,\n",
        "               hidden_features):\n",
        "    super().__init__()\n",
        "\n",
        "    self.layers = nn.Sequential(\n",
        "        nn.Flatten(),\n",
        "        nn.Linear(in_features=input_features,\n",
        "                  out_features=hidden_features),\n",
        "        nn.ReLU(),\n",
        "        nn.Linear(in_features=hidden_features,\n",
        "                  out_features=output_features),\n",
        "        nn.ReLU()\n",
        "    )\n",
        "\n",
        "  def forward(self, x):\n",
        "    return self.layers(x)\n",
        "\n"
      ],
      "metadata": {
        "id": "FpT_Wplz-dGI"
      },
      "execution_count": 29,
      "outputs": []
    },
    {
      "cell_type": "code",
      "source": [
        "model_1 = FashionMNIST_V1(input_features=28*28,\n",
        "                          output_features=len(class_names),\n",
        "                          hidden_features=10).to(device)"
      ],
      "metadata": {
        "id": "-90-1pKvAGLh"
      },
      "execution_count": 30,
      "outputs": []
    },
    {
      "cell_type": "markdown",
      "source": [
        "Set loss and optimise functions"
      ],
      "metadata": {
        "id": "3cRGerhA_vsr"
      }
    },
    {
      "cell_type": "code",
      "source": [
        "loss = nn.CrossEntropyLoss()\n",
        "\n",
        "optimizer = torch.optim.SGD(params = model_1.parameters(),\n",
        "                            lr=0.1)"
      ],
      "metadata": {
        "id": "FZMbaYp6_36y"
      },
      "execution_count": 31,
      "outputs": []
    },
    {
      "cell_type": "markdown",
      "source": [
        "Functionalize training"
      ],
      "metadata": {
        "id": "zXG1HdJzBDaX"
      }
    },
    {
      "cell_type": "code",
      "source": [
        "def train_model(model: nn.Module,\n",
        "                data_loader: torch.utils.data.DataLoader,\n",
        "                loss_fn: nn.Module,\n",
        "                optimizer: torch.optim.Optimizer,\n",
        "                accuracy_fn: nn.Module = None,\n",
        "                device: torch.device = device,\n",
        "                random_seed=43,\n",
        "                batch_n_step_to_report=400):\n",
        "  torch.manual_seed(random_seed)\n",
        "\n",
        "  model.train()\n",
        "  train_loss, train_accuracy = 0, 0\n",
        "\n",
        "  for batch, (X_train, y_train) in enumerate(data_loader):\n",
        "    X_train, y_train = X_train.to(device), y_train.to(device)\n",
        "\n",
        "    train_preds = model(X_train)\n",
        "    loss = loss_fn(train_preds, y_train)\n",
        "    train_loss += loss\n",
        "\n",
        "    if accuracy_fn is not None:\n",
        "      train_accuracy += accuracy_fn(y_true=y_train,\n",
        "                                    y_pred=train_preds.argmax(dim=1))\n",
        "\n",
        "    optimizer.zero_grad()\n",
        "    loss.backward()\n",
        "    optimizer.step()\n",
        "\n",
        "    if batch % batch_n_step_to_report == 0:\n",
        "      print(f\"{batch*len(X_train)}/{len(data_loader.dataset)} training data processed\")\n",
        "\n",
        "  train_loss /= len(data_loader)\n",
        "\n",
        "  if train_accuracy > 0:\n",
        "    train_accuracy /= len(data_loader)\n",
        "\n",
        "  print(f\"train loss: {train_loss:.2f}, train accuracy: {train_accuracy:.2f}%\")\n",
        "  return {\"train_loss\": train_loss,\n",
        "          \"train_accuracy\": train_accuracy}\n"
      ],
      "metadata": {
        "id": "xY7swtS7BI_D"
      },
      "execution_count": 33,
      "outputs": []
    },
    {
      "cell_type": "code",
      "source": [
        "def test_model(model: nn.Module,\n",
        "               data_loader: torch.utils.data.DataLoader,\n",
        "               loss_fn: nn.Module,\n",
        "               accuracy_fn,\n",
        "               device: torch.device = device):\n",
        "  model.eval()\n",
        "  test_loss, test_accuracy = 0, 0\n",
        "\n",
        "  with torch.inference_mode():\n",
        "    for X_test, y_test in data_loader:\n",
        "      X_test, y_test = X_test.to(device), y_test.to(device)\n",
        "\n",
        "      test_preds = model(X_test)\n",
        "      loss = loss_fn(test_preds, y_test)\n",
        "      test_loss += loss\n",
        "\n",
        "      acc = accuracy_fn(y_true=y_test,\n",
        "                        y_pred=test_preds.argmax(dim=1))\n",
        "      test_accuracy += acc\n",
        "\n",
        "    test_loss /= len(data_loader)\n",
        "    test_accuracy /= len(data_loader)\n",
        "\n",
        "  print(f\"test loss: {test_loss:.2f}, test accuracy: {test_accuracy:.2f}%\")\n",
        "  return {\"test_loss\": test_loss,\n",
        "          \"test_accuracy\": test_accuracy}\n"
      ],
      "metadata": {
        "id": "w40PlyLuEC5h"
      },
      "execution_count": 36,
      "outputs": []
    },
    {
      "cell_type": "markdown",
      "source": [
        "training and testing data"
      ],
      "metadata": {
        "id": "SxCKXR7GwZlH"
      }
    },
    {
      "cell_type": "code",
      "source": [
        "from timeit import default_timer as timer\n",
        "\n",
        "epochs_n = 3\n",
        "start_training_time = timer()\n",
        "test_step = 3"
      ],
      "metadata": {
        "id": "LSQ2xRy2yORS"
      },
      "execution_count": 39,
      "outputs": []
    },
    {
      "cell_type": "code",
      "source": [
        "device"
      ],
      "metadata": {
        "colab": {
          "base_uri": "https://localhost:8080/",
          "height": 36
        },
        "id": "v8ncELqUzb6p",
        "outputId": "eaa31aaa-d75e-4d87-bdd3-66c05f18bc38"
      },
      "execution_count": 38,
      "outputs": [
        {
          "output_type": "execute_result",
          "data": {
            "text/plain": [
              "'cuda'"
            ],
            "application/vnd.google.colaboratory.intrinsic+json": {
              "type": "string"
            }
          },
          "metadata": {},
          "execution_count": 38
        }
      ]
    },
    {
      "cell_type": "code",
      "source": [
        "for epoch in tqdm(range(epochs_n)):\n",
        "  train_model(model_1,\n",
        "              train_data_loader,\n",
        "              loss_fn,\n",
        "              optimizer,\n",
        "              accuracy_fn)\n",
        "\n",
        "  test_model(model_1,\n",
        "            test_data_loader,\n",
        "            loss_fn,\n",
        "            accuracy_fn)\n",
        "\n",
        "end_training_time = timer()\n",
        "training_duration = measure_process_exec(time_start=start_training_time,\n",
        "                                         time_end=end_training_time,\n",
        "                                         device=str(next(model_0.parameters()).device))\n",
        "\n",
        "print(f\"training duration: {training_duration}\")"
      ],
      "metadata": {
        "colab": {
          "base_uri": "https://localhost:8080/",
          "height": 448,
          "referenced_widgets": [
            "ae9afe4f8ac84bf8bd03b75426eca9f5",
            "979b118ac713481facc90ae617dc044f",
            "911aa2c64f294848bd656d5f963a4ce3",
            "fbb23fee133d4caf941a8139cd0c5b2f",
            "63ab1c538fb1446080ce1d28ae6fe02e",
            "2afa7001630145999d6867bba944d396",
            "bbaaa9fccf8b42d58bb73cd7c5868a55",
            "0949a6200a644aa2a2e8d7c730238de5",
            "b7bda844464c48b497cbc7106e8928a0",
            "13d3c40484dd4cf1997c3663dc47a2c6",
            "1a96a4a31c6a44feab1a9914c6d0100b"
          ]
        },
        "id": "GNGwFjj6wvd5",
        "outputId": "01bd28b8-d25b-4f2a-f841-e755f895d6e8"
      },
      "execution_count": 41,
      "outputs": [
        {
          "output_type": "display_data",
          "data": {
            "text/plain": [
              "  0%|          | 0/3 [00:00<?, ?it/s]"
            ],
            "application/vnd.jupyter.widget-view+json": {
              "version_major": 2,
              "version_minor": 0,
              "model_id": "ae9afe4f8ac84bf8bd03b75426eca9f5"
            }
          },
          "metadata": {}
        },
        {
          "output_type": "stream",
          "name": "stdout",
          "text": [
            "0/60000 training data processed\n",
            "12800/60000 training data processed\n",
            "25600/60000 training data processed\n",
            "38400/60000 training data processed\n",
            "51200/60000 training data processed\n",
            "train loss: 0.68, train accuracy: 74.60%\n",
            "test loss: 0.70, test accuracy: 73.95%\n",
            "0/60000 training data processed\n",
            "12800/60000 training data processed\n",
            "25600/60000 training data processed\n",
            "38400/60000 training data processed\n",
            "51200/60000 training data processed\n",
            "train loss: 0.66, train accuracy: 74.97%\n",
            "test loss: 0.70, test accuracy: 74.12%\n",
            "0/60000 training data processed\n",
            "12800/60000 training data processed\n",
            "25600/60000 training data processed\n",
            "38400/60000 training data processed\n",
            "51200/60000 training data processed\n",
            "train loss: 0.65, train accuracy: 75.46%\n",
            "test loss: 0.69, test accuracy: 74.34%\n",
            "execution time: 173.349 on device cuda:0\n",
            "training duration: 173.3488188670001\n"
          ]
        }
      ]
    },
    {
      "cell_type": "code",
      "source": [
        "# evaluate the model\n",
        "eval_output = eval_model(model_1,\n",
        "                         test_data_loader,\n",
        "                         loss_fn,\n",
        "                         accuracy_fn)\n",
        "\n",
        "print(eval_output)"
      ],
      "metadata": {
        "colab": {
          "base_uri": "https://localhost:8080/"
        },
        "id": "a9LPuFsNzfh7",
        "outputId": "38f25de9-0b8f-4953-ddf0-f1d1fb82605a"
      },
      "execution_count": 43,
      "outputs": [
        {
          "output_type": "stream",
          "name": "stdout",
          "text": [
            "{'test_loss': tensor(0.6914, device='cuda:0'), 'test_accuracy': 74.34105431309904, 'model_name': 'FashionMNIST_V1'}\n"
          ]
        }
      ]
    },
    {
      "cell_type": "code",
      "source": [],
      "metadata": {
        "id": "fh76b--F2WrT"
      },
      "execution_count": null,
      "outputs": []
    }
  ]
}