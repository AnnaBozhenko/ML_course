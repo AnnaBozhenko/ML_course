{
  "nbformat": 4,
  "nbformat_minor": 0,
  "metadata": {
    "colab": {
      "provenance": [],
      "authorship_tag": "ABX9TyOESxLRbiSPbc12nSLUzYjA",
      "include_colab_link": true
    },
    "kernelspec": {
      "name": "python3",
      "display_name": "Python 3"
    },
    "language_info": {
      "name": "python"
    },
    "widgets": {
      "application/vnd.jupyter.widget-state+json": {
        "7ada3587be1e409a8c8fcf5f3da05b2d": {
          "model_module": "@jupyter-widgets/controls",
          "model_name": "HBoxModel",
          "model_module_version": "1.5.0",
          "state": {
            "_dom_classes": [],
            "_model_module": "@jupyter-widgets/controls",
            "_model_module_version": "1.5.0",
            "_model_name": "HBoxModel",
            "_view_count": null,
            "_view_module": "@jupyter-widgets/controls",
            "_view_module_version": "1.5.0",
            "_view_name": "HBoxView",
            "box_style": "",
            "children": [
              "IPY_MODEL_4f36d88eb59843999161e4ce6beadfa2",
              "IPY_MODEL_9e2d91316a8a4857a2911492f3cfc95c",
              "IPY_MODEL_ebdbab78c178453fba11e8cf3eecdefb"
            ],
            "layout": "IPY_MODEL_06a67cc26da34aa299ba6a689192f15c"
          }
        },
        "4f36d88eb59843999161e4ce6beadfa2": {
          "model_module": "@jupyter-widgets/controls",
          "model_name": "HTMLModel",
          "model_module_version": "1.5.0",
          "state": {
            "_dom_classes": [],
            "_model_module": "@jupyter-widgets/controls",
            "_model_module_version": "1.5.0",
            "_model_name": "HTMLModel",
            "_view_count": null,
            "_view_module": "@jupyter-widgets/controls",
            "_view_module_version": "1.5.0",
            "_view_name": "HTMLView",
            "description": "",
            "description_tooltip": null,
            "layout": "IPY_MODEL_e595e68a92034e82a8af799a60f657ef",
            "placeholder": "​",
            "style": "IPY_MODEL_c32638da3ce942d3acb09ce19f4e05a4",
            "value": "100%"
          }
        },
        "9e2d91316a8a4857a2911492f3cfc95c": {
          "model_module": "@jupyter-widgets/controls",
          "model_name": "FloatProgressModel",
          "model_module_version": "1.5.0",
          "state": {
            "_dom_classes": [],
            "_model_module": "@jupyter-widgets/controls",
            "_model_module_version": "1.5.0",
            "_model_name": "FloatProgressModel",
            "_view_count": null,
            "_view_module": "@jupyter-widgets/controls",
            "_view_module_version": "1.5.0",
            "_view_name": "ProgressView",
            "bar_style": "success",
            "description": "",
            "description_tooltip": null,
            "layout": "IPY_MODEL_31ea15880dfd475ca15c28fccd4bdcfd",
            "max": 3,
            "min": 0,
            "orientation": "horizontal",
            "style": "IPY_MODEL_c25751057d854861addf025897c8074e",
            "value": 3
          }
        },
        "ebdbab78c178453fba11e8cf3eecdefb": {
          "model_module": "@jupyter-widgets/controls",
          "model_name": "HTMLModel",
          "model_module_version": "1.5.0",
          "state": {
            "_dom_classes": [],
            "_model_module": "@jupyter-widgets/controls",
            "_model_module_version": "1.5.0",
            "_model_name": "HTMLModel",
            "_view_count": null,
            "_view_module": "@jupyter-widgets/controls",
            "_view_module_version": "1.5.0",
            "_view_name": "HTMLView",
            "description": "",
            "description_tooltip": null,
            "layout": "IPY_MODEL_c4eaf7942d5647af955389dc0bbedce0",
            "placeholder": "​",
            "style": "IPY_MODEL_d4037b4fa2cf4f85a876e8d5c665266e",
            "value": " 3/3 [00:35&lt;00:00, 11.71s/it]"
          }
        },
        "06a67cc26da34aa299ba6a689192f15c": {
          "model_module": "@jupyter-widgets/base",
          "model_name": "LayoutModel",
          "model_module_version": "1.2.0",
          "state": {
            "_model_module": "@jupyter-widgets/base",
            "_model_module_version": "1.2.0",
            "_model_name": "LayoutModel",
            "_view_count": null,
            "_view_module": "@jupyter-widgets/base",
            "_view_module_version": "1.2.0",
            "_view_name": "LayoutView",
            "align_content": null,
            "align_items": null,
            "align_self": null,
            "border": null,
            "bottom": null,
            "display": null,
            "flex": null,
            "flex_flow": null,
            "grid_area": null,
            "grid_auto_columns": null,
            "grid_auto_flow": null,
            "grid_auto_rows": null,
            "grid_column": null,
            "grid_gap": null,
            "grid_row": null,
            "grid_template_areas": null,
            "grid_template_columns": null,
            "grid_template_rows": null,
            "height": null,
            "justify_content": null,
            "justify_items": null,
            "left": null,
            "margin": null,
            "max_height": null,
            "max_width": null,
            "min_height": null,
            "min_width": null,
            "object_fit": null,
            "object_position": null,
            "order": null,
            "overflow": null,
            "overflow_x": null,
            "overflow_y": null,
            "padding": null,
            "right": null,
            "top": null,
            "visibility": null,
            "width": null
          }
        },
        "e595e68a92034e82a8af799a60f657ef": {
          "model_module": "@jupyter-widgets/base",
          "model_name": "LayoutModel",
          "model_module_version": "1.2.0",
          "state": {
            "_model_module": "@jupyter-widgets/base",
            "_model_module_version": "1.2.0",
            "_model_name": "LayoutModel",
            "_view_count": null,
            "_view_module": "@jupyter-widgets/base",
            "_view_module_version": "1.2.0",
            "_view_name": "LayoutView",
            "align_content": null,
            "align_items": null,
            "align_self": null,
            "border": null,
            "bottom": null,
            "display": null,
            "flex": null,
            "flex_flow": null,
            "grid_area": null,
            "grid_auto_columns": null,
            "grid_auto_flow": null,
            "grid_auto_rows": null,
            "grid_column": null,
            "grid_gap": null,
            "grid_row": null,
            "grid_template_areas": null,
            "grid_template_columns": null,
            "grid_template_rows": null,
            "height": null,
            "justify_content": null,
            "justify_items": null,
            "left": null,
            "margin": null,
            "max_height": null,
            "max_width": null,
            "min_height": null,
            "min_width": null,
            "object_fit": null,
            "object_position": null,
            "order": null,
            "overflow": null,
            "overflow_x": null,
            "overflow_y": null,
            "padding": null,
            "right": null,
            "top": null,
            "visibility": null,
            "width": null
          }
        },
        "c32638da3ce942d3acb09ce19f4e05a4": {
          "model_module": "@jupyter-widgets/controls",
          "model_name": "DescriptionStyleModel",
          "model_module_version": "1.5.0",
          "state": {
            "_model_module": "@jupyter-widgets/controls",
            "_model_module_version": "1.5.0",
            "_model_name": "DescriptionStyleModel",
            "_view_count": null,
            "_view_module": "@jupyter-widgets/base",
            "_view_module_version": "1.2.0",
            "_view_name": "StyleView",
            "description_width": ""
          }
        },
        "31ea15880dfd475ca15c28fccd4bdcfd": {
          "model_module": "@jupyter-widgets/base",
          "model_name": "LayoutModel",
          "model_module_version": "1.2.0",
          "state": {
            "_model_module": "@jupyter-widgets/base",
            "_model_module_version": "1.2.0",
            "_model_name": "LayoutModel",
            "_view_count": null,
            "_view_module": "@jupyter-widgets/base",
            "_view_module_version": "1.2.0",
            "_view_name": "LayoutView",
            "align_content": null,
            "align_items": null,
            "align_self": null,
            "border": null,
            "bottom": null,
            "display": null,
            "flex": null,
            "flex_flow": null,
            "grid_area": null,
            "grid_auto_columns": null,
            "grid_auto_flow": null,
            "grid_auto_rows": null,
            "grid_column": null,
            "grid_gap": null,
            "grid_row": null,
            "grid_template_areas": null,
            "grid_template_columns": null,
            "grid_template_rows": null,
            "height": null,
            "justify_content": null,
            "justify_items": null,
            "left": null,
            "margin": null,
            "max_height": null,
            "max_width": null,
            "min_height": null,
            "min_width": null,
            "object_fit": null,
            "object_position": null,
            "order": null,
            "overflow": null,
            "overflow_x": null,
            "overflow_y": null,
            "padding": null,
            "right": null,
            "top": null,
            "visibility": null,
            "width": null
          }
        },
        "c25751057d854861addf025897c8074e": {
          "model_module": "@jupyter-widgets/controls",
          "model_name": "ProgressStyleModel",
          "model_module_version": "1.5.0",
          "state": {
            "_model_module": "@jupyter-widgets/controls",
            "_model_module_version": "1.5.0",
            "_model_name": "ProgressStyleModel",
            "_view_count": null,
            "_view_module": "@jupyter-widgets/base",
            "_view_module_version": "1.2.0",
            "_view_name": "StyleView",
            "bar_color": null,
            "description_width": ""
          }
        },
        "c4eaf7942d5647af955389dc0bbedce0": {
          "model_module": "@jupyter-widgets/base",
          "model_name": "LayoutModel",
          "model_module_version": "1.2.0",
          "state": {
            "_model_module": "@jupyter-widgets/base",
            "_model_module_version": "1.2.0",
            "_model_name": "LayoutModel",
            "_view_count": null,
            "_view_module": "@jupyter-widgets/base",
            "_view_module_version": "1.2.0",
            "_view_name": "LayoutView",
            "align_content": null,
            "align_items": null,
            "align_self": null,
            "border": null,
            "bottom": null,
            "display": null,
            "flex": null,
            "flex_flow": null,
            "grid_area": null,
            "grid_auto_columns": null,
            "grid_auto_flow": null,
            "grid_auto_rows": null,
            "grid_column": null,
            "grid_gap": null,
            "grid_row": null,
            "grid_template_areas": null,
            "grid_template_columns": null,
            "grid_template_rows": null,
            "height": null,
            "justify_content": null,
            "justify_items": null,
            "left": null,
            "margin": null,
            "max_height": null,
            "max_width": null,
            "min_height": null,
            "min_width": null,
            "object_fit": null,
            "object_position": null,
            "order": null,
            "overflow": null,
            "overflow_x": null,
            "overflow_y": null,
            "padding": null,
            "right": null,
            "top": null,
            "visibility": null,
            "width": null
          }
        },
        "d4037b4fa2cf4f85a876e8d5c665266e": {
          "model_module": "@jupyter-widgets/controls",
          "model_name": "DescriptionStyleModel",
          "model_module_version": "1.5.0",
          "state": {
            "_model_module": "@jupyter-widgets/controls",
            "_model_module_version": "1.5.0",
            "_model_name": "DescriptionStyleModel",
            "_view_count": null,
            "_view_module": "@jupyter-widgets/base",
            "_view_module_version": "1.2.0",
            "_view_name": "StyleView",
            "description_width": ""
          }
        },
        "eab1cb4349a44c6faf76566c85f6fa10": {
          "model_module": "@jupyter-widgets/controls",
          "model_name": "HBoxModel",
          "model_module_version": "1.5.0",
          "state": {
            "_dom_classes": [],
            "_model_module": "@jupyter-widgets/controls",
            "_model_module_version": "1.5.0",
            "_model_name": "HBoxModel",
            "_view_count": null,
            "_view_module": "@jupyter-widgets/controls",
            "_view_module_version": "1.5.0",
            "_view_name": "HBoxView",
            "box_style": "",
            "children": [
              "IPY_MODEL_3fe5cc6b0dd74ddcbcb2383be66b483b",
              "IPY_MODEL_9b1cb8e55c6944f38fa1d47ba7c130fc",
              "IPY_MODEL_3ee309b175594d13be3ec2b66c4bb818"
            ],
            "layout": "IPY_MODEL_d450d6c4fe0642b0b1b013fc30fc2647"
          }
        },
        "3fe5cc6b0dd74ddcbcb2383be66b483b": {
          "model_module": "@jupyter-widgets/controls",
          "model_name": "HTMLModel",
          "model_module_version": "1.5.0",
          "state": {
            "_dom_classes": [],
            "_model_module": "@jupyter-widgets/controls",
            "_model_module_version": "1.5.0",
            "_model_name": "HTMLModel",
            "_view_count": null,
            "_view_module": "@jupyter-widgets/controls",
            "_view_module_version": "1.5.0",
            "_view_name": "HTMLView",
            "description": "",
            "description_tooltip": null,
            "layout": "IPY_MODEL_d846e70b74dd4c55bcca3c8c97f6fda9",
            "placeholder": "​",
            "style": "IPY_MODEL_35e4bd5d900e4c4d80c3c87f60a1ac8d",
            "value": "100%"
          }
        },
        "9b1cb8e55c6944f38fa1d47ba7c130fc": {
          "model_module": "@jupyter-widgets/controls",
          "model_name": "FloatProgressModel",
          "model_module_version": "1.5.0",
          "state": {
            "_dom_classes": [],
            "_model_module": "@jupyter-widgets/controls",
            "_model_module_version": "1.5.0",
            "_model_name": "FloatProgressModel",
            "_view_count": null,
            "_view_module": "@jupyter-widgets/controls",
            "_view_module_version": "1.5.0",
            "_view_name": "ProgressView",
            "bar_style": "success",
            "description": "",
            "description_tooltip": null,
            "layout": "IPY_MODEL_9c204823c2ed41d0a13453d7105a4057",
            "max": 3,
            "min": 0,
            "orientation": "horizontal",
            "style": "IPY_MODEL_b63db14651b441899af48fb3ec420c4f",
            "value": 3
          }
        },
        "3ee309b175594d13be3ec2b66c4bb818": {
          "model_module": "@jupyter-widgets/controls",
          "model_name": "HTMLModel",
          "model_module_version": "1.5.0",
          "state": {
            "_dom_classes": [],
            "_model_module": "@jupyter-widgets/controls",
            "_model_module_version": "1.5.0",
            "_model_name": "HTMLModel",
            "_view_count": null,
            "_view_module": "@jupyter-widgets/controls",
            "_view_module_version": "1.5.0",
            "_view_name": "HTMLView",
            "description": "",
            "description_tooltip": null,
            "layout": "IPY_MODEL_09b6376c42374d5096a678a88cfbdd8f",
            "placeholder": "​",
            "style": "IPY_MODEL_f46f5045f6fe4f7b80a82f48f0c299db",
            "value": " 3/3 [00:32&lt;00:00, 10.99s/it]"
          }
        },
        "d450d6c4fe0642b0b1b013fc30fc2647": {
          "model_module": "@jupyter-widgets/base",
          "model_name": "LayoutModel",
          "model_module_version": "1.2.0",
          "state": {
            "_model_module": "@jupyter-widgets/base",
            "_model_module_version": "1.2.0",
            "_model_name": "LayoutModel",
            "_view_count": null,
            "_view_module": "@jupyter-widgets/base",
            "_view_module_version": "1.2.0",
            "_view_name": "LayoutView",
            "align_content": null,
            "align_items": null,
            "align_self": null,
            "border": null,
            "bottom": null,
            "display": null,
            "flex": null,
            "flex_flow": null,
            "grid_area": null,
            "grid_auto_columns": null,
            "grid_auto_flow": null,
            "grid_auto_rows": null,
            "grid_column": null,
            "grid_gap": null,
            "grid_row": null,
            "grid_template_areas": null,
            "grid_template_columns": null,
            "grid_template_rows": null,
            "height": null,
            "justify_content": null,
            "justify_items": null,
            "left": null,
            "margin": null,
            "max_height": null,
            "max_width": null,
            "min_height": null,
            "min_width": null,
            "object_fit": null,
            "object_position": null,
            "order": null,
            "overflow": null,
            "overflow_x": null,
            "overflow_y": null,
            "padding": null,
            "right": null,
            "top": null,
            "visibility": null,
            "width": null
          }
        },
        "d846e70b74dd4c55bcca3c8c97f6fda9": {
          "model_module": "@jupyter-widgets/base",
          "model_name": "LayoutModel",
          "model_module_version": "1.2.0",
          "state": {
            "_model_module": "@jupyter-widgets/base",
            "_model_module_version": "1.2.0",
            "_model_name": "LayoutModel",
            "_view_count": null,
            "_view_module": "@jupyter-widgets/base",
            "_view_module_version": "1.2.0",
            "_view_name": "LayoutView",
            "align_content": null,
            "align_items": null,
            "align_self": null,
            "border": null,
            "bottom": null,
            "display": null,
            "flex": null,
            "flex_flow": null,
            "grid_area": null,
            "grid_auto_columns": null,
            "grid_auto_flow": null,
            "grid_auto_rows": null,
            "grid_column": null,
            "grid_gap": null,
            "grid_row": null,
            "grid_template_areas": null,
            "grid_template_columns": null,
            "grid_template_rows": null,
            "height": null,
            "justify_content": null,
            "justify_items": null,
            "left": null,
            "margin": null,
            "max_height": null,
            "max_width": null,
            "min_height": null,
            "min_width": null,
            "object_fit": null,
            "object_position": null,
            "order": null,
            "overflow": null,
            "overflow_x": null,
            "overflow_y": null,
            "padding": null,
            "right": null,
            "top": null,
            "visibility": null,
            "width": null
          }
        },
        "35e4bd5d900e4c4d80c3c87f60a1ac8d": {
          "model_module": "@jupyter-widgets/controls",
          "model_name": "DescriptionStyleModel",
          "model_module_version": "1.5.0",
          "state": {
            "_model_module": "@jupyter-widgets/controls",
            "_model_module_version": "1.5.0",
            "_model_name": "DescriptionStyleModel",
            "_view_count": null,
            "_view_module": "@jupyter-widgets/base",
            "_view_module_version": "1.2.0",
            "_view_name": "StyleView",
            "description_width": ""
          }
        },
        "9c204823c2ed41d0a13453d7105a4057": {
          "model_module": "@jupyter-widgets/base",
          "model_name": "LayoutModel",
          "model_module_version": "1.2.0",
          "state": {
            "_model_module": "@jupyter-widgets/base",
            "_model_module_version": "1.2.0",
            "_model_name": "LayoutModel",
            "_view_count": null,
            "_view_module": "@jupyter-widgets/base",
            "_view_module_version": "1.2.0",
            "_view_name": "LayoutView",
            "align_content": null,
            "align_items": null,
            "align_self": null,
            "border": null,
            "bottom": null,
            "display": null,
            "flex": null,
            "flex_flow": null,
            "grid_area": null,
            "grid_auto_columns": null,
            "grid_auto_flow": null,
            "grid_auto_rows": null,
            "grid_column": null,
            "grid_gap": null,
            "grid_row": null,
            "grid_template_areas": null,
            "grid_template_columns": null,
            "grid_template_rows": null,
            "height": null,
            "justify_content": null,
            "justify_items": null,
            "left": null,
            "margin": null,
            "max_height": null,
            "max_width": null,
            "min_height": null,
            "min_width": null,
            "object_fit": null,
            "object_position": null,
            "order": null,
            "overflow": null,
            "overflow_x": null,
            "overflow_y": null,
            "padding": null,
            "right": null,
            "top": null,
            "visibility": null,
            "width": null
          }
        },
        "b63db14651b441899af48fb3ec420c4f": {
          "model_module": "@jupyter-widgets/controls",
          "model_name": "ProgressStyleModel",
          "model_module_version": "1.5.0",
          "state": {
            "_model_module": "@jupyter-widgets/controls",
            "_model_module_version": "1.5.0",
            "_model_name": "ProgressStyleModel",
            "_view_count": null,
            "_view_module": "@jupyter-widgets/base",
            "_view_module_version": "1.2.0",
            "_view_name": "StyleView",
            "bar_color": null,
            "description_width": ""
          }
        },
        "09b6376c42374d5096a678a88cfbdd8f": {
          "model_module": "@jupyter-widgets/base",
          "model_name": "LayoutModel",
          "model_module_version": "1.2.0",
          "state": {
            "_model_module": "@jupyter-widgets/base",
            "_model_module_version": "1.2.0",
            "_model_name": "LayoutModel",
            "_view_count": null,
            "_view_module": "@jupyter-widgets/base",
            "_view_module_version": "1.2.0",
            "_view_name": "LayoutView",
            "align_content": null,
            "align_items": null,
            "align_self": null,
            "border": null,
            "bottom": null,
            "display": null,
            "flex": null,
            "flex_flow": null,
            "grid_area": null,
            "grid_auto_columns": null,
            "grid_auto_flow": null,
            "grid_auto_rows": null,
            "grid_column": null,
            "grid_gap": null,
            "grid_row": null,
            "grid_template_areas": null,
            "grid_template_columns": null,
            "grid_template_rows": null,
            "height": null,
            "justify_content": null,
            "justify_items": null,
            "left": null,
            "margin": null,
            "max_height": null,
            "max_width": null,
            "min_height": null,
            "min_width": null,
            "object_fit": null,
            "object_position": null,
            "order": null,
            "overflow": null,
            "overflow_x": null,
            "overflow_y": null,
            "padding": null,
            "right": null,
            "top": null,
            "visibility": null,
            "width": null
          }
        },
        "f46f5045f6fe4f7b80a82f48f0c299db": {
          "model_module": "@jupyter-widgets/controls",
          "model_name": "DescriptionStyleModel",
          "model_module_version": "1.5.0",
          "state": {
            "_model_module": "@jupyter-widgets/controls",
            "_model_module_version": "1.5.0",
            "_model_name": "DescriptionStyleModel",
            "_view_count": null,
            "_view_module": "@jupyter-widgets/base",
            "_view_module_version": "1.2.0",
            "_view_name": "StyleView",
            "description_width": ""
          }
        },
        "b61422423e33423da016ac9ddb3d7d86": {
          "model_module": "@jupyter-widgets/controls",
          "model_name": "HBoxModel",
          "model_module_version": "1.5.0",
          "state": {
            "_dom_classes": [],
            "_model_module": "@jupyter-widgets/controls",
            "_model_module_version": "1.5.0",
            "_model_name": "HBoxModel",
            "_view_count": null,
            "_view_module": "@jupyter-widgets/controls",
            "_view_module_version": "1.5.0",
            "_view_name": "HBoxView",
            "box_style": "",
            "children": [
              "IPY_MODEL_d66008146e9d433baddaf0bd4f66aa7f",
              "IPY_MODEL_243021382c614fe6a5a7fb1c34e56ea2",
              "IPY_MODEL_84c3cdfc7519440fac3dc25062fd5f4a"
            ],
            "layout": "IPY_MODEL_4ec7d356f96d4f8e919945d6f58b5cff"
          }
        },
        "d66008146e9d433baddaf0bd4f66aa7f": {
          "model_module": "@jupyter-widgets/controls",
          "model_name": "HTMLModel",
          "model_module_version": "1.5.0",
          "state": {
            "_dom_classes": [],
            "_model_module": "@jupyter-widgets/controls",
            "_model_module_version": "1.5.0",
            "_model_name": "HTMLModel",
            "_view_count": null,
            "_view_module": "@jupyter-widgets/controls",
            "_view_module_version": "1.5.0",
            "_view_name": "HTMLView",
            "description": "",
            "description_tooltip": null,
            "layout": "IPY_MODEL_b10de9ef87004283bc5462b8fa299b65",
            "placeholder": "​",
            "style": "IPY_MODEL_fa51897b17e94684aebf5d77118dbc6d",
            "value": "100%"
          }
        },
        "243021382c614fe6a5a7fb1c34e56ea2": {
          "model_module": "@jupyter-widgets/controls",
          "model_name": "FloatProgressModel",
          "model_module_version": "1.5.0",
          "state": {
            "_dom_classes": [],
            "_model_module": "@jupyter-widgets/controls",
            "_model_module_version": "1.5.0",
            "_model_name": "FloatProgressModel",
            "_view_count": null,
            "_view_module": "@jupyter-widgets/controls",
            "_view_module_version": "1.5.0",
            "_view_name": "ProgressView",
            "bar_style": "success",
            "description": "",
            "description_tooltip": null,
            "layout": "IPY_MODEL_ae40dd59a6054b6cbf0940e288bf3331",
            "max": 3,
            "min": 0,
            "orientation": "horizontal",
            "style": "IPY_MODEL_806d90a2bc004bb5841e773a369159de",
            "value": 3
          }
        },
        "84c3cdfc7519440fac3dc25062fd5f4a": {
          "model_module": "@jupyter-widgets/controls",
          "model_name": "HTMLModel",
          "model_module_version": "1.5.0",
          "state": {
            "_dom_classes": [],
            "_model_module": "@jupyter-widgets/controls",
            "_model_module_version": "1.5.0",
            "_model_name": "HTMLModel",
            "_view_count": null,
            "_view_module": "@jupyter-widgets/controls",
            "_view_module_version": "1.5.0",
            "_view_name": "HTMLView",
            "description": "",
            "description_tooltip": null,
            "layout": "IPY_MODEL_ff2af7e4c4ee4c04bdbecc4677d22490",
            "placeholder": "​",
            "style": "IPY_MODEL_7f64b5372a6e4c9496444dab54b4075b",
            "value": " 3/3 [00:32&lt;00:00, 11.23s/it]"
          }
        },
        "4ec7d356f96d4f8e919945d6f58b5cff": {
          "model_module": "@jupyter-widgets/base",
          "model_name": "LayoutModel",
          "model_module_version": "1.2.0",
          "state": {
            "_model_module": "@jupyter-widgets/base",
            "_model_module_version": "1.2.0",
            "_model_name": "LayoutModel",
            "_view_count": null,
            "_view_module": "@jupyter-widgets/base",
            "_view_module_version": "1.2.0",
            "_view_name": "LayoutView",
            "align_content": null,
            "align_items": null,
            "align_self": null,
            "border": null,
            "bottom": null,
            "display": null,
            "flex": null,
            "flex_flow": null,
            "grid_area": null,
            "grid_auto_columns": null,
            "grid_auto_flow": null,
            "grid_auto_rows": null,
            "grid_column": null,
            "grid_gap": null,
            "grid_row": null,
            "grid_template_areas": null,
            "grid_template_columns": null,
            "grid_template_rows": null,
            "height": null,
            "justify_content": null,
            "justify_items": null,
            "left": null,
            "margin": null,
            "max_height": null,
            "max_width": null,
            "min_height": null,
            "min_width": null,
            "object_fit": null,
            "object_position": null,
            "order": null,
            "overflow": null,
            "overflow_x": null,
            "overflow_y": null,
            "padding": null,
            "right": null,
            "top": null,
            "visibility": null,
            "width": null
          }
        },
        "b10de9ef87004283bc5462b8fa299b65": {
          "model_module": "@jupyter-widgets/base",
          "model_name": "LayoutModel",
          "model_module_version": "1.2.0",
          "state": {
            "_model_module": "@jupyter-widgets/base",
            "_model_module_version": "1.2.0",
            "_model_name": "LayoutModel",
            "_view_count": null,
            "_view_module": "@jupyter-widgets/base",
            "_view_module_version": "1.2.0",
            "_view_name": "LayoutView",
            "align_content": null,
            "align_items": null,
            "align_self": null,
            "border": null,
            "bottom": null,
            "display": null,
            "flex": null,
            "flex_flow": null,
            "grid_area": null,
            "grid_auto_columns": null,
            "grid_auto_flow": null,
            "grid_auto_rows": null,
            "grid_column": null,
            "grid_gap": null,
            "grid_row": null,
            "grid_template_areas": null,
            "grid_template_columns": null,
            "grid_template_rows": null,
            "height": null,
            "justify_content": null,
            "justify_items": null,
            "left": null,
            "margin": null,
            "max_height": null,
            "max_width": null,
            "min_height": null,
            "min_width": null,
            "object_fit": null,
            "object_position": null,
            "order": null,
            "overflow": null,
            "overflow_x": null,
            "overflow_y": null,
            "padding": null,
            "right": null,
            "top": null,
            "visibility": null,
            "width": null
          }
        },
        "fa51897b17e94684aebf5d77118dbc6d": {
          "model_module": "@jupyter-widgets/controls",
          "model_name": "DescriptionStyleModel",
          "model_module_version": "1.5.0",
          "state": {
            "_model_module": "@jupyter-widgets/controls",
            "_model_module_version": "1.5.0",
            "_model_name": "DescriptionStyleModel",
            "_view_count": null,
            "_view_module": "@jupyter-widgets/base",
            "_view_module_version": "1.2.0",
            "_view_name": "StyleView",
            "description_width": ""
          }
        },
        "ae40dd59a6054b6cbf0940e288bf3331": {
          "model_module": "@jupyter-widgets/base",
          "model_name": "LayoutModel",
          "model_module_version": "1.2.0",
          "state": {
            "_model_module": "@jupyter-widgets/base",
            "_model_module_version": "1.2.0",
            "_model_name": "LayoutModel",
            "_view_count": null,
            "_view_module": "@jupyter-widgets/base",
            "_view_module_version": "1.2.0",
            "_view_name": "LayoutView",
            "align_content": null,
            "align_items": null,
            "align_self": null,
            "border": null,
            "bottom": null,
            "display": null,
            "flex": null,
            "flex_flow": null,
            "grid_area": null,
            "grid_auto_columns": null,
            "grid_auto_flow": null,
            "grid_auto_rows": null,
            "grid_column": null,
            "grid_gap": null,
            "grid_row": null,
            "grid_template_areas": null,
            "grid_template_columns": null,
            "grid_template_rows": null,
            "height": null,
            "justify_content": null,
            "justify_items": null,
            "left": null,
            "margin": null,
            "max_height": null,
            "max_width": null,
            "min_height": null,
            "min_width": null,
            "object_fit": null,
            "object_position": null,
            "order": null,
            "overflow": null,
            "overflow_x": null,
            "overflow_y": null,
            "padding": null,
            "right": null,
            "top": null,
            "visibility": null,
            "width": null
          }
        },
        "806d90a2bc004bb5841e773a369159de": {
          "model_module": "@jupyter-widgets/controls",
          "model_name": "ProgressStyleModel",
          "model_module_version": "1.5.0",
          "state": {
            "_model_module": "@jupyter-widgets/controls",
            "_model_module_version": "1.5.0",
            "_model_name": "ProgressStyleModel",
            "_view_count": null,
            "_view_module": "@jupyter-widgets/base",
            "_view_module_version": "1.2.0",
            "_view_name": "StyleView",
            "bar_color": null,
            "description_width": ""
          }
        },
        "ff2af7e4c4ee4c04bdbecc4677d22490": {
          "model_module": "@jupyter-widgets/base",
          "model_name": "LayoutModel",
          "model_module_version": "1.2.0",
          "state": {
            "_model_module": "@jupyter-widgets/base",
            "_model_module_version": "1.2.0",
            "_model_name": "LayoutModel",
            "_view_count": null,
            "_view_module": "@jupyter-widgets/base",
            "_view_module_version": "1.2.0",
            "_view_name": "LayoutView",
            "align_content": null,
            "align_items": null,
            "align_self": null,
            "border": null,
            "bottom": null,
            "display": null,
            "flex": null,
            "flex_flow": null,
            "grid_area": null,
            "grid_auto_columns": null,
            "grid_auto_flow": null,
            "grid_auto_rows": null,
            "grid_column": null,
            "grid_gap": null,
            "grid_row": null,
            "grid_template_areas": null,
            "grid_template_columns": null,
            "grid_template_rows": null,
            "height": null,
            "justify_content": null,
            "justify_items": null,
            "left": null,
            "margin": null,
            "max_height": null,
            "max_width": null,
            "min_height": null,
            "min_width": null,
            "object_fit": null,
            "object_position": null,
            "order": null,
            "overflow": null,
            "overflow_x": null,
            "overflow_y": null,
            "padding": null,
            "right": null,
            "top": null,
            "visibility": null,
            "width": null
          }
        },
        "7f64b5372a6e4c9496444dab54b4075b": {
          "model_module": "@jupyter-widgets/controls",
          "model_name": "DescriptionStyleModel",
          "model_module_version": "1.5.0",
          "state": {
            "_model_module": "@jupyter-widgets/controls",
            "_model_module_version": "1.5.0",
            "_model_name": "DescriptionStyleModel",
            "_view_count": null,
            "_view_module": "@jupyter-widgets/base",
            "_view_module_version": "1.2.0",
            "_view_name": "StyleView",
            "description_width": ""
          }
        }
      }
    }
  },
  "cells": [
    {
      "cell_type": "markdown",
      "metadata": {
        "id": "view-in-github",
        "colab_type": "text"
      },
      "source": [
        "<a href=\"https://colab.research.google.com/github/AnnaBozhenko/ML_course/blob/master/03_pyTorch_computer_vision.ipynb\" target=\"_parent\"><img src=\"https://colab.research.google.com/assets/colab-badge.svg\" alt=\"Open In Colab\"/></a>"
      ]
    },
    {
      "cell_type": "code",
      "execution_count": 1,
      "metadata": {
        "id": "mtzib0scHIuE"
      },
      "outputs": [],
      "source": [
        "import torch\n",
        "from torch import nn\n",
        "\n",
        "import torchvision\n",
        "from torchvision import datasets\n",
        "from torchvision import transforms\n",
        "from torchvision.transforms import ToTensor\n",
        "\n",
        "import matplotlib.pyplot as plt\n"
      ]
    },
    {
      "cell_type": "code",
      "source": [
        "# import clothes dataset\n",
        "train_data = datasets.FashionMNIST(root=\"data\",\n",
        "                                   train=True,\n",
        "                                   download=True,\n",
        "                                   transform=ToTensor(),\n",
        "                                   target_transform=None)\n",
        "\n",
        "test_data = datasets.FashionMNIST(root=\"data\",\n",
        "                                  train=False,\n",
        "                                  download=True,\n",
        "                                  transform=ToTensor(),\n",
        "                                  target_transform=None)"
      ],
      "metadata": {
        "id": "hlKlvQBflJ6l",
        "colab": {
          "base_uri": "https://localhost:8080/"
        },
        "outputId": "845f3d2f-0b46-45d2-9309-681c559cfa1b"
      },
      "execution_count": 2,
      "outputs": [
        {
          "output_type": "stream",
          "name": "stdout",
          "text": [
            "Downloading http://fashion-mnist.s3-website.eu-central-1.amazonaws.com/train-images-idx3-ubyte.gz\n",
            "Downloading http://fashion-mnist.s3-website.eu-central-1.amazonaws.com/train-images-idx3-ubyte.gz to data/FashionMNIST/raw/train-images-idx3-ubyte.gz\n"
          ]
        },
        {
          "output_type": "stream",
          "name": "stderr",
          "text": [
            "100%|██████████| 26421880/26421880 [00:04<00:00, 6421738.75it/s] \n"
          ]
        },
        {
          "output_type": "stream",
          "name": "stdout",
          "text": [
            "Extracting data/FashionMNIST/raw/train-images-idx3-ubyte.gz to data/FashionMNIST/raw\n",
            "\n",
            "Downloading http://fashion-mnist.s3-website.eu-central-1.amazonaws.com/train-labels-idx1-ubyte.gz\n",
            "Downloading http://fashion-mnist.s3-website.eu-central-1.amazonaws.com/train-labels-idx1-ubyte.gz to data/FashionMNIST/raw/train-labels-idx1-ubyte.gz\n"
          ]
        },
        {
          "output_type": "stream",
          "name": "stderr",
          "text": [
            "100%|██████████| 29515/29515 [00:00<00:00, 362601.00it/s]\n"
          ]
        },
        {
          "output_type": "stream",
          "name": "stdout",
          "text": [
            "Extracting data/FashionMNIST/raw/train-labels-idx1-ubyte.gz to data/FashionMNIST/raw\n",
            "\n",
            "Downloading http://fashion-mnist.s3-website.eu-central-1.amazonaws.com/t10k-images-idx3-ubyte.gz\n",
            "Downloading http://fashion-mnist.s3-website.eu-central-1.amazonaws.com/t10k-images-idx3-ubyte.gz to data/FashionMNIST/raw/t10k-images-idx3-ubyte.gz\n"
          ]
        },
        {
          "output_type": "stream",
          "name": "stderr",
          "text": [
            "100%|██████████| 4422102/4422102 [00:00<00:00, 4924945.46it/s]\n"
          ]
        },
        {
          "output_type": "stream",
          "name": "stdout",
          "text": [
            "Extracting data/FashionMNIST/raw/t10k-images-idx3-ubyte.gz to data/FashionMNIST/raw\n",
            "\n",
            "Downloading http://fashion-mnist.s3-website.eu-central-1.amazonaws.com/t10k-labels-idx1-ubyte.gz\n",
            "Downloading http://fashion-mnist.s3-website.eu-central-1.amazonaws.com/t10k-labels-idx1-ubyte.gz to data/FashionMNIST/raw/t10k-labels-idx1-ubyte.gz\n"
          ]
        },
        {
          "output_type": "stream",
          "name": "stderr",
          "text": [
            "100%|██████████| 5148/5148 [00:00<00:00, 15131238.26it/s]\n"
          ]
        },
        {
          "output_type": "stream",
          "name": "stdout",
          "text": [
            "Extracting data/FashionMNIST/raw/t10k-labels-idx1-ubyte.gz to data/FashionMNIST/raw\n",
            "\n"
          ]
        }
      ]
    },
    {
      "cell_type": "code",
      "source": [
        "class_names = train_data.classes\n",
        "[print(f\"{class_names[i]} = {i}\") for i in range(len(class_names))]"
      ],
      "metadata": {
        "colab": {
          "base_uri": "https://localhost:8080/"
        },
        "id": "gRmsYH4TndZ3",
        "outputId": "b5fcdc3a-12f0-4259-c75b-bc6171d732ef"
      },
      "execution_count": 3,
      "outputs": [
        {
          "output_type": "stream",
          "name": "stdout",
          "text": [
            "T-shirt/top = 0\n",
            "Trouser = 1\n",
            "Pullover = 2\n",
            "Dress = 3\n",
            "Coat = 4\n",
            "Sandal = 5\n",
            "Shirt = 6\n",
            "Sneaker = 7\n",
            "Bag = 8\n",
            "Ankle boot = 9\n"
          ]
        },
        {
          "output_type": "execute_result",
          "data": {
            "text/plain": [
              "[None, None, None, None, None, None, None, None, None, None]"
            ]
          },
          "metadata": {},
          "execution_count": 3
        }
      ]
    },
    {
      "cell_type": "code",
      "source": [
        "image, train_label = train_data[0]\n",
        "plt.title(f\"{class_names[train_label]}\")\n",
        "plt.imshow(image.squeeze(), cmap=\"gray\")\n"
      ],
      "metadata": {
        "colab": {
          "base_uri": "https://localhost:8080/",
          "height": 469
        },
        "id": "IKKv46sMoElb",
        "outputId": "9c94323c-aaa4-4e5f-d05d-8205682a6b64"
      },
      "execution_count": 4,
      "outputs": [
        {
          "output_type": "execute_result",
          "data": {
            "text/plain": [
              "<matplotlib.image.AxesImage at 0x7ddd15146380>"
            ]
          },
          "metadata": {},
          "execution_count": 4
        },
        {
          "output_type": "display_data",
          "data": {
            "text/plain": [
              "<Figure size 640x480 with 1 Axes>"
            ],
            "image/png": "[encoded data removed]"
          },
          "metadata": {}
        }
      ]
    },
    {
      "cell_type": "code",
      "source": [
        "fig = plt.figure(figsize=(9, 9))\n",
        "rows, columns = 4, 4\n",
        "for i in range(1, rows * columns + 1):\n",
        "    item_label_idx = torch.randint(0, len(train_data), size=[1]).item()\n",
        "    item_image, item_label_idx = train_data[item_label_idx]\n",
        "    item_label = class_names[item_label_idx]\n",
        "\n",
        "    fig.add_subplot(rows, columns, i)\n",
        "    plt.title(item_label)\n",
        "    plt.imshow(item_image.squeeze(), cmap=\"gray\")\n",
        "    plt.axis(False)"
      ],
      "metadata": {
        "colab": {
          "base_uri": "https://localhost:8080/",
          "height": 752
        },
        "id": "WTakcxM6onbo",
        "outputId": "cc8491a7-2946-43dc-ae8e-e8e5f8e7f831"
      },
      "execution_count": 5,
      "outputs": [
        {
          "output_type": "display_data",
          "data": {
            "text/plain": [
              "<Figure size 900x900 with 16 Axes>"
            ],
            "image/png": "[encoded data removed]"
          },
          "metadata": {}
        }
      ]
    },
    {
      "cell_type": "markdown",
      "source": [
        "# Divide training dataset on 32 batches"
      ],
      "metadata": {
        "id": "TVRQWllMoojf"
      }
    },
    {
      "cell_type": "code",
      "source": [
        "from torch.utils.data import DataLoader"
      ],
      "metadata": {
        "id": "Q5NzCIOdFQnR"
      },
      "execution_count": 6,
      "outputs": []
    },
    {
      "cell_type": "code",
      "source": [
        "BATCH_SIZE = 32"
      ],
      "metadata": {
        "id": "Xe0NNU9VHTKD"
      },
      "execution_count": 7,
      "outputs": []
    },
    {
      "cell_type": "code",
      "source": [
        "train_data_loader = DataLoader(dataset=train_data,\n",
        "                               batch_size=BATCH_SIZE,\n",
        "                               shuffle=True)\n"
      ],
      "metadata": {
        "id": "o3KwigrvFU8e"
      },
      "execution_count": 8,
      "outputs": []
    },
    {
      "cell_type": "code",
      "source": [
        "test_data_loader = DataLoader(dataset=test_data,\n",
        "                               batch_size=BATCH_SIZE,\n",
        "                               shuffle=False)\n"
      ],
      "metadata": {
        "id": "nRwLRxUOF1XY"
      },
      "execution_count": 9,
      "outputs": []
    },
    {
      "cell_type": "markdown",
      "source": [
        "# Example of a pick from train_data batch"
      ],
      "metadata": {
        "id": "Hy7a3daEZwfA"
      }
    },
    {
      "cell_type": "code",
      "source": [
        "# visualise batch item\n",
        "train_dataloader_images, train_dataloader_labels_idxs = next(iter(test_data_loader))\n",
        "\n"
      ],
      "metadata": {
        "id": "ckwsoiSJHKjJ"
      },
      "execution_count": 10,
      "outputs": []
    },
    {
      "cell_type": "code",
      "source": [
        "torch.manual_seed(42)\n",
        "\n",
        "item_idx = torch.randint(0, len(train_dataloader_images), size=[1]).item()\n",
        "image, label_idx = train_dataloader_images[item_idx], train_dataloader_labels_idxs[item_idx]\n",
        "\n",
        "plt.title(class_names[label_idx])\n",
        "plt.imshow(image.squeeze(), cmap=\"gray\")\n",
        "plt.axis(\"off\")"
      ],
      "metadata": {
        "colab": {
          "base_uri": "https://localhost:8080/",
          "height": 445
        },
        "id": "o6TM0_shIqij",
        "outputId": "86f9a18c-db99-40e0-a027-c5c564864711"
      },
      "execution_count": 11,
      "outputs": [
        {
          "output_type": "execute_result",
          "data": {
            "text/plain": [
              "(-0.5, 27.5, 27.5, -0.5)"
            ]
          },
          "metadata": {},
          "execution_count": 11
        },
        {
          "output_type": "display_data",
          "data": {
            "text/plain": [
              "<Figure size 640x480 with 1 Axes>"
            ],
            "image/png": "[encoded data removed]"
          },
          "metadata": {}
        }
      ]
    },
    {
      "cell_type": "markdown",
      "source": [
        "# Create model"
      ],
      "metadata": {
        "id": "gxbRfl-CJkRj"
      }
    },
    {
      "cell_type": "code",
      "source": [
        "flatten_model = nn.Flatten()\n",
        "\n",
        "x = train_dataloader_images[0]\n",
        "output = flatten_model(x)"
      ],
      "metadata": {
        "id": "dbKAI50EJr1v"
      },
      "execution_count": 12,
      "outputs": []
    },
    {
      "cell_type": "code",
      "source": [
        "output.shape"
      ],
      "metadata": {
        "colab": {
          "base_uri": "https://localhost:8080/"
        },
        "id": "BzLvO6bVKHWs",
        "outputId": "8528dab5-45a2-41e2-8b94-8a7afc726830"
      },
      "execution_count": 13,
      "outputs": [
        {
          "output_type": "execute_result",
          "data": {
            "text/plain": [
              "torch.Size([1, 784])"
            ]
          },
          "metadata": {},
          "execution_count": 13
        }
      ]
    },
    {
      "cell_type": "code",
      "source": [
        "class FashionMNISTModel_V0(nn.Module):\n",
        "  def __init__(self, input_features, output_features, hidden_units):\n",
        "    super().__init__()\n",
        "    self.layers = nn.Sequential(\n",
        "        nn.Flatten(),\n",
        "        nn.Linear(in_features=input_features, out_features=hidden_units),\n",
        "        nn.Linear(in_features=hidden_units, out_features=output_features),\n",
        "    )\n",
        "\n",
        "  def forward(self, x):\n",
        "    return self.layers(x)\n"
      ],
      "metadata": {
        "id": "msWZ3tNoXtZT"
      },
      "execution_count": 14,
      "outputs": []
    },
    {
      "cell_type": "code",
      "source": [
        "torch.manual_seed(42)\n",
        "\n",
        "INPUT_FEATURES = 28*28\n",
        "OUTPUT_FEATURES = len(class_names)\n",
        "HIDDEN_FEATURES = 10\n",
        "device_model_0 = \"cpu\"\n",
        "model_0 = FashionMNISTModel_V0(input_features=INPUT_FEATURES,\n",
        "                               output_features=OUTPUT_FEATURES,\n",
        "                               hidden_units=HIDDEN_FEATURES).to(device_model_0)"
      ],
      "metadata": {
        "id": "OZvdbrRXZ9ki"
      },
      "execution_count": 15,
      "outputs": []
    },
    {
      "cell_type": "code",
      "source": [
        "model_0"
      ],
      "metadata": {
        "id": "TRsOFkutatl_",
        "colab": {
          "base_uri": "https://localhost:8080/"
        },
        "outputId": "fb1ffcd1-e11c-40e9-dd3b-15a5606b7594"
      },
      "execution_count": 16,
      "outputs": [
        {
          "output_type": "execute_result",
          "data": {
            "text/plain": [
              "FashionMNISTModel_V0(\n",
              "  (layers): Sequential(\n",
              "    (0): Flatten(start_dim=1, end_dim=-1)\n",
              "    (1): Linear(in_features=784, out_features=10, bias=True)\n",
              "    (2): Linear(in_features=10, out_features=10, bias=True)\n",
              "  )\n",
              ")"
            ]
          },
          "metadata": {},
          "execution_count": 16
        }
      ]
    },
    {
      "cell_type": "code",
      "source": [
        "# example of forward pass on dummy data\n",
        "dummy_batch = torch.rand([1, 1, 28, 28]).to(device_model_0)\n",
        "model_0(dummy_batch)"
      ],
      "metadata": {
        "id": "Gd42ES-Rawqi",
        "colab": {
          "base_uri": "https://localhost:8080/"
        },
        "outputId": "00900f57-f0cd-4f96-b03e-6eb2d8859813"
      },
      "execution_count": 17,
      "outputs": [
        {
          "output_type": "execute_result",
          "data": {
            "text/plain": [
              "tensor([[-0.0315,  0.3171,  0.0531, -0.2525,  0.5959,  0.2112,  0.3233,  0.2694,\n",
              "         -0.1004,  0.0157]], grad_fn=<AddmmBackward0>)"
            ]
          },
          "metadata": {},
          "execution_count": 17
        }
      ]
    },
    {
      "cell_type": "markdown",
      "source": [
        "# Setting up loss, optomisation and accuracy functions"
      ],
      "metadata": {
        "id": "lQ-dfFMGa-LW"
      }
    },
    {
      "cell_type": "code",
      "source": [
        "from pathlib import Path\n",
        "import requests\n",
        "\n",
        "if not Path(\"helper_functions.py\").is_file():\n",
        "  request = requests.get(\"https://raw.githubusercontent.com/mrdbourke/pytorch-deep-learning/main/helper_functions.py\")\n",
        "  with open(\"helper_functions.py\", \"wb\") as f:\n",
        "    f.write(request.content)\n"
      ],
      "metadata": {
        "id": "OYILXP4BlcUi"
      },
      "execution_count": 18,
      "outputs": []
    },
    {
      "cell_type": "code",
      "source": [
        "from helper_functions import accuracy_fn\n"
      ],
      "metadata": {
        "id": "C_xp6UGdmf-H"
      },
      "execution_count": 19,
      "outputs": []
    },
    {
      "cell_type": "code",
      "source": [
        "loss_fn = nn.CrossEntropyLoss()\n",
        "\n",
        "optimizer = torch.optim.SGD(params=model_0.parameters(),\n",
        "                            lr=0.1)"
      ],
      "metadata": {
        "id": "R8umyMHDFvvS"
      },
      "execution_count": 20,
      "outputs": []
    },
    {
      "cell_type": "code",
      "source": [
        "from timeit import default_timer as timer\n",
        "\n",
        "def measure_process_exec(time_start,\n",
        "                         time_end,\n",
        "                         device: torch.device = None):\n",
        "  exec_time = time_end - time_start\n",
        "  print(f\"execution time: {exec_time:.3f} on device {device}\")\n",
        "  return exec_time"
      ],
      "metadata": {
        "id": "f7tQYINqGG1D"
      },
      "execution_count": 21,
      "outputs": []
    },
    {
      "cell_type": "code",
      "source": [
        "from tqdm.auto import tqdm"
      ],
      "metadata": {
        "id": "Tw7NOr9tmCVn"
      },
      "execution_count": 22,
      "outputs": []
    },
    {
      "cell_type": "code",
      "source": [
        "epochs_n = 3\n",
        "start_epoch_n = 0\n",
        "end_epoch_n = start_epoch_n + epochs_n\n",
        "test_step = 400"
      ],
      "metadata": {
        "id": "fJ549-c7nBqo"
      },
      "execution_count": 23,
      "outputs": []
    },
    {
      "cell_type": "code",
      "source": [
        "torch.manual_seed(43)\n",
        "\n",
        "traininig_start_time = timer()\n",
        "\n",
        "for epoch in tqdm(range(start_epoch_n, end_epoch_n)):\n",
        "  model_0.train()\n",
        "  train_loss = 0\n",
        "  for batch, (X_train, y_train) in enumerate(train_data_loader):\n",
        "    train_preds = model_0(X_train.to(device_model_0))\n",
        "\n",
        "    loss = loss_fn(train_preds, y_train.to(device_model_0))\n",
        "    train_loss += loss\n",
        "\n",
        "    optimizer.zero_grad()\n",
        "\n",
        "    loss.backward()\n",
        "\n",
        "    optimizer.step()\n",
        "\n",
        "    if batch % 400 == 0:\n",
        "      print(f\"{batch*len(X_train)}/{len(train_data_loader.dataset)} training data processed\")\n",
        "\n",
        "  train_loss /= len(train_data_loader)\n",
        "\n",
        "  # test for every other n step\n",
        "  # if epoch % 10 == 0:\n",
        "  model_0.eval()\n",
        "  test_loss, test_acc = 0, 0\n",
        "\n",
        "  with torch.inference_mode():\n",
        "    for X_test, y_test in test_data_loader:\n",
        "      test_preds = model_0(X_test.to(device_model_0))\n",
        "      loss = loss_fn(test_preds, y_test.to(device_model_0))\n",
        "      test_loss += loss\n",
        "\n",
        "      acc = accuracy_fn(y_true=y_test.to(device_model_0),\n",
        "                        y_pred=test_preds.argmax(dim=1))\n",
        "      test_acc += acc\n",
        "\n",
        "    test_loss /= len(test_data_loader)\n",
        "    test_acc /= len(test_data_loader)\n",
        "\n",
        "  print(f\"train loss: {train_loss:.2f}, test loss: {test_loss:.2f}, test accuracy: {test_acc:.2f}%\")\n",
        "\n",
        "traininig_end_time = timer()\n",
        "training_duration_time = measure_process_exec(time_start=traininig_start_time,\n",
        "                                              time_end=traininig_end_time,\n",
        "                                              device=str(next(model_0.parameters()).device))\n",
        "\n",
        "start_epoch_n = end_epoch_n\n",
        "end_epoch_n += epochs_n\n"
      ],
      "metadata": {
        "id": "7nFde5dkm4Ql",
        "colab": {
          "base_uri": "https://localhost:8080/",
          "height": 379,
          "referenced_widgets": [
            "7ada3587be1e409a8c8fcf5f3da05b2d",
            "4f36d88eb59843999161e4ce6beadfa2",
            "9e2d91316a8a4857a2911492f3cfc95c",
            "ebdbab78c178453fba11e8cf3eecdefb",
            "06a67cc26da34aa299ba6a689192f15c",
            "e595e68a92034e82a8af799a60f657ef",
            "c32638da3ce942d3acb09ce19f4e05a4",
            "31ea15880dfd475ca15c28fccd4bdcfd",
            "c25751057d854861addf025897c8074e",
            "c4eaf7942d5647af955389dc0bbedce0",
            "d4037b4fa2cf4f85a876e8d5c665266e"
          ]
        },
        "outputId": "bdb48a5d-5255-4f0d-cb4c-0562b62ea8a7"
      },
      "execution_count": 24,
      "outputs": [
        {
          "output_type": "display_data",
          "data": {
            "text/plain": [
              "  0%|          | 0/3 [00:00<?, ?it/s]"
            ],
            "application/vnd.jupyter.widget-view+json": {
              "version_major": 2,
              "version_minor": 0,
              "model_id": "7ada3587be1e409a8c8fcf5f3da05b2d"
            }
          },
          "metadata": {}
        },
        {
          "output_type": "stream",
          "name": "stdout",
          "text": [
            "0/60000 training data processed\n",
            "12800/60000 training data processed\n",
            "25600/60000 training data processed\n",
            "38400/60000 training data processed\n",
            "51200/60000 training data processed\n",
            "train loss: 0.59, test loss: 0.51, test accuracy: 82.27%\n",
            "0/60000 training data processed\n",
            "12800/60000 training data processed\n",
            "25600/60000 training data processed\n",
            "38400/60000 training data processed\n",
            "51200/60000 training data processed\n",
            "train loss: 0.47, test loss: 0.49, test accuracy: 82.52%\n",
            "0/60000 training data processed\n",
            "12800/60000 training data processed\n",
            "25600/60000 training data processed\n",
            "38400/60000 training data processed\n",
            "51200/60000 training data processed\n",
            "train loss: 0.45, test loss: 0.51, test accuracy: 82.43%\n",
            "execution time: 35.851 on device cpu\n"
          ]
        }
      ]
    },
    {
      "cell_type": "code",
      "source": [
        "def eval_model(model: torch.nn.Module,\n",
        "               data_loader: torch.utils.data.DataLoader,\n",
        "               loss_fn: torch.nn.Module,\n",
        "               accuracy_fn):\n",
        "  model_0.eval()\n",
        "  test_loss, test_acc = 0, 0\n",
        "\n",
        "  with torch.inference_mode():\n",
        "    for X_test, y_test in data_loader:\n",
        "      X_test, y_test = X_test.to(device_model_0), y_test.to(device_model_0)\n",
        "\n",
        "      test_preds = model(X_test)\n",
        "      loss = loss_fn(test_preds, y_test)\n",
        "      test_loss += loss\n",
        "\n",
        "      acc = accuracy_fn(y_true=y_test,\n",
        "                        y_pred=test_preds.argmax(dim=1))\n",
        "      test_acc += acc\n",
        "\n",
        "    test_loss /= len(test_data_loader)\n",
        "    test_acc /= len(test_data_loader)\n",
        "\n",
        "  return {\"test_loss\": test_loss,\n",
        "          \"test_accuracy\": test_acc,\n",
        "          \"model_name\": model.__class__.__name__}\n",
        "\n",
        "\n"
      ],
      "metadata": {
        "id": "dx_jfmDoqwUV"
      },
      "execution_count": 25,
      "outputs": []
    },
    {
      "cell_type": "markdown",
      "source": [
        "automate train cycle"
      ],
      "metadata": {
        "id": "NW2CX1fgmsDz"
      }
    },
    {
      "cell_type": "code",
      "source": [
        "device = \"cuda\" if torch.cuda.is_available() else \"cpu\""
      ],
      "metadata": {
        "id": "oQvIyJN0nEIl"
      },
      "execution_count": 26,
      "outputs": []
    },
    {
      "cell_type": "code",
      "source": [
        "def train_model(model: nn.Module,\n",
        "                data_loader: torch.utils.data.DataLoader,\n",
        "                loss_fn: nn.Module,\n",
        "                optimizer: torch.optim.Optimizer,\n",
        "                accuracy_fn: nn.Module = None,\n",
        "                device: torch.device = device,\n",
        "                random_seed=43,\n",
        "                batch_n_step_to_report=400):\n",
        "  torch.manual_seed(random_seed)\n",
        "\n",
        "  model.train()\n",
        "  train_loss, train_accuracy = 0, 0\n",
        "\n",
        "  for batch, (X_train, y_train) in enumerate(data_loader):\n",
        "    X_train, y_train = X_train.to(device), y_train.to(device)\n",
        "\n",
        "    train_preds = model(X_train)\n",
        "    loss = loss_fn(train_preds, y_train)\n",
        "    train_loss += loss\n",
        "\n",
        "    if accuracy_fn is not None:\n",
        "      train_accuracy += accuracy_fn(y_true=y_train,\n",
        "                                    y_pred=train_preds.argmax(dim=1))\n",
        "\n",
        "    optimizer.zero_grad()\n",
        "    loss.backward()\n",
        "    optimizer.step()\n",
        "\n",
        "    if batch % batch_n_step_to_report == 0:\n",
        "      print(f\"{batch*len(X_train)}/{len(data_loader.dataset)} training data processed\")\n",
        "\n",
        "  train_loss /= len(data_loader)\n",
        "\n",
        "  if train_accuracy > 0:\n",
        "    train_accuracy /= len(data_loader)\n",
        "\n",
        "  print(f\"train loss: {train_loss:.2f}, train accuracy: {train_accuracy:.2f}%\")\n",
        "  return {\"train_loss\": train_loss,\n",
        "          \"train_accuracy\": train_accuracy}\n"
      ],
      "metadata": {
        "id": "ttd6gxd0m0wx"
      },
      "execution_count": 27,
      "outputs": []
    },
    {
      "cell_type": "markdown",
      "source": [
        "automate test cycle"
      ],
      "metadata": {
        "id": "zpkrkSekm2_f"
      }
    },
    {
      "cell_type": "code",
      "source": [
        "def test_model(model: nn.Module,\n",
        "               data_loader: torch.utils.data.DataLoader,\n",
        "               loss_fn: nn.Module,\n",
        "               accuracy_fn,\n",
        "               device: torch.device = device):\n",
        "  model.eval()\n",
        "  test_loss, test_accuracy = 0, 0\n",
        "\n",
        "  with torch.inference_mode():\n",
        "    for X_test, y_test in data_loader:\n",
        "      X_test, y_test = X_test.to(device), y_test.to(device)\n",
        "\n",
        "      test_preds = model(X_test)\n",
        "      loss = loss_fn(test_preds, y_test)\n",
        "      test_loss += loss\n",
        "\n",
        "      acc = accuracy_fn(y_true=y_test,\n",
        "                        y_pred=test_preds.argmax(dim=1))\n",
        "      test_accuracy += acc\n",
        "\n",
        "    test_loss /= len(data_loader)\n",
        "    test_accuracy /= len(data_loader)\n",
        "\n",
        "  print(f\"test loss: {test_loss:.2f}, test accuracy: {test_accuracy:.2f}%\")\n",
        "  return {\"test_loss\": test_loss,\n",
        "          \"test_accuracy\": test_accuracy}\n"
      ],
      "metadata": {
        "id": "T_tE32Nom9RE"
      },
      "execution_count": 28,
      "outputs": []
    },
    {
      "cell_type": "code",
      "source": [
        "# setup device-agnostic code\n",
        "torch.cuda.is_available()"
      ],
      "metadata": {
        "id": "RY7ZSlgcNBIF",
        "colab": {
          "base_uri": "https://localhost:8080/"
        },
        "outputId": "08c50d94-5573-40e8-fd65-bf852f6cc538"
      },
      "execution_count": 29,
      "outputs": [
        {
          "output_type": "execute_result",
          "data": {
            "text/plain": [
              "False"
            ]
          },
          "metadata": {},
          "execution_count": 29
        }
      ]
    },
    {
      "cell_type": "markdown",
      "source": [
        "train and test model_0"
      ],
      "metadata": {
        "id": "o5UL4bA3nUBJ"
      }
    },
    {
      "cell_type": "code",
      "source": [
        "torch.manual_seed(43)\n",
        "\n",
        "epochs_n = 3\n",
        "test_step = 3\n",
        "traininig_start_time = timer()\n",
        "\n",
        "for epoch in tqdm(range(epochs_n)):\n",
        "  train_model(model=model_0,\n",
        "              data_loader=train_data_loader,\n",
        "              loss_fn=loss_fn,\n",
        "              optimizer=optimizer,\n",
        "              accuracy_fn=accuracy_fn,\n",
        "              device=device)\n",
        "\n",
        "  if epoch % (test_step - 1) == 0:\n",
        "    test_model(model=model_0,\n",
        "               data_loader=test_data_loader,\n",
        "               loss_fn=loss_fn,\n",
        "               accuracy_fn=accuracy_fn,\n",
        "               device=device)\n",
        "\n",
        "traininig_end_time = timer()\n",
        "training_model_0_time = measure_process_exec(time_start=traininig_start_time,\n",
        "                                              time_end=traininig_end_time,\n",
        "                                              device=str(next(model_0.parameters()).device))\n"
      ],
      "metadata": {
        "colab": {
          "base_uri": "https://localhost:8080/",
          "height": 413,
          "referenced_widgets": [
            "eab1cb4349a44c6faf76566c85f6fa10",
            "3fe5cc6b0dd74ddcbcb2383be66b483b",
            "9b1cb8e55c6944f38fa1d47ba7c130fc",
            "3ee309b175594d13be3ec2b66c4bb818",
            "d450d6c4fe0642b0b1b013fc30fc2647",
            "d846e70b74dd4c55bcca3c8c97f6fda9",
            "35e4bd5d900e4c4d80c3c87f60a1ac8d",
            "9c204823c2ed41d0a13453d7105a4057",
            "b63db14651b441899af48fb3ec420c4f",
            "09b6376c42374d5096a678a88cfbdd8f",
            "f46f5045f6fe4f7b80a82f48f0c299db"
          ]
        },
        "id": "o5lgONqMnZR3",
        "outputId": "6522550f-ae0b-4d02-9738-b0442363dc3d"
      },
      "execution_count": 30,
      "outputs": [
        {
          "output_type": "display_data",
          "data": {
            "text/plain": [
              "  0%|          | 0/3 [00:00<?, ?it/s]"
            ],
            "application/vnd.jupyter.widget-view+json": {
              "version_major": 2,
              "version_minor": 0,
              "model_id": "eab1cb4349a44c6faf76566c85f6fa10"
            }
          },
          "metadata": {}
        },
        {
          "output_type": "stream",
          "name": "stdout",
          "text": [
            "0/60000 training data processed\n",
            "12800/60000 training data processed\n",
            "25600/60000 training data processed\n",
            "38400/60000 training data processed\n",
            "51200/60000 training data processed\n",
            "train loss: 0.44, train accuracy: 84.53%\n",
            "test loss: 0.48, test accuracy: 83.28%\n",
            "0/60000 training data processed\n",
            "12800/60000 training data processed\n",
            "25600/60000 training data processed\n",
            "38400/60000 training data processed\n",
            "51200/60000 training data processed\n",
            "train loss: 0.43, train accuracy: 84.82%\n",
            "0/60000 training data processed\n",
            "12800/60000 training data processed\n",
            "25600/60000 training data processed\n",
            "38400/60000 training data processed\n",
            "51200/60000 training data processed\n",
            "train loss: 0.43, train accuracy: 84.99%\n",
            "test loss: 0.48, test accuracy: 83.15%\n",
            "execution time: 32.958 on device cpu\n"
          ]
        }
      ]
    },
    {
      "cell_type": "markdown",
      "source": [
        "<!-- !nvidia-smi -->"
      ],
      "metadata": {
        "id": "m-_EhM7-P7Y0"
      }
    },
    {
      "cell_type": "markdown",
      "source": [
        "evaluate model_0"
      ],
      "metadata": {
        "id": "EMkAVrIHo4vs"
      }
    },
    {
      "cell_type": "code",
      "source": [
        "model_0_evaluation = eval_model(model=model_0,\n",
        "                                data_loader=test_data_loader,\n",
        "                                loss_fn=loss_fn,\n",
        "                                accuracy_fn=accuracy_fn)\n"
      ],
      "metadata": {
        "id": "VHOV7VYPpBbN"
      },
      "execution_count": 31,
      "outputs": []
    },
    {
      "cell_type": "markdown",
      "source": [
        "# Implement class and functionalize training and testing loop"
      ],
      "metadata": {
        "id": "rJyDDLGzQZQh"
      }
    },
    {
      "cell_type": "code",
      "source": [
        "device = \"cuda\" if torch.cuda.is_available() else \"cpu\""
      ],
      "metadata": {
        "id": "MKIWp05PAy6G"
      },
      "execution_count": 32,
      "outputs": []
    },
    {
      "cell_type": "code",
      "source": [
        "class FashionMNIST_V1(nn.Module):\n",
        "  def __init__(self,\n",
        "               input_features,\n",
        "               output_features,\n",
        "               hidden_features):\n",
        "    super().__init__()\n",
        "\n",
        "    self.layers = nn.Sequential(\n",
        "        nn.Flatten(),\n",
        "        nn.Linear(in_features=input_features,\n",
        "                  out_features=hidden_features),\n",
        "        nn.ReLU(),\n",
        "        nn.Linear(in_features=hidden_features,\n",
        "                  out_features=output_features),\n",
        "        nn.ReLU()\n",
        "    )\n",
        "\n",
        "  def forward(self, x):\n",
        "    return self.layers(x)\n",
        "\n"
      ],
      "metadata": {
        "id": "FpT_Wplz-dGI"
      },
      "execution_count": 33,
      "outputs": []
    },
    {
      "cell_type": "code",
      "source": [
        "model_1 = FashionMNIST_V1(input_features=28*28,\n",
        "                          output_features=len(class_names),\n",
        "                          hidden_features=10).to(device)"
      ],
      "metadata": {
        "id": "-90-1pKvAGLh"
      },
      "execution_count": 34,
      "outputs": []
    },
    {
      "cell_type": "markdown",
      "source": [
        "Set loss and optimise functions"
      ],
      "metadata": {
        "id": "3cRGerhA_vsr"
      }
    },
    {
      "cell_type": "code",
      "source": [
        "loss = nn.CrossEntropyLoss()\n",
        "\n",
        "optimizer = torch.optim.SGD(params = model_1.parameters(),\n",
        "                            lr=0.1)"
      ],
      "metadata": {
        "id": "FZMbaYp6_36y"
      },
      "execution_count": 35,
      "outputs": []
    },
    {
      "cell_type": "markdown",
      "source": [
        "training and testing data"
      ],
      "metadata": {
        "id": "SxCKXR7GwZlH"
      }
    },
    {
      "cell_type": "code",
      "source": [
        "from timeit import default_timer as timer"
      ],
      "metadata": {
        "id": "LSQ2xRy2yORS"
      },
      "execution_count": 36,
      "outputs": []
    },
    {
      "cell_type": "code",
      "source": [
        "epochs_n = 3\n",
        "test_step = 3"
      ],
      "metadata": {
        "id": "WC95bI2Vqagk"
      },
      "execution_count": 37,
      "outputs": []
    },
    {
      "cell_type": "code",
      "source": [
        "device"
      ],
      "metadata": {
        "id": "v8ncELqUzb6p",
        "colab": {
          "base_uri": "https://localhost:8080/",
          "height": 36
        },
        "outputId": "28051e27-e2de-4d5d-ed20-e2943a5f574a"
      },
      "execution_count": 38,
      "outputs": [
        {
          "output_type": "execute_result",
          "data": {
            "text/plain": [
              "'cpu'"
            ],
            "application/vnd.google.colaboratory.intrinsic+json": {
              "type": "string"
            }
          },
          "metadata": {},
          "execution_count": 38
        }
      ]
    },
    {
      "cell_type": "code",
      "source": [
        "start_training_time = timer()\n",
        "\n",
        "for epoch in tqdm(range(epochs_n)):\n",
        "  train_model(model_1,\n",
        "              train_data_loader,\n",
        "              loss_fn,\n",
        "              optimizer,\n",
        "              accuracy_fn)\n",
        "  if (epoch + 1) % test_step == 0:\n",
        "    test_model(model_1,\n",
        "              test_data_loader,\n",
        "              loss_fn,\n",
        "              accuracy_fn)\n",
        "\n",
        "end_training_time = timer()\n",
        "training_model_1_time = measure_process_exec(time_start=start_training_time,\n",
        "                                             time_end=end_training_time,\n",
        "                                             device=str(next(model_0.parameters()).device))\n",
        "\n",
        "print(f\"training duration: {training_model_1_time}\")"
      ],
      "metadata": {
        "id": "GNGwFjj6wvd5",
        "colab": {
          "base_uri": "https://localhost:8080/",
          "height": 413,
          "referenced_widgets": [
            "b61422423e33423da016ac9ddb3d7d86",
            "d66008146e9d433baddaf0bd4f66aa7f",
            "243021382c614fe6a5a7fb1c34e56ea2",
            "84c3cdfc7519440fac3dc25062fd5f4a",
            "4ec7d356f96d4f8e919945d6f58b5cff",
            "b10de9ef87004283bc5462b8fa299b65",
            "fa51897b17e94684aebf5d77118dbc6d",
            "ae40dd59a6054b6cbf0940e288bf3331",
            "806d90a2bc004bb5841e773a369159de",
            "ff2af7e4c4ee4c04bdbecc4677d22490",
            "7f64b5372a6e4c9496444dab54b4075b"
          ]
        },
        "outputId": "853170b8-db7b-4e38-cf0f-0b276e54b159"
      },
      "execution_count": 39,
      "outputs": [
        {
          "output_type": "display_data",
          "data": {
            "text/plain": [
              "  0%|          | 0/3 [00:00<?, ?it/s]"
            ],
            "application/vnd.jupyter.widget-view+json": {
              "version_major": 2,
              "version_minor": 0,
              "model_id": "b61422423e33423da016ac9ddb3d7d86"
            }
          },
          "metadata": {}
        },
        {
          "output_type": "stream",
          "name": "stdout",
          "text": [
            "0/60000 training data processed\n",
            "12800/60000 training data processed\n",
            "25600/60000 training data processed\n",
            "38400/60000 training data processed\n",
            "51200/60000 training data processed\n",
            "train loss: 0.70, train accuracy: 76.60%\n",
            "0/60000 training data processed\n",
            "12800/60000 training data processed\n",
            "25600/60000 training data processed\n",
            "38400/60000 training data processed\n",
            "51200/60000 training data processed\n",
            "train loss: 0.47, train accuracy: 83.34%\n",
            "0/60000 training data processed\n",
            "12800/60000 training data processed\n",
            "25600/60000 training data processed\n",
            "38400/60000 training data processed\n",
            "51200/60000 training data processed\n",
            "train loss: 0.44, train accuracy: 84.28%\n",
            "test loss: 0.48, test accuracy: 83.21%\n",
            "execution time: 32.937 on device cpu\n",
            "training duration: 32.937393173000004\n"
          ]
        }
      ]
    },
    {
      "cell_type": "code",
      "source": [
        "# evaluate the model\n",
        "model_1_evaluation = eval_model(model_1,\n",
        "                                test_data_loader,\n",
        "                                loss_fn,\n",
        "                                accuracy_fn)\n",
        "\n",
        "print(model_1_evaluation)"
      ],
      "metadata": {
        "id": "a9LPuFsNzfh7",
        "colab": {
          "base_uri": "https://localhost:8080/"
        },
        "outputId": "1606cedb-f265-4e06-eaca-c2eb01c2bc5e"
      },
      "execution_count": 40,
      "outputs": [
        {
          "output_type": "stream",
          "name": "stdout",
          "text": [
            "{'test_loss': tensor(0.4832), 'test_accuracy': 83.20686900958466, 'model_name': 'FashionMNIST_V1'}\n"
          ]
        }
      ]
    },
    {
      "cell_type": "markdown",
      "source": [
        "# Creating a CNN model"
      ],
      "metadata": {
        "id": "fh76b--F2WrT"
      }
    },
    {
      "cell_type": "code",
      "source": [
        "device = \"cuda\" if torch.cuda.is_available() else \"cpu\""
      ],
      "metadata": {
        "id": "Bs5tBqf_23Yy"
      },
      "execution_count": 41,
      "outputs": []
    },
    {
      "cell_type": "code",
      "source": [
        "class FashionMNIST_V2(nn.Module):\n",
        "  def __init__(self,\n",
        "               input_features,\n",
        "               output_features,\n",
        "               hidden_units):\n",
        "    super().__init__()\n",
        "\n",
        "    self.block_1 = nn.Sequential(\n",
        "        nn.Conv2d(in_channels=input_features,\n",
        "                  out_channels=hidden_units,\n",
        "                  kernel_size=3,\n",
        "                  stride=1,\n",
        "                  padding=1),\n",
        "        nn.ReLU(),\n",
        "        nn.Conv2d(in_channels=hidden_units,\n",
        "                  out_channels=hidden_units,\n",
        "                  kernel_size=3,\n",
        "                  stride=1,\n",
        "                  padding=1),\n",
        "        nn.ReLU(),\n",
        "        nn.MaxPool2d(kernel_size=2)\n",
        "    )\n",
        "\n",
        "    self.block_2 = nn.Sequential(\n",
        "        nn.Conv2d(in_channels=hidden_units,\n",
        "                  out_channels=hidden_units,\n",
        "                  kernel_size=3,\n",
        "                  stride=1,\n",
        "                  padding=1),\n",
        "        nn.ReLU(),\n",
        "        nn.Conv2d(in_channels=hidden_units,\n",
        "                  out_channels=hidden_units,\n",
        "                  kernel_size=3,\n",
        "                  stride=1,\n",
        "                  padding=1),\n",
        "        nn.ReLU(),\n",
        "        nn.MaxPool2d(kernel_size=2)\n",
        "    )\n",
        "\n",
        "    self.classification = nn.Sequential(\n",
        "        nn.Flatten(),\n",
        "        nn.Linear(in_features=hidden_units*7*7,\n",
        "                  out_features=output_features)\n",
        "    )\n",
        "\n",
        "  def forward(self, x):\n",
        "    # print(f\"shape of input: {x.shape}\")\n",
        "    x = self.block_1(x)\n",
        "    # print(f\"shape of layer after 1st batch traversal: {x.shape}\")\n",
        "    x = self.block_2(x)\n",
        "    # print(f\"shape of layer after 2st batch traversal: {x.shape}\")\n",
        "    x = self.classification(x)\n",
        "    # print(f\"shape of layer after classification: {x.shape}\")\n",
        "    return x\n"
      ],
      "metadata": {
        "id": "pRAysB_syV1e"
      },
      "execution_count": 42,
      "outputs": []
    },
    {
      "cell_type": "code",
      "source": [
        "torch.manual_seed(43)\n",
        "\n",
        "model_2 = FashionMNIST_V2(input_features=1,\n",
        "                          output_features=len(class_names),\n",
        "                          hidden_units=10).to(device)\n",
        "model_2"
      ],
      "metadata": {
        "colab": {
          "base_uri": "https://localhost:8080/"
        },
        "id": "il6jYTus2Y1h",
        "outputId": "ed59a580-faa9-489f-ebc1-569531608ea6"
      },
      "execution_count": 43,
      "outputs": [
        {
          "output_type": "execute_result",
          "data": {
            "text/plain": [
              "FashionMNIST_V2(\n",
              "  (block_1): Sequential(\n",
              "    (0): Conv2d(1, 10, kernel_size=(3, 3), stride=(1, 1), padding=(1, 1))\n",
              "    (1): ReLU()\n",
              "    (2): Conv2d(10, 10, kernel_size=(3, 3), stride=(1, 1), padding=(1, 1))\n",
              "    (3): ReLU()\n",
              "    (4): MaxPool2d(kernel_size=2, stride=2, padding=0, dilation=1, ceil_mode=False)\n",
              "  )\n",
              "  (block_2): Sequential(\n",
              "    (0): Conv2d(10, 10, kernel_size=(3, 3), stride=(1, 1), padding=(1, 1))\n",
              "    (1): ReLU()\n",
              "    (2): Conv2d(10, 10, kernel_size=(3, 3), stride=(1, 1), padding=(1, 1))\n",
              "    (3): ReLU()\n",
              "    (4): MaxPool2d(kernel_size=2, stride=2, padding=0, dilation=1, ceil_mode=False)\n",
              "  )\n",
              "  (classification): Sequential(\n",
              "    (0): Flatten(start_dim=1, end_dim=-1)\n",
              "    (1): Linear(in_features=490, out_features=10, bias=True)\n",
              "  )\n",
              ")"
            ]
          },
          "metadata": {},
          "execution_count": 43
        }
      ]
    },
    {
      "cell_type": "markdown",
      "source": [
        "Dummy convolutional and pool layers traversal"
      ],
      "metadata": {
        "id": "fQxm_-f3rJzD"
      }
    },
    {
      "cell_type": "code",
      "source": [
        "next(model_2.parameters()).device"
      ],
      "metadata": {
        "id": "wjoUq08QSleZ",
        "colab": {
          "base_uri": "https://localhost:8080/"
        },
        "outputId": "344eae4a-00a3-43bb-dfc7-ba3093f37417"
      },
      "execution_count": 44,
      "outputs": [
        {
          "output_type": "execute_result",
          "data": {
            "text/plain": [
              "device(type='cpu')"
            ]
          },
          "metadata": {},
          "execution_count": 44
        }
      ]
    },
    {
      "cell_type": "code",
      "source": [
        "model_2.state_dict()"
      ],
      "metadata": {
        "id": "-RcRytN-2rgG",
        "colab": {
          "base_uri": "https://localhost:8080/"
        },
        "outputId": "a399e9dd-392d-4b9a-f692-2b760f327597"
      },
      "execution_count": 45,
      "outputs": [
        {
          "output_type": "execute_result",
          "data": {
            "text/plain": [
              "OrderedDict([('block_1.0.weight',\n",
              "              tensor([[[[-0.0307, -0.2023,  0.2807],\n",
              "                        [-0.1025, -0.2346, -0.2761],\n",
              "                        [ 0.0606, -0.2894,  0.1651]]],\n",
              "              \n",
              "              \n",
              "                      [[[ 0.0835,  0.2928, -0.2441],\n",
              "                        [ 0.0127,  0.0224,  0.0250],\n",
              "                        [ 0.1372, -0.0483, -0.1493]]],\n",
              "              \n",
              "              \n",
              "                      [[[ 0.2264, -0.2292, -0.2619],\n",
              "                        [ 0.1508, -0.1173,  0.2595],\n",
              "                        [-0.2455,  0.2250,  0.0417]]],\n",
              "              \n",
              "              \n",
              "                      [[[-0.0574,  0.2414, -0.1471],\n",
              "                        [ 0.0556, -0.1142,  0.1182],\n",
              "                        [ 0.1364,  0.2805, -0.1775]]],\n",
              "              \n",
              "              \n",
              "                      [[[ 0.0838, -0.0251,  0.2437],\n",
              "                        [-0.2204, -0.1144,  0.2442],\n",
              "                        [ 0.1300, -0.0899,  0.1043]]],\n",
              "              \n",
              "              \n",
              "                      [[[ 0.1227, -0.1007, -0.2689],\n",
              "                        [-0.2572,  0.2009, -0.0337],\n",
              "                        [ 0.1742, -0.2533,  0.2942]]],\n",
              "              \n",
              "              \n",
              "                      [[[ 0.1048, -0.0201, -0.1407],\n",
              "                        [-0.0573, -0.2333, -0.2825],\n",
              "                        [-0.1246,  0.2004, -0.2934]]],\n",
              "              \n",
              "              \n",
              "                      [[[ 0.2495,  0.1684, -0.2396],\n",
              "                        [ 0.2744,  0.0930, -0.0532],\n",
              "                        [ 0.0358,  0.0784,  0.2143]]],\n",
              "              \n",
              "              \n",
              "                      [[[ 0.3328,  0.0911, -0.0230],\n",
              "                        [ 0.0332,  0.0859, -0.1175],\n",
              "                        [-0.1239, -0.3239,  0.3189]]],\n",
              "              \n",
              "              \n",
              "                      [[[-0.1431, -0.0267, -0.2851],\n",
              "                        [-0.0371,  0.2690, -0.2817],\n",
              "                        [ 0.1436,  0.3128, -0.3162]]]])),\n",
              "             ('block_1.0.bias',\n",
              "              tensor([ 0.0287,  0.1094,  0.0449,  0.0096,  0.3095,  0.3032,  0.0185,  0.1456,\n",
              "                      -0.0970, -0.1313])),\n",
              "             ('block_1.2.weight',\n",
              "              tensor([[[[-0.0324,  0.0710,  0.0919],\n",
              "                        [ 0.0713,  0.0063,  0.0338],\n",
              "                        [-0.0461, -0.0167, -0.0824]],\n",
              "              \n",
              "                       [[ 0.0417, -0.0644,  0.1021],\n",
              "                        [ 0.0121,  0.0536, -0.0196],\n",
              "                        [ 0.0256, -0.0954, -0.0859]],\n",
              "              \n",
              "                       [[-0.0530,  0.1022,  0.0542],\n",
              "                        [ 0.0578,  0.1023,  0.0507],\n",
              "                        [ 0.0441, -0.0361, -0.0369]],\n",
              "              \n",
              "                       [[ 0.0754,  0.0899, -0.0715],\n",
              "                        [ 0.0426, -0.0225,  0.1026],\n",
              "                        [-0.0124, -0.0184, -0.0088]],\n",
              "              \n",
              "                       [[-0.0150,  0.0934, -0.0401],\n",
              "                        [ 0.0430,  0.0115,  0.0854],\n",
              "                        [ 0.0649, -0.0685, -0.0149]],\n",
              "              \n",
              "                       [[-0.0038, -0.0300,  0.0766],\n",
              "                        [ 0.1026, -0.0873, -0.0417],\n",
              "                        [ 0.1005,  0.0153, -0.0303]],\n",
              "              \n",
              "                       [[ 0.0748, -0.0124, -0.0387],\n",
              "                        [-0.0936,  0.0709, -0.0254],\n",
              "                        [-0.0677, -0.0734, -0.0749]],\n",
              "              \n",
              "                       [[ 0.0322,  0.0352,  0.0191],\n",
              "                        [-0.0660, -0.0957, -0.0604],\n",
              "                        [-0.0694,  0.0220,  0.0388]],\n",
              "              \n",
              "                       [[-0.0395, -0.0963,  0.0683],\n",
              "                        [ 0.0449, -0.0419, -0.0390],\n",
              "                        [-0.0027, -0.0456,  0.0562]],\n",
              "              \n",
              "                       [[ 0.0186, -0.0628, -0.0876],\n",
              "                        [-0.0409, -0.0841, -0.0200],\n",
              "                        [-0.0218, -0.0450,  0.0140]]],\n",
              "              \n",
              "              \n",
              "                      [[[-0.0469,  0.0599,  0.0612],\n",
              "                        [-0.0278, -0.0439, -0.0980],\n",
              "                        [-0.0025, -0.0841,  0.0919]],\n",
              "              \n",
              "                       [[ 0.0529, -0.0088, -0.0107],\n",
              "                        [-0.0067,  0.0974, -0.0117],\n",
              "                        [ 0.0190,  0.0583,  0.0515]],\n",
              "              \n",
              "                       [[ 0.0047,  0.0821, -0.0700],\n",
              "                        [ 0.0311, -0.0974,  0.0666],\n",
              "                        [ 0.0812, -0.0159, -0.0846]],\n",
              "              \n",
              "                       [[-0.0437,  0.0364, -0.0762],\n",
              "                        [-0.0254, -0.0340, -0.0435],\n",
              "                        [ 0.0668, -0.0722,  0.0365]],\n",
              "              \n",
              "                       [[-0.0603,  0.0109,  0.0874],\n",
              "                        [-0.0874, -0.0767,  0.0639],\n",
              "                        [ 0.0571, -0.0756,  0.0425]],\n",
              "              \n",
              "                       [[-0.0713, -0.0886, -0.0453],\n",
              "                        [ 0.0706,  0.0093,  0.0967],\n",
              "                        [ 0.0440, -0.0201,  0.0900]],\n",
              "              \n",
              "                       [[ 0.0441,  0.0347, -0.0974],\n",
              "                        [-0.0734,  0.0783,  0.0963],\n",
              "                        [ 0.0272,  0.0495, -0.0781]],\n",
              "              \n",
              "                       [[-0.0255, -0.0106, -0.0513],\n",
              "                        [ 0.0851, -0.0920,  0.0870],\n",
              "                        [-0.0441, -0.0099,  0.0811]],\n",
              "              \n",
              "                       [[ 0.0865, -0.0616,  0.0623],\n",
              "                        [-0.0930, -0.0838, -0.0517],\n",
              "                        [ 0.0084, -0.0242,  0.0048]],\n",
              "              \n",
              "                       [[-0.0989,  0.0638, -0.0852],\n",
              "                        [ 0.0709, -0.0173,  0.0215],\n",
              "                        [-0.0543,  0.0337,  0.0330]]],\n",
              "              \n",
              "              \n",
              "                      [[[ 0.0865, -0.0284,  0.0748],\n",
              "                        [-0.0625,  0.0312, -0.0848],\n",
              "                        [ 0.0754, -0.0939, -0.0057]],\n",
              "              \n",
              "                       [[ 0.0883,  0.0959, -0.0312],\n",
              "                        [-0.0737,  0.0206,  0.0957],\n",
              "                        [ 0.0568,  0.0867,  0.0266]],\n",
              "              \n",
              "                       [[-0.0565,  0.0918,  0.0022],\n",
              "                        [ 0.0319,  0.0862, -0.0665],\n",
              "                        [ 0.0331, -0.0780,  0.0309]],\n",
              "              \n",
              "                       [[-0.0529,  0.0155, -0.0961],\n",
              "                        [ 0.0318,  0.0836,  0.0057],\n",
              "                        [-0.0806,  0.0364, -0.0799]],\n",
              "              \n",
              "                       [[ 0.0534,  0.0724,  0.0504],\n",
              "                        [-0.0773,  0.0600,  0.0519],\n",
              "                        [ 0.0029,  0.0458,  0.0078]],\n",
              "              \n",
              "                       [[-0.0747, -0.0533,  0.1022],\n",
              "                        [ 0.0844,  0.0553, -0.0602],\n",
              "                        [-0.0807, -0.0745,  0.0723]],\n",
              "              \n",
              "                       [[ 0.0564,  0.0695, -0.0126],\n",
              "                        [ 0.0612, -0.0364, -0.0241],\n",
              "                        [-0.0169, -0.0035, -0.0526]],\n",
              "              \n",
              "                       [[-0.0144, -0.0632, -0.0421],\n",
              "                        [ 0.0362,  0.0728,  0.1000],\n",
              "                        [ 0.0106, -0.0095, -0.0052]],\n",
              "              \n",
              "                       [[-0.0110,  0.0791,  0.0642],\n",
              "                        [ 0.0155, -0.0476, -0.0897],\n",
              "                        [ 0.0393, -0.1016,  0.0656]],\n",
              "              \n",
              "                       [[-0.0512, -0.0075,  0.1007],\n",
              "                        [-0.0187,  0.0443,  0.0993],\n",
              "                        [-0.0423, -0.0707,  0.0543]]],\n",
              "              \n",
              "              \n",
              "                      [[[ 0.0083, -0.0303,  0.0376],\n",
              "                        [-0.0855,  0.0261, -0.0299],\n",
              "                        [-0.0831,  0.0480,  0.0921]],\n",
              "              \n",
              "                       [[-0.0531,  0.0783,  0.0882],\n",
              "                        [ 0.0988,  0.0672,  0.0219],\n",
              "                        [ 0.0789, -0.0692,  0.0233]],\n",
              "              \n",
              "                       [[ 0.0958,  0.0354,  0.0341],\n",
              "                        [-0.0983, -0.0883, -0.0698],\n",
              "                        [ 0.0736, -0.0847,  0.0261]],\n",
              "              \n",
              "                       [[-0.0129,  0.0323, -0.0042],\n",
              "                        [-0.0502,  0.0198, -0.0456],\n",
              "                        [-0.0490,  0.0473,  0.0971]],\n",
              "              \n",
              "                       [[-0.0242, -0.0093,  0.0982],\n",
              "                        [-0.0682, -0.0860,  0.0371],\n",
              "                        [-0.0280,  0.0327, -0.0892]],\n",
              "              \n",
              "                       [[ 0.0640, -0.0047, -0.0816],\n",
              "                        [ 0.0978, -0.0701, -0.0423],\n",
              "                        [-0.0103,  0.0658,  0.0512]],\n",
              "              \n",
              "                       [[-0.0197,  0.0956,  0.0673],\n",
              "                        [ 0.0686,  0.0333, -0.1038],\n",
              "                        [-0.0878,  0.0822,  0.0470]],\n",
              "              \n",
              "                       [[ 0.0463,  0.0418, -0.0079],\n",
              "                        [-0.1052, -0.0001,  0.0822],\n",
              "                        [ 0.0132, -0.0893,  0.0698]],\n",
              "              \n",
              "                       [[ 0.0955, -0.0727,  0.0531],\n",
              "                        [-0.1035,  0.0087,  0.0990],\n",
              "                        [ 0.0072, -0.0292,  0.0424]],\n",
              "              \n",
              "                       [[-0.0017,  0.1006,  0.0675],\n",
              "                        [ 0.0883,  0.0302,  0.0355],\n",
              "                        [-0.0414, -0.1003, -0.0665]]],\n",
              "              \n",
              "              \n",
              "                      [[[ 0.0055,  0.0548, -0.0375],\n",
              "                        [-0.0320, -0.0626,  0.0568],\n",
              "                        [ 0.0856, -0.0859, -0.1034]],\n",
              "              \n",
              "                       [[ 0.0557,  0.0627, -0.0808],\n",
              "                        [-0.0954, -0.0396, -0.0821],\n",
              "                        [ 0.1026,  0.0621, -0.0617]],\n",
              "              \n",
              "                       [[-0.0047,  0.0831, -0.0231],\n",
              "                        [ 0.0503,  0.0006,  0.0373],\n",
              "                        [ 0.0578,  0.0921,  0.0011]],\n",
              "              \n",
              "                       [[-0.0829,  0.0270,  0.0389],\n",
              "                        [-0.0490, -0.0666,  0.0182],\n",
              "                        [-0.0246,  0.0436,  0.0700]],\n",
              "              \n",
              "                       [[-0.0965,  0.0476,  0.0210],\n",
              "                        [ 0.0715,  0.0992,  0.0644],\n",
              "                        [ 0.1007,  0.0379, -0.0666]],\n",
              "              \n",
              "                       [[-0.0257,  0.0670, -0.0604],\n",
              "                        [ 0.0703,  0.0568,  0.0572],\n",
              "                        [ 0.0646, -0.0841, -0.0141]],\n",
              "              \n",
              "                       [[ 0.0898,  0.0992, -0.0159],\n",
              "                        [ 0.0769, -0.0418,  0.0046],\n",
              "                        [ 0.0657, -0.0648,  0.0280]],\n",
              "              \n",
              "                       [[-0.0597, -0.1017, -0.0345],\n",
              "                        [-0.0333,  0.0181, -0.0863],\n",
              "                        [-0.0992, -0.0183,  0.0486]],\n",
              "              \n",
              "                       [[-0.0035,  0.0901,  0.0597],\n",
              "                        [-0.0694, -0.0861,  0.0425],\n",
              "                        [ 0.0785, -0.0294, -0.0119]],\n",
              "              \n",
              "                       [[-0.0830,  0.0213, -0.0330],\n",
              "                        [ 0.1009,  0.0350,  0.0264],\n",
              "                        [ 0.0119,  0.0835,  0.0734]]],\n",
              "              \n",
              "              \n",
              "                      [[[-0.1002, -0.0209, -0.0867],\n",
              "                        [-0.0712,  0.0976,  0.0765],\n",
              "                        [ 0.0314, -0.0540,  0.0483]],\n",
              "              \n",
              "                       [[ 0.0444,  0.0192,  0.0343],\n",
              "                        [-0.0066,  0.0916, -0.0486],\n",
              "                        [ 0.0513, -0.0912, -0.0969]],\n",
              "              \n",
              "                       [[-0.0396, -0.0561,  0.0123],\n",
              "                        [-0.0917, -0.0493,  0.0450],\n",
              "                        [ 0.0161, -0.0864, -0.0637]],\n",
              "              \n",
              "                       [[-0.0423, -0.0746, -0.0963],\n",
              "                        [-0.0364,  0.0419,  0.0226],\n",
              "                        [-0.0878, -0.0157,  0.0293]],\n",
              "              \n",
              "                       [[-0.0411, -0.1031, -0.0513],\n",
              "                        [ 0.0117,  0.0833,  0.0335],\n",
              "                        [-0.0287, -0.0606,  0.0127]],\n",
              "              \n",
              "                       [[ 0.0531, -0.0051, -0.0993],\n",
              "                        [-0.0386,  0.0358,  0.0461],\n",
              "                        [ 0.0026,  0.0696, -0.0147]],\n",
              "              \n",
              "                       [[-0.0417,  0.0912, -0.0905],\n",
              "                        [ 0.0656,  0.0236,  0.0003],\n",
              "                        [-0.0950,  0.1014,  0.0622]],\n",
              "              \n",
              "                       [[ 0.0441, -0.0939,  0.0189],\n",
              "                        [ 0.0077, -0.0330,  0.0805],\n",
              "                        [ 0.0298, -0.0201, -0.0403]],\n",
              "              \n",
              "                       [[-0.0685, -0.0580,  0.0722],\n",
              "                        [-0.0148, -0.0809,  0.0548],\n",
              "                        [ 0.0656,  0.0212, -0.0699]],\n",
              "              \n",
              "                       [[ 0.0427,  0.0908,  0.0872],\n",
              "                        [ 0.0462, -0.0053,  0.0561],\n",
              "                        [ 0.0625, -0.0382,  0.0587]]],\n",
              "              \n",
              "              \n",
              "                      [[[-0.0200, -0.0844, -0.0376],\n",
              "                        [ 0.0750,  0.0325, -0.0288],\n",
              "                        [-0.1042, -0.0777,  0.0860]],\n",
              "              \n",
              "                       [[ 0.0648,  0.0170,  0.0826],\n",
              "                        [-0.0242, -0.0950,  0.0792],\n",
              "                        [-0.0906,  0.0975,  0.0401]],\n",
              "              \n",
              "                       [[-0.0791, -0.0642, -0.0558],\n",
              "                        [-0.0253, -0.1014,  0.0421],\n",
              "                        [ 0.0540, -0.0218,  0.0656]],\n",
              "              \n",
              "                       [[-0.0964,  0.0661,  0.0037],\n",
              "                        [-0.0018, -0.0717, -0.0424],\n",
              "                        [ 0.0208, -0.0941, -0.0642]],\n",
              "              \n",
              "                       [[ 0.0435,  0.0130, -0.0802],\n",
              "                        [ 0.0946, -0.0092, -0.0083],\n",
              "                        [-0.0052, -0.0787,  0.0667]],\n",
              "              \n",
              "                       [[ 0.0741,  0.0964, -0.0536],\n",
              "                        [-0.0569,  0.0939,  0.0133],\n",
              "                        [ 0.0617,  0.0579,  0.0382]],\n",
              "              \n",
              "                       [[-0.0941, -0.0103, -0.0431],\n",
              "                        [ 0.0333,  0.0037,  0.0145],\n",
              "                        [ 0.0386,  0.0749,  0.0484]],\n",
              "              \n",
              "                       [[ 0.0331,  0.0378, -0.0021],\n",
              "                        [ 0.0416,  0.0486,  0.0139],\n",
              "                        [ 0.1019,  0.0254, -0.0159]],\n",
              "              \n",
              "                       [[ 0.0177,  0.0808, -0.0538],\n",
              "                        [ 0.0657, -0.0693, -0.0931],\n",
              "                        [ 0.0651,  0.0502, -0.0172]],\n",
              "              \n",
              "                       [[-0.0496,  0.0877,  0.0758],\n",
              "                        [-0.0842,  0.0790, -0.0859],\n",
              "                        [ 0.0900,  0.0335, -0.0938]]],\n",
              "              \n",
              "              \n",
              "                      [[[-0.0778, -0.0444,  0.0172],\n",
              "                        [ 0.0624, -0.0307,  0.0042],\n",
              "                        [ 0.0154, -0.0497, -0.0331]],\n",
              "              \n",
              "                       [[-0.0710,  0.0012, -0.0791],\n",
              "                        [ 0.0108, -0.0837,  0.0026],\n",
              "                        [-0.0400, -0.0787, -0.0739]],\n",
              "              \n",
              "                       [[-0.0327, -0.0445, -0.0809],\n",
              "                        [-0.1049,  0.0558, -0.0102],\n",
              "                        [-0.0766, -0.0058, -0.0305]],\n",
              "              \n",
              "                       [[ 0.0777, -0.0895,  0.0365],\n",
              "                        [-0.0874, -0.0814,  0.1040],\n",
              "                        [-0.0536,  0.0452,  0.0532]],\n",
              "              \n",
              "                       [[-0.0492,  0.0768, -0.0111],\n",
              "                        [ 0.0408,  0.0169,  0.0777],\n",
              "                        [-0.0107, -0.0303, -0.0741]],\n",
              "              \n",
              "                       [[-0.0768, -0.0871,  0.0925],\n",
              "                        [ 0.0967,  0.1050, -0.0244],\n",
              "                        [ 0.0199, -0.0257, -0.0929]],\n",
              "              \n",
              "                       [[ 0.0405,  0.0730,  0.0902],\n",
              "                        [-0.0301,  0.0611, -0.0151],\n",
              "                        [-0.0221, -0.0197,  0.0896]],\n",
              "              \n",
              "                       [[-0.0456, -0.0760,  0.0489],\n",
              "                        [ 0.0412,  0.0321, -0.0479],\n",
              "                        [-0.0032,  0.1037, -0.0334]],\n",
              "              \n",
              "                       [[ 0.0472, -0.1039, -0.0644],\n",
              "                        [ 0.0088, -0.0892,  0.0432],\n",
              "                        [ 0.0390, -0.0952, -0.0133]],\n",
              "              \n",
              "                       [[ 0.0374, -0.0674,  0.0075],\n",
              "                        [-0.0834, -0.0993, -0.0711],\n",
              "                        [-0.0275, -0.0702, -0.0563]]],\n",
              "              \n",
              "              \n",
              "                      [[[-0.0843,  0.0304,  0.0576],\n",
              "                        [-0.0592, -0.0874,  0.0445],\n",
              "                        [ 0.0135, -0.0967, -0.0560]],\n",
              "              \n",
              "                       [[ 0.0492,  0.0782,  0.0489],\n",
              "                        [-0.0802,  0.0920, -0.0319],\n",
              "                        [ 0.0597, -0.0989, -0.0132]],\n",
              "              \n",
              "                       [[ 0.0345,  0.0517, -0.0462],\n",
              "                        [ 0.0113,  0.0273,  0.0241],\n",
              "                        [ 0.0175,  0.0534,  0.0502]],\n",
              "              \n",
              "                       [[-0.0062,  0.0717, -0.0838],\n",
              "                        [-0.0406, -0.0371,  0.0202],\n",
              "                        [ 0.0075,  0.0722,  0.0537]],\n",
              "              \n",
              "                       [[ 0.0130,  0.0620, -0.0271],\n",
              "                        [-0.0308, -0.0110, -0.0680],\n",
              "                        [ 0.0147,  0.0903,  0.0475]],\n",
              "              \n",
              "                       [[ 0.0099, -0.0281,  0.0048],\n",
              "                        [-0.0095, -0.0696,  0.0768],\n",
              "                        [-0.0196,  0.0924, -0.0893]],\n",
              "              \n",
              "                       [[-0.0513,  0.0551,  0.0426],\n",
              "                        [-0.0183, -0.0882,  0.0517],\n",
              "                        [ 0.0109, -0.0848,  0.0359]],\n",
              "              \n",
              "                       [[ 0.0213,  0.0621, -0.0769],\n",
              "                        [-0.0637,  0.0505,  0.0589],\n",
              "                        [ 0.0763,  0.0011, -0.0016]],\n",
              "              \n",
              "                       [[ 0.0198, -0.0067, -0.0846],\n",
              "                        [-0.0392,  0.0384,  0.0274],\n",
              "                        [ 0.0184, -0.1025,  0.0268]],\n",
              "              \n",
              "                       [[ 0.0585, -0.0498, -0.0679],\n",
              "                        [ 0.0804, -0.0068, -0.0107],\n",
              "                        [ 0.0021,  0.0201,  0.0097]]],\n",
              "              \n",
              "              \n",
              "                      [[[ 0.0388, -0.0571,  0.0624],\n",
              "                        [-0.0031, -0.0078,  0.0870],\n",
              "                        [ 0.0304, -0.0662, -0.0137]],\n",
              "              \n",
              "                       [[-0.0409,  0.0830, -0.0851],\n",
              "                        [ 0.0765,  0.0238,  0.0349],\n",
              "                        [ 0.0534,  0.0682, -0.0753]],\n",
              "              \n",
              "                       [[ 0.0786, -0.0067,  0.0949],\n",
              "                        [ 0.0512, -0.0686,  0.0662],\n",
              "                        [ 0.0679, -0.0348,  0.0637]],\n",
              "              \n",
              "                       [[ 0.0304, -0.0057, -0.0686],\n",
              "                        [ 0.0289, -0.0757,  0.0849],\n",
              "                        [ 0.0663, -0.0799,  0.0194]],\n",
              "              \n",
              "                       [[ 0.0874,  0.0620, -0.0646],\n",
              "                        [-0.0622, -0.0504, -0.0309],\n",
              "                        [-0.1003,  0.1001, -0.0044]],\n",
              "              \n",
              "                       [[-0.0762, -0.0489,  0.0744],\n",
              "                        [ 0.0211,  0.0485, -0.0428],\n",
              "                        [ 0.0741,  0.0231,  0.0055]],\n",
              "              \n",
              "                       [[-0.0836,  0.0149,  0.0673],\n",
              "                        [-0.0477,  0.0212,  0.0096],\n",
              "                        [-0.0301, -0.0002,  0.0977]],\n",
              "              \n",
              "                       [[ 0.1048,  0.0560,  0.0432],\n",
              "                        [ 0.0915, -0.0083, -0.1044],\n",
              "                        [-0.1023, -0.0304,  0.0273]],\n",
              "              \n",
              "                       [[ 0.0902, -0.0207, -0.0299],\n",
              "                        [-0.0830,  0.0059,  0.0802],\n",
              "                        [-0.0420, -0.0670, -0.0947]],\n",
              "              \n",
              "                       [[ 0.0563,  0.0657, -0.0486],\n",
              "                        [ 0.0508,  0.0634, -0.0342],\n",
              "                        [-0.0165, -0.0472, -0.0726]]]])),\n",
              "             ('block_1.2.bias',\n",
              "              tensor([ 0.0743,  0.1005,  0.0690, -0.0596, -0.0883,  0.0051,  0.0992,  0.0312,\n",
              "                       0.0909, -0.0312])),\n",
              "             ('block_2.0.weight',\n",
              "              tensor([[[[-9.3973e-02, -8.5585e-02,  1.0494e-01],\n",
              "                        [ 8.9773e-02,  4.1955e-02,  3.8783e-02],\n",
              "                        [ 6.0370e-02,  3.7718e-02,  5.4566e-02]],\n",
              "              \n",
              "                       [[ 1.9466e-02, -1.2485e-02, -8.0282e-02],\n",
              "                        [ 5.5523e-02, -9.1656e-02, -1.6744e-02],\n",
              "                        [ 1.2969e-02, -2.8047e-02,  3.7478e-02]],\n",
              "              \n",
              "                       [[-6.5871e-02, -1.4774e-02, -6.8225e-02],\n",
              "                        [-8.7402e-03, -3.0663e-02, -5.8156e-02],\n",
              "                        [ 5.6702e-02,  5.4397e-02, -1.0359e-01]],\n",
              "              \n",
              "                       [[-2.1671e-04,  4.3636e-02,  3.9329e-02],\n",
              "                        [ 4.7761e-02, -2.0843e-02,  8.4348e-02],\n",
              "                        [ 1.5371e-02,  1.7021e-02, -9.3404e-02]],\n",
              "              \n",
              "                       [[ 2.4084e-02,  5.1229e-02, -3.7977e-02],\n",
              "                        [-1.4439e-02,  7.1894e-02, -1.8720e-02],\n",
              "                        [ 1.0338e-01,  5.7173e-02,  7.7620e-02]],\n",
              "              \n",
              "                       [[ 8.5200e-02, -5.4469e-02, -6.8457e-03],\n",
              "                        [ 2.9288e-03,  4.8863e-02, -7.7400e-02],\n",
              "                        [ 9.6589e-02, -8.1050e-02, -1.0379e-01]],\n",
              "              \n",
              "                       [[-8.1197e-03,  8.6246e-02, -9.5960e-02],\n",
              "                        [ 9.7866e-02, -7.1396e-02,  1.7744e-02],\n",
              "                        [-3.5241e-02, -5.4992e-02, -3.8757e-02]],\n",
              "              \n",
              "                       [[ 8.4837e-02,  3.9904e-03, -1.1552e-02],\n",
              "                        [ 5.7859e-02, -8.5849e-02, -1.0478e-01],\n",
              "                        [-4.8539e-02, -1.7583e-02, -3.2372e-02]],\n",
              "              \n",
              "                       [[-4.1452e-02, -8.2659e-02, -6.4523e-02],\n",
              "                        [ 8.5244e-02, -5.1010e-02,  1.4177e-02],\n",
              "                        [ 2.8819e-03, -4.3601e-02, -1.0784e-02]],\n",
              "              \n",
              "                       [[-4.6047e-02,  2.7331e-02,  9.9644e-02],\n",
              "                        [ 1.5691e-02,  3.7242e-02,  3.4764e-02],\n",
              "                        [-2.0838e-02, -4.2386e-02,  1.0390e-01]]],\n",
              "              \n",
              "              \n",
              "                      [[[-8.7379e-02, -8.3649e-02, -3.9615e-02],\n",
              "                        [-2.1471e-02,  4.3316e-02, -8.1486e-02],\n",
              "                        [-1.2769e-02,  3.0398e-03, -8.7240e-02]],\n",
              "              \n",
              "                       [[ 7.7601e-02,  6.5023e-02, -6.7313e-02],\n",
              "                        [-6.1883e-02,  6.9893e-02, -1.1222e-02],\n",
              "                        [ 7.9391e-03,  6.3625e-02, -4.1421e-02]],\n",
              "              \n",
              "                       [[-1.6143e-04,  6.6383e-02, -1.0456e-02],\n",
              "                        [ 4.3815e-02, -1.9564e-02, -6.2116e-02],\n",
              "                        [ 9.3951e-02, -6.3210e-02,  8.2588e-02]],\n",
              "              \n",
              "                       [[ 4.0091e-02,  7.6435e-02, -3.1511e-02],\n",
              "                        [ 9.5869e-02, -8.9892e-02, -2.0939e-02],\n",
              "                        [ 9.2503e-02, -4.4161e-02, -5.5150e-02]],\n",
              "              \n",
              "                       [[ 4.8077e-02, -6.7599e-02,  8.8894e-02],\n",
              "                        [-8.7834e-02,  1.2721e-03, -2.2328e-02],\n",
              "                        [ 1.2400e-02, -4.5516e-02, -8.8581e-02]],\n",
              "              \n",
              "                       [[-1.1180e-02, -4.3956e-03,  5.9296e-02],\n",
              "                        [ 7.1646e-02, -5.0869e-02, -4.7471e-02],\n",
              "                        [-1.0464e-01,  3.2470e-02, -4.3981e-03]],\n",
              "              \n",
              "                       [[-5.2260e-02, -9.8567e-02,  6.4934e-02],\n",
              "                        [-9.1150e-04,  6.5005e-02,  9.3895e-04],\n",
              "                        [ 9.1533e-02, -1.3317e-02, -6.7871e-02]],\n",
              "              \n",
              "                       [[ 3.2365e-02, -7.9603e-02, -3.0813e-02],\n",
              "                        [ 8.7136e-02, -4.8729e-02, -5.7262e-03],\n",
              "                        [-2.6010e-02,  5.6979e-02, -6.8962e-02]],\n",
              "              \n",
              "                       [[-1.0201e-01, -8.5309e-02,  4.8885e-02],\n",
              "                        [ 1.1596e-02,  6.2000e-02, -4.8754e-02],\n",
              "                        [ 8.5173e-02, -7.7259e-03,  4.0481e-02]],\n",
              "              \n",
              "                       [[ 1.0273e-01,  7.0079e-02,  6.5870e-02],\n",
              "                        [ 5.9144e-02, -2.8636e-02,  7.2316e-02],\n",
              "                        [ 6.1939e-02,  2.9168e-02,  2.7002e-02]]],\n",
              "              \n",
              "              \n",
              "                      [[[ 1.9605e-02,  1.5890e-02,  3.3537e-02],\n",
              "                        [-1.0448e-01,  9.2315e-02,  4.1474e-02],\n",
              "                        [ 1.5721e-02,  8.0521e-02,  1.1595e-02]],\n",
              "              \n",
              "                       [[-7.1632e-02,  2.4912e-02, -3.6989e-02],\n",
              "                        [-8.7084e-02,  3.3213e-02, -7.2251e-02],\n",
              "                        [-9.2534e-02, -8.3216e-02, -5.9923e-02]],\n",
              "              \n",
              "                       [[-1.9423e-02, -4.5129e-02,  4.2709e-02],\n",
              "                        [ 8.8605e-02, -3.2847e-02, -3.3274e-02],\n",
              "                        [-3.6579e-02,  3.3099e-02,  9.3079e-02]],\n",
              "              \n",
              "                       [[ 6.0248e-02,  3.7596e-03, -5.6595e-02],\n",
              "                        [-5.2775e-02, -5.8667e-02,  3.6210e-02],\n",
              "                        [ 1.7473e-02, -1.5685e-02, -1.0508e-01]],\n",
              "              \n",
              "                       [[-9.4805e-02,  3.3330e-02,  1.4638e-02],\n",
              "                        [-8.2395e-02,  2.7387e-02,  2.5359e-02],\n",
              "                        [-7.0367e-02,  5.8395e-02,  3.2027e-02]],\n",
              "              \n",
              "                       [[-1.0372e-01,  4.6040e-02,  1.0385e-01],\n",
              "                        [-7.0644e-02,  9.2784e-02,  4.3591e-02],\n",
              "                        [-5.3489e-02, -3.9989e-02, -6.8841e-02]],\n",
              "              \n",
              "                       [[ 1.0039e-01, -6.9548e-02,  2.9008e-02],\n",
              "                        [ 9.2400e-02, -8.6329e-02, -3.5751e-02],\n",
              "                        [-9.6307e-02,  9.9151e-02,  5.5270e-02]],\n",
              "              \n",
              "                       [[-6.1203e-02,  4.4107e-02, -4.3851e-03],\n",
              "                        [ 3.9029e-02,  6.3187e-02,  1.2804e-02],\n",
              "                        [ 2.4964e-03,  1.8512e-02,  4.5826e-02]],\n",
              "              \n",
              "                       [[ 6.5297e-02, -6.8513e-02, -6.8161e-02],\n",
              "                        [-2.0670e-02,  2.6732e-02,  3.5050e-02],\n",
              "                        [-7.1704e-02, -5.0299e-02,  5.2509e-02]],\n",
              "              \n",
              "                       [[-5.1244e-02,  8.2399e-02,  4.1124e-02],\n",
              "                        [ 1.0073e-01,  2.6762e-02, -1.0457e-01],\n",
              "                        [ 5.9094e-02,  2.4557e-02,  7.7475e-02]]],\n",
              "              \n",
              "              \n",
              "                      [[[-5.0080e-02, -5.1935e-02,  2.1044e-02],\n",
              "                        [ 4.3522e-02, -1.9231e-04, -4.9140e-02],\n",
              "                        [-7.1273e-02,  9.9071e-02,  7.7943e-02]],\n",
              "              \n",
              "                       [[-9.1115e-02, -5.2453e-02,  3.5225e-02],\n",
              "                        [-2.8487e-02, -7.9862e-02,  6.8282e-02],\n",
              "                        [ 6.6788e-02,  4.2173e-02, -9.3577e-02]],\n",
              "              \n",
              "                       [[-1.7418e-02, -3.8454e-02, -2.7593e-02],\n",
              "                        [ 2.1277e-02,  8.1635e-02, -3.2999e-02],\n",
              "                        [ 4.8050e-02, -4.4951e-02,  2.9486e-02]],\n",
              "              \n",
              "                       [[ 2.0371e-02, -7.7112e-02, -5.5633e-02],\n",
              "                        [ 9.8330e-02, -6.5371e-02, -5.1499e-03],\n",
              "                        [-1.7230e-02,  5.5408e-02,  3.3348e-02]],\n",
              "              \n",
              "                       [[ 1.0062e-01,  4.8827e-03,  5.6782e-02],\n",
              "                        [ 2.5761e-02, -4.6203e-02,  4.6270e-02],\n",
              "                        [ 3.4322e-02, -3.7735e-02, -1.3296e-02]],\n",
              "              \n",
              "                       [[ 7.0009e-02, -2.5033e-02, -3.8887e-02],\n",
              "                        [ 5.9956e-02,  2.3016e-02, -4.2357e-02],\n",
              "                        [-3.9180e-02,  5.3951e-02,  3.4754e-02]],\n",
              "              \n",
              "                       [[-6.2322e-02, -7.4488e-02,  7.0932e-02],\n",
              "                        [ 6.0487e-02, -5.1009e-02,  2.5135e-02],\n",
              "                        [ 4.8832e-02,  7.8732e-02,  4.4312e-02]],\n",
              "              \n",
              "                       [[ 4.1688e-02,  1.0497e-01,  8.7922e-02],\n",
              "                        [-8.4134e-02, -2.7841e-02,  9.8745e-02],\n",
              "                        [ 3.1731e-02,  4.7164e-02, -5.8905e-02]],\n",
              "              \n",
              "                       [[-3.3236e-02,  5.0619e-02,  8.7434e-02],\n",
              "                        [ 7.0502e-02, -4.1375e-02, -6.5747e-02],\n",
              "                        [-9.2941e-02, -1.0502e-01,  5.5449e-02]],\n",
              "              \n",
              "                       [[-2.7566e-02, -9.4557e-02,  7.3044e-02],\n",
              "                        [ 4.1451e-03, -2.5316e-02, -2.6918e-02],\n",
              "                        [-7.0370e-02, -1.5759e-02, -1.1005e-02]]],\n",
              "              \n",
              "              \n",
              "                      [[[-5.7066e-02,  8.6358e-02, -6.9626e-02],\n",
              "                        [ 2.2666e-02,  5.1374e-02,  2.3307e-02],\n",
              "                        [-2.2713e-02,  3.7672e-02,  3.0852e-02]],\n",
              "              \n",
              "                       [[ 1.1371e-02, -3.9741e-02, -8.5641e-02],\n",
              "                        [ 5.7539e-02,  3.6734e-02,  1.5321e-02],\n",
              "                        [ 7.9178e-02,  6.8250e-02, -9.2624e-02]],\n",
              "              \n",
              "                       [[-5.9218e-02, -7.9439e-03,  2.8305e-02],\n",
              "                        [-6.3292e-03,  7.0401e-02, -5.1767e-02],\n",
              "                        [ 6.9687e-02,  2.5530e-02, -8.4233e-02]],\n",
              "              \n",
              "                       [[-3.7798e-02, -9.8807e-02,  4.9392e-02],\n",
              "                        [ 9.6944e-02, -8.6804e-02, -2.6516e-02],\n",
              "                        [ 6.2849e-02,  1.0111e-01, -5.8302e-03]],\n",
              "              \n",
              "                       [[-3.8648e-02,  3.7985e-02,  4.7295e-04],\n",
              "                        [-8.6808e-02, -7.5683e-02, -3.9502e-02],\n",
              "                        [-6.1409e-02,  8.0466e-02,  8.9674e-02]],\n",
              "              \n",
              "                       [[-8.7820e-02,  8.7758e-02, -1.0313e-01],\n",
              "                        [-8.2128e-02, -4.8562e-02, -8.9782e-02],\n",
              "                        [-3.1940e-02,  8.9449e-02, -4.8170e-02]],\n",
              "              \n",
              "                       [[ 6.8862e-02, -6.4408e-02,  2.6738e-02],\n",
              "                        [-2.6398e-02, -5.6757e-02, -7.7267e-02],\n",
              "                        [-9.7616e-02,  3.0749e-02, -8.4232e-02]],\n",
              "              \n",
              "                       [[ 2.7253e-02,  8.6496e-02,  8.0019e-02],\n",
              "                        [-3.8364e-02, -3.9958e-02,  1.0204e-01],\n",
              "                        [-1.0134e-01,  5.0596e-02,  8.8508e-02]],\n",
              "              \n",
              "                       [[ 3.9225e-02, -3.5486e-02,  2.8324e-02],\n",
              "                        [-9.2025e-02,  1.8705e-02, -5.5451e-02],\n",
              "                        [-7.3423e-02,  8.6939e-02,  1.1330e-02]],\n",
              "              \n",
              "                       [[-1.3673e-02, -1.4564e-02,  6.2389e-02],\n",
              "                        [ 9.5759e-02,  3.7812e-02, -4.7201e-02],\n",
              "                        [ 8.3043e-02,  7.0952e-02, -3.0759e-02]]],\n",
              "              \n",
              "              \n",
              "                      [[[-4.8381e-04,  9.7979e-02, -2.5461e-02],\n",
              "                        [ 6.9401e-02,  6.8398e-02, -1.0059e-01],\n",
              "                        [ 3.8924e-03,  2.9472e-02, -2.7574e-03]],\n",
              "              \n",
              "                       [[-1.0199e-01,  1.4941e-02,  5.4098e-02],\n",
              "                        [-4.1992e-02,  9.4368e-03, -6.5479e-02],\n",
              "                        [ 7.7087e-02, -9.4289e-02,  3.7395e-02]],\n",
              "              \n",
              "                       [[ 9.2481e-02, -1.0129e-01, -6.2148e-02],\n",
              "                        [ 1.0523e-01, -9.0755e-02, -9.8827e-03],\n",
              "                        [-1.1264e-03, -8.0853e-02,  9.2627e-03]],\n",
              "              \n",
              "                       [[ 5.6852e-02, -1.0217e-01, -9.3797e-02],\n",
              "                        [-9.4674e-02, -6.9145e-02, -5.5053e-02],\n",
              "                        [-2.6748e-03, -8.0443e-02,  9.7934e-02]],\n",
              "              \n",
              "                       [[ 5.1837e-02, -6.4656e-02, -6.8736e-02],\n",
              "                        [-1.0490e-01,  9.5185e-03,  8.5238e-02],\n",
              "                        [ 1.1046e-02, -1.0377e-01,  3.2278e-02]],\n",
              "              \n",
              "                       [[ 7.0851e-02,  9.8139e-02,  6.8633e-03],\n",
              "                        [-1.4233e-02,  5.4365e-02, -5.7683e-02],\n",
              "                        [-3.9496e-03,  3.2584e-02,  8.8946e-02]],\n",
              "              \n",
              "                       [[-8.1705e-02, -3.3270e-02,  3.1080e-04],\n",
              "                        [ 2.4931e-02,  8.5258e-02, -6.1468e-02],\n",
              "                        [ 9.8476e-02,  7.0349e-02,  8.7914e-02]],\n",
              "              \n",
              "                       [[ 9.7780e-02,  6.6415e-02, -2.1990e-03],\n",
              "                        [ 5.1087e-02, -9.3833e-02, -5.7216e-02],\n",
              "                        [-7.1470e-02, -2.6743e-02,  5.1710e-02]],\n",
              "              \n",
              "                       [[-3.6970e-02, -7.0612e-02, -3.6339e-04],\n",
              "                        [ 7.3443e-02, -3.3324e-02,  2.0465e-02],\n",
              "                        [-2.3756e-02, -4.8765e-02, -5.5581e-02]],\n",
              "              \n",
              "                       [[ 2.5712e-02,  9.3425e-03,  3.7221e-02],\n",
              "                        [-1.0406e-01,  8.5849e-02,  6.3712e-02],\n",
              "                        [ 4.1312e-02,  4.8503e-02,  8.2939e-02]]],\n",
              "              \n",
              "              \n",
              "                      [[[-1.5291e-02,  7.7075e-03, -9.1429e-02],\n",
              "                        [-5.4198e-02,  1.0274e-01, -1.0038e-01],\n",
              "                        [ 9.5898e-02,  8.1581e-02, -3.1492e-02]],\n",
              "              \n",
              "                       [[-9.3785e-02, -5.2370e-02,  4.1004e-02],\n",
              "                        [ 8.1772e-02, -6.3334e-02,  7.8283e-02],\n",
              "                        [ 4.7989e-03,  1.2815e-02,  8.8947e-03]],\n",
              "              \n",
              "                       [[ 8.3189e-02,  6.2762e-02, -4.6035e-03],\n",
              "                        [-9.4684e-02,  2.6031e-02,  6.7502e-02],\n",
              "                        [ 3.4135e-03, -2.9140e-02, -3.3222e-02]],\n",
              "              \n",
              "                       [[-9.0112e-02, -5.2513e-03,  6.9081e-02],\n",
              "                        [ 9.6529e-02,  7.1199e-02, -1.8883e-02],\n",
              "                        [ 7.6083e-02,  9.2154e-02, -7.4579e-02]],\n",
              "              \n",
              "                       [[ 9.0634e-02,  7.0870e-02,  3.7599e-02],\n",
              "                        [ 2.0869e-02,  2.9916e-02, -3.4958e-02],\n",
              "                        [-1.0065e-01, -1.4789e-02,  7.3974e-02]],\n",
              "              \n",
              "                       [[-1.0533e-01,  2.2530e-02,  5.7543e-02],\n",
              "                        [ 4.1236e-02, -4.5638e-02,  5.1891e-02],\n",
              "                        [-9.6792e-02, -4.6797e-03, -7.6931e-02]],\n",
              "              \n",
              "                       [[ 3.6763e-02, -3.0546e-02,  2.0556e-03],\n",
              "                        [-3.4917e-02,  2.1364e-02, -8.6550e-02],\n",
              "                        [-7.7379e-02, -7.4582e-02, -2.1928e-02]],\n",
              "              \n",
              "                       [[-5.3637e-02,  9.2390e-02,  9.6615e-02],\n",
              "                        [-6.3560e-02, -2.4102e-02,  9.4870e-02],\n",
              "                        [ 3.3119e-02,  7.0050e-02, -2.5367e-02]],\n",
              "              \n",
              "                       [[-8.1786e-02,  2.9495e-02,  3.5911e-02],\n",
              "                        [-5.5107e-02, -9.5272e-02,  3.2372e-02],\n",
              "                        [ 8.1237e-02, -2.8296e-02, -4.1664e-02]],\n",
              "              \n",
              "                       [[-3.2034e-02,  1.8874e-02,  4.1151e-02],\n",
              "                        [-1.0410e-01, -8.7031e-02, -3.6069e-02],\n",
              "                        [-4.5084e-02,  2.7239e-02,  6.9638e-02]]],\n",
              "              \n",
              "              \n",
              "                      [[[ 2.8324e-02,  7.6597e-02, -5.3876e-03],\n",
              "                        [ 5.1670e-03,  1.0512e-01, -2.4174e-02],\n",
              "                        [-2.7121e-02,  2.5667e-02,  3.1359e-02]],\n",
              "              \n",
              "                       [[-1.0064e-01, -1.9840e-02,  7.9308e-02],\n",
              "                        [-2.6374e-02,  9.4686e-02, -2.7640e-02],\n",
              "                        [-3.0966e-02,  8.8600e-02,  7.0250e-02]],\n",
              "              \n",
              "                       [[ 1.7440e-02, -8.1804e-02, -6.0749e-02],\n",
              "                        [ 5.9932e-02,  7.0910e-02, -8.7447e-02],\n",
              "                        [ 9.6888e-02, -8.6593e-02,  8.7544e-02]],\n",
              "              \n",
              "                       [[ 8.6957e-03, -4.1858e-02,  6.4910e-02],\n",
              "                        [ 4.5466e-02, -1.9660e-02, -5.9383e-02],\n",
              "                        [ 2.0875e-02, -2.6776e-02, -2.2694e-02]],\n",
              "              \n",
              "                       [[-9.3769e-02, -8.8344e-02, -9.0735e-02],\n",
              "                        [-2.1026e-02, -1.2633e-02,  1.8286e-02],\n",
              "                        [ 1.0358e-01, -1.7779e-02,  6.0438e-02]],\n",
              "              \n",
              "                       [[-6.1003e-02, -6.0207e-02,  7.5470e-02],\n",
              "                        [ 8.9446e-02,  7.0916e-02, -6.4864e-02],\n",
              "                        [ 8.5423e-03, -7.7118e-02, -6.0959e-02]],\n",
              "              \n",
              "                       [[ 9.5368e-02,  9.2116e-02, -7.8334e-03],\n",
              "                        [ 4.3734e-03,  3.4498e-02, -6.2625e-02],\n",
              "                        [-4.6517e-02, -9.1142e-03,  7.4595e-02]],\n",
              "              \n",
              "                       [[ 5.3193e-02,  7.2550e-02,  6.8692e-02],\n",
              "                        [-4.9448e-02, -9.1011e-03, -1.9060e-02],\n",
              "                        [ 5.7720e-02,  9.3702e-02, -3.3291e-02]],\n",
              "              \n",
              "                       [[ 1.1049e-02, -7.8226e-02, -7.0781e-02],\n",
              "                        [-2.7692e-02, -1.2407e-02, -7.9270e-02],\n",
              "                        [ 1.0627e-02, -3.4307e-02, -2.6453e-02]],\n",
              "              \n",
              "                       [[-4.1095e-03,  3.1987e-02, -9.0375e-02],\n",
              "                        [-3.0219e-02, -3.5220e-02,  4.7890e-02],\n",
              "                        [-5.0577e-02,  7.2024e-02,  5.4652e-02]]],\n",
              "              \n",
              "              \n",
              "                      [[[ 3.3618e-03, -6.3083e-02,  6.7150e-02],\n",
              "                        [ 3.5668e-02,  7.0185e-02,  9.0210e-02],\n",
              "                        [-2.0880e-02, -9.4741e-02,  1.6137e-02]],\n",
              "              \n",
              "                       [[ 5.2173e-02,  2.3172e-02, -4.8031e-02],\n",
              "                        [-2.3175e-02,  2.7264e-02, -9.7321e-03],\n",
              "                        [-4.7137e-02,  1.8859e-02,  8.5041e-03]],\n",
              "              \n",
              "                       [[ 2.2740e-02,  6.1551e-02, -9.9979e-02],\n",
              "                        [-9.7005e-02,  6.5955e-02,  7.8455e-02],\n",
              "                        [ 3.1905e-02, -2.1919e-02,  2.8063e-02]],\n",
              "              \n",
              "                       [[ 1.6649e-03,  5.6082e-02, -5.4314e-02],\n",
              "                        [-5.1264e-02,  4.7995e-03,  5.2005e-02],\n",
              "                        [-1.0003e-01,  7.1141e-02,  1.6251e-02]],\n",
              "              \n",
              "                       [[ 5.0106e-02,  5.0167e-02,  9.1789e-02],\n",
              "                        [ 8.6335e-02,  3.3758e-02,  2.1277e-02],\n",
              "                        [-1.1990e-03, -1.9165e-02,  1.0446e-01]],\n",
              "              \n",
              "                       [[ 3.5504e-02,  4.8542e-03, -1.0138e-01],\n",
              "                        [-8.8360e-03,  1.4117e-02, -9.6610e-02],\n",
              "                        [ 2.8286e-02,  3.8521e-02,  5.4240e-02]],\n",
              "              \n",
              "                       [[-8.9639e-02,  7.1393e-02, -8.2268e-02],\n",
              "                        [ 5.8735e-02,  5.7925e-02,  3.7665e-03],\n",
              "                        [-2.3585e-02,  6.2169e-02,  6.4904e-02]],\n",
              "              \n",
              "                       [[-1.8989e-02, -5.3916e-02, -5.5074e-02],\n",
              "                        [-8.1185e-02, -2.6457e-02,  6.1014e-02],\n",
              "                        [ 4.6724e-02,  6.3134e-02,  6.4518e-02]],\n",
              "              \n",
              "                       [[ 7.5951e-02,  2.7669e-02,  2.2842e-02],\n",
              "                        [-7.5067e-02, -1.9117e-02,  7.2858e-02],\n",
              "                        [-1.2091e-02,  2.3760e-02, -7.4025e-02]],\n",
              "              \n",
              "                       [[ 5.0306e-03, -9.9942e-02,  4.4562e-02],\n",
              "                        [ 5.3857e-02, -9.8477e-02, -4.6841e-03],\n",
              "                        [ 4.3449e-02, -1.0190e-01, -1.0496e-02]]],\n",
              "              \n",
              "              \n",
              "                      [[[ 9.3445e-02,  7.6995e-02, -3.7698e-02],\n",
              "                        [-9.5916e-02,  5.4076e-02,  5.6370e-05],\n",
              "                        [ 7.1419e-02, -4.5080e-02, -2.5605e-02]],\n",
              "              \n",
              "                       [[ 2.2742e-02,  6.7941e-02, -7.6624e-02],\n",
              "                        [ 2.3918e-02,  8.8058e-02,  6.3883e-02],\n",
              "                        [ 4.5122e-02, -9.3073e-02,  1.4143e-02]],\n",
              "              \n",
              "                       [[-4.5658e-02, -1.5982e-02, -6.8391e-02],\n",
              "                        [ 8.9824e-02, -3.7207e-03, -6.3466e-02],\n",
              "                        [ 9.4035e-02, -6.7554e-02,  6.9758e-02]],\n",
              "              \n",
              "                       [[-5.9659e-02,  4.2858e-02,  1.2905e-02],\n",
              "                        [-1.7403e-02, -6.4374e-02,  1.6121e-02],\n",
              "                        [-5.8196e-02,  1.6015e-03,  4.0737e-02]],\n",
              "              \n",
              "                       [[-7.6577e-02, -8.2040e-02, -7.6346e-02],\n",
              "                        [-1.4984e-02, -2.1146e-02, -1.5385e-02],\n",
              "                        [-2.2776e-02, -6.1156e-02, -5.6365e-02]],\n",
              "              \n",
              "                       [[-9.7766e-02,  3.8109e-02,  7.6659e-02],\n",
              "                        [-5.7219e-02,  1.6690e-02,  8.8321e-02],\n",
              "                        [-4.0924e-02, -6.3834e-02,  5.2679e-03]],\n",
              "              \n",
              "                       [[ 6.5245e-02, -1.8031e-02, -9.1273e-03],\n",
              "                        [-2.4330e-02, -1.2723e-02, -2.3567e-02],\n",
              "                        [-3.6613e-02, -7.2119e-02,  1.0177e-01]],\n",
              "              \n",
              "                       [[-9.3425e-02,  2.8758e-02,  5.9875e-02],\n",
              "                        [-9.8435e-04, -7.8262e-02, -4.1411e-03],\n",
              "                        [-2.0904e-02,  3.8787e-02,  1.8095e-02]],\n",
              "              \n",
              "                       [[ 4.5998e-02, -6.6645e-02, -5.2986e-02],\n",
              "                        [ 5.1595e-02, -3.8370e-02, -5.0003e-02],\n",
              "                        [-8.3741e-02,  7.7245e-02, -1.3676e-02]],\n",
              "              \n",
              "                       [[-2.3866e-02, -3.0326e-02,  2.2860e-02],\n",
              "                        [-8.1558e-02,  6.6907e-02,  1.0160e-01],\n",
              "                        [ 1.6794e-02, -7.1905e-02, -6.3763e-03]]]])),\n",
              "             ('block_2.0.bias',\n",
              "              tensor([-0.0325,  0.0034, -0.0885,  0.0493, -0.0088,  0.0391, -0.0897,  0.0964,\n",
              "                       0.0418,  0.0155])),\n",
              "             ('block_2.2.weight',\n",
              "              tensor([[[[ 3.2088e-02,  6.7272e-02, -1.3967e-02],\n",
              "                        [-8.5405e-02,  3.5007e-02,  4.6815e-02],\n",
              "                        [-6.7415e-02, -7.9851e-02,  9.0222e-02]],\n",
              "              \n",
              "                       [[ 8.2106e-02, -5.2076e-02, -6.8382e-02],\n",
              "                        [ 1.4342e-02, -4.1406e-02,  5.1339e-03],\n",
              "                        [ 5.6949e-02,  9.6939e-02,  1.3502e-02]],\n",
              "              \n",
              "                       [[-2.9744e-02,  7.9224e-02, -4.2241e-02],\n",
              "                        [ 8.4581e-02, -6.2558e-02,  3.6364e-02],\n",
              "                        [-3.0990e-02,  7.9276e-03, -7.8242e-02]],\n",
              "              \n",
              "                       [[ 7.6219e-02, -9.2125e-02,  1.7564e-02],\n",
              "                        [ 7.4972e-03, -3.4190e-02, -7.4072e-02],\n",
              "                        [-7.6607e-04,  4.2071e-02, -4.9079e-02]],\n",
              "              \n",
              "                       [[ 5.2067e-02,  7.7887e-02, -1.8012e-02],\n",
              "                        [ 3.9332e-02, -8.0460e-02, -8.7470e-02],\n",
              "                        [-9.6760e-02, -5.5883e-02,  6.6373e-02]],\n",
              "              \n",
              "                       [[-4.7919e-02,  3.7720e-02, -4.6047e-02],\n",
              "                        [-2.4153e-02, -3.7775e-02,  2.8810e-02],\n",
              "                        [-4.8349e-02, -2.5276e-02,  2.4585e-02]],\n",
              "              \n",
              "                       [[ 2.3115e-02,  6.6385e-02, -3.1496e-02],\n",
              "                        [ 8.9099e-02,  5.0223e-02, -1.7127e-02],\n",
              "                        [ 4.1912e-02, -3.8412e-03, -8.0104e-02]],\n",
              "              \n",
              "                       [[ 8.4652e-02, -7.8491e-02,  8.0231e-02],\n",
              "                        [-9.5636e-04, -7.9414e-02, -5.3714e-02],\n",
              "                        [-7.9623e-02,  5.5178e-02, -7.8952e-02]],\n",
              "              \n",
              "                       [[ 4.2519e-02,  2.8449e-03, -5.5027e-02],\n",
              "                        [-8.8258e-02, -3.0899e-02,  4.3470e-02],\n",
              "                        [-3.4532e-02, -4.3346e-02, -8.1752e-02]],\n",
              "              \n",
              "                       [[-9.8332e-02,  2.1003e-02,  6.2487e-02],\n",
              "                        [-9.3504e-02, -1.2326e-02,  1.0420e-01],\n",
              "                        [ 4.4177e-02, -1.8361e-02, -3.7882e-02]]],\n",
              "              \n",
              "              \n",
              "                      [[[-7.8398e-02,  7.5480e-02, -2.4801e-02],\n",
              "                        [ 1.3558e-02, -5.2603e-02, -6.6631e-02],\n",
              "                        [ 5.4635e-02, -7.0844e-02, -1.2271e-02]],\n",
              "              \n",
              "                       [[-9.1165e-02,  7.0789e-02, -3.5219e-02],\n",
              "                        [-3.8271e-02, -8.0024e-02,  6.5759e-02],\n",
              "                        [-4.6668e-02,  1.4409e-02, -6.0653e-02]],\n",
              "              \n",
              "                       [[ 1.0372e-01,  8.4162e-02, -4.1543e-02],\n",
              "                        [ 4.8427e-02,  7.0418e-02,  4.4021e-02],\n",
              "                        [ 8.3379e-02,  3.1161e-02, -5.5097e-02]],\n",
              "              \n",
              "                       [[-1.5964e-02,  4.8606e-02, -7.6661e-02],\n",
              "                        [ 8.1608e-02, -4.8576e-02, -8.2295e-02],\n",
              "                        [ 1.0219e-01,  8.7899e-02, -7.3163e-02]],\n",
              "              \n",
              "                       [[ 8.1637e-02,  8.7112e-02,  8.6698e-02],\n",
              "                        [-8.3376e-03,  8.9701e-03, -9.2106e-02],\n",
              "                        [ 1.2624e-03, -2.9868e-02,  2.9812e-02]],\n",
              "              \n",
              "                       [[-1.0521e-01,  2.5435e-03,  3.9312e-02],\n",
              "                        [-2.7460e-02,  3.6595e-02, -5.9798e-03],\n",
              "                        [ 7.8787e-02,  4.7149e-02,  7.0784e-02]],\n",
              "              \n",
              "                       [[ 8.0793e-02,  2.7489e-02,  5.8304e-02],\n",
              "                        [-4.8632e-02,  3.1447e-02, -8.4634e-02],\n",
              "                        [-8.3181e-02,  1.3197e-02,  8.5345e-02]],\n",
              "              \n",
              "                       [[ 3.4322e-02,  5.3654e-02,  5.5383e-02],\n",
              "                        [ 5.8847e-02, -5.3137e-02, -4.6187e-02],\n",
              "                        [ 8.3903e-02,  8.0687e-02, -3.9346e-02]],\n",
              "              \n",
              "                       [[-1.6619e-02, -9.8650e-02,  3.4464e-02],\n",
              "                        [-3.2480e-02,  6.2945e-03, -1.0462e-01],\n",
              "                        [ 9.3236e-02,  6.8822e-02, -3.0038e-02]],\n",
              "              \n",
              "                       [[ 5.3784e-02,  7.2274e-02,  2.2782e-02],\n",
              "                        [-8.8746e-02,  6.7352e-02,  3.0911e-02],\n",
              "                        [-1.0410e-01,  9.1890e-02,  8.6730e-02]]],\n",
              "              \n",
              "              \n",
              "                      [[[ 3.9958e-03,  7.1056e-02, -3.3433e-03],\n",
              "                        [-3.5494e-02, -6.8870e-04, -1.4281e-02],\n",
              "                        [-7.5313e-02,  6.7775e-02, -4.6644e-02]],\n",
              "              \n",
              "                       [[ 5.0978e-02,  9.9852e-02, -8.1017e-02],\n",
              "                        [ 8.2098e-02, -3.6048e-02,  1.0190e-01],\n",
              "                        [-4.8445e-02,  2.3719e-03,  3.7545e-02]],\n",
              "              \n",
              "                       [[-9.0728e-02,  6.6420e-02, -6.3126e-02],\n",
              "                        [ 5.2306e-02, -7.4425e-03,  2.9323e-02],\n",
              "                        [-6.7552e-02, -5.4546e-03,  1.7780e-02]],\n",
              "              \n",
              "                       [[ 1.0178e-02,  5.4252e-02,  5.5822e-02],\n",
              "                        [-6.3282e-02, -4.7547e-02, -1.5444e-02],\n",
              "                        [-7.7764e-02,  5.2151e-02, -8.5633e-03]],\n",
              "              \n",
              "                       [[ 6.5120e-03, -5.6783e-02, -9.8541e-03],\n",
              "                        [-6.7265e-02, -9.6773e-02, -6.2283e-02],\n",
              "                        [-6.1661e-02, -8.5192e-02,  5.7968e-02]],\n",
              "              \n",
              "                       [[ 3.2631e-02, -5.7975e-02,  1.1531e-02],\n",
              "                        [ 5.6514e-02, -8.5668e-02, -7.8161e-02],\n",
              "                        [-6.5865e-02,  2.3785e-02,  5.4852e-02]],\n",
              "              \n",
              "                       [[ 4.0585e-02,  1.0227e-01,  2.2525e-02],\n",
              "                        [-5.2885e-02,  6.4417e-02,  8.4518e-02],\n",
              "                        [ 1.8323e-02, -1.0429e-01, -8.9062e-02]],\n",
              "              \n",
              "                       [[ 6.2912e-02, -1.4785e-02,  6.4370e-02],\n",
              "                        [-4.7427e-02, -7.0609e-03,  7.4055e-02],\n",
              "                        [ 5.8670e-02, -1.4653e-02, -7.8896e-03]],\n",
              "              \n",
              "                       [[-9.9895e-02, -9.4570e-02,  7.8390e-02],\n",
              "                        [-9.0461e-02,  4.9044e-02,  4.6570e-02],\n",
              "                        [ 7.1317e-02, -3.1378e-03,  6.5493e-04]],\n",
              "              \n",
              "                       [[-9.4031e-02,  7.1520e-02,  3.3889e-02],\n",
              "                        [-6.6061e-02,  4.8339e-02,  6.6693e-02],\n",
              "                        [-9.3505e-02, -5.7091e-02,  5.2290e-02]]],\n",
              "              \n",
              "              \n",
              "                      [[[-1.0430e-01, -4.9028e-02, -2.7324e-02],\n",
              "                        [-1.0234e-01, -7.6081e-02,  3.2605e-02],\n",
              "                        [-5.0204e-02, -6.2660e-02,  3.0523e-03]],\n",
              "              \n",
              "                       [[-5.6904e-02,  5.7300e-03,  9.8126e-03],\n",
              "                        [-4.1486e-02,  8.9715e-03,  6.6825e-02],\n",
              "                        [-2.6557e-02,  1.0950e-02,  6.7908e-02]],\n",
              "              \n",
              "                       [[-7.8669e-02, -3.5711e-02, -9.9077e-02],\n",
              "                        [-2.2992e-02, -3.6889e-02, -8.7577e-02],\n",
              "                        [ 5.0915e-02,  8.5515e-02, -1.8125e-02]],\n",
              "              \n",
              "                       [[ 2.9734e-02,  9.4029e-02,  8.4130e-02],\n",
              "                        [-5.7206e-02, -1.2544e-02, -4.3488e-02],\n",
              "                        [-9.6465e-03,  8.5874e-03, -5.0065e-02]],\n",
              "              \n",
              "                       [[ 4.4435e-02, -9.0903e-03,  1.0501e-01],\n",
              "                        [-4.6702e-02, -7.9362e-02, -4.3618e-02],\n",
              "                        [-1.0784e-02, -4.7133e-02, -3.2365e-02]],\n",
              "              \n",
              "                       [[-2.2690e-02, -3.2858e-02, -6.2460e-02],\n",
              "                        [-8.0682e-02,  9.0932e-02,  5.7940e-02],\n",
              "                        [ 8.5113e-02,  9.3525e-02, -4.0601e-02]],\n",
              "              \n",
              "                       [[ 5.5639e-02,  2.4533e-02, -2.9231e-02],\n",
              "                        [ 5.5845e-02,  6.8708e-02,  8.9964e-02],\n",
              "                        [ 6.1346e-02, -1.9936e-02, -5.1831e-02]],\n",
              "              \n",
              "                       [[-4.6940e-02, -3.9897e-02, -4.6490e-02],\n",
              "                        [-6.6244e-02, -8.0457e-03,  5.1570e-02],\n",
              "                        [-6.6911e-02, -4.9159e-02, -4.9441e-02]],\n",
              "              \n",
              "                       [[-4.1447e-02, -4.6550e-02, -1.2525e-02],\n",
              "                        [ 3.3922e-02, -4.6229e-02, -3.6236e-03],\n",
              "                        [-7.2808e-02, -6.9360e-02, -1.0051e-01]],\n",
              "              \n",
              "                       [[-9.9184e-02, -1.4293e-02,  4.5316e-02],\n",
              "                        [-4.7010e-02, -8.0788e-02,  8.6213e-02],\n",
              "                        [-2.0256e-02, -3.3203e-02, -5.3342e-02]]],\n",
              "              \n",
              "              \n",
              "                      [[[ 4.8490e-03,  2.2349e-02,  8.1087e-02],\n",
              "                        [ 1.5306e-02,  8.4719e-02, -3.7396e-02],\n",
              "                        [ 4.8410e-02,  4.1334e-02, -6.7813e-02]],\n",
              "              \n",
              "                       [[-1.1651e-02, -6.2162e-02,  2.5007e-02],\n",
              "                        [-1.4880e-02, -1.5119e-02,  6.0080e-03],\n",
              "                        [ 3.9100e-02, -4.9899e-02, -4.4229e-03]],\n",
              "              \n",
              "                       [[ 7.4593e-02,  3.3617e-02, -9.9860e-02],\n",
              "                        [ 1.0056e-01,  8.8225e-02,  4.9085e-02],\n",
              "                        [ 9.6506e-02, -7.3081e-02,  2.9422e-02]],\n",
              "              \n",
              "                       [[-1.3448e-02, -7.3054e-02, -3.8652e-02],\n",
              "                        [ 5.8086e-02, -6.9103e-02,  1.4574e-02],\n",
              "                        [ 2.1372e-02,  9.2038e-02, -1.0408e-01]],\n",
              "              \n",
              "                       [[-7.7120e-02,  6.8136e-02,  4.1743e-02],\n",
              "                        [ 4.0532e-02, -3.4942e-02, -5.9856e-02],\n",
              "                        [-7.8463e-02,  3.3251e-02, -9.8356e-02]],\n",
              "              \n",
              "                       [[ 9.6637e-02, -3.5238e-02,  5.4831e-02],\n",
              "                        [-2.9375e-02, -7.4685e-02,  2.2701e-03],\n",
              "                        [-4.7535e-02,  7.5315e-02, -1.3880e-02]],\n",
              "              \n",
              "                       [[ 2.6164e-02,  3.3590e-03, -3.4851e-02],\n",
              "                        [ 9.5258e-03, -3.6212e-03, -7.7643e-02],\n",
              "                        [-7.7223e-02, -4.3585e-02, -1.0067e-02]],\n",
              "              \n",
              "                       [[ 6.3642e-02,  9.2147e-02,  1.0126e-01],\n",
              "                        [-2.3769e-02,  9.9980e-02, -5.4238e-02],\n",
              "                        [-1.2390e-02,  6.0714e-02, -3.5179e-02]],\n",
              "              \n",
              "                       [[ 5.7959e-02, -9.3825e-02, -2.9941e-02],\n",
              "                        [ 1.4108e-02,  2.8141e-02,  2.6909e-02],\n",
              "                        [ 4.5269e-02,  6.6997e-02, -1.5821e-02]],\n",
              "              \n",
              "                       [[ 9.3299e-02,  2.2409e-02,  4.6485e-02],\n",
              "                        [-5.6981e-02,  3.5631e-02, -3.0780e-02],\n",
              "                        [ 2.5630e-02, -3.6754e-02, -3.5950e-02]]],\n",
              "              \n",
              "              \n",
              "                      [[[-4.8012e-02,  3.1980e-02,  5.0588e-02],\n",
              "                        [-2.7349e-02,  3.2401e-02,  3.9159e-02],\n",
              "                        [ 3.4851e-02, -1.7393e-02,  9.2121e-02]],\n",
              "              \n",
              "                       [[ 2.0696e-02,  5.2286e-02,  1.2523e-02],\n",
              "                        [ 6.5884e-02, -9.8516e-02, -8.3759e-02],\n",
              "                        [ 7.0435e-02, -5.5943e-02, -5.6394e-02]],\n",
              "              \n",
              "                       [[ 1.0650e-02,  2.7213e-02, -1.0365e-01],\n",
              "                        [ 8.6629e-02, -6.3395e-02, -2.1211e-03],\n",
              "                        [-6.4044e-02, -5.5074e-02,  1.0343e-02]],\n",
              "              \n",
              "                       [[ 9.5696e-02, -1.5622e-02,  2.5656e-03],\n",
              "                        [-9.1741e-02,  1.4150e-02, -6.2504e-02],\n",
              "                        [-7.4282e-02,  1.8254e-02,  5.0886e-02]],\n",
              "              \n",
              "                       [[-5.8823e-02,  4.4866e-02, -5.1338e-02],\n",
              "                        [ 5.7201e-02,  1.7761e-02, -7.5300e-02],\n",
              "                        [-5.7463e-02, -5.4712e-02, -4.6263e-02]],\n",
              "              \n",
              "                       [[ 5.8318e-02, -2.2346e-03, -4.1985e-02],\n",
              "                        [-8.8986e-02,  9.2676e-02, -6.4194e-02],\n",
              "                        [ 3.7818e-02,  3.9797e-02,  2.0966e-02]],\n",
              "              \n",
              "                       [[-8.3719e-02, -7.6968e-02, -1.3032e-02],\n",
              "                        [ 2.5264e-02, -6.6337e-02,  9.1393e-02],\n",
              "                        [ 1.9079e-02, -9.9405e-02,  8.0297e-02]],\n",
              "              \n",
              "                       [[ 2.2479e-02,  1.6264e-02,  5.4378e-02],\n",
              "                        [-6.3174e-02, -8.3466e-02, -4.6566e-02],\n",
              "                        [ 2.5381e-02, -8.2477e-02, -3.0073e-02]],\n",
              "              \n",
              "                       [[-1.1257e-02, -5.1968e-02,  8.5993e-02],\n",
              "                        [ 7.2279e-02,  8.9111e-02,  2.2807e-02],\n",
              "                        [-2.3018e-02, -4.5168e-03,  4.0170e-02]],\n",
              "              \n",
              "                       [[-1.2649e-02,  6.9814e-02, -7.1674e-02],\n",
              "                        [-1.8636e-02,  8.3403e-03,  9.6311e-02],\n",
              "                        [-7.4873e-02,  5.6394e-02,  8.1605e-02]]],\n",
              "              \n",
              "              \n",
              "                      [[[ 9.6452e-02,  2.8898e-02,  2.2231e-02],\n",
              "                        [-8.7346e-02, -3.0472e-03, -7.4908e-02],\n",
              "                        [ 9.4491e-02, -6.0294e-02,  6.6896e-02]],\n",
              "              \n",
              "                       [[-5.3323e-02, -1.3599e-02,  4.0868e-02],\n",
              "                        [-3.6685e-02, -5.2972e-02,  6.6041e-02],\n",
              "                        [ 7.3394e-02, -3.0708e-02,  2.7890e-03]],\n",
              "              \n",
              "                       [[-9.8067e-02, -4.2576e-02,  1.6508e-02],\n",
              "                        [-4.7386e-02, -3.6207e-02, -4.7231e-02],\n",
              "                        [-6.4525e-05, -5.2961e-02, -2.9564e-02]],\n",
              "              \n",
              "                       [[ 8.3520e-02, -6.0850e-02,  6.7243e-02],\n",
              "                        [ 4.6903e-02, -5.2819e-02, -6.0010e-02],\n",
              "                        [ 9.3199e-02,  2.9873e-02,  1.9342e-02]],\n",
              "              \n",
              "                       [[-1.0540e-01, -4.2976e-02, -6.6082e-02],\n",
              "                        [ 4.5465e-02, -9.9288e-02,  3.0836e-02],\n",
              "                        [ 3.9437e-02,  6.6076e-02, -5.8172e-02]],\n",
              "              \n",
              "                       [[-1.3332e-02, -2.2640e-02,  7.9721e-02],\n",
              "                        [-7.4149e-02, -9.7064e-02, -8.2381e-02],\n",
              "                        [ 1.3198e-02, -2.4159e-02,  6.0181e-02]],\n",
              "              \n",
              "                       [[ 1.0433e-01,  4.7297e-02, -7.5070e-02],\n",
              "                        [ 1.0449e-02, -1.0435e-01, -8.7426e-02],\n",
              "                        [ 6.0198e-02, -3.2515e-02,  7.0612e-04]],\n",
              "              \n",
              "                       [[ 8.5271e-02,  7.0639e-02,  7.8263e-03],\n",
              "                        [ 2.8897e-02, -5.8798e-02, -1.0320e-01],\n",
              "                        [-2.9923e-02,  1.0429e-01,  3.2998e-02]],\n",
              "              \n",
              "                       [[-2.6081e-02, -6.6373e-02,  6.3290e-02],\n",
              "                        [ 5.9023e-02, -2.2720e-02, -2.4421e-02],\n",
              "                        [-2.6004e-02, -1.9038e-02,  2.0394e-02]],\n",
              "              \n",
              "                       [[-7.6502e-02,  8.9241e-02, -9.8936e-02],\n",
              "                        [-9.9265e-02,  1.6349e-02,  5.7377e-03],\n",
              "                        [ 7.5886e-02,  6.3508e-02,  9.0894e-02]]],\n",
              "              \n",
              "              \n",
              "                      [[[ 8.8919e-03, -2.6466e-02, -9.4530e-02],\n",
              "                        [ 1.7345e-02,  1.0177e-01, -4.7822e-02],\n",
              "                        [ 7.2132e-02,  7.1239e-02, -3.2186e-02]],\n",
              "              \n",
              "                       [[-4.7175e-02, -6.3874e-02,  7.8318e-02],\n",
              "                        [ 6.3767e-02, -4.3231e-02, -1.1839e-03],\n",
              "                        [ 4.0489e-02,  7.8813e-02,  6.5329e-02]],\n",
              "              \n",
              "                       [[ 1.0367e-01,  7.2604e-02, -6.3904e-02],\n",
              "                        [-7.3450e-02,  5.8365e-02,  7.0626e-02],\n",
              "                        [ 9.7275e-02, -4.3075e-02, -3.1311e-02]],\n",
              "              \n",
              "                       [[ 9.2462e-02, -3.7562e-02,  9.1328e-02],\n",
              "                        [ 7.8822e-02, -5.6392e-02,  2.5302e-02],\n",
              "                        [-1.0380e-01,  6.1689e-02,  2.0626e-02]],\n",
              "              \n",
              "                       [[-7.7094e-02, -2.5182e-02,  3.8925e-02],\n",
              "                        [ 9.4982e-02, -4.9542e-02,  5.2556e-02],\n",
              "                        [ 1.7201e-02, -3.2026e-02,  6.2260e-02]],\n",
              "              \n",
              "                       [[-2.6313e-02,  4.4437e-02, -5.8651e-02],\n",
              "                        [-1.0263e-01, -3.4793e-02, -4.3042e-02],\n",
              "                        [ 5.6193e-02, -8.9257e-02,  2.5981e-03]],\n",
              "              \n",
              "                       [[ 1.0083e-01,  1.4935e-03,  8.5173e-02],\n",
              "                        [-6.1532e-02, -5.9106e-02,  1.5425e-02],\n",
              "                        [ 5.8422e-02,  7.7968e-02,  4.0430e-03]],\n",
              "              \n",
              "                       [[ 6.6152e-02,  6.8731e-02,  1.0436e-01],\n",
              "                        [ 1.0073e-01,  4.6785e-02,  6.7606e-03],\n",
              "                        [ 8.9879e-02,  3.3856e-02, -6.1290e-02]],\n",
              "              \n",
              "                       [[ 9.9582e-02, -6.5282e-02, -4.5350e-02],\n",
              "                        [ 6.0851e-02,  1.4525e-02, -5.1653e-02],\n",
              "                        [ 4.2582e-03, -8.8345e-02,  9.4753e-02]],\n",
              "              \n",
              "                       [[ 7.9708e-02, -9.4140e-02,  9.9438e-02],\n",
              "                        [-1.0304e-01, -2.2309e-03,  6.1812e-02],\n",
              "                        [-1.0168e-01,  6.5529e-02,  2.6708e-02]]],\n",
              "              \n",
              "              \n",
              "                      [[[-9.1165e-02,  9.5606e-02, -7.8017e-02],\n",
              "                        [-5.4452e-03,  6.0731e-03, -7.4020e-02],\n",
              "                        [-7.8747e-02,  2.9714e-02, -8.8821e-02]],\n",
              "              \n",
              "                       [[-5.8270e-02,  4.0943e-02,  4.0602e-03],\n",
              "                        [ 1.0448e-01,  2.1574e-02, -6.8890e-03],\n",
              "                        [-2.8048e-02,  4.0580e-04,  9.3993e-02]],\n",
              "              \n",
              "                       [[ 4.7111e-02,  5.9161e-02,  7.0138e-02],\n",
              "                        [-5.6657e-03, -5.0911e-02,  8.1846e-02],\n",
              "                        [ 9.7195e-02,  2.9694e-02, -4.5708e-02]],\n",
              "              \n",
              "                       [[-3.3086e-02, -2.9240e-02, -5.0723e-02],\n",
              "                        [-1.0353e-01, -1.5238e-02, -1.0558e-02],\n",
              "                        [-4.0202e-02, -3.2895e-02,  3.3691e-02]],\n",
              "              \n",
              "                       [[ 2.6923e-02, -8.6227e-02,  4.0005e-02],\n",
              "                        [-4.1003e-02,  3.7257e-02, -8.9394e-02],\n",
              "                        [ 9.2648e-02, -8.4857e-02, -5.9239e-02]],\n",
              "              \n",
              "                       [[-2.0473e-02,  2.7698e-02,  4.6354e-03],\n",
              "                        [ 2.1672e-02, -7.4615e-02, -6.3599e-02],\n",
              "                        [ 8.1669e-02, -1.5954e-02, -4.8269e-02]],\n",
              "              \n",
              "                       [[ 3.8751e-02,  8.7014e-02, -4.3070e-02],\n",
              "                        [-4.4493e-03, -1.9269e-02,  7.4298e-02],\n",
              "                        [ 9.5715e-02,  2.7701e-02, -8.2982e-02]],\n",
              "              \n",
              "                       [[-8.9022e-03,  5.4893e-02,  2.6269e-02],\n",
              "                        [-6.2069e-02, -3.3406e-02,  1.2780e-02],\n",
              "                        [ 5.8257e-03,  8.7506e-02, -4.8522e-02]],\n",
              "              \n",
              "                       [[ 5.6660e-02,  2.3283e-02, -5.0940e-02],\n",
              "                        [ 7.8500e-02, -8.8634e-02, -7.0576e-02],\n",
              "                        [-6.9112e-02, -1.0363e-01,  6.2891e-02]],\n",
              "              \n",
              "                       [[ 9.4284e-02,  8.4596e-02,  3.8535e-02],\n",
              "                        [ 6.5114e-02,  2.9360e-03, -4.2030e-02],\n",
              "                        [-6.5042e-03,  8.6419e-03,  3.6311e-02]]],\n",
              "              \n",
              "              \n",
              "                      [[[ 9.2416e-02,  8.7212e-02, -1.8894e-02],\n",
              "                        [-9.1844e-02, -6.3442e-02, -8.6447e-02],\n",
              "                        [-2.1630e-02,  5.2123e-02,  5.2189e-02]],\n",
              "              \n",
              "                       [[ 2.5331e-02, -5.6064e-02, -7.6282e-02],\n",
              "                        [-9.1794e-02,  3.6330e-02,  6.7594e-02],\n",
              "                        [ 7.3907e-02, -3.8988e-03,  1.8352e-02]],\n",
              "              \n",
              "                       [[-1.0172e-01,  5.7276e-02, -4.9344e-02],\n",
              "                        [-6.5524e-02, -1.6251e-02, -6.7369e-02],\n",
              "                        [-7.3811e-02, -3.8260e-02, -8.8681e-02]],\n",
              "              \n",
              "                       [[ 5.5471e-02,  1.9167e-02, -5.0053e-02],\n",
              "                        [-8.2358e-02,  4.2216e-02,  8.6437e-02],\n",
              "                        [ 8.9531e-02,  4.1239e-02, -5.6066e-02]],\n",
              "              \n",
              "                       [[ 2.9109e-02, -7.0697e-02,  1.0149e-01],\n",
              "                        [-1.8523e-03, -3.7430e-02, -8.9887e-03],\n",
              "                        [-7.6072e-02,  1.3154e-02, -6.6788e-02]],\n",
              "              \n",
              "                       [[-3.8935e-02,  3.9144e-02,  5.1036e-03],\n",
              "                        [ 3.3069e-02,  7.7294e-02,  5.7674e-03],\n",
              "                        [ 3.8106e-02,  8.9284e-02,  9.2929e-02]],\n",
              "              \n",
              "                       [[-9.9375e-02, -3.0275e-02, -4.4324e-02],\n",
              "                        [ 1.5682e-03,  9.4892e-02,  3.6686e-02],\n",
              "                        [ 3.3695e-02,  6.7544e-02, -5.8732e-02]],\n",
              "              \n",
              "                       [[ 5.3804e-03,  8.7546e-02, -5.0000e-02],\n",
              "                        [-5.2779e-02,  1.1428e-02,  6.0382e-02],\n",
              "                        [-4.6487e-02,  8.2970e-02,  1.5670e-02]],\n",
              "              \n",
              "                       [[-8.5506e-02,  2.6288e-02, -5.7601e-02],\n",
              "                        [ 1.4254e-03,  5.9293e-02, -3.5910e-02],\n",
              "                        [ 7.2915e-02,  9.0179e-02,  3.8097e-02]],\n",
              "              \n",
              "                       [[-7.0673e-02,  9.9730e-02,  8.4884e-02],\n",
              "                        [ 1.3205e-02,  1.1176e-03,  2.9166e-02],\n",
              "                        [ 7.7643e-02,  2.1232e-02, -8.7594e-02]]]])),\n",
              "             ('block_2.2.bias',\n",
              "              tensor([ 0.0853, -0.0836,  0.0657, -0.0113,  0.0351, -0.1024, -0.0144,  0.0834,\n",
              "                      -0.0284,  0.0960])),\n",
              "             ('classification.1.weight',\n",
              "              tensor([[ 0.0248, -0.0149, -0.0366,  ...,  0.0430,  0.0320,  0.0164],\n",
              "                      [-0.0317, -0.0272,  0.0343,  ...,  0.0218,  0.0420, -0.0412],\n",
              "                      [ 0.0310,  0.0302, -0.0154,  ..., -0.0025,  0.0013,  0.0368],\n",
              "                      ...,\n",
              "                      [-0.0441, -0.0247,  0.0413,  ..., -0.0397,  0.0295, -0.0320],\n",
              "                      [-0.0126,  0.0101,  0.0120,  ...,  0.0131, -0.0336, -0.0115],\n",
              "                      [ 0.0367, -0.0145, -0.0346,  ...,  0.0280, -0.0447,  0.0072]])),\n",
              "             ('classification.1.bias',\n",
              "              tensor([ 0.0267,  0.0063, -0.0336, -0.0258,  0.0346,  0.0042, -0.0201,  0.0174,\n",
              "                       0.0308, -0.0248]))])"
            ]
          },
          "metadata": {},
          "execution_count": 45
        }
      ]
    },
    {
      "cell_type": "code",
      "source": [
        "# test conv2d on randon data\n",
        "\n",
        "torch.manual_seed(32)\n",
        "\n",
        "data = torch.randn([32, 3, 64, 64])\n",
        "data[0].shape"
      ],
      "metadata": {
        "id": "rv12J2nW4Ha-",
        "colab": {
          "base_uri": "https://localhost:8080/"
        },
        "outputId": "ab175726-a5e0-4a17-cc68-8fdc82fb3e13"
      },
      "execution_count": 46,
      "outputs": [
        {
          "output_type": "execute_result",
          "data": {
            "text/plain": [
              "torch.Size([3, 64, 64])"
            ]
          },
          "metadata": {},
          "execution_count": 46
        }
      ]
    },
    {
      "cell_type": "code",
      "source": [
        "conv_layer = nn.Conv2d(in_channels=3,\n",
        "                       out_channels=24,\n",
        "                       kernel_size=3,\n",
        "                       stride=1,\n",
        "                       padding=0)\n",
        "\n",
        "pass_trhough_conv_layer = conv_layer(data[0].unsqueeze(0))"
      ],
      "metadata": {
        "id": "AslzjuvM6NSX"
      },
      "execution_count": 47,
      "outputs": []
    },
    {
      "cell_type": "code",
      "source": [
        "maxpool_layer = nn.MaxPool2d(kernel_size=2)\n",
        "\n",
        "pass_throught_maxPool_layer = maxpool_layer(pass_trhough_conv_layer)"
      ],
      "metadata": {
        "id": "QkAIrTOH7G9_"
      },
      "execution_count": 48,
      "outputs": []
    },
    {
      "cell_type": "code",
      "source": [
        "print(f\"shape (pass_trhough_conv_layer): {pass_trhough_conv_layer.shape}\")\n",
        "print(f\"shape (pass_throught_maxPool_layer): {pass_throught_maxPool_layer.shape}\")"
      ],
      "metadata": {
        "id": "iYsL0PZmKu-d",
        "colab": {
          "base_uri": "https://localhost:8080/"
        },
        "outputId": "33ad7890-bdfd-4f8e-9c76-ee8562417021"
      },
      "execution_count": 49,
      "outputs": [
        {
          "output_type": "stream",
          "name": "stdout",
          "text": [
            "shape (pass_trhough_conv_layer): torch.Size([1, 24, 62, 62])\n",
            "shape (pass_throught_maxPool_layer): torch.Size([1, 24, 31, 31])\n"
          ]
        }
      ]
    },
    {
      "cell_type": "code",
      "source": [
        "# test training o dummy data\n",
        "torch.manual_seed(43)\n",
        "\n",
        "rand_idx = torch.randint(0, len(train_data_loader), size=[1]).item()\n",
        "image, image_label_idx = train_data_loader.dataset[rand_idx]\n",
        "image = image.to(device)\n",
        "class_names[image_label_idx]"
      ],
      "metadata": {
        "id": "m_yMTGbtLeFl",
        "colab": {
          "base_uri": "https://localhost:8080/",
          "height": 36
        },
        "outputId": "ddeb0ea2-1a21-469d-be85-85cace4b0685"
      },
      "execution_count": 50,
      "outputs": [
        {
          "output_type": "execute_result",
          "data": {
            "text/plain": [
              "'Sneaker'"
            ],
            "application/vnd.google.colaboratory.intrinsic+json": {
              "type": "string"
            }
          },
          "metadata": {},
          "execution_count": 50
        }
      ]
    },
    {
      "cell_type": "code",
      "source": [
        "image.device"
      ],
      "metadata": {
        "id": "v6evgnqsS6S4",
        "colab": {
          "base_uri": "https://localhost:8080/"
        },
        "outputId": "265800f0-f6e8-4929-f958-f14f33549ca4"
      },
      "execution_count": 51,
      "outputs": [
        {
          "output_type": "execute_result",
          "data": {
            "text/plain": [
              "device(type='cpu')"
            ]
          },
          "metadata": {},
          "execution_count": 51
        }
      ]
    },
    {
      "cell_type": "code",
      "source": [
        "plt.figure(figsize=(12, 6))\n",
        "plt.title(class_names[image_label_idx])\n",
        "plt.imshow(image.cpu().squeeze(), cmap=\"gray\")\n",
        "plt.axis(\"off\")"
      ],
      "metadata": {
        "id": "Wbj7_7zOOwht",
        "colab": {
          "base_uri": "https://localhost:8080/",
          "height": 538
        },
        "outputId": "707606b6-2823-4cc0-a44c-795bd8fe9d6c"
      },
      "execution_count": 52,
      "outputs": [
        {
          "output_type": "execute_result",
          "data": {
            "text/plain": [
              "(-0.5, 27.5, 27.5, -0.5)"
            ]
          },
          "metadata": {},
          "execution_count": 52
        },
        {
          "output_type": "display_data",
          "data": {
            "text/plain": [
              "<Figure size 1200x600 with 1 Axes>"
            ],
            "image/png": "[encoded data removed]"
          },
          "metadata": {}
        }
      ]
    },
    {
      "cell_type": "code",
      "source": [
        "trained_data = model_2(image.unsqueeze(dim=0))\n"
      ],
      "metadata": {
        "id": "it-sofUDQ2zn"
      },
      "execution_count": 53,
      "outputs": []
    },
    {
      "cell_type": "code",
      "source": [
        "pred = trained_data.softmax(dim=1).argmax(dim=1)\n",
        "pred"
      ],
      "metadata": {
        "id": "vARgAGlLQIpD",
        "colab": {
          "base_uri": "https://localhost:8080/"
        },
        "outputId": "11817117-5040-487c-812a-847e924cc189"
      },
      "execution_count": 54,
      "outputs": [
        {
          "output_type": "execute_result",
          "data": {
            "text/plain": [
              "tensor(4)"
            ]
          },
          "metadata": {},
          "execution_count": 54
        }
      ]
    },
    {
      "cell_type": "code",
      "source": [
        "class_names[pred]"
      ],
      "metadata": {
        "id": "e0BbAXmcXXTL",
        "colab": {
          "base_uri": "https://localhost:8080/",
          "height": 36
        },
        "outputId": "3c29dd52-4d58-4add-d092-a8f36e756aef"
      },
      "execution_count": 55,
      "outputs": [
        {
          "output_type": "execute_result",
          "data": {
            "text/plain": [
              "'Coat'"
            ],
            "application/vnd.google.colaboratory.intrinsic+json": {
              "type": "string"
            }
          },
          "metadata": {},
          "execution_count": 55
        }
      ]
    },
    {
      "cell_type": "markdown",
      "source": [
        "Set loss and optimiser functions for CNN version of Fashion"
      ],
      "metadata": {
        "id": "QKVW79QjYPAS"
      }
    },
    {
      "cell_type": "code",
      "source": [
        "# import helper_functions' acuracy_fn()\n",
        "from pathlib import Path\n",
        "import requests\n",
        "\n",
        "if not Path(\"helper_functions.py\").is_file():\n",
        "  request = requests.get(\"https://raw.githubusercontent.com/mrdbourke/pytorch-deep-learning/main/helper_functions.py\")\n",
        "\n",
        "  with open(\"helper_functions.py\", \"wb\") as f:\n",
        "    f.write(request.content)\n"
      ],
      "metadata": {
        "id": "lLFyzeDLfcbj"
      },
      "execution_count": 56,
      "outputs": []
    },
    {
      "cell_type": "code",
      "source": [
        "from helper_functions import accuracy_fn\n"
      ],
      "metadata": {
        "id": "OyjKpDivgVhR"
      },
      "execution_count": 57,
      "outputs": []
    },
    {
      "cell_type": "code",
      "source": [
        "loss_fn = nn.CrossEntropyLoss()\n",
        "\n",
        "optimizer = torch.optim.SGD(params=model_2.parameters(),\n",
        "                           lr=0.1)\n"
      ],
      "metadata": {
        "id": "cnAIsVUygaJE"
      },
      "execution_count": 58,
      "outputs": []
    },
    {
      "cell_type": "code",
      "source": [
        "# enable progress bar for tracking execution of training and testiond processes\n",
        "from tqdm import tqdm"
      ],
      "metadata": {
        "id": "gQ9yZi6Oh1kr"
      },
      "execution_count": 59,
      "outputs": []
    },
    {
      "cell_type": "code",
      "source": [
        "from timeit import default_timer as timer"
      ],
      "metadata": {
        "id": "cDbNNWWKjoPg"
      },
      "execution_count": 60,
      "outputs": []
    },
    {
      "cell_type": "code",
      "source": [
        "device"
      ],
      "metadata": {
        "colab": {
          "base_uri": "https://localhost:8080/",
          "height": 36
        },
        "id": "S8NLn6WbjgZZ",
        "outputId": "db5d45c3-3271-4090-c99c-1fb92b1d7be7"
      },
      "execution_count": 61,
      "outputs": [
        {
          "output_type": "execute_result",
          "data": {
            "text/plain": [
              "'cpu'"
            ],
            "application/vnd.google.colaboratory.intrinsic+json": {
              "type": "string"
            }
          },
          "metadata": {},
          "execution_count": 61
        }
      ]
    },
    {
      "cell_type": "code",
      "source": [
        "# training and testing\n",
        "\n",
        "epochs_n = 3\n",
        "test_step=3\n",
        "training_start_time = timer()\n",
        "\n",
        "for epoch in tqdm(range(epochs_n)):\n",
        "  train_model(model=model_2,\n",
        "              data_loader=train_data_loader,\n",
        "              loss_fn=loss_fn,\n",
        "              optimizer=optimizer,\n",
        "              accuracy_fn=accuracy_fn,\n",
        "              device=device)\n",
        "\n",
        "  if (epoch + 1) % test_step == 0:\n",
        "    test_model(model=model_2,\n",
        "               data_loader=test_data_loader,\n",
        "               loss_fn=loss_fn,\n",
        "               accuracy_fn=accuracy_fn,\n",
        "               device=device)\n",
        "\n",
        "training_end_time = timer()\n",
        "training_model_2_time = measure_process_exec(time_start=training_start_time,\n",
        "                                             time_end=training_end_time,\n",
        "                                             device=device)\n"
      ],
      "metadata": {
        "colab": {
          "base_uri": "https://localhost:8080/"
        },
        "id": "hXOqJFHigtC6",
        "outputId": "2191a957-a785-4109-bc0b-90de446f8717"
      },
      "execution_count": 62,
      "outputs": [
        {
          "output_type": "stream",
          "name": "stderr",
          "text": [
            "\r  0%|          | 0/3 [00:00<?, ?it/s]"
          ]
        },
        {
          "output_type": "stream",
          "name": "stdout",
          "text": [
            "0/60000 training data processed\n",
            "12800/60000 training data processed\n",
            "25600/60000 training data processed\n",
            "38400/60000 training data processed\n",
            "51200/60000 training data processed\n"
          ]
        },
        {
          "output_type": "stream",
          "name": "stderr",
          "text": [
            "\r 33%|███▎      | 1/3 [00:52<01:45, 52.64s/it]"
          ]
        },
        {
          "output_type": "stream",
          "name": "stdout",
          "text": [
            "train loss: 0.61, train accuracy: 77.89%\n",
            "0/60000 training data processed\n",
            "12800/60000 training data processed\n",
            "25600/60000 training data processed\n",
            "38400/60000 training data processed\n",
            "51200/60000 training data processed\n"
          ]
        },
        {
          "output_type": "stream",
          "name": "stderr",
          "text": [
            "\r 67%|██████▋   | 2/3 [01:42<00:51, 51.07s/it]"
          ]
        },
        {
          "output_type": "stream",
          "name": "stdout",
          "text": [
            "train loss: 0.36, train accuracy: 87.14%\n",
            "0/60000 training data processed\n",
            "12800/60000 training data processed\n",
            "25600/60000 training data processed\n",
            "38400/60000 training data processed\n",
            "51200/60000 training data processed\n",
            "train loss: 0.32, train accuracy: 88.58%\n"
          ]
        },
        {
          "output_type": "stream",
          "name": "stderr",
          "text": [
            "100%|██████████| 3/3 [02:35<00:00, 51.96s/it]"
          ]
        },
        {
          "output_type": "stream",
          "name": "stdout",
          "text": [
            "test loss: 0.33, test accuracy: 87.74%\n",
            "execution time: 155.888 on device cpu\n"
          ]
        },
        {
          "output_type": "stream",
          "name": "stderr",
          "text": [
            "\n"
          ]
        }
      ]
    },
    {
      "cell_type": "code",
      "source": [
        "model_2_evaluation = eval_model(model_2,\n",
        "                             test_data_loader,\n",
        "                             loss_fn=loss_fn,\n",
        "                             accuracy_fn=accuracy_fn)"
      ],
      "metadata": {
        "id": "rGgmWnyIi8an"
      },
      "execution_count": 63,
      "outputs": []
    },
    {
      "cell_type": "code",
      "source": [
        "model_0_evaluation"
      ],
      "metadata": {
        "colab": {
          "base_uri": "https://localhost:8080/"
        },
        "id": "zfRW9yC5r1nL",
        "outputId": "2dde55e8-d00d-47ec-c15b-c127cbaf3782"
      },
      "execution_count": 64,
      "outputs": [
        {
          "output_type": "execute_result",
          "data": {
            "text/plain": [
              "{'test_loss': tensor(0.4773),\n",
              " 'test_accuracy': 83.14696485623003,\n",
              " 'model_name': 'FashionMNISTModel_V0'}"
            ]
          },
          "metadata": {},
          "execution_count": 64
        }
      ]
    },
    {
      "cell_type": "code",
      "source": [
        "import pandas as pd"
      ],
      "metadata": {
        "id": "oE0DRIKNr3Pw"
      },
      "execution_count": 65,
      "outputs": []
    },
    {
      "cell_type": "code",
      "source": [
        "models_performance = pd.DataFrame([model_0_evaluation, model_1_evaluation, model_2_evaluation])"
      ],
      "metadata": {
        "id": "98SQEBAEsiNQ"
      },
      "execution_count": 66,
      "outputs": []
    },
    {
      "cell_type": "code",
      "source": [
        "models_performance"
      ],
      "metadata": {
        "colab": {
          "base_uri": "https://localhost:8080/",
          "height": 143
        },
        "id": "xcsTNTdasxCw",
        "outputId": "b58117d8-3652-4699-939d-d93f6ea8050b"
      },
      "execution_count": 67,
      "outputs": [
        {
          "output_type": "execute_result",
          "data": {
            "text/plain": [
              "        test_loss  test_accuracy            model_name\n",
              "0  tensor(0.4773)      83.146965  FashionMNISTModel_V0\n",
              "1  tensor(0.4832)      83.206869       FashionMNIST_V1\n",
              "2  tensor(0.3336)      87.739617       FashionMNIST_V2"
            ],
            "text/html": [
              "\n",
              "  <div id=\"df-3f338a9f-cb40-498e-8596-95f880d9c18b\" class=\"colab-df-container\">\n",
              "    <div>\n",
              "<style scoped>\n",
              "    .dataframe tbody tr th:only-of-type {\n",
              "        vertical-align: middle;\n",
              "    }\n",
              "\n",
              "    .dataframe tbody tr th {\n",
              "        vertical-align: top;\n",
              "    }\n",
              "\n",
              "    .dataframe thead th {\n",
              "        text-align: right;\n",
              "    }\n",
              "</style>\n",
              "<table border=\"1\" class=\"dataframe\">\n",
              "  <thead>\n",
              "    <tr style=\"text-align: right;\">\n",
              "      <th></th>\n",
              "      <th>test_loss</th>\n",
              "      <th>test_accuracy</th>\n",
              "      <th>model_name</th>\n",
              "    </tr>\n",
              "  </thead>\n",
              "  <tbody>\n",
              "    <tr>\n",
              "      <th>0</th>\n",
              "      <td>tensor(0.4773)</td>\n",
              "      <td>83.146965</td>\n",
              "      <td>FashionMNISTModel_V0</td>\n",
              "    </tr>\n",
              "    <tr>\n",
              "      <th>1</th>\n",
              "      <td>tensor(0.4832)</td>\n",
              "      <td>83.206869</td>\n",
              "      <td>FashionMNIST_V1</td>\n",
              "    </tr>\n",
              "    <tr>\n",
              "      <th>2</th>\n",
              "      <td>tensor(0.3336)</td>\n",
              "      <td>87.739617</td>\n",
              "      <td>FashionMNIST_V2</td>\n",
              "    </tr>\n",
              "  </tbody>\n",
              "</table>\n",
              "</div>\n",
              "    <div class=\"colab-df-buttons\">\n",
              "\n",
              "  <div class=\"colab-df-container\">\n",
              "    <button class=\"colab-df-convert\" onclick=\"convertToInteractive('df-3f338a9f-cb40-498e-8596-95f880d9c18b')\"\n",
              "            title=\"Convert this dataframe to an interactive table.\"\n",
              "            style=\"display:none;\">\n",
              "\n",
              "  <svg xmlns=\"http://www.w3.org/2000/svg\" height=\"24px\" viewBox=\"0 -960 960 960\">\n",
              "    <path d=\"M120-120v-720h720v720H120Zm60-500h600v-160H180v160Zm220 220h160v-160H400v160Zm0 220h160v-160H400v160ZM180-400h160v-160H180v160Zm440 0h160v-160H620v160ZM180-180h160v-160H180v160Zm440 0h160v-160H620v160Z\"/>\n",
              "  </svg>\n",
              "    </button>\n",
              "\n",
              "  <style>\n",
              "    .colab-df-container {\n",
              "      display:flex;\n",
              "      gap: 12px;\n",
              "    }\n",
              "\n",
              "    .colab-df-convert {\n",
              "      background-color: #E8F0FE;\n",
              "      border: none;\n",
              "      border-radius: 50%;\n",
              "      cursor: pointer;\n",
              "      display: none;\n",
              "      fill: #1967D2;\n",
              "      height: 32px;\n",
              "      padding: 0 0 0 0;\n",
              "      width: 32px;\n",
              "    }\n",
              "\n",
              "    .colab-df-convert:hover {\n",
              "      background-color: #E2EBFA;\n",
              "      box-shadow: 0px 1px 2px rgba(60, 64, 67, 0.3), 0px 1px 3px 1px rgba(60, 64, 67, 0.15);\n",
              "      fill: #174EA6;\n",
              "    }\n",
              "\n",
              "    .colab-df-buttons div {\n",
              "      margin-bottom: 4px;\n",
              "    }\n",
              "\n",
              "    [theme=dark] .colab-df-convert {\n",
              "      background-color: #3B4455;\n",
              "      fill: #D2E3FC;\n",
              "    }\n",
              "\n",
              "    [theme=dark] .colab-df-convert:hover {\n",
              "      background-color: #434B5C;\n",
              "      box-shadow: 0px 1px 3px 1px rgba(0, 0, 0, 0.15);\n",
              "      filter: drop-shadow(0px 1px 2px rgba(0, 0, 0, 0.3));\n",
              "      fill: #FFFFFF;\n",
              "    }\n",
              "  </style>\n",
              "\n",
              "    <script>\n",
              "      const buttonEl =\n",
              "        document.querySelector('#df-3f338a9f-cb40-498e-8596-95f880d9c18b button.colab-df-convert');\n",
              "      buttonEl.style.display =\n",
              "        google.colab.kernel.accessAllowed ? 'block' : 'none';\n",
              "\n",
              "      async function convertToInteractive(key) {\n",
              "        const element = document.querySelector('#df-3f338a9f-cb40-498e-8596-95f880d9c18b');\n",
              "        const dataTable =\n",
              "          await google.colab.kernel.invokeFunction('convertToInteractive',\n",
              "                                                    [key], {});\n",
              "        if (!dataTable) return;\n",
              "\n",
              "        const docLinkHtml = 'Like what you see? Visit the ' +\n",
              "          '<a target=\"_blank\" href=https://colab.research.google.com/notebooks/data_table.ipynb>data table notebook</a>'\n",
              "          + ' to learn more about interactive tables.';\n",
              "        element.innerHTML = '';\n",
              "        dataTable['output_type'] = 'display_data';\n",
              "        await google.colab.output.renderOutput(dataTable, element);\n",
              "        const docLink = document.createElement('div');\n",
              "        docLink.innerHTML = docLinkHtml;\n",
              "        element.appendChild(docLink);\n",
              "      }\n",
              "    </script>\n",
              "  </div>\n",
              "\n",
              "\n",
              "<div id=\"df-0249640a-b6d6-4f1b-8bf6-7874db78eebd\">\n",
              "  <button class=\"colab-df-quickchart\" onclick=\"quickchart('df-0249640a-b6d6-4f1b-8bf6-7874db78eebd')\"\n",
              "            title=\"Suggest charts\"\n",
              "            style=\"display:none;\">\n",
              "\n",
              "<svg xmlns=\"http://www.w3.org/2000/svg\" height=\"24px\"viewBox=\"0 0 24 24\"\n",
              "     width=\"24px\">\n",
              "    <g>\n",
              "        <path d=\"M19 3H5c-1.1 0-2 .9-2 2v14c0 1.1.9 2 2 2h14c1.1 0 2-.9 2-2V5c0-1.1-.9-2-2-2zM9 17H7v-7h2v7zm4 0h-2V7h2v10zm4 0h-2v-4h2v4z\"/>\n",
              "    </g>\n",
              "</svg>\n",
              "  </button>\n",
              "\n",
              "<style>\n",
              "  .colab-df-quickchart {\n",
              "      --bg-color: #E8F0FE;\n",
              "      --fill-color: #1967D2;\n",
              "      --hover-bg-color: #E2EBFA;\n",
              "      --hover-fill-color: #174EA6;\n",
              "      --disabled-fill-color: #AAA;\n",
              "      --disabled-bg-color: #DDD;\n",
              "  }\n",
              "\n",
              "  [theme=dark] .colab-df-quickchart {\n",
              "      --bg-color: #3B4455;\n",
              "      --fill-color: #D2E3FC;\n",
              "      --hover-bg-color: #434B5C;\n",
              "      --hover-fill-color: #FFFFFF;\n",
              "      --disabled-bg-color: #3B4455;\n",
              "      --disabled-fill-color: #666;\n",
              "  }\n",
              "\n",
              "  .colab-df-quickchart {\n",
              "    background-color: var(--bg-color);\n",
              "    border: none;\n",
              "    border-radius: 50%;\n",
              "    cursor: pointer;\n",
              "    display: none;\n",
              "    fill: var(--fill-color);\n",
              "    height: 32px;\n",
              "    padding: 0;\n",
              "    width: 32px;\n",
              "  }\n",
              "\n",
              "  .colab-df-quickchart:hover {\n",
              "    background-color: var(--hover-bg-color);\n",
              "    box-shadow: 0 1px 2px rgba(60, 64, 67, 0.3), 0 1px 3px 1px rgba(60, 64, 67, 0.15);\n",
              "    fill: var(--button-hover-fill-color);\n",
              "  }\n",
              "\n",
              "  .colab-df-quickchart-complete:disabled,\n",
              "  .colab-df-quickchart-complete:disabled:hover {\n",
              "    background-color: var(--disabled-bg-color);\n",
              "    fill: var(--disabled-fill-color);\n",
              "    box-shadow: none;\n",
              "  }\n",
              "\n",
              "  .colab-df-spinner {\n",
              "    border: 2px solid var(--fill-color);\n",
              "    border-color: transparent;\n",
              "    border-bottom-color: var(--fill-color);\n",
              "    animation:\n",
              "      spin 1s steps(1) infinite;\n",
              "  }\n",
              "\n",
              "  @keyframes spin {\n",
              "    0% {\n",
              "      border-color: transparent;\n",
              "      border-bottom-color: var(--fill-color);\n",
              "      border-left-color: var(--fill-color);\n",
              "    }\n",
              "    20% {\n",
              "      border-color: transparent;\n",
              "      border-left-color: var(--fill-color);\n",
              "      border-top-color: var(--fill-color);\n",
              "    }\n",
              "    30% {\n",
              "      border-color: transparent;\n",
              "      border-left-color: var(--fill-color);\n",
              "      border-top-color: var(--fill-color);\n",
              "      border-right-color: var(--fill-color);\n",
              "    }\n",
              "    40% {\n",
              "      border-color: transparent;\n",
              "      border-right-color: var(--fill-color);\n",
              "      border-top-color: var(--fill-color);\n",
              "    }\n",
              "    60% {\n",
              "      border-color: transparent;\n",
              "      border-right-color: var(--fill-color);\n",
              "    }\n",
              "    80% {\n",
              "      border-color: transparent;\n",
              "      border-right-color: var(--fill-color);\n",
              "      border-bottom-color: var(--fill-color);\n",
              "    }\n",
              "    90% {\n",
              "      border-color: transparent;\n",
              "      border-bottom-color: var(--fill-color);\n",
              "    }\n",
              "  }\n",
              "</style>\n",
              "\n",
              "  <script>\n",
              "    async function quickchart(key) {\n",
              "      const quickchartButtonEl =\n",
              "        document.querySelector('#' + key + ' button');\n",
              "      quickchartButtonEl.disabled = true;  // To prevent multiple clicks.\n",
              "      quickchartButtonEl.classList.add('colab-df-spinner');\n",
              "      try {\n",
              "        const charts = await google.colab.kernel.invokeFunction(\n",
              "            'suggestCharts', [key], {});\n",
              "      } catch (error) {\n",
              "        console.error('Error during call to suggestCharts:', error);\n",
              "      }\n",
              "      quickchartButtonEl.classList.remove('colab-df-spinner');\n",
              "      quickchartButtonEl.classList.add('colab-df-quickchart-complete');\n",
              "    }\n",
              "    (() => {\n",
              "      let quickchartButtonEl =\n",
              "        document.querySelector('#df-0249640a-b6d6-4f1b-8bf6-7874db78eebd button');\n",
              "      quickchartButtonEl.style.display =\n",
              "        google.colab.kernel.accessAllowed ? 'block' : 'none';\n",
              "    })();\n",
              "  </script>\n",
              "</div>\n",
              "    </div>\n",
              "  </div>\n"
            ],
            "application/vnd.google.colaboratory.intrinsic+json": {
              "type": "dataframe",
              "variable_name": "models_performance",
              "summary": "{\n  \"name\": \"models_performance\",\n  \"rows\": 3,\n  \"fields\": [\n    {\n      \"column\": \"test_loss\",\n      \"properties\": {\n        \"dtype\": \"string\",\n        \"num_unique_values\": 3,\n        \"samples\": [\n          \"tensor(0.4773)\",\n          \"tensor(0.4832)\",\n          \"tensor(0.3336)\"\n        ],\n        \"semantic_type\": \"\",\n        \"description\": \"\"\n      }\n    },\n    {\n      \"column\": \"test_accuracy\",\n      \"properties\": {\n        \"dtype\": \"number\",\n        \"std\": 2.634446162872995,\n        \"min\": 83.14696485623003,\n        \"max\": 87.73961661341853,\n        \"num_unique_values\": 3,\n        \"samples\": [\n          83.14696485623003,\n          83.20686900958466,\n          87.73961661341853\n        ],\n        \"semantic_type\": \"\",\n        \"description\": \"\"\n      }\n    },\n    {\n      \"column\": \"model_name\",\n      \"properties\": {\n        \"dtype\": \"string\",\n        \"num_unique_values\": 3,\n        \"samples\": [\n          \"FashionMNISTModel_V0\",\n          \"FashionMNIST_V1\",\n          \"FashionMNIST_V2\"\n        ],\n        \"semantic_type\": \"\",\n        \"description\": \"\"\n      }\n    }\n  ]\n}"
            }
          },
          "metadata": {},
          "execution_count": 67
        }
      ]
    },
    {
      "cell_type": "code",
      "source": [
        "models_performance = models_performance.astype({\"test_loss\": float})"
      ],
      "metadata": {
        "id": "xGm_NJRuszzL"
      },
      "execution_count": 68,
      "outputs": []
    },
    {
      "cell_type": "code",
      "source": [
        "models_performance"
      ],
      "metadata": {
        "colab": {
          "base_uri": "https://localhost:8080/",
          "height": 143
        },
        "id": "LyrB1F6OtJnA",
        "outputId": "dfdd550d-8411-4645-f87f-b96c45650262"
      },
      "execution_count": 69,
      "outputs": [
        {
          "output_type": "execute_result",
          "data": {
            "text/plain": [
              "   test_loss  test_accuracy            model_name\n",
              "0   0.477264      83.146965  FashionMNISTModel_V0\n",
              "1   0.483179      83.206869       FashionMNIST_V1\n",
              "2   0.333551      87.739617       FashionMNIST_V2"
            ],
            "text/html": [
              "\n",
              "  <div id=\"df-c5adb3a8-1f3e-4342-882a-183546a662c5\" class=\"colab-df-container\">\n",
              "    <div>\n",
              "<style scoped>\n",
              "    .dataframe tbody tr th:only-of-type {\n",
              "        vertical-align: middle;\n",
              "    }\n",
              "\n",
              "    .dataframe tbody tr th {\n",
              "        vertical-align: top;\n",
              "    }\n",
              "\n",
              "    .dataframe thead th {\n",
              "        text-align: right;\n",
              "    }\n",
              "</style>\n",
              "<table border=\"1\" class=\"dataframe\">\n",
              "  <thead>\n",
              "    <tr style=\"text-align: right;\">\n",
              "      <th></th>\n",
              "      <th>test_loss</th>\n",
              "      <th>test_accuracy</th>\n",
              "      <th>model_name</th>\n",
              "    </tr>\n",
              "  </thead>\n",
              "  <tbody>\n",
              "    <tr>\n",
              "      <th>0</th>\n",
              "      <td>0.477264</td>\n",
              "      <td>83.146965</td>\n",
              "      <td>FashionMNISTModel_V0</td>\n",
              "    </tr>\n",
              "    <tr>\n",
              "      <th>1</th>\n",
              "      <td>0.483179</td>\n",
              "      <td>83.206869</td>\n",
              "      <td>FashionMNIST_V1</td>\n",
              "    </tr>\n",
              "    <tr>\n",
              "      <th>2</th>\n",
              "      <td>0.333551</td>\n",
              "      <td>87.739617</td>\n",
              "      <td>FashionMNIST_V2</td>\n",
              "    </tr>\n",
              "  </tbody>\n",
              "</table>\n",
              "</div>\n",
              "    <div class=\"colab-df-buttons\">\n",
              "\n",
              "  <div class=\"colab-df-container\">\n",
              "    <button class=\"colab-df-convert\" onclick=\"convertToInteractive('df-c5adb3a8-1f3e-4342-882a-183546a662c5')\"\n",
              "            title=\"Convert this dataframe to an interactive table.\"\n",
              "            style=\"display:none;\">\n",
              "\n",
              "  <svg xmlns=\"http://www.w3.org/2000/svg\" height=\"24px\" viewBox=\"0 -960 960 960\">\n",
              "    <path d=\"M120-120v-720h720v720H120Zm60-500h600v-160H180v160Zm220 220h160v-160H400v160Zm0 220h160v-160H400v160ZM180-400h160v-160H180v160Zm440 0h160v-160H620v160ZM180-180h160v-160H180v160Zm440 0h160v-160H620v160Z\"/>\n",
              "  </svg>\n",
              "    </button>\n",
              "\n",
              "  <style>\n",
              "    .colab-df-container {\n",
              "      display:flex;\n",
              "      gap: 12px;\n",
              "    }\n",
              "\n",
              "    .colab-df-convert {\n",
              "      background-color: #E8F0FE;\n",
              "      border: none;\n",
              "      border-radius: 50%;\n",
              "      cursor: pointer;\n",
              "      display: none;\n",
              "      fill: #1967D2;\n",
              "      height: 32px;\n",
              "      padding: 0 0 0 0;\n",
              "      width: 32px;\n",
              "    }\n",
              "\n",
              "    .colab-df-convert:hover {\n",
              "      background-color: #E2EBFA;\n",
              "      box-shadow: 0px 1px 2px rgba(60, 64, 67, 0.3), 0px 1px 3px 1px rgba(60, 64, 67, 0.15);\n",
              "      fill: #174EA6;\n",
              "    }\n",
              "\n",
              "    .colab-df-buttons div {\n",
              "      margin-bottom: 4px;\n",
              "    }\n",
              "\n",
              "    [theme=dark] .colab-df-convert {\n",
              "      background-color: #3B4455;\n",
              "      fill: #D2E3FC;\n",
              "    }\n",
              "\n",
              "    [theme=dark] .colab-df-convert:hover {\n",
              "      background-color: #434B5C;\n",
              "      box-shadow: 0px 1px 3px 1px rgba(0, 0, 0, 0.15);\n",
              "      filter: drop-shadow(0px 1px 2px rgba(0, 0, 0, 0.3));\n",
              "      fill: #FFFFFF;\n",
              "    }\n",
              "  </style>\n",
              "\n",
              "    <script>\n",
              "      const buttonEl =\n",
              "        document.querySelector('#df-c5adb3a8-1f3e-4342-882a-183546a662c5 button.colab-df-convert');\n",
              "      buttonEl.style.display =\n",
              "        google.colab.kernel.accessAllowed ? 'block' : 'none';\n",
              "\n",
              "      async function convertToInteractive(key) {\n",
              "        const element = document.querySelector('#df-c5adb3a8-1f3e-4342-882a-183546a662c5');\n",
              "        const dataTable =\n",
              "          await google.colab.kernel.invokeFunction('convertToInteractive',\n",
              "                                                    [key], {});\n",
              "        if (!dataTable) return;\n",
              "\n",
              "        const docLinkHtml = 'Like what you see? Visit the ' +\n",
              "          '<a target=\"_blank\" href=https://colab.research.google.com/notebooks/data_table.ipynb>data table notebook</a>'\n",
              "          + ' to learn more about interactive tables.';\n",
              "        element.innerHTML = '';\n",
              "        dataTable['output_type'] = 'display_data';\n",
              "        await google.colab.output.renderOutput(dataTable, element);\n",
              "        const docLink = document.createElement('div');\n",
              "        docLink.innerHTML = docLinkHtml;\n",
              "        element.appendChild(docLink);\n",
              "      }\n",
              "    </script>\n",
              "  </div>\n",
              "\n",
              "\n",
              "<div id=\"df-b8af7b6f-76f8-4806-bcbc-123bda7e3307\">\n",
              "  <button class=\"colab-df-quickchart\" onclick=\"quickchart('df-b8af7b6f-76f8-4806-bcbc-123bda7e3307')\"\n",
              "            title=\"Suggest charts\"\n",
              "            style=\"display:none;\">\n",
              "\n",
              "<svg xmlns=\"http://www.w3.org/2000/svg\" height=\"24px\"viewBox=\"0 0 24 24\"\n",
              "     width=\"24px\">\n",
              "    <g>\n",
              "        <path d=\"M19 3H5c-1.1 0-2 .9-2 2v14c0 1.1.9 2 2 2h14c1.1 0 2-.9 2-2V5c0-1.1-.9-2-2-2zM9 17H7v-7h2v7zm4 0h-2V7h2v10zm4 0h-2v-4h2v4z\"/>\n",
              "    </g>\n",
              "</svg>\n",
              "  </button>\n",
              "\n",
              "<style>\n",
              "  .colab-df-quickchart {\n",
              "      --bg-color: #E8F0FE;\n",
              "      --fill-color: #1967D2;\n",
              "      --hover-bg-color: #E2EBFA;\n",
              "      --hover-fill-color: #174EA6;\n",
              "      --disabled-fill-color: #AAA;\n",
              "      --disabled-bg-color: #DDD;\n",
              "  }\n",
              "\n",
              "  [theme=dark] .colab-df-quickchart {\n",
              "      --bg-color: #3B4455;\n",
              "      --fill-color: #D2E3FC;\n",
              "      --hover-bg-color: #434B5C;\n",
              "      --hover-fill-color: #FFFFFF;\n",
              "      --disabled-bg-color: #3B4455;\n",
              "      --disabled-fill-color: #666;\n",
              "  }\n",
              "\n",
              "  .colab-df-quickchart {\n",
              "    background-color: var(--bg-color);\n",
              "    border: none;\n",
              "    border-radius: 50%;\n",
              "    cursor: pointer;\n",
              "    display: none;\n",
              "    fill: var(--fill-color);\n",
              "    height: 32px;\n",
              "    padding: 0;\n",
              "    width: 32px;\n",
              "  }\n",
              "\n",
              "  .colab-df-quickchart:hover {\n",
              "    background-color: var(--hover-bg-color);\n",
              "    box-shadow: 0 1px 2px rgba(60, 64, 67, 0.3), 0 1px 3px 1px rgba(60, 64, 67, 0.15);\n",
              "    fill: var(--button-hover-fill-color);\n",
              "  }\n",
              "\n",
              "  .colab-df-quickchart-complete:disabled,\n",
              "  .colab-df-quickchart-complete:disabled:hover {\n",
              "    background-color: var(--disabled-bg-color);\n",
              "    fill: var(--disabled-fill-color);\n",
              "    box-shadow: none;\n",
              "  }\n",
              "\n",
              "  .colab-df-spinner {\n",
              "    border: 2px solid var(--fill-color);\n",
              "    border-color: transparent;\n",
              "    border-bottom-color: var(--fill-color);\n",
              "    animation:\n",
              "      spin 1s steps(1) infinite;\n",
              "  }\n",
              "\n",
              "  @keyframes spin {\n",
              "    0% {\n",
              "      border-color: transparent;\n",
              "      border-bottom-color: var(--fill-color);\n",
              "      border-left-color: var(--fill-color);\n",
              "    }\n",
              "    20% {\n",
              "      border-color: transparent;\n",
              "      border-left-color: var(--fill-color);\n",
              "      border-top-color: var(--fill-color);\n",
              "    }\n",
              "    30% {\n",
              "      border-color: transparent;\n",
              "      border-left-color: var(--fill-color);\n",
              "      border-top-color: var(--fill-color);\n",
              "      border-right-color: var(--fill-color);\n",
              "    }\n",
              "    40% {\n",
              "      border-color: transparent;\n",
              "      border-right-color: var(--fill-color);\n",
              "      border-top-color: var(--fill-color);\n",
              "    }\n",
              "    60% {\n",
              "      border-color: transparent;\n",
              "      border-right-color: var(--fill-color);\n",
              "    }\n",
              "    80% {\n",
              "      border-color: transparent;\n",
              "      border-right-color: var(--fill-color);\n",
              "      border-bottom-color: var(--fill-color);\n",
              "    }\n",
              "    90% {\n",
              "      border-color: transparent;\n",
              "      border-bottom-color: var(--fill-color);\n",
              "    }\n",
              "  }\n",
              "</style>\n",
              "\n",
              "  <script>\n",
              "    async function quickchart(key) {\n",
              "      const quickchartButtonEl =\n",
              "        document.querySelector('#' + key + ' button');\n",
              "      quickchartButtonEl.disabled = true;  // To prevent multiple clicks.\n",
              "      quickchartButtonEl.classList.add('colab-df-spinner');\n",
              "      try {\n",
              "        const charts = await google.colab.kernel.invokeFunction(\n",
              "            'suggestCharts', [key], {});\n",
              "      } catch (error) {\n",
              "        console.error('Error during call to suggestCharts:', error);\n",
              "      }\n",
              "      quickchartButtonEl.classList.remove('colab-df-spinner');\n",
              "      quickchartButtonEl.classList.add('colab-df-quickchart-complete');\n",
              "    }\n",
              "    (() => {\n",
              "      let quickchartButtonEl =\n",
              "        document.querySelector('#df-b8af7b6f-76f8-4806-bcbc-123bda7e3307 button');\n",
              "      quickchartButtonEl.style.display =\n",
              "        google.colab.kernel.accessAllowed ? 'block' : 'none';\n",
              "    })();\n",
              "  </script>\n",
              "</div>\n",
              "    </div>\n",
              "  </div>\n"
            ],
            "application/vnd.google.colaboratory.intrinsic+json": {
              "type": "dataframe",
              "variable_name": "models_performance",
              "summary": "{\n  \"name\": \"models_performance\",\n  \"rows\": 3,\n  \"fields\": [\n    {\n      \"column\": \"test_loss\",\n      \"properties\": {\n        \"dtype\": \"number\",\n        \"std\": 0.08473171467963006,\n        \"min\": 0.3335511088371277,\n        \"max\": 0.4831790626049042,\n        \"num_unique_values\": 3,\n        \"samples\": [\n          0.47726354002952576,\n          0.4831790626049042,\n          0.3335511088371277\n        ],\n        \"semantic_type\": \"\",\n        \"description\": \"\"\n      }\n    },\n    {\n      \"column\": \"test_accuracy\",\n      \"properties\": {\n        \"dtype\": \"number\",\n        \"std\": 2.634446162872995,\n        \"min\": 83.14696485623003,\n        \"max\": 87.73961661341853,\n        \"num_unique_values\": 3,\n        \"samples\": [\n          83.14696485623003,\n          83.20686900958466,\n          87.73961661341853\n        ],\n        \"semantic_type\": \"\",\n        \"description\": \"\"\n      }\n    },\n    {\n      \"column\": \"model_name\",\n      \"properties\": {\n        \"dtype\": \"string\",\n        \"num_unique_values\": 3,\n        \"samples\": [\n          \"FashionMNISTModel_V0\",\n          \"FashionMNIST_V1\",\n          \"FashionMNIST_V2\"\n        ],\n        \"semantic_type\": \"\",\n        \"description\": \"\"\n      }\n    }\n  ]\n}"
            }
          },
          "metadata": {},
          "execution_count": 69
        }
      ]
    },
    {
      "cell_type": "code",
      "source": [
        "models_performance = models_performance.assign(execution_time=[training_model_0_time, training_model_1_time, training_model_2_time])"
      ],
      "metadata": {
        "id": "7Zc42PrbtpqF"
      },
      "execution_count": 70,
      "outputs": []
    },
    {
      "cell_type": "code",
      "source": [],
      "metadata": {
        "id": "872lIUtgv3Pn"
      },
      "execution_count": 70,
      "outputs": []
    },
    {
      "cell_type": "code",
      "source": [
        "models_performance"
      ],
      "metadata": {
        "colab": {
          "base_uri": "https://localhost:8080/",
          "height": 143
        },
        "id": "oQtrII6xute1",
        "outputId": "d16daf40-4513-4753-e4ea-4825b7a8e727"
      },
      "execution_count": 71,
      "outputs": [
        {
          "output_type": "execute_result",
          "data": {
            "text/plain": [
              "   test_loss  test_accuracy            model_name  execution_time\n",
              "0   0.477264      83.146965  FashionMNISTModel_V0       32.958446\n",
              "1   0.483179      83.206869       FashionMNIST_V1       32.937393\n",
              "2   0.333551      87.739617       FashionMNIST_V2      155.887729"
            ],
            "text/html": [
              "\n",
              "  <div id=\"df-5fdb7554-8208-43c7-beba-3372be5a3c2c\" class=\"colab-df-container\">\n",
              "    <div>\n",
              "<style scoped>\n",
              "    .dataframe tbody tr th:only-of-type {\n",
              "        vertical-align: middle;\n",
              "    }\n",
              "\n",
              "    .dataframe tbody tr th {\n",
              "        vertical-align: top;\n",
              "    }\n",
              "\n",
              "    .dataframe thead th {\n",
              "        text-align: right;\n",
              "    }\n",
              "</style>\n",
              "<table border=\"1\" class=\"dataframe\">\n",
              "  <thead>\n",
              "    <tr style=\"text-align: right;\">\n",
              "      <th></th>\n",
              "      <th>test_loss</th>\n",
              "      <th>test_accuracy</th>\n",
              "      <th>model_name</th>\n",
              "      <th>execution_time</th>\n",
              "    </tr>\n",
              "  </thead>\n",
              "  <tbody>\n",
              "    <tr>\n",
              "      <th>0</th>\n",
              "      <td>0.477264</td>\n",
              "      <td>83.146965</td>\n",
              "      <td>FashionMNISTModel_V0</td>\n",
              "      <td>32.958446</td>\n",
              "    </tr>\n",
              "    <tr>\n",
              "      <th>1</th>\n",
              "      <td>0.483179</td>\n",
              "      <td>83.206869</td>\n",
              "      <td>FashionMNIST_V1</td>\n",
              "      <td>32.937393</td>\n",
              "    </tr>\n",
              "    <tr>\n",
              "      <th>2</th>\n",
              "      <td>0.333551</td>\n",
              "      <td>87.739617</td>\n",
              "      <td>FashionMNIST_V2</td>\n",
              "      <td>155.887729</td>\n",
              "    </tr>\n",
              "  </tbody>\n",
              "</table>\n",
              "</div>\n",
              "    <div class=\"colab-df-buttons\">\n",
              "\n",
              "  <div class=\"colab-df-container\">\n",
              "    <button class=\"colab-df-convert\" onclick=\"convertToInteractive('df-5fdb7554-8208-43c7-beba-3372be5a3c2c')\"\n",
              "            title=\"Convert this dataframe to an interactive table.\"\n",
              "            style=\"display:none;\">\n",
              "\n",
              "  <svg xmlns=\"http://www.w3.org/2000/svg\" height=\"24px\" viewBox=\"0 -960 960 960\">\n",
              "    <path d=\"M120-120v-720h720v720H120Zm60-500h600v-160H180v160Zm220 220h160v-160H400v160Zm0 220h160v-160H400v160ZM180-400h160v-160H180v160Zm440 0h160v-160H620v160ZM180-180h160v-160H180v160Zm440 0h160v-160H620v160Z\"/>\n",
              "  </svg>\n",
              "    </button>\n",
              "\n",
              "  <style>\n",
              "    .colab-df-container {\n",
              "      display:flex;\n",
              "      gap: 12px;\n",
              "    }\n",
              "\n",
              "    .colab-df-convert {\n",
              "      background-color: #E8F0FE;\n",
              "      border: none;\n",
              "      border-radius: 50%;\n",
              "      cursor: pointer;\n",
              "      display: none;\n",
              "      fill: #1967D2;\n",
              "      height: 32px;\n",
              "      padding: 0 0 0 0;\n",
              "      width: 32px;\n",
              "    }\n",
              "\n",
              "    .colab-df-convert:hover {\n",
              "      background-color: #E2EBFA;\n",
              "      box-shadow: 0px 1px 2px rgba(60, 64, 67, 0.3), 0px 1px 3px 1px rgba(60, 64, 67, 0.15);\n",
              "      fill: #174EA6;\n",
              "    }\n",
              "\n",
              "    .colab-df-buttons div {\n",
              "      margin-bottom: 4px;\n",
              "    }\n",
              "\n",
              "    [theme=dark] .colab-df-convert {\n",
              "      background-color: #3B4455;\n",
              "      fill: #D2E3FC;\n",
              "    }\n",
              "\n",
              "    [theme=dark] .colab-df-convert:hover {\n",
              "      background-color: #434B5C;\n",
              "      box-shadow: 0px 1px 3px 1px rgba(0, 0, 0, 0.15);\n",
              "      filter: drop-shadow(0px 1px 2px rgba(0, 0, 0, 0.3));\n",
              "      fill: #FFFFFF;\n",
              "    }\n",
              "  </style>\n",
              "\n",
              "    <script>\n",
              "      const buttonEl =\n",
              "        document.querySelector('#df-5fdb7554-8208-43c7-beba-3372be5a3c2c button.colab-df-convert');\n",
              "      buttonEl.style.display =\n",
              "        google.colab.kernel.accessAllowed ? 'block' : 'none';\n",
              "\n",
              "      async function convertToInteractive(key) {\n",
              "        const element = document.querySelector('#df-5fdb7554-8208-43c7-beba-3372be5a3c2c');\n",
              "        const dataTable =\n",
              "          await google.colab.kernel.invokeFunction('convertToInteractive',\n",
              "                                                    [key], {});\n",
              "        if (!dataTable) return;\n",
              "\n",
              "        const docLinkHtml = 'Like what you see? Visit the ' +\n",
              "          '<a target=\"_blank\" href=https://colab.research.google.com/notebooks/data_table.ipynb>data table notebook</a>'\n",
              "          + ' to learn more about interactive tables.';\n",
              "        element.innerHTML = '';\n",
              "        dataTable['output_type'] = 'display_data';\n",
              "        await google.colab.output.renderOutput(dataTable, element);\n",
              "        const docLink = document.createElement('div');\n",
              "        docLink.innerHTML = docLinkHtml;\n",
              "        element.appendChild(docLink);\n",
              "      }\n",
              "    </script>\n",
              "  </div>\n",
              "\n",
              "\n",
              "<div id=\"df-4ecdeec3-4055-4ef6-98d7-b1ea4bfacf37\">\n",
              "  <button class=\"colab-df-quickchart\" onclick=\"quickchart('df-4ecdeec3-4055-4ef6-98d7-b1ea4bfacf37')\"\n",
              "            title=\"Suggest charts\"\n",
              "            style=\"display:none;\">\n",
              "\n",
              "<svg xmlns=\"http://www.w3.org/2000/svg\" height=\"24px\"viewBox=\"0 0 24 24\"\n",
              "     width=\"24px\">\n",
              "    <g>\n",
              "        <path d=\"M19 3H5c-1.1 0-2 .9-2 2v14c0 1.1.9 2 2 2h14c1.1 0 2-.9 2-2V5c0-1.1-.9-2-2-2zM9 17H7v-7h2v7zm4 0h-2V7h2v10zm4 0h-2v-4h2v4z\"/>\n",
              "    </g>\n",
              "</svg>\n",
              "  </button>\n",
              "\n",
              "<style>\n",
              "  .colab-df-quickchart {\n",
              "      --bg-color: #E8F0FE;\n",
              "      --fill-color: #1967D2;\n",
              "      --hover-bg-color: #E2EBFA;\n",
              "      --hover-fill-color: #174EA6;\n",
              "      --disabled-fill-color: #AAA;\n",
              "      --disabled-bg-color: #DDD;\n",
              "  }\n",
              "\n",
              "  [theme=dark] .colab-df-quickchart {\n",
              "      --bg-color: #3B4455;\n",
              "      --fill-color: #D2E3FC;\n",
              "      --hover-bg-color: #434B5C;\n",
              "      --hover-fill-color: #FFFFFF;\n",
              "      --disabled-bg-color: #3B4455;\n",
              "      --disabled-fill-color: #666;\n",
              "  }\n",
              "\n",
              "  .colab-df-quickchart {\n",
              "    background-color: var(--bg-color);\n",
              "    border: none;\n",
              "    border-radius: 50%;\n",
              "    cursor: pointer;\n",
              "    display: none;\n",
              "    fill: var(--fill-color);\n",
              "    height: 32px;\n",
              "    padding: 0;\n",
              "    width: 32px;\n",
              "  }\n",
              "\n",
              "  .colab-df-quickchart:hover {\n",
              "    background-color: var(--hover-bg-color);\n",
              "    box-shadow: 0 1px 2px rgba(60, 64, 67, 0.3), 0 1px 3px 1px rgba(60, 64, 67, 0.15);\n",
              "    fill: var(--button-hover-fill-color);\n",
              "  }\n",
              "\n",
              "  .colab-df-quickchart-complete:disabled,\n",
              "  .colab-df-quickchart-complete:disabled:hover {\n",
              "    background-color: var(--disabled-bg-color);\n",
              "    fill: var(--disabled-fill-color);\n",
              "    box-shadow: none;\n",
              "  }\n",
              "\n",
              "  .colab-df-spinner {\n",
              "    border: 2px solid var(--fill-color);\n",
              "    border-color: transparent;\n",
              "    border-bottom-color: var(--fill-color);\n",
              "    animation:\n",
              "      spin 1s steps(1) infinite;\n",
              "  }\n",
              "\n",
              "  @keyframes spin {\n",
              "    0% {\n",
              "      border-color: transparent;\n",
              "      border-bottom-color: var(--fill-color);\n",
              "      border-left-color: var(--fill-color);\n",
              "    }\n",
              "    20% {\n",
              "      border-color: transparent;\n",
              "      border-left-color: var(--fill-color);\n",
              "      border-top-color: var(--fill-color);\n",
              "    }\n",
              "    30% {\n",
              "      border-color: transparent;\n",
              "      border-left-color: var(--fill-color);\n",
              "      border-top-color: var(--fill-color);\n",
              "      border-right-color: var(--fill-color);\n",
              "    }\n",
              "    40% {\n",
              "      border-color: transparent;\n",
              "      border-right-color: var(--fill-color);\n",
              "      border-top-color: var(--fill-color);\n",
              "    }\n",
              "    60% {\n",
              "      border-color: transparent;\n",
              "      border-right-color: var(--fill-color);\n",
              "    }\n",
              "    80% {\n",
              "      border-color: transparent;\n",
              "      border-right-color: var(--fill-color);\n",
              "      border-bottom-color: var(--fill-color);\n",
              "    }\n",
              "    90% {\n",
              "      border-color: transparent;\n",
              "      border-bottom-color: var(--fill-color);\n",
              "    }\n",
              "  }\n",
              "</style>\n",
              "\n",
              "  <script>\n",
              "    async function quickchart(key) {\n",
              "      const quickchartButtonEl =\n",
              "        document.querySelector('#' + key + ' button');\n",
              "      quickchartButtonEl.disabled = true;  // To prevent multiple clicks.\n",
              "      quickchartButtonEl.classList.add('colab-df-spinner');\n",
              "      try {\n",
              "        const charts = await google.colab.kernel.invokeFunction(\n",
              "            'suggestCharts', [key], {});\n",
              "      } catch (error) {\n",
              "        console.error('Error during call to suggestCharts:', error);\n",
              "      }\n",
              "      quickchartButtonEl.classList.remove('colab-df-spinner');\n",
              "      quickchartButtonEl.classList.add('colab-df-quickchart-complete');\n",
              "    }\n",
              "    (() => {\n",
              "      let quickchartButtonEl =\n",
              "        document.querySelector('#df-4ecdeec3-4055-4ef6-98d7-b1ea4bfacf37 button');\n",
              "      quickchartButtonEl.style.display =\n",
              "        google.colab.kernel.accessAllowed ? 'block' : 'none';\n",
              "    })();\n",
              "  </script>\n",
              "</div>\n",
              "    </div>\n",
              "  </div>\n"
            ],
            "application/vnd.google.colaboratory.intrinsic+json": {
              "type": "dataframe",
              "variable_name": "models_performance",
              "summary": "{\n  \"name\": \"models_performance\",\n  \"rows\": 3,\n  \"fields\": [\n    {\n      \"column\": \"test_loss\",\n      \"properties\": {\n        \"dtype\": \"number\",\n        \"std\": 0.08473171467963006,\n        \"min\": 0.3335511088371277,\n        \"max\": 0.4831790626049042,\n        \"num_unique_values\": 3,\n        \"samples\": [\n          0.47726354002952576,\n          0.4831790626049042,\n          0.3335511088371277\n        ],\n        \"semantic_type\": \"\",\n        \"description\": \"\"\n      }\n    },\n    {\n      \"column\": \"test_accuracy\",\n      \"properties\": {\n        \"dtype\": \"number\",\n        \"std\": 2.634446162872995,\n        \"min\": 83.14696485623003,\n        \"max\": 87.73961661341853,\n        \"num_unique_values\": 3,\n        \"samples\": [\n          83.14696485623003,\n          83.20686900958466,\n          87.73961661341853\n        ],\n        \"semantic_type\": \"\",\n        \"description\": \"\"\n      }\n    },\n    {\n      \"column\": \"model_name\",\n      \"properties\": {\n        \"dtype\": \"string\",\n        \"num_unique_values\": 3,\n        \"samples\": [\n          \"FashionMNISTModel_V0\",\n          \"FashionMNIST_V1\",\n          \"FashionMNIST_V2\"\n        ],\n        \"semantic_type\": \"\",\n        \"description\": \"\"\n      }\n    },\n    {\n      \"column\": \"execution_time\",\n      \"properties\": {\n        \"dtype\": \"number\",\n        \"std\": 70.9793325087579,\n        \"min\": 32.937393173000004,\n        \"max\": 155.88772861100003,\n        \"num_unique_values\": 3,\n        \"samples\": [\n          32.95844636800001,\n          32.937393173000004,\n          155.88772861100003\n        ],\n        \"semantic_type\": \"\",\n        \"description\": \"\"\n      }\n    }\n  ]\n}"
            }
          },
          "metadata": {},
          "execution_count": 71
        }
      ]
    },
    {
      "cell_type": "code",
      "source": [
        "models_performance.set_index(\"model_name\")[\"test_accuracy\"].plot.barh()"
      ],
      "metadata": {
        "colab": {
          "base_uri": "https://localhost:8080/",
          "height": 447
        },
        "id": "L4_ll4Biv4Jz",
        "outputId": "77055520-529a-4f57-e4a6-3f102c2f82f1"
      },
      "execution_count": 72,
      "outputs": [
        {
          "output_type": "execute_result",
          "data": {
            "text/plain": [
              "<Axes: ylabel='model_name'>"
            ]
          },
          "metadata": {},
          "execution_count": 72
        },
        {
          "output_type": "display_data",
          "data": {
            "text/plain": [
              "<Figure size 640x480 with 1 Axes>"
            ],
            "image/png": "[encoded data removed]"
          },
          "metadata": {}
        }
      ]
    },
    {
      "cell_type": "markdown",
      "source": [
        "Predict on random samples of data"
      ],
      "metadata": {
        "id": "RB8qtQzTvzSN"
      }
    },
    {
      "cell_type": "code",
      "source": [
        "# pick a random batch from testing sample\n",
        "SAMPLES_N = 16\n",
        "\n",
        "random_batch_idx = torch.randint(0, len(train_data_loader), size=[SAMPLES_N])\n",
        "samples = [train_data_loader.dataset[idx] for idx in random_batch_idx]"
      ],
      "metadata": {
        "id": "3qOrPeuW3Zyt"
      },
      "execution_count": 73,
      "outputs": []
    },
    {
      "cell_type": "code",
      "source": [
        "predictions = [model_2(image.unsqueeze(0)).softmax(dim=1).argmax(dim=1) for image, _ in samples]\n",
        "\n",
        "fig = plt.figure(figsize=(12, 12))\n",
        "rows, cols = 4, 4\n",
        "for i in range(1, (rows * cols) + 1):\n",
        "  fig.add_subplot(rows, cols, i)\n",
        "  plt.imshow(samples[i-1][0].squeeze(), cmap=\"gray\")\n",
        "  plt.axis(\"off\")\n",
        "  plt.title(f\"Predicted: {class_names[predictions[i-1]]}\\nActual: {class_names[samples[i-1][1]]}\", fontsize=10)\n"
      ],
      "metadata": {
        "colab": {
          "base_uri": "https://localhost:8080/",
          "height": 988
        },
        "id": "2mc6CMi84KTy",
        "outputId": "0b0b1303-b69b-427f-e025-5cec0becbc05"
      },
      "execution_count": 74,
      "outputs": [
        {
          "output_type": "display_data",
          "data": {
            "text/plain": [
              "<Figure size 1200x1200 with 16 Axes>"
            ],
            "image/png": "[encoded data removed]"
          },
          "metadata": {}
        }
      ]
    },
    {
      "cell_type": "code",
      "source": [
        "import random\n",
        "random.seed(43)\n",
        "\n",
        "images, labels = [], []\n",
        "for image, label_idx in random.sample(list(test_data), k=16):\n",
        "  images.append(image)\n",
        "  labels.append(label_idx)"
      ],
      "metadata": {
        "id": "4lzjrDL17obW"
      },
      "execution_count": 176,
      "outputs": []
    },
    {
      "cell_type": "code",
      "source": [
        "device = \"cuda\" if torch.cuda.is_available() else \"cpu\""
      ],
      "metadata": {
        "id": "EuAddvqVfI5w"
      },
      "execution_count": 90,
      "outputs": []
    },
    {
      "cell_type": "code",
      "source": [
        "def predict_on_data(model: nn.Module,\n",
        "                    dataset: list,\n",
        "                    device=torch.device):\n",
        "  model.eval()\n",
        "  with torch.inference_mode():\n",
        "    predictions = [model(image.to(device).unsqueeze(dim=0)).softmax(dim=1).argmax(dim=1) for image in dataset]\n",
        "\n",
        "  return torch.cat(predictions)\n"
      ],
      "metadata": {
        "id": "DKVo7p_DdqaW"
      },
      "execution_count": 175,
      "outputs": []
    },
    {
      "cell_type": "code",
      "source": [
        "# get predictions\n",
        "predictions = predict_on_data(model=model_2,\n",
        "                              dataset=images,\n",
        "                              device=device)"
      ],
      "metadata": {
        "id": "dt1Mvbhsek_p"
      },
      "execution_count": 177,
      "outputs": []
    },
    {
      "cell_type": "code",
      "source": [
        "predictions"
      ],
      "metadata": {
        "colab": {
          "base_uri": "https://localhost:8080/"
        },
        "id": "R3UU1saRemXr",
        "outputId": "3ab4f3a5-bb43-4adc-a910-e7d9106b269a"
      },
      "execution_count": 178,
      "outputs": [
        {
          "output_type": "execute_result",
          "data": {
            "text/plain": [
              "tensor([4, 2, 0, 4, 5, 5, 0, 7, 5, 0, 6, 5, 2, 9, 1, 6])"
            ]
          },
          "metadata": {},
          "execution_count": 178
        }
      ]
    },
    {
      "cell_type": "code",
      "source": [
        "def plot_predictions(images,\n",
        "                     predictions,\n",
        "                     actual_data,\n",
        "                     cols=4):\n",
        "  rows = len(images) // cols\n",
        "  #\n",
        "  plt.figure(figsize=(12, 12))\n",
        "  for i in range(cols * rows):\n",
        "    plt.subplot(rows, cols, i+1)\n",
        "    plt.imshow(images[i].squeeze(), cmap=\"gray\")\n",
        "    color = \"green\" if predictions[i] == actual_data[i] else \"red\"\n",
        "    plt.title(f\"Predicted: {class_names[predictions[i]]} \\nActual: {class_names[actual_data[i]]}\", c=color, fontsize=10)\n",
        "    plt.axis(\"off\")\n",
        ""
      ],
      "metadata": {
        "id": "ddSiXMwXhD9A"
      },
      "execution_count": 179,
      "outputs": []
    },
    {
      "cell_type": "code",
      "source": [
        "plot_predictions(images,\n",
        "                 predictions,\n",
        "                 labels)"
      ],
      "metadata": {
        "colab": {
          "base_uri": "https://localhost:8080/",
          "height": 988
        },
        "id": "iLFquSnDjWdq",
        "outputId": "e54380cd-90ef-4333-d7a4-8de828269d03"
      },
      "execution_count": 180,
      "outputs": [
        {
          "output_type": "display_data",
          "data": {
            "text/plain": [
              "<Figure size 1200x1200 with 16 Axes>"
            ],
            "image/png": "[encoded data removed]"
          },
          "metadata": {}
        }
      ]
    },
    {
      "cell_type": "code",
      "source": [
        "import mlxtend, torchmetrics"
      ],
      "metadata": {
        "id": "B71IYEtMkUpI"
      },
      "execution_count": 146,
      "outputs": []
    },
    {
      "cell_type": "code",
      "source": [
        "from tqdm import tqdm\n",
        "\n",
        "# test_predictions_model_0 = []\n",
        "model_2.eval()\n",
        "with torch.inference_mode():\n",
        "  test_predictions = [model_2(image.to(device)).softmax(dim=1).argmax(dim=1) for image, y in tqdm(test_data_loader)]\n",
        "\n",
        "test_predictions_2 = torch.cat(test_predictions)"
      ],
      "metadata": {
        "colab": {
          "base_uri": "https://localhost:8080/"
        },
        "id": "WemLyDaT40k2",
        "outputId": "0fd251d2-71de-40a3-bfb6-13c343e143f6"
      },
      "execution_count": 172,
      "outputs": [
        {
          "output_type": "stream",
          "name": "stderr",
          "text": [
            "100%|██████████| 313/313 [00:09<00:00, 33.65it/s]\n"
          ]
        }
      ]
    },
    {
      "cell_type": "code",
      "source": [
        "test_predictions_2.shape"
      ],
      "metadata": {
        "colab": {
          "base_uri": "https://localhost:8080/"
        },
        "id": "n_pCJ4Zs6bgw",
        "outputId": "cd99b7f7-8224-44ed-df09-6b7b7e2dd2b1"
      },
      "execution_count": 173,
      "outputs": [
        {
          "output_type": "execute_result",
          "data": {
            "text/plain": [
              "torch.Size([10000])"
            ]
          },
          "metadata": {},
          "execution_count": 173
        }
      ]
    },
    {
      "cell_type": "code",
      "source": [
        "from torchmetrics import ConfusionMatrix\n",
        "from mlxtend.plotting import plot_confusion_matrix\n",
        "import numpy as np"
      ],
      "metadata": {
        "id": "6p_mbAId8Flq"
      },
      "execution_count": 163,
      "outputs": []
    },
    {
      "cell_type": "code",
      "source": [
        "confmat = ConfusionMatrix(num_classes=len(class_names),\n",
        "                          task=\"multiclass\")\n",
        "confmat_tensor = confmat(preds=test_predictions_2,\n",
        "                         target=test_data.targets)\n",
        "\n",
        "fig, ax = plot_confusion_matrix(\n",
        "    conf_mat=confmat_tensor.numpy(),\n",
        "    class_names=class_names,\n",
        "    figsize=(10, 7)\n",
        ")"
      ],
      "metadata": {
        "colab": {
          "base_uri": "https://localhost:8080/",
          "height": 667
        },
        "id": "1thZQnSqUlDq",
        "outputId": "cc6f8c3d-e4ed-4a2b-de18-af8f81366952"
      },
      "execution_count": 174,
      "outputs": [
        {
          "output_type": "display_data",
          "data": {
            "text/plain": [
              "<Figure size 1000x700 with 1 Axes>"
            ],
            "image/png": "[encoded data removed]"
          },
          "metadata": {}
        }
      ]
    },
    {
      "cell_type": "markdown",
      "source": [
        "# Save the model"
      ],
      "metadata": {
        "id": "cK5zyduqVXU1"
      }
    },
    {
      "cell_type": "code",
      "source": [
        "from pathlib import Path\n"
      ],
      "metadata": {
        "id": "sB7ZkrDgZqu2"
      },
      "execution_count": 182,
      "outputs": []
    },
    {
      "cell_type": "code",
      "source": [
        "MODULE_PATH_NAME =\"Models\"\n",
        "module_path = Path(MODULE_PATH_NAME)\n",
        "module_path.mkdir(parents=True, exist_ok=True)\n",
        "\n",
        "FILE_NAME = \"01_pyTorch_computer_vision_model_tiny_VGG.pth\"\n",
        "model_save_name = module_path / FILE_NAME\n",
        "torch.save(obj=model_2.state_dict(),\n",
        "           f=model_save_name)"
      ],
      "metadata": {
        "id": "v3eGiMYpaJ1v"
      },
      "execution_count": 185,
      "outputs": []
    },
    {
      "cell_type": "code",
      "source": [
        "!ls -l Models"
      ],
      "metadata": {
        "id": "zZF3iSppa5Ab"
      },
      "execution_count": null,
      "outputs": []
    },
    {
      "cell_type": "code",
      "source": [
        "# load the saved model\n",
        "model_v2_loaded = FashionMNIST_V2(input_features=1,\n",
        "                                  output_features=len(class_names),\n",
        "                                  hidden_units=10)\n",
        "\n",
        "model_v2_loaded.load_state_dict(torch.load(f=model_save_name))\n",
        "model_v2_loaded.to(device)"
      ],
      "metadata": {
        "colab": {
          "base_uri": "https://localhost:8080/"
        },
        "id": "QDJfZXfab-X-",
        "outputId": "2ab6a917-de6c-43ed-cbfb-fab3a74058f5"
      },
      "execution_count": 187,
      "outputs": [
        {
          "output_type": "execute_result",
          "data": {
            "text/plain": [
              "FashionMNIST_V2(\n",
              "  (block_1): Sequential(\n",
              "    (0): Conv2d(1, 10, kernel_size=(3, 3), stride=(1, 1), padding=(1, 1))\n",
              "    (1): ReLU()\n",
              "    (2): Conv2d(10, 10, kernel_size=(3, 3), stride=(1, 1), padding=(1, 1))\n",
              "    (3): ReLU()\n",
              "    (4): MaxPool2d(kernel_size=2, stride=2, padding=0, dilation=1, ceil_mode=False)\n",
              "  )\n",
              "  (block_2): Sequential(\n",
              "    (0): Conv2d(10, 10, kernel_size=(3, 3), stride=(1, 1), padding=(1, 1))\n",
              "    (1): ReLU()\n",
              "    (2): Conv2d(10, 10, kernel_size=(3, 3), stride=(1, 1), padding=(1, 1))\n",
              "    (3): ReLU()\n",
              "    (4): MaxPool2d(kernel_size=2, stride=2, padding=0, dilation=1, ceil_mode=False)\n",
              "  )\n",
              "  (classification): Sequential(\n",
              "    (0): Flatten(start_dim=1, end_dim=-1)\n",
              "    (1): Linear(in_features=490, out_features=10, bias=True)\n",
              "  )\n",
              ")"
            ]
          },
          "metadata": {},
          "execution_count": 187
        }
      ]
    },
    {
      "cell_type": "code",
      "source": [
        "from helper_functions import accuracy_fn\n",
        "\n",
        "loss_fn = nn.CrossEntropyLoss()\n",
        "\n",
        "optimizer = torch.optim.SGD(params=model_v2_loaded.parameters(),\n",
        "                            lr=0.1)"
      ],
      "metadata": {
        "id": "0ZS7ZT56c4OF"
      },
      "execution_count": 189,
      "outputs": []
    },
    {
      "cell_type": "code",
      "source": [
        "# evaluate the loaded model\n",
        "eval_model(model=model_v2_loaded,\n",
        "           data_loader=test_data_loader,\n",
        "           loss_fn=loss_fn,\n",
        "           accuracy_fn=accuracy_fn)"
      ],
      "metadata": {
        "colab": {
          "base_uri": "https://localhost:8080/"
        },
        "id": "XKF8mahEcgWe",
        "outputId": "489f2034-c8aa-4cb7-d8c5-c1d1b1da248c"
      },
      "execution_count": 190,
      "outputs": [
        {
          "output_type": "execute_result",
          "data": {
            "text/plain": [
              "{'test_loss': tensor(0.3336),\n",
              " 'test_accuracy': 87.73961661341853,\n",
              " 'model_name': 'FashionMNIST_V2'}"
            ]
          },
          "metadata": {},
          "execution_count": 190
        }
      ]
    },
    {
      "cell_type": "code",
      "source": [],
      "metadata": {
        "id": "o53mwhBIdRbH"
      },
      "execution_count": null,
      "outputs": []
    }
  ]
}