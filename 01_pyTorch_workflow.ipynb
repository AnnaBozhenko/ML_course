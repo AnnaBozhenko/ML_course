{
  "nbformat": 4,
  "nbformat_minor": 0,
  "metadata": {
    "colab": {
      "provenance": [],
      "authorship_tag": "ABX9TyN6QVHU+CfBZ8mKUnmOjqcE",
      "include_colab_link": true
    },
    "kernelspec": {
      "name": "python3",
      "display_name": "Python 3"
    },
    "language_info": {
      "name": "python"
    }
  },
  "cells": [
    {
      "cell_type": "markdown",
      "metadata": {
        "id": "view-in-github",
        "colab_type": "text"
      },
      "source": [
        "<a href=\"https://colab.research.google.com/github/AnnaBozhenko/ML_course/blob/master/01_pyTorch_workflow.ipynb\" target=\"_parent\"><img src=\"https://colab.research.google.com/assets/colab-badge.svg\" alt=\"Open In Colab\"/></a>"
      ]
    },
    {
      "cell_type": "code",
      "execution_count": null,
      "metadata": {
        "id": "z-OQIa7WjZ4I"
      },
      "outputs": [],
      "source": [
        "import torch\n",
        "from torch import nn\n",
        "\n",
        "# import numpy as np\n",
        "import matplotlib.pyplot as plt\n"
      ]
    },
    {
      "cell_type": "code",
      "source": [
        "torch.__version__"
      ],
      "metadata": {
        "colab": {
          "base_uri": "https://localhost:8080/",
          "height": 36
        },
        "id": "flgUGJIkkgD8",
        "outputId": "0abda48d-17fd-44c6-c088-f8047643896a"
      },
      "execution_count": null,
      "outputs": [
        {
          "output_type": "execute_result",
          "data": {
            "text/plain": [
              "'2.2.1+cu121'"
            ],
            "application/vnd.google.colaboratory.intrinsic+json": {
              "type": "string"
            }
          },
          "metadata": {},
          "execution_count": 4
        }
      ]
    },
    {
      "cell_type": "markdown",
      "source": [
        "Create a basic linear regression model"
      ],
      "metadata": {
        "id": "jl6DF0dEkjNZ"
      }
    },
    {
      "cell_type": "code",
      "source": [
        "weight = 0.45\n",
        "bias = 0.3\n",
        "\n",
        "lower_limit = 0.1\n",
        "upper_limit = 0.9\n",
        "\n",
        "X = torch.arange(lower_limit, upper_limit, step=0.02).unsqueeze(dim=1)\n",
        "\n"
      ],
      "metadata": {
        "id": "tccrCfCHmbM6"
      },
      "execution_count": null,
      "outputs": []
    },
    {
      "cell_type": "code",
      "source": [
        "y = weight * X + bias"
      ],
      "metadata": {
        "id": "hU1xOPTQIRb-"
      },
      "execution_count": null,
      "outputs": []
    },
    {
      "cell_type": "code",
      "source": [
        "y.requires_grad = False"
      ],
      "metadata": {
        "id": "CDrbSgNPJTXw"
      },
      "execution_count": null,
      "outputs": []
    },
    {
      "cell_type": "code",
      "source": [
        "train_n_split = int(0.8*len(X))\n",
        "train_X, test_X = X[:train_n_split], X[train_n_split:]\n",
        "train_y, test_y = y[:train_n_split], y[train_n_split:]"
      ],
      "metadata": {
        "id": "HHjQWyHXJE9t"
      },
      "execution_count": null,
      "outputs": []
    },
    {
      "cell_type": "markdown",
      "source": [
        "Linear regression implemented as a class"
      ],
      "metadata": {
        "id": "rjcAnS74KMUD"
      }
    },
    {
      "cell_type": "code",
      "source": [
        "# slass Linear regression implementation\n",
        "class LinearRegression(nn.Module):\n",
        "  def __init__(self):\n",
        "    super().__init__()\n",
        "    self.weights = nn.Parameter(torch.randn(1, requires_grad=True, dtype=torch.float))\n",
        "    self.bias = nn.Parameter(torch.randn(1, requires_grad=True, dtype=torch.float))\n",
        "\n",
        "  # -> torch.Tensor\n",
        "  def forward(self, x:torch.Tensor) -> torch.Tensor:\n",
        "    return self.weights * x  + self.bias\n"
      ],
      "metadata": {
        "id": "Sf781secnsW8"
      },
      "execution_count": null,
      "outputs": []
    },
    {
      "cell_type": "code",
      "source": [
        "def plot_model(training_X_data: torch.Tensor,\n",
        "               training_y_data: torch.Tensor,\n",
        "               testing_X_data: torch.Tensor,\n",
        "               testing_y_data: torch.Tensor,\n",
        "               prediction=None):\n",
        "  plt.figure(figsize=(10, 7))\n",
        "\n",
        "  plt.scatter(training_X_data, training_y_data, label=\"Training data\", c=\"b\", s=4)\n",
        "  plt.scatter(testing_X_data, testing_y_data, label=\"Testing data\", c=\"g\", s=4)\n",
        "\n",
        "  if prediction is not None:\n",
        "    plt.scatter(testing_X_data, prediction, label=\"Prediction\", c=\"r\", s=4)\n",
        "\n",
        "  plt.legend()\n",
        "  plt.plot()\n",
        "\n"
      ],
      "metadata": {
        "id": "NAOoJtIZ1p4g"
      },
      "execution_count": null,
      "outputs": []
    },
    {
      "cell_type": "code",
      "source": [
        "linear_m = LinearRegression()\n",
        "y = linear_m.forward(X)\n",
        "y = y.detach()"
      ],
      "metadata": {
        "id": "q0D6IiMUJv3F"
      },
      "execution_count": null,
      "outputs": []
    },
    {
      "cell_type": "code",
      "source": [
        "train_n_split = int(0.8*len(X))\n",
        "train_X, test_X = X[:train_n_split], X[train_n_split:]\n",
        "train_y, test_y = y[:train_n_split], y[train_n_split:]"
      ],
      "metadata": {
        "id": "9u8GCvmz2--I"
      },
      "execution_count": null,
      "outputs": []
    },
    {
      "cell_type": "code",
      "source": [
        "plot_model(train_X,\n",
        "           train_y,\n",
        "           test_X,\n",
        "           test_y)"
      ],
      "metadata": {
        "colab": {
          "base_uri": "https://localhost:8080/",
          "height": 599
        },
        "id": "fJxv8uq13jPU",
        "outputId": "f63b7089-3efa-4d58-a2d9-d133c230deab"
      },
      "execution_count": null,
      "outputs": [
        {
          "output_type": "display_data",
          "data": {
            "text/plain": [
              "<Figure size 1000x700 with 1 Axes>"
            ],
            "image/png": "[encoded data removed]"
          },
          "metadata": {}
        }
      ]
    },
    {
      "cell_type": "markdown",
      "source": [
        "Making predictions\n",
        "\n"
      ],
      "metadata": {
        "id": "Ppk712khJrcy"
      }
    },
    {
      "cell_type": "code",
      "source": [
        "model_0 = LinearRegression()\n",
        "\n",
        "model_0.state_dict()"
      ],
      "metadata": {
        "colab": {
          "base_uri": "https://localhost:8080/"
        },
        "id": "eYC49jITKzZf",
        "outputId": "92422515-74d3-4a00-edc7-23935f878540"
      },
      "execution_count": null,
      "outputs": [
        {
          "output_type": "execute_result",
          "data": {
            "text/plain": [
              "OrderedDict([('weights', tensor([0.0978])), ('bias', tensor([-0.5447]))])"
            ]
          },
          "metadata": {},
          "execution_count": 14
        }
      ]
    },
    {
      "cell_type": "code",
      "source": [
        "test_X, test_y\n"
      ],
      "metadata": {
        "colab": {
          "base_uri": "https://localhost:8080/"
        },
        "id": "4E_tfuVDK-0A",
        "outputId": "205f8d98-962e-412a-ae38-1cec143a34cf"
      },
      "execution_count": null,
      "outputs": [
        {
          "output_type": "execute_result",
          "data": {
            "text/plain": [
              "(tensor([[0.7400],\n",
              "         [0.7600],\n",
              "         [0.7800],\n",
              "         [0.8000],\n",
              "         [0.8200],\n",
              "         [0.8400],\n",
              "         [0.8600],\n",
              "         [0.8800]]),\n",
              " tensor([[-3.1016],\n",
              "         [-3.1362],\n",
              "         [-3.1707],\n",
              "         [-3.2053],\n",
              "         [-3.2398],\n",
              "         [-3.2744],\n",
              "         [-3.3090],\n",
              "         [-3.3435]]))"
            ]
          },
          "metadata": {},
          "execution_count": 15
        }
      ]
    },
    {
      "cell_type": "code",
      "source": [
        "model_0.train()\n",
        "\n",
        "with torch.inference_mode():\n",
        "  predictions = model_0(test_X)"
      ],
      "metadata": {
        "id": "FpqNxvZyLn7i"
      },
      "execution_count": null,
      "outputs": []
    },
    {
      "cell_type": "code",
      "source": [
        "predictions"
      ],
      "metadata": {
        "colab": {
          "base_uri": "https://localhost:8080/"
        },
        "id": "44GAURmGMKm4",
        "outputId": "f8cbd4fc-3293-4b12-f644-68c3a3aa969b"
      },
      "execution_count": null,
      "outputs": [
        {
          "output_type": "execute_result",
          "data": {
            "text/plain": [
              "tensor([[-0.4723],\n",
              "        [-0.4703],\n",
              "        [-0.4684],\n",
              "        [-0.4664],\n",
              "        [-0.4645],\n",
              "        [-0.4625],\n",
              "        [-0.4606],\n",
              "        [-0.4586]])"
            ]
          },
          "metadata": {},
          "execution_count": 17
        }
      ]
    },
    {
      "cell_type": "code",
      "source": [
        "test_X * model_0.weights + model_0.bias"
      ],
      "metadata": {
        "colab": {
          "base_uri": "https://localhost:8080/"
        },
        "id": "s3EvyRjuML_l",
        "outputId": "bc244c34-8f94-4e2e-9306-c745ca920eb8"
      },
      "execution_count": null,
      "outputs": [
        {
          "output_type": "execute_result",
          "data": {
            "text/plain": [
              "tensor([[-0.4723],\n",
              "        [-0.4703],\n",
              "        [-0.4684],\n",
              "        [-0.4664],\n",
              "        [-0.4645],\n",
              "        [-0.4625],\n",
              "        [-0.4606],\n",
              "        [-0.4586]], grad_fn=<AddBackward0>)"
            ]
          },
          "metadata": {},
          "execution_count": 18
        }
      ]
    },
    {
      "cell_type": "code",
      "source": [
        "plot_model(train_X,\n",
        "           train_y,\n",
        "           test_X,\n",
        "           test_y,\n",
        "           predictions)"
      ],
      "metadata": {
        "colab": {
          "base_uri": "https://localhost:8080/",
          "height": 599
        },
        "id": "UXxnYN54MczK",
        "outputId": "82cfcca3-641e-4c94-d64f-29c3968e2c69"
      },
      "execution_count": null,
      "outputs": [
        {
          "output_type": "display_data",
          "data": {
            "text/plain": [
              "<Figure size 1000x700 with 1 Axes>"
            ],
            "image/png": "[encoded data removed]"
          },
          "metadata": {}
        }
      ]
    },
    {
      "cell_type": "code",
      "source": [
        "X = torch.arange(lower_limit, upper_limit, step=0.02).unsqueeze(dim=1)\n",
        "\n",
        "train_n_split = int(0.8*len(X))\n",
        "train_X, test_X = X[:train_n_split], X[train_n_split:]\n",
        "train_y, test_y = y[:train_n_split], y[train_n_split:]"
      ],
      "metadata": {
        "id": "mzxRm0CGlDNw"
      },
      "execution_count": null,
      "outputs": []
    },
    {
      "cell_type": "code",
      "source": [
        "model_0 = LinearRegression()"
      ],
      "metadata": {
        "id": "sRwwtkeYlSOO"
      },
      "execution_count": null,
      "outputs": []
    },
    {
      "cell_type": "code",
      "source": [
        "loss_fn = torch.nn.MSELoss()\n",
        "\n",
        "optimizer = torch.optim.SGD(model_0.parameters(), lr=0.01)"
      ],
      "metadata": {
        "id": "-177gmXsM6jU"
      },
      "execution_count": null,
      "outputs": []
    },
    {
      "cell_type": "code",
      "source": [
        "epochs_step = 100\n",
        "start_n = 0\n",
        "testing_step = 10\n",
        "end_n = epochs_step\n",
        "epochs = []\n",
        "training_losses = []\n",
        "testing_losses = []\n",
        "parameters = []"
      ],
      "metadata": {
        "id": "Vo_hKuF5Fklj"
      },
      "execution_count": null,
      "outputs": []
    },
    {
      "cell_type": "code",
      "source": [
        "# training and testing\n",
        "for epoch in range(start_n, end_n):\n",
        "  model_0.train()\n",
        "\n",
        "  prediction = model_0(train_X)\n",
        "\n",
        "  training_loss = loss_fn(prediction, train_y)\n",
        "  training_losses.append(training_loss)\n",
        "  epochs.append(epoch)\n",
        "\n",
        "  print(f\"loss: {training_loss}\")\n",
        "  optimizer.zero_grad()\n",
        "\n",
        "  training_loss.backward()\n",
        "\n",
        "  optimizer.step()\n",
        "\n",
        "  # testing\n",
        "  model_0.eval()\n",
        "\n",
        "  if epoch % testing_step == 0:\n",
        "    with torch.inference_mode():\n",
        "      test_prediction = model_0(test_X)\n",
        "      test_loss = loss_fn(test_prediction, test_y)\n",
        "      print(f\"test loss: {test_loss}\")\n",
        "      print(f\"parameters: {model_0.state_dict()}\")\n",
        "\n",
        "      testing_losses.append(test_loss)\n",
        "      parameters.append(model_0.state_dict)\n",
        "\n",
        "start_n = end_n\n",
        "end_n += epochs_step"
      ],
      "metadata": {
        "id": "FZxPse_-SPDs",
        "colab": {
          "base_uri": "https://localhost:8080/"
        },
        "collapsed": true,
        "outputId": "50ca76e0-d4da-475a-fbdb-a88cddb5141f"
      },
      "execution_count": null,
      "outputs": [
        {
          "output_type": "stream",
          "name": "stdout",
          "text": [
            "loss: 7.541781902313232\n",
            "test loss: 8.304628372192383\n",
            "parameters: OrderedDict([('weights', tensor([-1.2243])), ('bias', tensor([0.6508]))])\n",
            "loss: 7.192359924316406\n",
            "loss: 6.859142780303955\n",
            "loss: 6.541377067565918\n",
            "loss: 6.238348007202148\n",
            "loss: 5.949371337890625\n",
            "loss: 5.673795223236084\n",
            "loss: 5.410998821258545\n",
            "loss: 5.160389423370361\n",
            "loss: 4.921401023864746\n",
            "loss: 4.69349479675293\n",
            "test loss: 5.000204086303711\n",
            "parameters: OrderedDict([('weights', tensor([-1.4251])), ('bias', tensor([0.1678]))])\n",
            "loss: 4.476158618927002\n",
            "loss: 4.268899917602539\n",
            "loss: 4.071252822875977\n",
            "loss: 3.8827714920043945\n",
            "loss: 3.7030301094055176\n",
            "loss: 3.5316238403320312\n",
            "loss: 3.368166208267212\n",
            "loss: 3.2122888565063477\n",
            "loss: 3.0636394023895264\n",
            "loss: 2.9218835830688477\n",
            "test loss: 2.982971668243408\n",
            "parameters: OrderedDict([('weights', tensor([-1.5829])), ('bias', tensor([-0.2133]))])\n",
            "loss: 2.786700963973999\n",
            "loss: 2.657787322998047\n",
            "loss: 2.534851551055908\n",
            "loss: 2.417616605758667\n",
            "loss: 2.3058178424835205\n",
            "loss: 2.1992034912109375\n",
            "loss: 2.0975332260131836\n",
            "loss: 2.000576972961426\n",
            "loss: 1.9081170558929443\n",
            "loss: 1.8199443817138672\n",
            "test loss: 1.7581040859222412\n",
            "parameters: OrderedDict([('weights', tensor([-1.7068])), ('bias', tensor([-0.5141]))])\n",
            "loss: 1.7358604669570923\n",
            "loss: 1.6556755304336548\n",
            "loss: 1.5792088508605957\n",
            "loss: 1.5062878131866455\n",
            "loss: 1.4367482662200928\n",
            "loss: 1.3704330921173096\n",
            "loss: 1.3071930408477783\n",
            "loss: 1.2468852996826172\n",
            "loss: 1.1893737316131592\n",
            "loss: 1.1345291137695312\n",
            "test loss: 1.0196080207824707\n",
            "parameters: OrderedDict([('weights', tensor([-1.8040])), ('bias', tensor([-0.7516]))])\n",
            "loss: 1.0822274684906006\n",
            "loss: 1.032351016998291\n",
            "loss: 0.9847874045372009\n",
            "loss: 0.9394288063049316\n",
            "loss: 0.8961735963821411\n",
            "loss: 0.8549239635467529\n",
            "loss: 0.8155868053436279\n",
            "loss: 0.7780735492706299\n",
            "loss: 0.7422996759414673\n",
            "loss: 0.7081843614578247\n",
            "test loss: 0.5785574316978455\n",
            "parameters: OrderedDict([('weights', tensor([-1.8801])), ('bias', tensor([-0.9391]))])\n",
            "loss: 0.6756507754325867\n",
            "loss: 0.6446257829666138\n",
            "loss: 0.6150389313697815\n",
            "loss: 0.5868238210678101\n",
            "loss: 0.5599170923233032\n",
            "loss: 0.5342576503753662\n",
            "loss: 0.5097878575325012\n",
            "loss: 0.4864523708820343\n",
            "loss: 0.4641987085342407\n",
            "loss: 0.4429767429828644\n",
            "test loss: 0.3185384273529053\n",
            "parameters: OrderedDict([('weights', tensor([-1.9396])), ('bias', tensor([-1.0872]))])\n",
            "loss: 0.42273858189582825\n",
            "loss: 0.40343865752220154\n",
            "loss: 0.38503339886665344\n",
            "loss: 0.3674812614917755\n",
            "loss: 0.35074272751808167\n",
            "loss: 0.33478015661239624\n",
            "loss: 0.31955742835998535\n",
            "loss: 0.3050404489040375\n",
            "loss: 0.29119616746902466\n",
            "loss: 0.27799367904663086\n",
            "test loss: 0.16800212860107422\n",
            "parameters: OrderedDict([('weights', tensor([-1.9860])), ('bias', tensor([-1.2042]))])\n",
            "loss: 0.26540306210517883\n",
            "loss: 0.2533959746360779\n",
            "loss: 0.24194540083408356\n",
            "loss: 0.23102545738220215\n",
            "loss: 0.22061163187026978\n",
            "loss: 0.2106803059577942\n",
            "loss: 0.20120912790298462\n",
            "loss: 0.1921769082546234\n",
            "loss: 0.18356317281723022\n",
            "loss: 0.17534857988357544\n",
            "test loss: 0.08311932533979416\n",
            "parameters: OrderedDict([('weights', tensor([-2.0221])), ('bias', tensor([-1.2967]))])\n",
            "loss: 0.1675146073102951\n",
            "loss: 0.1600435972213745\n",
            "loss: 0.15291865170001984\n",
            "loss: 0.14612385630607605\n",
            "loss: 0.13964374363422394\n",
            "loss: 0.13346384465694427\n",
            "loss: 0.12757021188735962\n",
            "loss: 0.12194956094026566\n",
            "loss: 0.11658924072980881\n",
            "loss: 0.1114770695567131\n",
            "test loss: 0.03715730831027031\n",
            "parameters: OrderedDict([('weights', tensor([-2.0500])), ('bias', tensor([-1.3699]))])\n",
            "loss: 0.10660171508789062\n",
            "loss: 0.10195207595825195\n",
            "loss: 0.09751774370670319\n",
            "loss: 0.09328865259885788\n",
            "loss: 0.0892554223537445\n",
            "loss: 0.08540891110897064\n",
            "loss: 0.0817403718829155\n",
            "loss: 0.07824165374040604\n",
            "loss: 0.07490485906600952\n"
          ]
        }
      ]
    },
    {
      "cell_type": "code",
      "source": [
        "model_0.state_dict()"
      ],
      "metadata": {
        "colab": {
          "base_uri": "https://localhost:8080/"
        },
        "id": "5PYUSXPSh907",
        "outputId": "f92b7970-140e-4b4b-f217-92cfbb278bc3"
      },
      "execution_count": null,
      "outputs": [
        {
          "output_type": "execute_result",
          "data": {
            "text/plain": [
              "OrderedDict([('weights', tensor([-2.0696])), ('bias', tensor([-1.4226]))])"
            ]
          },
          "metadata": {},
          "execution_count": 25
        }
      ]
    },
    {
      "cell_type": "code",
      "source": [
        "weight, bias"
      ],
      "metadata": {
        "colab": {
          "base_uri": "https://localhost:8080/"
        },
        "id": "D1OPiRook1D5",
        "outputId": "00059260-a3d1-4b00-ff98-aa0bc582466d"
      },
      "execution_count": null,
      "outputs": [
        {
          "output_type": "execute_result",
          "data": {
            "text/plain": [
              "(0.45, 0.3)"
            ]
          },
          "metadata": {},
          "execution_count": 26
        }
      ]
    },
    {
      "cell_type": "code",
      "source": [
        "plot_model(train_X,\n",
        "           train_y,\n",
        "           test_X,\n",
        "           test_y,\n",
        "           test_prediction)"
      ],
      "metadata": {
        "colab": {
          "base_uri": "https://localhost:8080/",
          "height": 599
        },
        "id": "sMDpTviZm8SV",
        "outputId": "37e7f18f-2168-4ced-e326-72295cf1b079"
      },
      "execution_count": null,
      "outputs": [
        {
          "output_type": "display_data",
          "data": {
            "text/plain": [
              "<Figure size 1000x700 with 1 Axes>"
            ],
            "image/png": "[encoded data removed]"
          },
          "metadata": {}
        }
      ]
    },
    {
      "cell_type": "code",
      "source": [
        "len(epochs), len(training_losses), len(testing_losses)"
      ],
      "metadata": {
        "colab": {
          "base_uri": "https://localhost:8080/"
        },
        "id": "rXqZrb53J5Hf",
        "outputId": "8731096f-1fc6-4d8f-df01-0a3d8de0d4bf"
      },
      "execution_count": null,
      "outputs": [
        {
          "output_type": "execute_result",
          "data": {
            "text/plain": [
              "(100, 100, 10)"
            ]
          },
          "metadata": {},
          "execution_count": 28
        }
      ]
    },
    {
      "cell_type": "code",
      "source": [
        "with torch.inference_mode():\n",
        "  plt.plot(epochs, training_losses, label=\"Training losses\")\n",
        "  plt.plot(epochs[::10], testing_losses, marker=\"o\", label=\"Testing losses\")\n",
        "\n",
        "plt.xlabel(\"Epochs\")\n",
        "plt.ylabel(\"Loss\")\n",
        "plt.legend()\n",
        "plt.plot()"
      ],
      "metadata": {
        "id": "lnnLy6WTnCpr",
        "colab": {
          "base_uri": "https://localhost:8080/",
          "height": 466
        },
        "outputId": "be3d81a3-ae61-4464-fb3c-b5fead0a21f2"
      },
      "execution_count": null,
      "outputs": [
        {
          "output_type": "execute_result",
          "data": {
            "text/plain": [
              "[]"
            ]
          },
          "metadata": {},
          "execution_count": 29
        },
        {
          "output_type": "display_data",
          "data": {
            "text/plain": [
              "<Figure size 640x480 with 1 Axes>"
            ],
            "image/png": "[encoded data removed]"
          },
          "metadata": {}
        }
      ]
    },
    {
      "cell_type": "markdown",
      "source": [
        "# Saving model"
      ],
      "metadata": {
        "id": "YZ3EkM1PKTwe"
      }
    },
    {
      "cell_type": "code",
      "source": [
        "from pathlib import Path"
      ],
      "metadata": {
        "id": "XZ64n4tvJIfo"
      },
      "execution_count": null,
      "outputs": []
    },
    {
      "cell_type": "code",
      "source": [
        "# create module directory\n",
        "MODULE_PATH_NAME = \"Models\"\n",
        "module_path = Path(MODULE_PATH_NAME)\n",
        "module_path.mkdir(parents=True, exist_ok=True)"
      ],
      "metadata": {
        "id": "KRV6zQg-HGC6"
      },
      "execution_count": null,
      "outputs": []
    },
    {
      "cell_type": "code",
      "source": [
        "# create model save-path\n",
        "FILE_NAME = \"01_pyTorch_workflow_model_0.pth\"\n",
        "model_save_path = module_path / FILE_NAME"
      ],
      "metadata": {
        "id": "lC9M78kjHJ-B"
      },
      "execution_count": null,
      "outputs": []
    },
    {
      "cell_type": "code",
      "source": [
        "# save model to the directory\n",
        "print(f\"saved to {model_save_path}\")\n",
        "torch.save(obj=model_0.state_dict(),\n",
        "           f=model_save_path)\n"
      ],
      "metadata": {
        "colab": {
          "base_uri": "https://localhost:8080/"
        },
        "id": "Pf-hgWliQ58r",
        "outputId": "b7668186-9913-4960-cecc-82662a7fef07"
      },
      "execution_count": null,
      "outputs": [
        {
          "output_type": "stream",
          "name": "stdout",
          "text": [
            "saved to Models/01_pyTorch_workflow_model_0.pth\n"
          ]
        }
      ]
    },
    {
      "cell_type": "code",
      "source": [
        "!ls -l Models"
      ],
      "metadata": {
        "colab": {
          "base_uri": "https://localhost:8080/"
        },
        "id": "jsoH69rPSmmu",
        "outputId": "1416253b-b85f-425b-b2ec-daa8e861d8e4"
      },
      "execution_count": null,
      "outputs": [
        {
          "output_type": "stream",
          "name": "stdout",
          "text": [
            "total 4\n",
            "-rw-r--r-- 1 root root 1680 May 16 20:25 01_pyTorch_workflow_model_0.pth\n"
          ]
        }
      ]
    },
    {
      "cell_type": "markdown",
      "source": [
        "#Load a model"
      ],
      "metadata": {
        "id": "cAUfzmTHT-u3"
      }
    },
    {
      "cell_type": "code",
      "source": [
        "model_path = \"Models/01_pyTorch_workflow_model_0.pth\"\n",
        "\n",
        "loaded_model_0 = LinearRegression()\n",
        "loaded_model_0.load_state_dict(torch.load(model_path))\n",
        "loaded_model_0.state_dict()\n",
        "\n"
      ],
      "metadata": {
        "colab": {
          "base_uri": "https://localhost:8080/"
        },
        "id": "sxh7_aoUG6k9",
        "outputId": "31741055-0a3e-4ce0-cf8a-d14ae29ef5c7"
      },
      "execution_count": null,
      "outputs": [
        {
          "output_type": "execute_result",
          "data": {
            "text/plain": [
              "OrderedDict([('weights', tensor([-2.0696])), ('bias', tensor([-1.4226]))])"
            ]
          },
          "metadata": {},
          "execution_count": 35
        }
      ]
    },
    {
      "cell_type": "code",
      "source": [
        "model_0.state_dict()"
      ],
      "metadata": {
        "colab": {
          "base_uri": "https://localhost:8080/"
        },
        "id": "Tvzy6ZyxIqls",
        "outputId": "8d50daf1-54e8-453b-99dd-f22bd6931718"
      },
      "execution_count": null,
      "outputs": [
        {
          "output_type": "execute_result",
          "data": {
            "text/plain": [
              "OrderedDict([('weights', tensor([-2.0696])), ('bias', tensor([-1.4226]))])"
            ]
          },
          "metadata": {},
          "execution_count": 36
        }
      ]
    },
    {
      "cell_type": "code",
      "source": [
        "loaded_model_0.eval()\n",
        "with torch.inference_mode():\n",
        "  loaded_model_0_preds = loaded_model_0(test_X)"
      ],
      "metadata": {
        "id": "kD8nC9blIuAL"
      },
      "execution_count": null,
      "outputs": []
    },
    {
      "cell_type": "code",
      "source": [
        "loaded_model_0_preds"
      ],
      "metadata": {
        "colab": {
          "base_uri": "https://localhost:8080/"
        },
        "id": "RZDjo0dAJVlY",
        "outputId": "5af24b12-f0f9-47e1-bfb8-da8402bb1c20"
      },
      "execution_count": null,
      "outputs": [
        {
          "output_type": "execute_result",
          "data": {
            "text/plain": [
              "tensor([[-2.9541],\n",
              "        [-2.9955],\n",
              "        [-3.0369],\n",
              "        [-3.0783],\n",
              "        [-3.1197],\n",
              "        [-3.1610],\n",
              "        [-3.2024],\n",
              "        [-3.2438]])"
            ]
          },
          "metadata": {},
          "execution_count": 38
        }
      ]
    },
    {
      "cell_type": "code",
      "source": [
        "# model_0 predictions\n",
        "test_prediction"
      ],
      "metadata": {
        "colab": {
          "base_uri": "https://localhost:8080/"
        },
        "id": "EupfHaufJaR6",
        "outputId": "ac5bc364-471d-4c10-de2a-67f3de56f313"
      },
      "execution_count": null,
      "outputs": [
        {
          "output_type": "execute_result",
          "data": {
            "text/plain": [
              "tensor([[-2.8869],\n",
              "        [-2.9279],\n",
              "        [-2.9689],\n",
              "        [-3.0099],\n",
              "        [-3.0509],\n",
              "        [-3.0919],\n",
              "        [-3.1329],\n",
              "        [-3.1739]])"
            ]
          },
          "metadata": {},
          "execution_count": 39
        }
      ]
    },
    {
      "cell_type": "markdown",
      "source": [
        "model_0 needs rerunning test on its parameters to get equal the tensors of its predictions and loaded model predictions"
      ],
      "metadata": {
        "id": "qI7zPFD5JwNx"
      }
    },
    {
      "cell_type": "code",
      "source": [
        "loaded_model_0_preds == test_prediction"
      ],
      "metadata": {
        "colab": {
          "base_uri": "https://localhost:8080/"
        },
        "id": "XRAnT6uyJh7T",
        "outputId": "d8b52795-142d-4865-bfbb-caf4c5a2baa8"
      },
      "execution_count": null,
      "outputs": [
        {
          "output_type": "execute_result",
          "data": {
            "text/plain": [
              "tensor([[False],\n",
              "        [False],\n",
              "        [False],\n",
              "        [False],\n",
              "        [False],\n",
              "        [False],\n",
              "        [False],\n",
              "        [False]])"
            ]
          },
          "metadata": {},
          "execution_count": 40
        }
      ]
    },
    {
      "cell_type": "code",
      "source": [
        "model_0.eval()\n",
        "with torch.inference_mode():\n",
        "  model_0_preds = model_0(test_X)"
      ],
      "metadata": {
        "id": "xK0bFIDkJkxS"
      },
      "execution_count": null,
      "outputs": []
    },
    {
      "cell_type": "code",
      "source": [
        "loaded_model_0_preds == model_0_preds"
      ],
      "metadata": {
        "colab": {
          "base_uri": "https://localhost:8080/"
        },
        "id": "UyRIy4CKKEUL",
        "outputId": "6602987b-af6f-4f5e-ae34-35179b174dc2"
      },
      "execution_count": null,
      "outputs": [
        {
          "output_type": "execute_result",
          "data": {
            "text/plain": [
              "tensor([[True],\n",
              "        [True],\n",
              "        [True],\n",
              "        [True],\n",
              "        [True],\n",
              "        [True],\n",
              "        [True],\n",
              "        [True]])"
            ]
          },
          "metadata": {},
          "execution_count": 42
        }
      ]
    },
    {
      "cell_type": "markdown",
      "source": [
        "# A slightly different implementation of a LinearRegression class"
      ],
      "metadata": {
        "id": "TeSXh4PBKGQO"
      }
    },
    {
      "cell_type": "code",
      "source": [
        "class LinearRegression_V2(nn.Module):\n",
        "  def __init__(self):\n",
        "    super().__init__()\n",
        "    self.linear_layer = nn.Linear(in_features=1,\n",
        "                                  out_features=1)\n",
        "\n",
        "  def forward(self, x: torch.Tensor) -> torch.Tensor:\n",
        "    return self.linear_layer(x)\n",
        "\n"
      ],
      "metadata": {
        "id": "hFP3n4Y8h3qo"
      },
      "execution_count": null,
      "outputs": []
    },
    {
      "cell_type": "code",
      "source": [
        "# truthful parameters\n",
        "weights = 0.34\n",
        "bias = 0.7"
      ],
      "metadata": {
        "id": "S6j8bx78lToc"
      },
      "execution_count": null,
      "outputs": []
    },
    {
      "cell_type": "code",
      "source": [
        "torch.manual_seed(42)\n",
        "feature_left_boundary = 0.1\n",
        "feature_right_boundary = 0.95\n",
        "X = torch.arange(feature_left_boundary, feature_right_boundary, step=0.02).unsqueeze(dim=1)\n",
        "X"
      ],
      "metadata": {
        "colab": {
          "base_uri": "https://localhost:8080/"
        },
        "id": "dz-CoZd9in2S",
        "outputId": "0abe9d85-653b-468c-c62a-2737436e9793"
      },
      "execution_count": null,
      "outputs": [
        {
          "output_type": "execute_result",
          "data": {
            "text/plain": [
              "tensor([[0.1000],\n",
              "        [0.1200],\n",
              "        [0.1400],\n",
              "        [0.1600],\n",
              "        [0.1800],\n",
              "        [0.2000],\n",
              "        [0.2200],\n",
              "        [0.2400],\n",
              "        [0.2600],\n",
              "        [0.2800],\n",
              "        [0.3000],\n",
              "        [0.3200],\n",
              "        [0.3400],\n",
              "        [0.3600],\n",
              "        [0.3800],\n",
              "        [0.4000],\n",
              "        [0.4200],\n",
              "        [0.4400],\n",
              "        [0.4600],\n",
              "        [0.4800],\n",
              "        [0.5000],\n",
              "        [0.5200],\n",
              "        [0.5400],\n",
              "        [0.5600],\n",
              "        [0.5800],\n",
              "        [0.6000],\n",
              "        [0.6200],\n",
              "        [0.6400],\n",
              "        [0.6600],\n",
              "        [0.6800],\n",
              "        [0.7000],\n",
              "        [0.7200],\n",
              "        [0.7400],\n",
              "        [0.7600],\n",
              "        [0.7800],\n",
              "        [0.8000],\n",
              "        [0.8200],\n",
              "        [0.8400],\n",
              "        [0.8600],\n",
              "        [0.8800],\n",
              "        [0.9000],\n",
              "        [0.9200],\n",
              "        [0.9400]])"
            ]
          },
          "metadata": {},
          "execution_count": 45
        }
      ]
    },
    {
      "cell_type": "code",
      "source": [
        "y = X * weight + bias"
      ],
      "metadata": {
        "id": "g8Ewb9lBlhuD"
      },
      "execution_count": null,
      "outputs": []
    },
    {
      "cell_type": "code",
      "source": [
        "train_data_share = 0.8\n",
        "train_data_n = int(len(X) * 0.8)\n",
        "train_data_n"
      ],
      "metadata": {
        "colab": {
          "base_uri": "https://localhost:8080/"
        },
        "id": "oyFZ5XNQjPFB",
        "outputId": "fcde6267-8a2d-4945-8808-adf19fd039a5"
      },
      "execution_count": null,
      "outputs": [
        {
          "output_type": "execute_result",
          "data": {
            "text/plain": [
              "34"
            ]
          },
          "metadata": {},
          "execution_count": 47
        }
      ]
    },
    {
      "cell_type": "code",
      "source": [
        "train_X, train_y = X[:train_data_n], y[:train_data_n]\n",
        "test_X, test_y = X[train_data_n:], y[train_data_n:]"
      ],
      "metadata": {
        "id": "En4Hu83cjT5T"
      },
      "execution_count": null,
      "outputs": []
    },
    {
      "cell_type": "code",
      "source": [
        "model_1 = LinearRegression_V2()\n",
        "\n",
        "model_1, model_1.state_dict()"
      ],
      "metadata": {
        "colab": {
          "base_uri": "https://localhost:8080/"
        },
        "id": "IVX_q4r6lt-v",
        "outputId": "4f4f50dc-24f7-47ee-eedf-d1aa652a457d"
      },
      "execution_count": null,
      "outputs": [
        {
          "output_type": "execute_result",
          "data": {
            "text/plain": [
              "(LinearRegression_V2(\n",
              "   (linear_layer): Linear(in_features=1, out_features=1, bias=True)\n",
              " ),\n",
              " OrderedDict([('linear_layer.weight', tensor([[0.7645]])),\n",
              "              ('linear_layer.bias', tensor([0.8300]))]))"
            ]
          },
          "metadata": {},
          "execution_count": 49
        }
      ]
    },
    {
      "cell_type": "code",
      "source": [
        "device = \"cuda\" if torch.cuda.is_available() else \"cpu\""
      ],
      "metadata": {
        "id": "gScuFQ0gl2FY"
      },
      "execution_count": null,
      "outputs": []
    },
    {
      "cell_type": "code",
      "source": [
        "device"
      ],
      "metadata": {
        "colab": {
          "base_uri": "https://localhost:8080/",
          "height": 36
        },
        "id": "cCdxehOHm02R",
        "outputId": "cbd6b0b0-185a-43c2-d3de-5e46d2061ca7"
      },
      "execution_count": null,
      "outputs": [
        {
          "output_type": "execute_result",
          "data": {
            "text/plain": [
              "'cpu'"
            ],
            "application/vnd.google.colaboratory.intrinsic+json": {
              "type": "string"
            }
          },
          "metadata": {},
          "execution_count": 51
        }
      ]
    },
    {
      "cell_type": "code",
      "source": [
        "next(model_1.parameters()).device"
      ],
      "metadata": {
        "colab": {
          "base_uri": "https://localhost:8080/"
        },
        "id": "qdcwobCNm1m4",
        "outputId": "7cd06eab-bec7-4004-ec5f-af93e69d4d29"
      },
      "execution_count": null,
      "outputs": [
        {
          "output_type": "execute_result",
          "data": {
            "text/plain": [
              "device(type='cpu')"
            ]
          },
          "metadata": {},
          "execution_count": 52
        }
      ]
    },
    {
      "cell_type": "code",
      "source": [
        "model_1.to(device)"
      ],
      "metadata": {
        "colab": {
          "base_uri": "https://localhost:8080/"
        },
        "id": "ycL9LCxwnQG_",
        "outputId": "eef983c1-1d84-4a0f-e382-cc44418014f5"
      },
      "execution_count": null,
      "outputs": [
        {
          "output_type": "execute_result",
          "data": {
            "text/plain": [
              "LinearRegression_V2(\n",
              "  (linear_layer): Linear(in_features=1, out_features=1, bias=True)\n",
              ")"
            ]
          },
          "metadata": {},
          "execution_count": 53
        }
      ]
    },
    {
      "cell_type": "code",
      "source": [
        "next(model_1.parameters()).device"
      ],
      "metadata": {
        "colab": {
          "base_uri": "https://localhost:8080/"
        },
        "id": "cozLvwmYnftP",
        "outputId": "f1aacc79-7d01-4c21-8db8-aa02a6b4ddce"
      },
      "execution_count": null,
      "outputs": [
        {
          "output_type": "execute_result",
          "data": {
            "text/plain": [
              "device(type='cpu')"
            ]
          },
          "metadata": {},
          "execution_count": 54
        }
      ]
    },
    {
      "cell_type": "code",
      "source": [
        "loss_nn = nn.L1Loss()\n",
        "\n",
        "optimizer_fn = torch.optim.SGD(params=model_1.parameters(),\n",
        "                               lr=0.01)"
      ],
      "metadata": {
        "id": "bV0-40hqnlGO"
      },
      "execution_count": null,
      "outputs": []
    },
    {
      "cell_type": "code",
      "source": [
        "epochs_container = []\n",
        "training_loss_container = []\n",
        "testing_loss_container = []\n",
        "testing_step = 10"
      ],
      "metadata": {
        "id": "hQZhjl0CpRq-"
      },
      "execution_count": null,
      "outputs": []
    },
    {
      "cell_type": "code",
      "source": [
        "len(train_X)"
      ],
      "metadata": {
        "colab": {
          "base_uri": "https://localhost:8080/"
        },
        "id": "p5OpJbI7r5Rb",
        "outputId": "b99471ec-a19a-4fc6-8c80-b861c309907f"
      },
      "execution_count": null,
      "outputs": [
        {
          "output_type": "execute_result",
          "data": {
            "text/plain": [
              "34"
            ]
          },
          "metadata": {},
          "execution_count": 57
        }
      ]
    },
    {
      "cell_type": "code",
      "source": [
        "torch.manual_seed(42)\n",
        "\n",
        "epochs_n = 300\n",
        "\n",
        "for epoch in range(epochs_n):\n",
        "  epochs_container.append(epoch)\n",
        "\n",
        "  model_1.train()\n",
        "  train_preds = model_1(train_X)\n",
        "\n",
        "  train_loss = loss_nn(train_preds, train_y)\n",
        "  print(f\"epoch {epoch}, training loss: {train_loss}\")\n",
        "  training_loss_container.append(train_loss)\n",
        "\n",
        "  optimizer_fn.zero_grad()\n",
        "\n",
        "  train_loss.backward()\n",
        "\n",
        "  optimizer_fn.step()\n",
        "\n",
        "  if epoch % testing_step == 0:\n",
        "    model_1.eval()\n",
        "\n",
        "    with torch.inference_mode():\n",
        "      test_preds = model_1(test_X)\n",
        "\n",
        "      test_loss = loss_nn(test_preds, test_y)\n",
        "      print(f\"epoch {epoch}, testing loss: {test_loss}\")\n",
        "      testing_loss_container.append(test_loss)\n",
        "\n"
      ],
      "metadata": {
        "colab": {
          "base_uri": "https://localhost:8080/"
        },
        "id": "-ZVrJfUwo3WU",
        "outputId": "47495981-6178-4fed-94b9-cc611d045588"
      },
      "execution_count": null,
      "outputs": [
        {
          "output_type": "stream",
          "name": "stdout",
          "text": [
            "epoch 0, training loss: 0.2652595043182373\n",
            "epoch 0, testing loss: 0.38681304454803467\n",
            "epoch 1, training loss: 0.2534104883670807\n",
            "epoch 2, training loss: 0.24156153202056885\n",
            "epoch 3, training loss: 0.22971254587173462\n",
            "epoch 4, training loss: 0.217863529920578\n",
            "epoch 5, training loss: 0.20601454377174377\n",
            "epoch 6, training loss: 0.19416555762290955\n",
            "epoch 7, training loss: 0.1823165863752365\n",
            "epoch 8, training loss: 0.1704675704240799\n",
            "epoch 9, training loss: 0.15861856937408447\n",
            "epoch 10, training loss: 0.14676959812641144\n",
            "epoch 10, testing loss: 0.24983318150043488\n",
            "epoch 11, training loss: 0.13492059707641602\n",
            "epoch 12, training loss: 0.12307161092758179\n",
            "epoch 13, training loss: 0.11122261732816696\n",
            "epoch 14, training loss: 0.09937363862991333\n",
            "epoch 15, training loss: 0.0875246450304985\n",
            "epoch 16, training loss: 0.07602397352457047\n",
            "epoch 17, training loss: 0.06680268794298172\n",
            "epoch 18, training loss: 0.05957726761698723\n",
            "epoch 19, training loss: 0.05360594391822815\n",
            "epoch 20, training loss: 0.04906654357910156\n",
            "epoch 20, testing loss: 0.13013041019439697\n",
            "epoch 21, training loss: 0.045454155653715134\n",
            "epoch 22, training loss: 0.04285219684243202\n",
            "epoch 23, training loss: 0.04081068933010101\n",
            "epoch 24, training loss: 0.03922955319285393\n",
            "epoch 25, training loss: 0.038006432354450226\n",
            "epoch 26, training loss: 0.03711618483066559\n",
            "epoch 27, training loss: 0.03630400449037552\n",
            "epoch 28, training loss: 0.035689327865839005\n",
            "epoch 29, training loss: 0.03514662757515907\n",
            "epoch 30, training loss: 0.034732919186353683\n",
            "epoch 30, testing loss: 0.08889339864253998\n",
            "epoch 31, training loss: 0.03431922569870949\n",
            "epoch 32, training loss: 0.03398356959223747\n",
            "epoch 33, training loss: 0.033694569021463394\n",
            "epoch 34, training loss: 0.03340556472539902\n",
            "epoch 35, training loss: 0.033116575330495834\n",
            "epoch 36, training loss: 0.03284643590450287\n",
            "epoch 37, training loss: 0.03260412812232971\n",
            "epoch 38, training loss: 0.03236183524131775\n",
            "epoch 39, training loss: 0.03211953118443489\n",
            "epoch 40, training loss: 0.03187723830342293\n",
            "epoch 40, testing loss: 0.07752689719200134\n",
            "epoch 41, training loss: 0.031634923070669174\n",
            "epoch 42, training loss: 0.03139263018965721\n",
            "epoch 43, training loss: 0.031150326132774353\n",
            "epoch 44, training loss: 0.030908020213246346\n",
            "epoch 45, training loss: 0.030665727332234383\n",
            "epoch 46, training loss: 0.030423417687416077\n",
            "epoch 47, training loss: 0.030181121081113815\n",
            "epoch 48, training loss: 0.029938817024230957\n",
            "epoch 49, training loss: 0.029696516692638397\n",
            "epoch 50, training loss: 0.02945420704782009\n",
            "epoch 50, testing loss: 0.07101505249738693\n",
            "epoch 51, training loss: 0.029211899265646935\n",
            "epoch 52, training loss: 0.028969600796699524\n",
            "epoch 53, training loss: 0.028727304190397263\n",
            "epoch 54, training loss: 0.0284850113093853\n",
            "epoch 55, training loss: 0.028242705389857292\n",
            "epoch 56, training loss: 0.02800040878355503\n",
            "epoch 57, training loss: 0.027758099138736725\n",
            "epoch 58, training loss: 0.027515795081853867\n",
            "epoch 59, training loss: 0.027273494750261307\n",
            "epoch 60, training loss: 0.027031196281313896\n",
            "epoch 60, testing loss: 0.06450334191322327\n",
            "epoch 61, training loss: 0.026788894087076187\n",
            "epoch 62, training loss: 0.02654658816754818\n",
            "epoch 63, training loss: 0.02630428969860077\n",
            "epoch 64, training loss: 0.02606198936700821\n",
            "epoch 65, training loss: 0.025819677859544754\n",
            "epoch 66, training loss: 0.02557738684117794\n",
            "epoch 67, training loss: 0.025335082784295082\n",
            "epoch 68, training loss: 0.025092776864767075\n",
            "epoch 69, training loss: 0.024850476533174515\n",
            "epoch 70, training loss: 0.02460818737745285\n",
            "epoch 70, testing loss: 0.05799158290028572\n",
            "epoch 71, training loss: 0.024365877732634544\n",
            "epoch 72, training loss: 0.024123571813106537\n",
            "epoch 73, training loss: 0.02388126775622368\n",
            "epoch 74, training loss: 0.023638973012566566\n",
            "epoch 75, training loss: 0.023396668955683708\n",
            "epoch 76, training loss: 0.023154366761446\n",
            "epoch 77, training loss: 0.02291206270456314\n",
            "epoch 78, training loss: 0.022669756785035133\n",
            "epoch 79, training loss: 0.022427454590797424\n",
            "epoch 80, training loss: 0.022185152396559715\n",
            "epoch 80, testing loss: 0.05147979035973549\n",
            "epoch 81, training loss: 0.021942857652902603\n",
            "epoch 82, training loss: 0.021700553596019745\n",
            "epoch 83, training loss: 0.021458247676491737\n",
            "epoch 84, training loss: 0.0212185587733984\n",
            "epoch 85, training loss: 0.020978042855858803\n",
            "epoch 86, training loss: 0.02073574624955654\n",
            "epoch 87, training loss: 0.02049344778060913\n",
            "epoch 88, training loss: 0.020251139998435974\n",
            "epoch 89, training loss: 0.020008834078907967\n",
            "epoch 90, training loss: 0.019766539335250854\n",
            "epoch 90, testing loss: 0.0457889623939991\n",
            "epoch 91, training loss: 0.019524237141013145\n",
            "epoch 92, training loss: 0.019281934946775436\n",
            "epoch 93, training loss: 0.01903986930847168\n",
            "epoch 94, training loss: 0.018801730126142502\n",
            "epoch 95, training loss: 0.018559429794549942\n",
            "epoch 96, training loss: 0.018317127600312233\n",
            "epoch 97, training loss: 0.018074819818139076\n",
            "epoch 98, training loss: 0.017832506448030472\n",
            "epoch 99, training loss: 0.017590215429663658\n",
            "epoch 100, training loss: 0.01734791323542595\n",
            "epoch 100, testing loss: 0.0400981642305851\n",
            "epoch 101, training loss: 0.01710561104118824\n",
            "epoch 102, training loss: 0.016863306984305382\n",
            "epoch 103, training loss: 0.01662326604127884\n",
            "epoch 104, training loss: 0.016383100301027298\n",
            "epoch 105, training loss: 0.016140799969434738\n",
            "epoch 106, training loss: 0.015898501500487328\n",
            "epoch 107, training loss: 0.01565619744360447\n",
            "epoch 108, training loss: 0.015413890592753887\n",
            "epoch 109, training loss: 0.0151715949177742\n",
            "epoch 110, training loss: 0.014929292723536491\n",
            "epoch 110, testing loss: 0.0344073511660099\n",
            "epoch 111, training loss: 0.01468699425458908\n",
            "epoch 112, training loss: 0.014444691129028797\n",
            "epoch 113, training loss: 0.01420666929334402\n",
            "epoch 114, training loss: 0.013964486308395863\n",
            "epoch 115, training loss: 0.013722186908125877\n",
            "epoch 116, training loss: 0.01347988098859787\n",
            "epoch 117, training loss: 0.013237576000392437\n",
            "epoch 118, training loss: 0.012995271012187004\n",
            "epoch 119, training loss: 0.01275296974927187\n",
            "epoch 120, training loss: 0.012510665692389011\n",
            "epoch 120, testing loss: 0.028716551139950752\n",
            "epoch 121, training loss: 0.012268368154764175\n",
            "epoch 122, training loss: 0.012027968652546406\n",
            "epoch 123, training loss: 0.011788161471486092\n",
            "epoch 124, training loss: 0.011545859277248383\n",
            "epoch 125, training loss: 0.011303556151688099\n",
            "epoch 126, training loss: 0.011061258614063263\n",
            "epoch 127, training loss: 0.010818962007761002\n",
            "epoch 128, training loss: 0.01057665515691042\n",
            "epoch 129, training loss: 0.010334350168704987\n",
            "epoch 130, training loss: 0.010092051699757576\n",
            "epoch 130, testing loss: 0.023025711998343468\n",
            "epoch 131, training loss: 0.009849751368165016\n",
            "epoch 132, training loss: 0.009611368179321289\n",
            "epoch 133, training loss: 0.00936953630298376\n",
            "epoch 134, training loss: 0.009127243421971798\n",
            "epoch 135, training loss: 0.008884942159056664\n",
            "epoch 136, training loss: 0.008642641827464104\n",
            "epoch 137, training loss: 0.008400334976613522\n",
            "epoch 138, training loss: 0.008158020675182343\n",
            "epoch 139, training loss: 0.007915729656815529\n",
            "epoch 140, training loss: 0.0076734283939003944\n",
            "epoch 140, testing loss: 0.017334911972284317\n",
            "epoch 141, training loss: 0.0074326712638139725\n",
            "epoch 142, training loss: 0.007193219847977161\n",
            "epoch 143, training loss: 0.006950918585062027\n",
            "epoch 144, training loss: 0.006708613131195307\n",
            "epoch 145, training loss: 0.0064663151279091835\n",
            "epoch 146, training loss: 0.006224013399332762\n",
            "epoch 147, training loss: 0.00598171167075634\n",
            "epoch 148, training loss: 0.005739408545196056\n",
            "epoch 149, training loss: 0.005497110076248646\n",
            "epoch 150, training loss: 0.005254808813333511\n",
            "epoch 150, testing loss: 0.011644098907709122\n",
            "epoch 151, training loss: 0.005016074515879154\n",
            "epoch 152, training loss: 0.004775512032210827\n",
            "epoch 153, training loss: 0.004541631788015366\n",
            "epoch 154, training loss: 0.0042916955426335335\n",
            "epoch 155, training loss: 0.004049388691782951\n",
            "epoch 156, training loss: 0.003807094180956483\n",
            "epoch 157, training loss: 0.0035647854674607515\n",
            "epoch 158, training loss: 0.003322485601529479\n",
            "epoch 159, training loss: 0.0030801838729530573\n",
            "epoch 160, training loss: 0.0028387606143951416\n",
            "epoch 160, testing loss: 0.006784359458833933\n",
            "epoch 161, training loss: 0.002618921222165227\n",
            "epoch 162, training loss: 0.0024615104775875807\n",
            "epoch 163, training loss: 0.0025077268946915865\n",
            "epoch 164, training loss: 0.003274083137512207\n",
            "epoch 165, training loss: 0.007799406070262194\n",
            "epoch 166, training loss: 0.004049583338201046\n",
            "epoch 167, training loss: 0.007799406070262194\n",
            "epoch 168, training loss: 0.004049583338201046\n",
            "epoch 169, training loss: 0.007799406070262194\n",
            "epoch 170, training loss: 0.004049583338201046\n",
            "epoch 170, testing loss: 0.01382573414593935\n",
            "epoch 171, training loss: 0.007799406070262194\n",
            "epoch 172, training loss: 0.004049583338201046\n",
            "epoch 173, training loss: 0.007799406070262194\n",
            "epoch 174, training loss: 0.004049583338201046\n",
            "epoch 175, training loss: 0.007799406070262194\n",
            "epoch 176, training loss: 0.004049583338201046\n",
            "epoch 177, training loss: 0.007799406070262194\n",
            "epoch 178, training loss: 0.004049583338201046\n",
            "epoch 179, training loss: 0.007799406070262194\n",
            "epoch 180, training loss: 0.004049583338201046\n",
            "epoch 180, testing loss: 0.01382573414593935\n",
            "epoch 181, training loss: 0.007799406070262194\n",
            "epoch 182, training loss: 0.004049583338201046\n",
            "epoch 183, training loss: 0.007799406070262194\n",
            "epoch 184, training loss: 0.004049583338201046\n",
            "epoch 185, training loss: 0.007799406070262194\n",
            "epoch 186, training loss: 0.004049583338201046\n",
            "epoch 187, training loss: 0.007799406070262194\n",
            "epoch 188, training loss: 0.004049583338201046\n",
            "epoch 189, training loss: 0.007799406070262194\n",
            "epoch 190, training loss: 0.004049583338201046\n",
            "epoch 190, testing loss: 0.01382573414593935\n",
            "epoch 191, training loss: 0.007799406070262194\n",
            "epoch 192, training loss: 0.004049583338201046\n",
            "epoch 193, training loss: 0.007799406070262194\n",
            "epoch 194, training loss: 0.004049583338201046\n",
            "epoch 195, training loss: 0.007799406070262194\n",
            "epoch 196, training loss: 0.004049583338201046\n",
            "epoch 197, training loss: 0.007799406070262194\n",
            "epoch 198, training loss: 0.004049583338201046\n",
            "epoch 199, training loss: 0.007799406070262194\n",
            "epoch 200, training loss: 0.004049583338201046\n",
            "epoch 200, testing loss: 0.01382573414593935\n",
            "epoch 201, training loss: 0.007799406070262194\n",
            "epoch 202, training loss: 0.004049583338201046\n",
            "epoch 203, training loss: 0.007799406070262194\n",
            "epoch 204, training loss: 0.004049583338201046\n",
            "epoch 205, training loss: 0.007799406070262194\n",
            "epoch 206, training loss: 0.004049583338201046\n",
            "epoch 207, training loss: 0.007799406070262194\n",
            "epoch 208, training loss: 0.004049583338201046\n",
            "epoch 209, training loss: 0.007799406070262194\n",
            "epoch 210, training loss: 0.004049583338201046\n",
            "epoch 210, testing loss: 0.01382573414593935\n",
            "epoch 211, training loss: 0.007799406070262194\n",
            "epoch 212, training loss: 0.004049583338201046\n",
            "epoch 213, training loss: 0.007799406070262194\n",
            "epoch 214, training loss: 0.004049583338201046\n",
            "epoch 215, training loss: 0.007799406070262194\n",
            "epoch 216, training loss: 0.004049583338201046\n",
            "epoch 217, training loss: 0.007799406070262194\n",
            "epoch 218, training loss: 0.004049583338201046\n",
            "epoch 219, training loss: 0.007799406070262194\n",
            "epoch 220, training loss: 0.004049583338201046\n",
            "epoch 220, testing loss: 0.01382573414593935\n",
            "epoch 221, training loss: 0.007799406070262194\n",
            "epoch 222, training loss: 0.004049583338201046\n",
            "epoch 223, training loss: 0.007799406070262194\n",
            "epoch 224, training loss: 0.004049583338201046\n",
            "epoch 225, training loss: 0.007799406070262194\n",
            "epoch 226, training loss: 0.004049583338201046\n",
            "epoch 227, training loss: 0.007799406070262194\n",
            "epoch 228, training loss: 0.004049583338201046\n",
            "epoch 229, training loss: 0.007799406070262194\n",
            "epoch 230, training loss: 0.004049583338201046\n",
            "epoch 230, testing loss: 0.01382573414593935\n",
            "epoch 231, training loss: 0.007799406070262194\n",
            "epoch 232, training loss: 0.004049583338201046\n",
            "epoch 233, training loss: 0.007799406070262194\n",
            "epoch 234, training loss: 0.004049583338201046\n",
            "epoch 235, training loss: 0.007799406070262194\n",
            "epoch 236, training loss: 0.004049583338201046\n",
            "epoch 237, training loss: 0.007799406070262194\n",
            "epoch 238, training loss: 0.004049583338201046\n",
            "epoch 239, training loss: 0.007799406070262194\n",
            "epoch 240, training loss: 0.004049583338201046\n",
            "epoch 240, testing loss: 0.01382573414593935\n",
            "epoch 241, training loss: 0.007799406070262194\n",
            "epoch 242, training loss: 0.004049583338201046\n",
            "epoch 243, training loss: 0.007799406070262194\n",
            "epoch 244, training loss: 0.004049583338201046\n",
            "epoch 245, training loss: 0.007799406070262194\n",
            "epoch 246, training loss: 0.004049583338201046\n",
            "epoch 247, training loss: 0.007799406070262194\n",
            "epoch 248, training loss: 0.004049583338201046\n",
            "epoch 249, training loss: 0.007799406070262194\n",
            "epoch 250, training loss: 0.004049583338201046\n",
            "epoch 250, testing loss: 0.01382573414593935\n",
            "epoch 251, training loss: 0.007799406070262194\n",
            "epoch 252, training loss: 0.004049583338201046\n",
            "epoch 253, training loss: 0.007799406070262194\n",
            "epoch 254, training loss: 0.004049583338201046\n",
            "epoch 255, training loss: 0.007799406070262194\n",
            "epoch 256, training loss: 0.004049583338201046\n",
            "epoch 257, training loss: 0.007799406070262194\n",
            "epoch 258, training loss: 0.004049583338201046\n",
            "epoch 259, training loss: 0.007799406070262194\n",
            "epoch 260, training loss: 0.004049583338201046\n",
            "epoch 260, testing loss: 0.01382573414593935\n",
            "epoch 261, training loss: 0.007799406070262194\n",
            "epoch 262, training loss: 0.004049583338201046\n",
            "epoch 263, training loss: 0.007799406070262194\n",
            "epoch 264, training loss: 0.004049583338201046\n",
            "epoch 265, training loss: 0.007799406070262194\n",
            "epoch 266, training loss: 0.004049583338201046\n",
            "epoch 267, training loss: 0.007799406070262194\n",
            "epoch 268, training loss: 0.004049583338201046\n",
            "epoch 269, training loss: 0.007799406070262194\n",
            "epoch 270, training loss: 0.004049583338201046\n",
            "epoch 270, testing loss: 0.01382573414593935\n",
            "epoch 271, training loss: 0.007799406070262194\n",
            "epoch 272, training loss: 0.004049583338201046\n",
            "epoch 273, training loss: 0.007799406070262194\n",
            "epoch 274, training loss: 0.004049583338201046\n",
            "epoch 275, training loss: 0.007799406070262194\n",
            "epoch 276, training loss: 0.004049583338201046\n",
            "epoch 277, training loss: 0.007799406070262194\n",
            "epoch 278, training loss: 0.004049583338201046\n",
            "epoch 279, training loss: 0.007799406070262194\n",
            "epoch 280, training loss: 0.004049583338201046\n",
            "epoch 280, testing loss: 0.01382573414593935\n",
            "epoch 281, training loss: 0.007799406070262194\n",
            "epoch 282, training loss: 0.004049583338201046\n",
            "epoch 283, training loss: 0.007799406070262194\n",
            "epoch 284, training loss: 0.004049583338201046\n",
            "epoch 285, training loss: 0.007799406070262194\n",
            "epoch 286, training loss: 0.004049583338201046\n",
            "epoch 287, training loss: 0.007799406070262194\n",
            "epoch 288, training loss: 0.004049583338201046\n",
            "epoch 289, training loss: 0.007799406070262194\n",
            "epoch 290, training loss: 0.004049583338201046\n",
            "epoch 290, testing loss: 0.01382573414593935\n",
            "epoch 291, training loss: 0.007799406070262194\n",
            "epoch 292, training loss: 0.004049583338201046\n",
            "epoch 293, training loss: 0.007799406070262194\n",
            "epoch 294, training loss: 0.004049583338201046\n",
            "epoch 295, training loss: 0.007799406070262194\n",
            "epoch 296, training loss: 0.004049583338201046\n",
            "epoch 297, training loss: 0.007799406070262194\n",
            "epoch 298, training loss: 0.004049583338201046\n",
            "epoch 299, training loss: 0.007799406070262194\n"
          ]
        }
      ]
    },
    {
      "cell_type": "code",
      "source": [
        "weights, bias"
      ],
      "metadata": {
        "colab": {
          "base_uri": "https://localhost:8080/"
        },
        "id": "2gwX85IkrUxt",
        "outputId": "9bbf231e-d1b5-4d54-a6cc-9fa175aff272"
      },
      "execution_count": null,
      "outputs": [
        {
          "output_type": "execute_result",
          "data": {
            "text/plain": [
              "(0.34, 0.7)"
            ]
          },
          "metadata": {},
          "execution_count": 59
        }
      ]
    },
    {
      "cell_type": "code",
      "source": [
        "model_1.state_dict()"
      ],
      "metadata": {
        "colab": {
          "base_uri": "https://localhost:8080/"
        },
        "id": "13IDBAW8saZo",
        "outputId": "66af3edb-8eb6-4d0d-a824-a0c63cc4d3eb"
      },
      "execution_count": null,
      "outputs": [
        {
          "output_type": "execute_result",
          "data": {
            "text/plain": [
              "OrderedDict([('linear_layer.weight', tensor([[0.4597]])),\n",
              "             ('linear_layer.bias', tensor([0.6918]))])"
            ]
          },
          "metadata": {},
          "execution_count": 60
        }
      ]
    },
    {
      "cell_type": "code",
      "source": [
        "plot_model(train_X,\n",
        "           train_y,\n",
        "           test_X,\n",
        "           test_y,\n",
        "           test_preds)"
      ],
      "metadata": {
        "colab": {
          "base_uri": "https://localhost:8080/",
          "height": 599
        },
        "id": "-3OdUkdKsdA8",
        "outputId": "491ca457-7379-4935-9daa-8ef2f12ad8d0"
      },
      "execution_count": null,
      "outputs": [
        {
          "output_type": "display_data",
          "data": {
            "text/plain": [
              "<Figure size 1000x700 with 1 Axes>"
            ],
            "image/png": "[encoded data removed]"
          },
          "metadata": {}
        }
      ]
    },
    {
      "cell_type": "code",
      "source": [
        "from pathlib import Path\n",
        "\n",
        "MODELS_DIR_PATH = Path(\"Models\")\n",
        "MODELS_DIR_PATH.mkdir(parents=True, exist_ok=True)\n",
        "\n",
        "FILE_NAME = \"01_pyTorch_workflow_model_1.pth\"\n",
        "MODEL_PATH = MODELS_DIR_PATH / FILE_NAME\n",
        "\n",
        "torch.save(obj=model_1.state_dict(),\n",
        "           f=MODEL_PATH)\n"
      ],
      "metadata": {
        "id": "sUueaRkDsrAV"
      },
      "execution_count": null,
      "outputs": []
    },
    {
      "cell_type": "code",
      "source": [
        "!ls -l Models"
      ],
      "metadata": {
        "colab": {
          "base_uri": "https://localhost:8080/"
        },
        "id": "DXxkphmnE7Io",
        "outputId": "56f97486-4659-4a54-a2ef-41730206ede8"
      },
      "execution_count": null,
      "outputs": [
        {
          "output_type": "stream",
          "name": "stdout",
          "text": [
            "total 8\n",
            "-rw-r--r-- 1 root root 1680 May 16 20:25 01_pyTorch_workflow_model_0.pth\n",
            "-rw-r--r-- 1 root root 1744 May 16 20:25 01_pyTorch_workflow_model_1.pth\n"
          ]
        }
      ]
    },
    {
      "cell_type": "code",
      "source": [
        "# Load model_1\n",
        "\n",
        "loaded_model_v2 = LinearRegression_V2()\n",
        "loaded_model_v2.load_state_dict(torch.load(MODEL_PATH))"
      ],
      "metadata": {
        "colab": {
          "base_uri": "https://localhost:8080/"
        },
        "id": "CtBHiTpFFPRt",
        "outputId": "d1834bc3-8307-4233-8049-79333565a32e"
      },
      "execution_count": null,
      "outputs": [
        {
          "output_type": "execute_result",
          "data": {
            "text/plain": [
              "<All keys matched successfully>"
            ]
          },
          "metadata": {},
          "execution_count": 65
        }
      ]
    },
    {
      "cell_type": "code",
      "source": [
        "loaded_model_v2.eval()\n",
        "with torch.inference_mode():\n",
        "  loaded_model_test_preds = loaded_model_v2(test_X)\n"
      ],
      "metadata": {
        "id": "X8ueI9wIGEu4"
      },
      "execution_count": null,
      "outputs": []
    },
    {
      "cell_type": "code",
      "source": [
        "model_1.eval()\n",
        "with torch.inference_mode():\n",
        "  model_1_test_preds = model_1(test_X)\n"
      ],
      "metadata": {
        "id": "Q4_l8pdcGVhr"
      },
      "execution_count": null,
      "outputs": []
    },
    {
      "cell_type": "code",
      "source": [
        "loaded_model_v2.state_dict()"
      ],
      "metadata": {
        "colab": {
          "base_uri": "https://localhost:8080/"
        },
        "id": "Y4ZYgfSUGh7n",
        "outputId": "2a49871c-da53-4907-ef6d-0afa7bbc18b2"
      },
      "execution_count": null,
      "outputs": [
        {
          "output_type": "execute_result",
          "data": {
            "text/plain": [
              "OrderedDict([('linear_layer.weight', tensor([[0.4597]])),\n",
              "             ('linear_layer.bias', tensor([0.6918]))])"
            ]
          },
          "metadata": {},
          "execution_count": 68
        }
      ]
    },
    {
      "cell_type": "code",
      "source": [
        "model_1.state_dict()"
      ],
      "metadata": {
        "colab": {
          "base_uri": "https://localhost:8080/"
        },
        "id": "JFm8ycz1GqFR",
        "outputId": "6e66718d-9743-46aa-f2af-31f5268baf6c"
      },
      "execution_count": null,
      "outputs": [
        {
          "output_type": "execute_result",
          "data": {
            "text/plain": [
              "OrderedDict([('linear_layer.weight', tensor([[0.4597]])),\n",
              "             ('linear_layer.bias', tensor([0.6918]))])"
            ]
          },
          "metadata": {},
          "execution_count": 69
        }
      ]
    },
    {
      "cell_type": "code",
      "source": [
        "loaded_model_test_preds == model_1_test_preds"
      ],
      "metadata": {
        "colab": {
          "base_uri": "https://localhost:8080/"
        },
        "id": "Jnl7VdmaGrlx",
        "outputId": "a7041cff-e409-4592-b9e4-a4f026063250"
      },
      "execution_count": null,
      "outputs": [
        {
          "output_type": "execute_result",
          "data": {
            "text/plain": [
              "tensor([[True],\n",
              "        [True],\n",
              "        [True],\n",
              "        [True],\n",
              "        [True],\n",
              "        [True],\n",
              "        [True],\n",
              "        [True],\n",
              "        [True]])"
            ]
          },
          "metadata": {},
          "execution_count": 70
        }
      ]
    },
    {
      "cell_type": "code",
      "source": [],
      "metadata": {
        "id": "HEfCCNEgGvgQ"
      },
      "execution_count": null,
      "outputs": []
    }
  ]
}